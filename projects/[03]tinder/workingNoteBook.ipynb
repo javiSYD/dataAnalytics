{
 "cells": [
  {
   "cell_type": "code",
   "execution_count": 1,
   "metadata": {},
   "outputs": [],
   "source": [
    "#import libraries \n",
    "import numpy as np\n",
    "import pandas as pd"
   ]
  },
  {
   "cell_type": "code",
   "execution_count": 2,
   "metadata": {},
   "outputs": [],
   "source": [
    "#Load the data\n",
    "profile_src_json = pd.read_json('/Users/javi/Downloads/profiles_2021-11-10.json')"
   ]
  },
  {
   "cell_type": "code",
   "execution_count": 3,
   "metadata": {},
   "outputs": [],
   "source": [
    "#create a copy in order to work with it and not to damage our original dataSet\n",
    "profile_copy = profile_src_json.copy()"
   ]
  },
  {
   "cell_type": "code",
   "execution_count": 4,
   "metadata": {},
   "outputs": [
    {
     "data": {
      "text/html": [
       "<div>\n",
       "<style scoped>\n",
       "    .dataframe tbody tr th:only-of-type {\n",
       "        vertical-align: middle;\n",
       "    }\n",
       "\n",
       "    .dataframe tbody tr th {\n",
       "        vertical-align: top;\n",
       "    }\n",
       "\n",
       "    .dataframe thead th {\n",
       "        text-align: right;\n",
       "    }\n",
       "</style>\n",
       "<table border=\"1\" class=\"dataframe\">\n",
       "  <thead>\n",
       "    <tr style=\"text-align: right;\">\n",
       "      <th></th>\n",
       "      <th>_id</th>\n",
       "      <th>appOpens</th>\n",
       "      <th>conversations</th>\n",
       "      <th>conversationsMeta</th>\n",
       "      <th>matches</th>\n",
       "      <th>messages</th>\n",
       "      <th>messagesReceived</th>\n",
       "      <th>messagesSent</th>\n",
       "      <th>swipeLikes</th>\n",
       "      <th>swipePasses</th>\n",
       "      <th>swipes</th>\n",
       "      <th>user</th>\n",
       "      <th>userId</th>\n",
       "    </tr>\n",
       "  </thead>\n",
       "  <tbody>\n",
       "    <tr>\n",
       "      <th>0</th>\n",
       "      <td>00b74e27ad1cbb2ded8e907fcc49eaaf</td>\n",
       "      <td>{'2016-01-02': 26, '2016-01-13': 10, '2016-01-...</td>\n",
       "      <td>[{'match_id': 'Match 739', 'messages': [{'to':...</td>\n",
       "      <td>{'nrOfConversations': 739, 'longestConversatio...</td>\n",
       "      <td>{'2016-01-02': 10, '2016-01-13': 5, '2016-01-1...</td>\n",
       "      <td>{'sent': {'2016-01-02': 11, '2016-01-13': 2, '...</td>\n",
       "      <td>{'2016-01-02': 12, '2016-01-13': 3, '2016-01-1...</td>\n",
       "      <td>{'2016-01-02': 11, '2016-01-13': 2, '2016-01-1...</td>\n",
       "      <td>{'2016-01-02': 50, '2016-01-13': 70, '2016-01-...</td>\n",
       "      <td>{'2016-01-02': 14, '2016-01-13': 93, '2016-01-...</td>\n",
       "      <td>{'likes': {'2016-01-02': 50, '2016-01-13': 70,...</td>\n",
       "      <td>{'birthDate': '1976-01-01T00:00:00.000Z', 'age...</td>\n",
       "      <td>00b74e27ad1cbb2ded8e907fcc49eaaf</td>\n",
       "    </tr>\n",
       "    <tr>\n",
       "      <th>1</th>\n",
       "      <td>024610702baf540af5637873cd1534e9</td>\n",
       "      <td>{'2016-07-12': 20, '2016-07-13': 18, '2016-07-...</td>\n",
       "      <td>[{'match_id': 'Match 464', 'messages': [{'to':...</td>\n",
       "      <td>{'nrOfConversations': 464, 'longestConversatio...</td>\n",
       "      <td>{'2016-07-12': 1, '2016-07-13': 0, '2016-07-14...</td>\n",
       "      <td>{'sent': {'2016-07-12': 0, '2016-07-13': 0, '2...</td>\n",
       "      <td>{'2016-07-12': 0, '2016-07-13': 0, '2016-07-14...</td>\n",
       "      <td>{'2016-07-12': 0, '2016-07-13': 0, '2016-07-14...</td>\n",
       "      <td>{'2016-07-12': 0, '2016-07-13': 221, '2016-07-...</td>\n",
       "      <td>{'2016-07-12': 0, '2016-07-13': 61, '2016-07-1...</td>\n",
       "      <td>{'likes': {'2016-07-12': 0, '2016-07-13': 221,...</td>\n",
       "      <td>{'birthDate': '1997-07-04T00:00:00.000Z', 'age...</td>\n",
       "      <td>024610702baf540af5637873cd1534e9</td>\n",
       "    </tr>\n",
       "    <tr>\n",
       "      <th>2</th>\n",
       "      <td>0a5e3dd8489fe67485ddb7d6adb26ebd</td>\n",
       "      <td>{'2019-07-01': 61, '2019-07-02': 154, '2019-07...</td>\n",
       "      <td>[{'match_id': 'Match 303', 'messages': [{'to':...</td>\n",
       "      <td>{'nrOfConversations': 303, 'longestConversatio...</td>\n",
       "      <td>{'2019-07-01': 13, '2019-07-02': 12, '2019-07-...</td>\n",
       "      <td>{'sent': {'2019-07-01': 12, '2019-07-02': 66, ...</td>\n",
       "      <td>{'2019-07-01': 6, '2019-07-02': 70, '2019-07-0...</td>\n",
       "      <td>{'2019-07-01': 12, '2019-07-02': 66, '2019-07-...</td>\n",
       "      <td>{'2019-07-01': 87, '2019-07-02': 39, '2019-07-...</td>\n",
       "      <td>{'2019-07-01': 30, '2019-07-02': 12, '2019-07-...</td>\n",
       "      <td>{'likes': {'2019-07-01': 87, '2019-07-02': 39,...</td>\n",
       "      <td>{'birthDate': '1998-02-06T00:00:00.000Z', 'age...</td>\n",
       "      <td>0a5e3dd8489fe67485ddb7d6adb26ebd</td>\n",
       "    </tr>\n",
       "    <tr>\n",
       "      <th>3</th>\n",
       "      <td>048dd37565ad9cbc24c163ffedffbf58</td>\n",
       "      <td>{'2019-09-25': 69, '2019-09-26': 52, '2019-09-...</td>\n",
       "      <td>[{'match_id': 'Match 47', 'messages': [{'to': ...</td>\n",
       "      <td>{'nrOfConversations': 47, 'longestConversation...</td>\n",
       "      <td>{'2019-09-25': 5, '2019-09-26': 5, '2019-09-27...</td>\n",
       "      <td>{'sent': {'2019-09-25': 19, '2019-09-26': 19, ...</td>\n",
       "      <td>{'2019-09-25': 13, '2019-09-26': 3, '2019-09-2...</td>\n",
       "      <td>{'2019-09-25': 19, '2019-09-26': 19, '2019-09-...</td>\n",
       "      <td>{'2019-09-25': 58, '2019-09-26': 141, '2019-09...</td>\n",
       "      <td>{'2019-09-25': 51, '2019-09-26': 232, '2019-09...</td>\n",
       "      <td>{'likes': {'2019-09-25': 58, '2019-09-26': 141...</td>\n",
       "      <td>{'birthDate': '1998-02-24T00:00:00.000Z', 'age...</td>\n",
       "      <td>048dd37565ad9cbc24c163ffedffbf58</td>\n",
       "    </tr>\n",
       "    <tr>\n",
       "      <th>4</th>\n",
       "      <td>0eb998fdde77f9c123c07eace18a5cc1</td>\n",
       "      <td>{'2017-11-17': 23, '2017-11-18': 68, '2017-11-...</td>\n",
       "      <td>[{'match_id': 'Match 809', 'messages': [{'to':...</td>\n",
       "      <td>{'nrOfConversations': 809, 'longestConversatio...</td>\n",
       "      <td>{'2017-11-17': 0, '2017-11-18': 1, '2017-11-19...</td>\n",
       "      <td>{'sent': {'2017-11-17': 0, '2017-11-18': 5, '2...</td>\n",
       "      <td>{'2017-11-17': 0, '2017-11-18': 4, '2017-11-19...</td>\n",
       "      <td>{'2017-11-17': 0, '2017-11-18': 5, '2017-11-19...</td>\n",
       "      <td>{'2017-11-17': 2, '2017-11-18': 144, '2017-11-...</td>\n",
       "      <td>{'2017-11-17': 6, '2017-11-18': 1251, '2017-11...</td>\n",
       "      <td>{'likes': {'2017-11-17': 2, '2017-11-18': 144,...</td>\n",
       "      <td>{'birthDate': '1996-11-10T00:00:00.000Z', 'age...</td>\n",
       "      <td>0eb998fdde77f9c123c07eace18a5cc1</td>\n",
       "    </tr>\n",
       "  </tbody>\n",
       "</table>\n",
       "</div>"
      ],
      "text/plain": [
       "                                _id  \\\n",
       "0  00b74e27ad1cbb2ded8e907fcc49eaaf   \n",
       "1  024610702baf540af5637873cd1534e9   \n",
       "2  0a5e3dd8489fe67485ddb7d6adb26ebd   \n",
       "3  048dd37565ad9cbc24c163ffedffbf58   \n",
       "4  0eb998fdde77f9c123c07eace18a5cc1   \n",
       "\n",
       "                                            appOpens  \\\n",
       "0  {'2016-01-02': 26, '2016-01-13': 10, '2016-01-...   \n",
       "1  {'2016-07-12': 20, '2016-07-13': 18, '2016-07-...   \n",
       "2  {'2019-07-01': 61, '2019-07-02': 154, '2019-07...   \n",
       "3  {'2019-09-25': 69, '2019-09-26': 52, '2019-09-...   \n",
       "4  {'2017-11-17': 23, '2017-11-18': 68, '2017-11-...   \n",
       "\n",
       "                                       conversations  \\\n",
       "0  [{'match_id': 'Match 739', 'messages': [{'to':...   \n",
       "1  [{'match_id': 'Match 464', 'messages': [{'to':...   \n",
       "2  [{'match_id': 'Match 303', 'messages': [{'to':...   \n",
       "3  [{'match_id': 'Match 47', 'messages': [{'to': ...   \n",
       "4  [{'match_id': 'Match 809', 'messages': [{'to':...   \n",
       "\n",
       "                                   conversationsMeta  \\\n",
       "0  {'nrOfConversations': 739, 'longestConversatio...   \n",
       "1  {'nrOfConversations': 464, 'longestConversatio...   \n",
       "2  {'nrOfConversations': 303, 'longestConversatio...   \n",
       "3  {'nrOfConversations': 47, 'longestConversation...   \n",
       "4  {'nrOfConversations': 809, 'longestConversatio...   \n",
       "\n",
       "                                             matches  \\\n",
       "0  {'2016-01-02': 10, '2016-01-13': 5, '2016-01-1...   \n",
       "1  {'2016-07-12': 1, '2016-07-13': 0, '2016-07-14...   \n",
       "2  {'2019-07-01': 13, '2019-07-02': 12, '2019-07-...   \n",
       "3  {'2019-09-25': 5, '2019-09-26': 5, '2019-09-27...   \n",
       "4  {'2017-11-17': 0, '2017-11-18': 1, '2017-11-19...   \n",
       "\n",
       "                                            messages  \\\n",
       "0  {'sent': {'2016-01-02': 11, '2016-01-13': 2, '...   \n",
       "1  {'sent': {'2016-07-12': 0, '2016-07-13': 0, '2...   \n",
       "2  {'sent': {'2019-07-01': 12, '2019-07-02': 66, ...   \n",
       "3  {'sent': {'2019-09-25': 19, '2019-09-26': 19, ...   \n",
       "4  {'sent': {'2017-11-17': 0, '2017-11-18': 5, '2...   \n",
       "\n",
       "                                    messagesReceived  \\\n",
       "0  {'2016-01-02': 12, '2016-01-13': 3, '2016-01-1...   \n",
       "1  {'2016-07-12': 0, '2016-07-13': 0, '2016-07-14...   \n",
       "2  {'2019-07-01': 6, '2019-07-02': 70, '2019-07-0...   \n",
       "3  {'2019-09-25': 13, '2019-09-26': 3, '2019-09-2...   \n",
       "4  {'2017-11-17': 0, '2017-11-18': 4, '2017-11-19...   \n",
       "\n",
       "                                        messagesSent  \\\n",
       "0  {'2016-01-02': 11, '2016-01-13': 2, '2016-01-1...   \n",
       "1  {'2016-07-12': 0, '2016-07-13': 0, '2016-07-14...   \n",
       "2  {'2019-07-01': 12, '2019-07-02': 66, '2019-07-...   \n",
       "3  {'2019-09-25': 19, '2019-09-26': 19, '2019-09-...   \n",
       "4  {'2017-11-17': 0, '2017-11-18': 5, '2017-11-19...   \n",
       "\n",
       "                                          swipeLikes  \\\n",
       "0  {'2016-01-02': 50, '2016-01-13': 70, '2016-01-...   \n",
       "1  {'2016-07-12': 0, '2016-07-13': 221, '2016-07-...   \n",
       "2  {'2019-07-01': 87, '2019-07-02': 39, '2019-07-...   \n",
       "3  {'2019-09-25': 58, '2019-09-26': 141, '2019-09...   \n",
       "4  {'2017-11-17': 2, '2017-11-18': 144, '2017-11-...   \n",
       "\n",
       "                                         swipePasses  \\\n",
       "0  {'2016-01-02': 14, '2016-01-13': 93, '2016-01-...   \n",
       "1  {'2016-07-12': 0, '2016-07-13': 61, '2016-07-1...   \n",
       "2  {'2019-07-01': 30, '2019-07-02': 12, '2019-07-...   \n",
       "3  {'2019-09-25': 51, '2019-09-26': 232, '2019-09...   \n",
       "4  {'2017-11-17': 6, '2017-11-18': 1251, '2017-11...   \n",
       "\n",
       "                                              swipes  \\\n",
       "0  {'likes': {'2016-01-02': 50, '2016-01-13': 70,...   \n",
       "1  {'likes': {'2016-07-12': 0, '2016-07-13': 221,...   \n",
       "2  {'likes': {'2019-07-01': 87, '2019-07-02': 39,...   \n",
       "3  {'likes': {'2019-09-25': 58, '2019-09-26': 141...   \n",
       "4  {'likes': {'2017-11-17': 2, '2017-11-18': 144,...   \n",
       "\n",
       "                                                user  \\\n",
       "0  {'birthDate': '1976-01-01T00:00:00.000Z', 'age...   \n",
       "1  {'birthDate': '1997-07-04T00:00:00.000Z', 'age...   \n",
       "2  {'birthDate': '1998-02-06T00:00:00.000Z', 'age...   \n",
       "3  {'birthDate': '1998-02-24T00:00:00.000Z', 'age...   \n",
       "4  {'birthDate': '1996-11-10T00:00:00.000Z', 'age...   \n",
       "\n",
       "                             userId  \n",
       "0  00b74e27ad1cbb2ded8e907fcc49eaaf  \n",
       "1  024610702baf540af5637873cd1534e9  \n",
       "2  0a5e3dd8489fe67485ddb7d6adb26ebd  \n",
       "3  048dd37565ad9cbc24c163ffedffbf58  \n",
       "4  0eb998fdde77f9c123c07eace18a5cc1  "
      ]
     },
     "execution_count": 4,
     "metadata": {},
     "output_type": "execute_result"
    }
   ],
   "source": [
    "#Drop off \"__v\" column as it has only 0 values\n",
    "del profile_copy[\"__v\"]\n",
    "# profile_copy.drop(columns=[\"__v\"])\n",
    "profile_copy.head()"
   ]
  },
  {
   "cell_type": "code",
   "execution_count": 5,
   "metadata": {},
   "outputs": [
    {
     "data": {
      "text/plain": [
       "0       [{'match_id': 'Match 739', 'messages': [{'to':...\n",
       "1       [{'match_id': 'Match 464', 'messages': [{'to':...\n",
       "2       [{'match_id': 'Match 303', 'messages': [{'to':...\n",
       "3       [{'match_id': 'Match 47', 'messages': [{'to': ...\n",
       "4       [{'match_id': 'Match 809', 'messages': [{'to':...\n",
       "                              ...                        \n",
       "1204    [{'match_id': 'Match 8', 'messages': [{'to': 7...\n",
       "1205    [{'match_id': 'Match 254', 'messages': []}, {'...\n",
       "1206    [{'match_id': 'Match 35', 'messages': [{'to': ...\n",
       "1207    [{'match_id': 'Match 443', 'messages': [{'to':...\n",
       "1208    [{'match_id': 'Match 11', 'messages': [{'to': ...\n",
       "Name: conversations, Length: 1209, dtype: object"
      ]
     },
     "execution_count": 5,
     "metadata": {},
     "output_type": "execute_result"
    }
   ],
   "source": [
    "#check the conversations column \n",
    "profile_copy[\"conversations\"]"
   ]
  },
  {
   "cell_type": "code",
   "execution_count": 6,
   "metadata": {},
   "outputs": [
    {
     "data": {
      "text/plain": [
       "0       {'nrOfConversations': 739, 'longestConversatio...\n",
       "1       {'nrOfConversations': 464, 'longestConversatio...\n",
       "2       {'nrOfConversations': 303, 'longestConversatio...\n",
       "3       {'nrOfConversations': 47, 'longestConversation...\n",
       "4       {'nrOfConversations': 809, 'longestConversatio...\n",
       "                              ...                        \n",
       "1204    {'nrOfConversations': 8, 'longestConversation'...\n",
       "1205    {'nrOfConversations': 254, 'longestConversatio...\n",
       "1206    {'nrOfConversations': 35, 'longestConversation...\n",
       "1207    {'nrOfConversations': 443, 'longestConversatio...\n",
       "1208    {'nrOfConversations': 11, 'longestConversation...\n",
       "Name: conversationsMeta, Length: 1209, dtype: object"
      ]
     },
     "execution_count": 6,
     "metadata": {},
     "output_type": "execute_result"
    }
   ],
   "source": [
    "#check the conversationsMeta column \n",
    "profile_copy[\"conversationsMeta\"] "
   ]
  },
  {
   "cell_type": "code",
   "execution_count": 8,
   "metadata": {},
   "outputs": [
    {
     "data": {
      "text/plain": [
       "0       {'2016-01-02': 50, '2016-01-13': 70, '2016-01-...\n",
       "1       {'2016-07-12': 0, '2016-07-13': 221, '2016-07-...\n",
       "2       {'2019-07-01': 87, '2019-07-02': 39, '2019-07-...\n",
       "3       {'2019-09-25': 58, '2019-09-26': 141, '2019-09...\n",
       "4       {'2017-11-17': 2, '2017-11-18': 144, '2017-11-...\n",
       "                              ...                        \n",
       "1204                                                   {}\n",
       "1205    {'2020-07-30': 97, '2020-07-31': 96, '2020-08-...\n",
       "1206                                                   {}\n",
       "1207    {'2020-04-26': 40, '2020-04-27': 159, '2020-04...\n",
       "1208                                                   {}\n",
       "Name: swipeLikes, Length: 1209, dtype: object"
      ]
     },
     "execution_count": 8,
     "metadata": {},
     "output_type": "execute_result"
    }
   ],
   "source": [
    "#check the swipeLikes column \n",
    "profile_copy[\"swipeLikes\"] "
   ]
  },
  {
   "cell_type": "code",
   "execution_count": 7,
   "metadata": {},
   "outputs": [
    {
     "data": {
      "text/plain": [
       "0       {'birthDate': '1976-01-01T00:00:00.000Z', 'age...\n",
       "1       {'birthDate': '1997-07-04T00:00:00.000Z', 'age...\n",
       "2       {'birthDate': '1998-02-06T00:00:00.000Z', 'age...\n",
       "3       {'birthDate': '1998-02-24T00:00:00.000Z', 'age...\n",
       "4       {'birthDate': '1996-11-10T00:00:00.000Z', 'age...\n",
       "                              ...                        \n",
       "1204    {'birthDate': '1994-07-18T00:00:00.000Z', 'age...\n",
       "1205    {'birthDate': '1996-09-19T00:00:00.000Z', 'age...\n",
       "1206    {'birthDate': '2002-06-07T00:00:00.000Z', 'age...\n",
       "1207    {'birthDate': '2000-05-09T00:00:00.000Z', 'age...\n",
       "1208    {'birthDate': '1996-09-23T00:00:00.000Z', 'age...\n",
       "Name: user, Length: 1209, dtype: object"
      ]
     },
     "execution_count": 7,
     "metadata": {},
     "output_type": "execute_result"
    }
   ],
   "source": [
    "#check the user column \n",
    "profile_copy[\"user\"] "
   ]
  },
  {
   "cell_type": "code",
   "execution_count": null,
   "metadata": {},
   "outputs": [],
   "source": [
    "#get the conversations of all users \n",
    "for i in profile_copy[\"conversations\"]:\n",
    "    print(i)\n",
    "\n",
    "\"\"\"\"\n",
    "The loop brake after 4 minutes of running!!!!\n",
    "\"\"\""
   ]
  },
  {
   "cell_type": "code",
   "execution_count": 13,
   "metadata": {},
   "outputs": [],
   "source": [
    "#import libraries to move data from JSON to a folder\n",
    "# A solution that I found but it didnt work \n",
    "import shutil\n",
    "import os\n",
    "import glob\n",
    "import json\n",
    "from os import path"
   ]
  },
  {
   "cell_type": "code",
   "execution_count": 16,
   "metadata": {},
   "outputs": [],
   "source": [
    "all_files = '/Downloads'\n",
    "male = '/Downloads/MALE'\n",
    "female = '/Downloads/FEMALE'\n",
    "files = glob.glob(all_files + \"profiles_2021-11-10.json\")\n",
    "for file in files:\n",
    "    with open(file, encoding=\"utf-8\") as f:\n",
    "        data = json.load(f)\n",
    "        stat = data[\"user\"]\n",
    "        for stats in stat:\n",
    "            if stat[\"gender\"] == \"M\":\n",
    "                try:\n",
    "                    shutil.move(os.path.join(all_files, file).male)\n",
    "                except:\n",
    "                    pass\n",
    "            else:\n",
    "                try:\n",
    "                    shutil.move(os.path.join(all_files, file).female)\n",
    "                except:\n",
    "                    pass"
   ]
  },
  {
   "cell_type": "code",
   "execution_count": null,
   "metadata": {},
   "outputs": [],
   "source": []
  }
 ],
 "metadata": {
  "kernelspec": {
   "display_name": "Python 3.8.5 ('base')",
   "language": "python",
   "name": "python3"
  },
  "language_info": {
   "codemirror_mode": {
    "name": "ipython",
    "version": 3
   },
   "file_extension": ".py",
   "mimetype": "text/x-python",
   "name": "python",
   "nbconvert_exporter": "python",
   "pygments_lexer": "ipython3",
   "version": "3.8.5"
  },
  "orig_nbformat": 4,
  "vscode": {
   "interpreter": {
    "hash": "b8b5a6894551d37c02e7098f5cfeb1260c7bf304f89da81c7059abba41f424c0"
   }
  }
 },
 "nbformat": 4,
 "nbformat_minor": 2
}
