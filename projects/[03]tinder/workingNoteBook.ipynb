{
 "cells": [
  {
   "cell_type": "code",
   "execution_count": 268,
   "metadata": {},
   "outputs": [],
   "source": [
    "#import libraries \n",
    "import numpy as np\n",
    "import pandas as pd"
   ]
  },
  {
   "cell_type": "code",
   "execution_count": 269,
   "metadata": {},
   "outputs": [],
   "source": [
    "#Load the data\n",
    "profile_src_json = pd.read_json('/Users/javi/Downloads/profiles_2021-11-10.json')"
   ]
  },
  {
   "cell_type": "code",
   "execution_count": 270,
   "metadata": {},
   "outputs": [],
   "source": [
    "#create a copy in order to work with it and not to damage our original dataSet\n",
    "profile_copy = profile_src_json.copy()"
   ]
  },
  {
   "cell_type": "code",
   "execution_count": 271,
   "metadata": {},
   "outputs": [],
   "source": [
    "#Drop off \"__v\" column as it has only 0 values\n",
    "del profile_copy[\"__v\"]"
   ]
  },
  {
   "cell_type": "code",
   "execution_count": 156,
   "metadata": {},
   "outputs": [],
   "source": [
    "#define the dataframe \n",
    "pre_df = profile_copy"
   ]
  },
  {
   "cell_type": "code",
   "execution_count": 273,
   "metadata": {},
   "outputs": [
    {
     "data": {
      "text/html": [
       "<div>\n",
       "<style scoped>\n",
       "    .dataframe tbody tr th:only-of-type {\n",
       "        vertical-align: middle;\n",
       "    }\n",
       "\n",
       "    .dataframe tbody tr th {\n",
       "        vertical-align: top;\n",
       "    }\n",
       "\n",
       "    .dataframe thead th {\n",
       "        text-align: right;\n",
       "    }\n",
       "</style>\n",
       "<table border=\"1\" class=\"dataframe\">\n",
       "  <thead>\n",
       "    <tr style=\"text-align: right;\">\n",
       "      <th></th>\n",
       "      <th>_id</th>\n",
       "      <th>appOpens</th>\n",
       "      <th>conversations</th>\n",
       "      <th>conversationsMeta</th>\n",
       "      <th>matches</th>\n",
       "      <th>messages</th>\n",
       "      <th>messagesReceived</th>\n",
       "      <th>messagesSent</th>\n",
       "      <th>swipeLikes</th>\n",
       "      <th>swipePasses</th>\n",
       "      <th>...</th>\n",
       "      <th>longest_conver_day</th>\n",
       "      <th>num_messages_conver</th>\n",
       "      <th>all_matches</th>\n",
       "      <th>all_swipeLikes</th>\n",
       "      <th>all_swipePasses</th>\n",
       "      <th>all_BirthDates</th>\n",
       "      <th>all_Cities</th>\n",
       "      <th>all_Countreis</th>\n",
       "      <th>all_genders</th>\n",
       "      <th>all_interestedIn</th>\n",
       "    </tr>\n",
       "  </thead>\n",
       "  <tbody>\n",
       "    <tr>\n",
       "      <th>0</th>\n",
       "      <td>00b74e27ad1cbb2ded8e907fcc49eaaf</td>\n",
       "      <td>{'2016-01-02': 26, '2016-01-13': 10, '2016-01-...</td>\n",
       "      <td>[{'match_id': 'Match 739', 'messages': [{'to':...</td>\n",
       "      <td>{'nrOfConversations': 739, 'longestConversatio...</td>\n",
       "      <td>{'2016-01-02': 10, '2016-01-13': 5, '2016-01-1...</td>\n",
       "      <td>{'sent': {'2016-01-02': 11, '2016-01-13': 2, '...</td>\n",
       "      <td>{'2016-01-02': 12, '2016-01-13': 3, '2016-01-1...</td>\n",
       "      <td>{'2016-01-02': 11, '2016-01-13': 2, '2016-01-1...</td>\n",
       "      <td>{'2016-01-02': 50, '2016-01-13': 70, '2016-01-...</td>\n",
       "      <td>{'2016-01-02': 14, '2016-01-13': 93, '2016-01-...</td>\n",
       "      <td>...</td>\n",
       "      <td>683.557442</td>\n",
       "      <td>226</td>\n",
       "      <td>[10, 5, 9, 8, 6, 13, 4, 14, 2, 12, 2, 8, 2, 4,...</td>\n",
       "      <td>[50, 70, 21, 5, 29, 92, 27, 77, 84, 76, 82, 93...</td>\n",
       "      <td>[14, 93, 75, 96, 71, 38, 76, 56, 21, 49, 41, 2...</td>\n",
       "      <td>[1976-01-01]</td>\n",
       "      <td>[Trondheim]</td>\n",
       "      <td>[Norway]</td>\n",
       "      <td>[M]</td>\n",
       "      <td>[F]</td>\n",
       "    </tr>\n",
       "    <tr>\n",
       "      <th>1</th>\n",
       "      <td>024610702baf540af5637873cd1534e9</td>\n",
       "      <td>{'2016-07-12': 20, '2016-07-13': 18, '2016-07-...</td>\n",
       "      <td>[{'match_id': 'Match 464', 'messages': [{'to':...</td>\n",
       "      <td>{'nrOfConversations': 464, 'longestConversatio...</td>\n",
       "      <td>{'2016-07-12': 1, '2016-07-13': 0, '2016-07-14...</td>\n",
       "      <td>{'sent': {'2016-07-12': 0, '2016-07-13': 0, '2...</td>\n",
       "      <td>{'2016-07-12': 0, '2016-07-13': 0, '2016-07-14...</td>\n",
       "      <td>{'2016-07-12': 0, '2016-07-13': 0, '2016-07-14...</td>\n",
       "      <td>{'2016-07-12': 0, '2016-07-13': 221, '2016-07-...</td>\n",
       "      <td>{'2016-07-12': 0, '2016-07-13': 61, '2016-07-1...</td>\n",
       "      <td>...</td>\n",
       "      <td>622.466528</td>\n",
       "      <td>56</td>\n",
       "      <td>[1, 0, 1, 1, 1, 2, 0, 0, 0, 0, 0, 0, 0, 0, 0, ...</td>\n",
       "      <td>[0, 221, 108, 215, 110, 215, 118, 115, 116, 4,...</td>\n",
       "      <td>[0, 61, 19, 90, 23, 54, 40, 42, 29, 0, 42, 23,...</td>\n",
       "      <td>[1997-07-04]</td>\n",
       "      <td>[Richmond]</td>\n",
       "      <td>[VA]</td>\n",
       "      <td>[M]</td>\n",
       "      <td>[F]</td>\n",
       "    </tr>\n",
       "    <tr>\n",
       "      <th>2</th>\n",
       "      <td>0a5e3dd8489fe67485ddb7d6adb26ebd</td>\n",
       "      <td>{'2019-07-01': 61, '2019-07-02': 154, '2019-07...</td>\n",
       "      <td>[{'match_id': 'Match 303', 'messages': [{'to':...</td>\n",
       "      <td>{'nrOfConversations': 303, 'longestConversatio...</td>\n",
       "      <td>{'2019-07-01': 13, '2019-07-02': 12, '2019-07-...</td>\n",
       "      <td>{'sent': {'2019-07-01': 12, '2019-07-02': 66, ...</td>\n",
       "      <td>{'2019-07-01': 6, '2019-07-02': 70, '2019-07-0...</td>\n",
       "      <td>{'2019-07-01': 12, '2019-07-02': 66, '2019-07-...</td>\n",
       "      <td>{'2019-07-01': 87, '2019-07-02': 39, '2019-07-...</td>\n",
       "      <td>{'2019-07-01': 30, '2019-07-02': 12, '2019-07-...</td>\n",
       "      <td>...</td>\n",
       "      <td>295.283414</td>\n",
       "      <td>106</td>\n",
       "      <td>[13, 12, 23, 15, 9, 5, 2, 1, 0, 3, 0, 0, 1, 1,...</td>\n",
       "      <td>[87, 39, 122, 67, 35, 14, 26, 98, 46, 99, 15, ...</td>\n",
       "      <td>[30, 12, 48, 26, 18, 10, 19, 55, 19, 99, 12, 4...</td>\n",
       "      <td>[1998-02-06]</td>\n",
       "      <td>[Richmond]</td>\n",
       "      <td>[VA]</td>\n",
       "      <td>[M]</td>\n",
       "      <td>[F]</td>\n",
       "    </tr>\n",
       "  </tbody>\n",
       "</table>\n",
       "<p>3 rows × 28 columns</p>\n",
       "</div>"
      ],
      "text/plain": [
       "                                _id  \\\n",
       "0  00b74e27ad1cbb2ded8e907fcc49eaaf   \n",
       "1  024610702baf540af5637873cd1534e9   \n",
       "2  0a5e3dd8489fe67485ddb7d6adb26ebd   \n",
       "\n",
       "                                            appOpens  \\\n",
       "0  {'2016-01-02': 26, '2016-01-13': 10, '2016-01-...   \n",
       "1  {'2016-07-12': 20, '2016-07-13': 18, '2016-07-...   \n",
       "2  {'2019-07-01': 61, '2019-07-02': 154, '2019-07...   \n",
       "\n",
       "                                       conversations  \\\n",
       "0  [{'match_id': 'Match 739', 'messages': [{'to':...   \n",
       "1  [{'match_id': 'Match 464', 'messages': [{'to':...   \n",
       "2  [{'match_id': 'Match 303', 'messages': [{'to':...   \n",
       "\n",
       "                                   conversationsMeta  \\\n",
       "0  {'nrOfConversations': 739, 'longestConversatio...   \n",
       "1  {'nrOfConversations': 464, 'longestConversatio...   \n",
       "2  {'nrOfConversations': 303, 'longestConversatio...   \n",
       "\n",
       "                                             matches  \\\n",
       "0  {'2016-01-02': 10, '2016-01-13': 5, '2016-01-1...   \n",
       "1  {'2016-07-12': 1, '2016-07-13': 0, '2016-07-14...   \n",
       "2  {'2019-07-01': 13, '2019-07-02': 12, '2019-07-...   \n",
       "\n",
       "                                            messages  \\\n",
       "0  {'sent': {'2016-01-02': 11, '2016-01-13': 2, '...   \n",
       "1  {'sent': {'2016-07-12': 0, '2016-07-13': 0, '2...   \n",
       "2  {'sent': {'2019-07-01': 12, '2019-07-02': 66, ...   \n",
       "\n",
       "                                    messagesReceived  \\\n",
       "0  {'2016-01-02': 12, '2016-01-13': 3, '2016-01-1...   \n",
       "1  {'2016-07-12': 0, '2016-07-13': 0, '2016-07-14...   \n",
       "2  {'2019-07-01': 6, '2019-07-02': 70, '2019-07-0...   \n",
       "\n",
       "                                        messagesSent  \\\n",
       "0  {'2016-01-02': 11, '2016-01-13': 2, '2016-01-1...   \n",
       "1  {'2016-07-12': 0, '2016-07-13': 0, '2016-07-14...   \n",
       "2  {'2019-07-01': 12, '2019-07-02': 66, '2019-07-...   \n",
       "\n",
       "                                          swipeLikes  \\\n",
       "0  {'2016-01-02': 50, '2016-01-13': 70, '2016-01-...   \n",
       "1  {'2016-07-12': 0, '2016-07-13': 221, '2016-07-...   \n",
       "2  {'2019-07-01': 87, '2019-07-02': 39, '2019-07-...   \n",
       "\n",
       "                                         swipePasses  ... longest_conver_day  \\\n",
       "0  {'2016-01-02': 14, '2016-01-13': 93, '2016-01-...  ...         683.557442   \n",
       "1  {'2016-07-12': 0, '2016-07-13': 61, '2016-07-1...  ...         622.466528   \n",
       "2  {'2019-07-01': 30, '2019-07-02': 12, '2019-07-...  ...         295.283414   \n",
       "\n",
       "  num_messages_conver                                        all_matches  \\\n",
       "0                 226  [10, 5, 9, 8, 6, 13, 4, 14, 2, 12, 2, 8, 2, 4,...   \n",
       "1                  56  [1, 0, 1, 1, 1, 2, 0, 0, 0, 0, 0, 0, 0, 0, 0, ...   \n",
       "2                 106  [13, 12, 23, 15, 9, 5, 2, 1, 0, 3, 0, 0, 1, 1,...   \n",
       "\n",
       "                                      all_swipeLikes  \\\n",
       "0  [50, 70, 21, 5, 29, 92, 27, 77, 84, 76, 82, 93...   \n",
       "1  [0, 221, 108, 215, 110, 215, 118, 115, 116, 4,...   \n",
       "2  [87, 39, 122, 67, 35, 14, 26, 98, 46, 99, 15, ...   \n",
       "\n",
       "                                     all_swipePasses all_BirthDates  \\\n",
       "0  [14, 93, 75, 96, 71, 38, 76, 56, 21, 49, 41, 2...   [1976-01-01]   \n",
       "1  [0, 61, 19, 90, 23, 54, 40, 42, 29, 0, 42, 23,...   [1997-07-04]   \n",
       "2  [30, 12, 48, 26, 18, 10, 19, 55, 19, 99, 12, 4...   [1998-02-06]   \n",
       "\n",
       "    all_Cities  all_Countreis  all_genders  all_interestedIn  \n",
       "0  [Trondheim]       [Norway]          [M]               [F]  \n",
       "1   [Richmond]           [VA]          [M]               [F]  \n",
       "2   [Richmond]           [VA]          [M]               [F]  \n",
       "\n",
       "[3 rows x 28 columns]"
      ]
     },
     "execution_count": 273,
     "metadata": {},
     "output_type": "execute_result"
    }
   ],
   "source": [
    "pre_df.head(3)"
   ]
  },
  {
   "cell_type": "code",
   "execution_count": 157,
   "metadata": {},
   "outputs": [
    {
     "name": "stdout",
     "output_type": "stream",
     "text": [
      "1209\n"
     ]
    }
   ],
   "source": [
    "#get the user id\n",
    "allusersids = []\n",
    "for uniqueid in pre_df.userId:\n",
    "    userid = uniqueid[-6:]\n",
    "    allusersids.append(userid)\n",
    "print(len(allusersids))"
   ]
  },
  {
   "cell_type": "code",
   "execution_count": 158,
   "metadata": {},
   "outputs": [
    {
     "data": {
      "text/plain": [
       "1209"
      ]
     },
     "execution_count": 158,
     "metadata": {},
     "output_type": "execute_result"
    }
   ],
   "source": [
    "#Take 100 app onenings for each user and check how many times it open the app in a day\n",
    "all_opens = []\n",
    "for open in pre_df.appOpens:\n",
    "    dates = []\n",
    "    for date in open:\n",
    "        dates.append(open[date])\n",
    "    dates=dates[:100]\n",
    "    all_opens.append(dates)\n",
    "len(all_opens)"
   ]
  },
  {
   "cell_type": "code",
   "execution_count": 159,
   "metadata": {},
   "outputs": [
    {
     "data": {
      "text/plain": [
       "1209"
      ]
     },
     "execution_count": 159,
     "metadata": {},
     "output_type": "execute_result"
    }
   ],
   "source": [
    "#Take 100 conversations for each user in a list to add it to our dataFrame \n",
    "all_messages=[]\n",
    "for conversation in pre_df.conversations:\n",
    "    messages=[]\n",
    "    for match in conversation:\n",
    "        for message in match['messages']:\n",
    "            if 'message' in message.keys():\n",
    "                messages.append(message['message'])\n",
    "    messages=messages[:100]\n",
    "    all_messages.append(messages)\n",
    "len(all_messages)"
   ]
  },
  {
   "cell_type": "code",
   "execution_count": 161,
   "metadata": {},
   "outputs": [
    {
     "name": "stdout",
     "output_type": "stream",
     "text": [
      "totalNrOfConversation 1209\n",
      "totalLongestConversation 1209\n",
      "totalLongestConversationInDay 1209\n",
      "totalNrOfOneMessageConversation 1209\n"
     ]
    }
   ],
   "source": [
    "#Take the conversationsMeta of each user and brake down the dictionary format\n",
    "\"\"\"\"This is in a total time frame but the other has a len of 100, it that a problem  \"\"\" \n",
    "totalNrOfConversation=[]\n",
    "totalLongestConversation=[]\n",
    "totalLongestConversationInDay=[]\n",
    "totalNrOfOneMessageConversation=[]\n",
    "\n",
    "\n",
    "for conversationMeta in pre_df.conversationsMeta:\n",
    "    for nrOfConversation in conversationMeta:\n",
    "        if nrOfConversation == 'nrOfConversations':\n",
    "            nrOfConversations = 0\n",
    "            nrOfConversations += (conversationMeta[nrOfConversation])\n",
    "    totalNrOfConversation.append(nrOfConversations)\n",
    "\n",
    "\n",
    "for conversationMeta in pre_df.conversationsMeta:\n",
    "    for longestConversa in conversationMeta:\n",
    "        if longestConversa == 'longestConversation':\n",
    "            longestConver = 0\n",
    "            longestConver += (conversationMeta[longestConversa])\n",
    "    totalLongestConversation.append(longestConver)\n",
    "        \n",
    "\n",
    "for conversationMeta in pre_df.conversationsMeta:\n",
    "    for longestConversationInDay in conversationMeta:\n",
    "        if longestConversationInDay == 'longestConversationInDays':\n",
    "            longestConverDay = 0\n",
    "            longestConverDay += conversationMeta[longestConversationInDay]\n",
    "    totalLongestConversationInDay.append(longestConverDay)\n",
    "    \n",
    "    \n",
    "for conversationMeta in pre_df.conversationsMeta:\n",
    "    for nrOfOneMessageConversation in conversationMeta:\n",
    "        if nrOfOneMessageConversation == 'nrOfOneMessageConversations':\n",
    "            nrOfOneMessageConver = 0\n",
    "            nrOfOneMessageConver += conversationMeta[nrOfOneMessageConversation]\n",
    "    totalNrOfOneMessageConversation.append(nrOfOneMessageConver)\n",
    "\n",
    "print('totalNrOfConversation', len(totalNrOfConversation))\n",
    "print('totalLongestConversation', len(totalLongestConversation))\n",
    "print('totalLongestConversationInDay', len(totalLongestConversationInDay))\n",
    "print('totalNrOfOneMessageConversation', len(totalNrOfOneMessageConversation))\n"
   ]
  },
  {
   "cell_type": "code",
   "execution_count": 162,
   "metadata": {},
   "outputs": [
    {
     "data": {
      "text/plain": [
       "1209"
      ]
     },
     "execution_count": 162,
     "metadata": {},
     "output_type": "execute_result"
    }
   ],
   "source": [
    "#Take 100 app matches for each user and check how many times it open the app in a day\n",
    "all_matches = []\n",
    "for love in pre_df.matches:\n",
    "    matches = []\n",
    "    for heart in love:\n",
    "        matches.append(love[heart])\n",
    "    matches=matches[:100]\n",
    "    all_matches.append(matches)\n",
    "len(all_matches)\n"
   ]
  },
  {
   "cell_type": "code",
   "execution_count": 163,
   "metadata": {},
   "outputs": [
    {
     "data": {
      "text/plain": [
       "1209"
      ]
     },
     "execution_count": 163,
     "metadata": {},
     "output_type": "execute_result"
    }
   ],
   "source": [
    "#Take 100 app swipeLikes for each user and check how many times it open the app in a day\n",
    "all_swipeLikes = []\n",
    "for atraction in pre_df.swipeLikes:\n",
    "    matches = []\n",
    "    for heart in atraction:\n",
    "        matches.append(atraction[heart])\n",
    "    matches=matches[:100]\n",
    "    all_swipeLikes.append(matches)\n",
    "len(all_swipeLikes)"
   ]
  },
  {
   "cell_type": "code",
   "execution_count": 164,
   "metadata": {},
   "outputs": [
    {
     "data": {
      "text/plain": [
       "1209"
      ]
     },
     "execution_count": 164,
     "metadata": {},
     "output_type": "execute_result"
    }
   ],
   "source": [
    "#Take 100 app swipePasses for each user and check how many times it open the app in a day\n",
    "all_swipePasses = []\n",
    "for dislike in pre_df.swipePasses:\n",
    "    dislikes = []\n",
    "    for left in dislike:\n",
    "        dislikes.append(dislike[left])\n",
    "    dislikes=dislikes[:100]\n",
    "    all_swipePasses.append(dislikes)\n",
    "len(all_swipePasses)"
   ]
  },
  {
   "cell_type": "code",
   "execution_count": 165,
   "metadata": {},
   "outputs": [
    {
     "name": "stdout",
     "output_type": "stream",
     "text": [
      "1209\n",
      "1209\n",
      "1209\n",
      "1209\n",
      "1209\n"
     ]
    }
   ],
   "source": [
    "#Take user anonymous data and break down the dictionary format\n",
    "allBirthDates=[]\n",
    "allcities = []\n",
    "allcountreis=[]\n",
    "allgenders=[]\n",
    "allinterestedIn=[]\n",
    "\n",
    "#Users date of birth\n",
    "for person in pre_df.user:\n",
    "    for birthDate in person:\n",
    "        if birthDate == 'birthDate':\n",
    "            date = person[birthDate][:10]\n",
    "            userBirthDate = []\n",
    "            userBirthDate.append(date)\n",
    "    allBirthDates.append(userBirthDate)\n",
    "\n",
    "#Users city\n",
    "for person in pre_df.user:\n",
    "    for city in person:\n",
    "        if city == 'cityName':\n",
    "            cities = []\n",
    "            cities.append(person[city])\n",
    "    allcities.append(cities)\n",
    "\n",
    "#Users country\n",
    "for person in pre_df.user:\n",
    "    for country in person:\n",
    "        if country == 'country':\n",
    "            countries = []\n",
    "            countries.append(person[country])\n",
    "    allcountreis.append(countries)\n",
    "        \n",
    "#Users gender\n",
    "for person in pre_df.user:\n",
    "    for gender in person:\n",
    "        if gender == 'gender':\n",
    "            genders = []\n",
    "            genders.append(person[gender])\n",
    "    allgenders.append(genders)\n",
    "\n",
    "#Users interest In\n",
    "for person in pre_df.user:\n",
    "    for interest in person:\n",
    "        if interest == 'interestedIn':\n",
    "            searching = []\n",
    "            searching.append(person[interest])\n",
    "    allinterestedIn.append(searching)\n",
    "\n",
    "\n",
    "print(len(allBirthDates))\n",
    "print(len(allcities))\n",
    "print(len(allcountreis))\n",
    "print(len(allgenders))\n",
    "print(len(allinterestedIn))"
   ]
  },
  {
   "cell_type": "markdown",
   "metadata": {},
   "source": [
    "CREATE THE DATASET WITH WE ARE GOING TO WORK "
   ]
  },
  {
   "cell_type": "code",
   "execution_count": 179,
   "metadata": {},
   "outputs": [
    {
     "data": {
      "text/html": [
       "<div>\n",
       "<style scoped>\n",
       "    .dataframe tbody tr th:only-of-type {\n",
       "        vertical-align: middle;\n",
       "    }\n",
       "\n",
       "    .dataframe tbody tr th {\n",
       "        vertical-align: top;\n",
       "    }\n",
       "\n",
       "    .dataframe thead th {\n",
       "        text-align: right;\n",
       "    }\n",
       "</style>\n",
       "<table border=\"1\" class=\"dataframe\">\n",
       "  <thead>\n",
       "    <tr style=\"text-align: right;\">\n",
       "      <th></th>\n",
       "      <th>user_id</th>\n",
       "    </tr>\n",
       "  </thead>\n",
       "  <tbody>\n",
       "    <tr>\n",
       "      <th>0</th>\n",
       "      <td>49eaaf</td>\n",
       "    </tr>\n",
       "    <tr>\n",
       "      <th>1</th>\n",
       "      <td>1534e9</td>\n",
       "    </tr>\n",
       "    <tr>\n",
       "      <th>2</th>\n",
       "      <td>b26ebd</td>\n",
       "    </tr>\n",
       "  </tbody>\n",
       "</table>\n",
       "</div>"
      ],
      "text/plain": [
       "  user_id\n",
       "0  49eaaf\n",
       "1  1534e9\n",
       "2  b26ebd"
      ]
     },
     "execution_count": 179,
     "metadata": {},
     "output_type": "execute_result"
    }
   ],
   "source": [
    "#We insert the unique user id\n",
    "df = pd.DataFrame(allusersids,columns=['user_id'])\n",
    "df.head(3)"
   ]
  },
  {
   "cell_type": "code",
   "execution_count": 180,
   "metadata": {},
   "outputs": [
    {
     "data": {
      "text/plain": [
       "False"
      ]
     },
     "execution_count": 180,
     "metadata": {},
     "output_type": "execute_result"
    }
   ],
   "source": [
    "#check if there is user with Null value in their id\n",
    "pd.isnull(df.loc[1, 'user_id'])"
   ]
  },
  {
   "cell_type": "code",
   "execution_count": 266,
   "metadata": {},
   "outputs": [],
   "source": [
    "#Merge app_opens data with df\n",
    "df['app_opens']=all_opens"
   ]
  },
  {
   "cell_type": "code",
   "execution_count": 212,
   "metadata": {},
   "outputs": [
    {
     "data": {
      "text/plain": [
       "False"
      ]
     },
     "execution_count": 212,
     "metadata": {},
     "output_type": "execute_result"
    }
   ],
   "source": [
    "#check if there is user with Null value in app_opens colum\n",
    "pd.isnull('app_opens')\n",
    "\"\"\"\"＊＊＊＊＊＊＊＊＊＊＊＊＊＊＊＊＊＊＊＊＊\"\"\""
   ]
  },
  {
   "cell_type": "code",
   "execution_count": 265,
   "metadata": {},
   "outputs": [],
   "source": [
    "#Merge all_messages data with df\n",
    "df['all_messages']=all_messages"
   ]
  },
  {
   "cell_type": "code",
   "execution_count": 206,
   "metadata": {},
   "outputs": [
    {
     "data": {
      "text/plain": [
       "0       False\n",
       "1        True\n",
       "2        True\n",
       "3        True\n",
       "4       False\n",
       "        ...  \n",
       "1204     True\n",
       "1205     True\n",
       "1206     True\n",
       "1207     True\n",
       "1208     True\n",
       "Name: all_messages, Length: 1209, dtype: bool"
      ]
     },
     "execution_count": 206,
     "metadata": {},
     "output_type": "execute_result"
    }
   ],
   "source": [
    "#check if the list messages has any conversations \n",
    "df['all_messages'].str.len()!=0"
   ]
  },
  {
   "cell_type": "code",
   "execution_count": 264,
   "metadata": {},
   "outputs": [],
   "source": [
    "#Merge number_conversations data with df\n",
    "df['number_conversations']= totalNrOfConversation"
   ]
  },
  {
   "cell_type": "code",
   "execution_count": 209,
   "metadata": {},
   "outputs": [
    {
     "name": "stdout",
     "output_type": "stream",
     "text": [
      "The number of empty number_conversations are:  29\n"
     ]
    }
   ],
   "source": [
    "#check if there is user with 0 value in app_opens colum\n",
    "count = (df['number_conversations'] == 0).sum()\n",
    "print('The number of empty number_conversations are: ', count)"
   ]
  },
  {
   "cell_type": "code",
   "execution_count": 263,
   "metadata": {},
   "outputs": [],
   "source": [
    "#Merge longest_conver data with df\n",
    "df['longest_conver']=totalLongestConversation"
   ]
  },
  {
   "cell_type": "code",
   "execution_count": 216,
   "metadata": {},
   "outputs": [
    {
     "name": "stdout",
     "output_type": "stream",
     "text": [
      "The number with 0 time conversations are:  33\n"
     ]
    }
   ],
   "source": [
    "#check if there is user with 0 time conversation\n",
    "zero_time = (df['longest_conver'] == 0).sum()\n",
    "print('The number with 0 time conversations are: ', zero_time)"
   ]
  },
  {
   "cell_type": "code",
   "execution_count": 254,
   "metadata": {},
   "outputs": [],
   "source": [
    "#Merge longest_conver_day data with df\n",
    "df['longest_conver_day']=totalLongestConversationInDay"
   ]
  },
  {
   "cell_type": "code",
   "execution_count": 218,
   "metadata": {},
   "outputs": [
    {
     "name": "stdout",
     "output_type": "stream",
     "text": [
      "The number with 0 time conversations in day are:  52\n"
     ]
    }
   ],
   "source": [
    "#check if there is user with 0 time conversation insde the logset Conversation day column\n",
    "zero_time_day = (df['longest_conver_day'] == 0).sum()\n",
    "print('The number with 0 time conversations in day are: ', zero_time_day)"
   ]
  },
  {
   "cell_type": "code",
   "execution_count": 255,
   "metadata": {},
   "outputs": [],
   "source": [
    "#Merge num_messages_conver data with df\n",
    "df['num_messages_conver']=totalNrOfOneMessageConversation"
   ]
  },
  {
   "cell_type": "code",
   "execution_count": 222,
   "metadata": {},
   "outputs": [
    {
     "name": "stdout",
     "output_type": "stream",
     "text": [
      "The number with 0 time conversations in day are:  82\n"
     ]
    }
   ],
   "source": [
    "#check if there is user with 0 messages Conversation day column\n",
    "messages_conver = (df['num_messages_conver'] == 0).sum()\n",
    "print('The number with 0 time conversations in day are: ', messages_conver)"
   ]
  },
  {
   "cell_type": "code",
   "execution_count": 256,
   "metadata": {},
   "outputs": [],
   "source": [
    "#Merge all_matches data with df\n",
    "df['all_matches']=all_matches"
   ]
  },
  {
   "cell_type": "code",
   "execution_count": 242,
   "metadata": {},
   "outputs": [
    {
     "name": "stdout",
     "output_type": "stream",
     "text": [
      "The number of user with 0 matches are:  0\n"
     ]
    }
   ],
   "source": [
    "\"\"\"\" To fix becasue I think the result is not true \"\"\"\n",
    "#check if there is user with zero matches\n",
    "zero_matches = (df['all_matches'] == 0).sum()\n",
    "print('The number of user with 0 matches are: ', zero_matches)"
   ]
  },
  {
   "cell_type": "code",
   "execution_count": 257,
   "metadata": {},
   "outputs": [],
   "source": [
    "#Merge all_matches data with df\n",
    "df['all_swipeLikes']=all_swipeLikes"
   ]
  },
  {
   "cell_type": "code",
   "execution_count": 258,
   "metadata": {},
   "outputs": [],
   "source": [
    "#Merge all_swipePasses data with df\n",
    "df['all_swipePasses']=all_swipePasses"
   ]
  },
  {
   "cell_type": "code",
   "execution_count": 259,
   "metadata": {},
   "outputs": [],
   "source": [
    "#Merge all_BirthDates data with df\n",
    "df['all_BirthDates']= allBirthDates"
   ]
  },
  {
   "cell_type": "code",
   "execution_count": null,
   "metadata": {},
   "outputs": [],
   "source": [
    "\"\"\"\" To fix becasue I think the result is not true \"\"\"\n",
    "#check if there is user without a Birthday data \n",
    "not_birthday = (df['all_BirthDates'] == []).sum()\n",
    "print('The number of user with 0 matches are: ', not_birthday)"
   ]
  },
  {
   "cell_type": "code",
   "execution_count": 260,
   "metadata": {},
   "outputs": [],
   "source": [
    "#Merge all_Cities data with df\n",
    "df['all_Cities']= allcities"
   ]
  },
  {
   "cell_type": "code",
   "execution_count": 261,
   "metadata": {},
   "outputs": [],
   "source": [
    "#Merge all_genders data with df\n",
    "df['all_genders']= allgenders"
   ]
  },
  {
   "cell_type": "code",
   "execution_count": 262,
   "metadata": {},
   "outputs": [],
   "source": [
    "#Merge all_interestedIn data with df\n",
    "df['all_interestedIn']= allinterestedIn"
   ]
  },
  {
   "cell_type": "code",
   "execution_count": 272,
   "metadata": {},
   "outputs": [
    {
     "data": {
      "text/html": [
       "<div>\n",
       "<style scoped>\n",
       "    .dataframe tbody tr th:only-of-type {\n",
       "        vertical-align: middle;\n",
       "    }\n",
       "\n",
       "    .dataframe tbody tr th {\n",
       "        vertical-align: top;\n",
       "    }\n",
       "\n",
       "    .dataframe thead th {\n",
       "        text-align: right;\n",
       "    }\n",
       "</style>\n",
       "<table border=\"1\" class=\"dataframe\">\n",
       "  <thead>\n",
       "    <tr style=\"text-align: right;\">\n",
       "      <th></th>\n",
       "      <th>user_id</th>\n",
       "      <th>app_opens</th>\n",
       "      <th>all_messages</th>\n",
       "      <th>number_conversations</th>\n",
       "      <th>longest_conver</th>\n",
       "      <th>longest_conver_day</th>\n",
       "      <th>num_messages_conver</th>\n",
       "      <th>all_matches</th>\n",
       "      <th>all_swipeLikes</th>\n",
       "      <th>all_swipePasses</th>\n",
       "      <th>all_BirthDates</th>\n",
       "      <th>all_Cities</th>\n",
       "      <th>all_genders</th>\n",
       "      <th>all_interestedIn</th>\n",
       "    </tr>\n",
       "  </thead>\n",
       "  <tbody>\n",
       "    <tr>\n",
       "      <th>0</th>\n",
       "      <td>49eaaf</td>\n",
       "      <td>[26, 10, 28, 18, 15, 2, 16, 17, 17, 7, 10, 23,...</td>\n",
       "      <td>[]</td>\n",
       "      <td>739</td>\n",
       "      <td>133</td>\n",
       "      <td>683.557442</td>\n",
       "      <td>226</td>\n",
       "      <td>[10, 5, 9, 8, 6, 13, 4, 14, 2, 12, 2, 8, 2, 4,...</td>\n",
       "      <td>[50, 70, 21, 5, 29, 92, 27, 77, 84, 76, 82, 93...</td>\n",
       "      <td>[14, 93, 75, 96, 71, 38, 76, 56, 21, 49, 41, 2...</td>\n",
       "      <td>[1976-01-01]</td>\n",
       "      <td>[Trondheim]</td>\n",
       "      <td>[M]</td>\n",
       "      <td>[F]</td>\n",
       "    </tr>\n",
       "    <tr>\n",
       "      <th>1</th>\n",
       "      <td>1534e9</td>\n",
       "      <td>[20, 18, 7, 6, 6, 4, 1, 1, 1, 1, 3, 2, 2, 5, 2...</td>\n",
       "      <td>[Hello again, so now that we matched again, wh...</td>\n",
       "      <td>464</td>\n",
       "      <td>36</td>\n",
       "      <td>622.466528</td>\n",
       "      <td>56</td>\n",
       "      <td>[1, 0, 1, 1, 1, 2, 0, 0, 0, 0, 0, 0, 0, 0, 0, ...</td>\n",
       "      <td>[0, 221, 108, 215, 110, 215, 118, 115, 116, 4,...</td>\n",
       "      <td>[0, 61, 19, 90, 23, 54, 40, 42, 29, 0, 42, 23,...</td>\n",
       "      <td>[1997-07-04]</td>\n",
       "      <td>[Richmond]</td>\n",
       "      <td>[M]</td>\n",
       "      <td>[F]</td>\n",
       "    </tr>\n",
       "    <tr>\n",
       "      <th>2</th>\n",
       "      <td>b26ebd</td>\n",
       "      <td>[61, 154, 139, 128, 42, 22, 31, 29, 10, 17, 2,...</td>\n",
       "      <td>[It&amp;rsquo;s me, the chicken nuggets, Exactly w...</td>\n",
       "      <td>303</td>\n",
       "      <td>33</td>\n",
       "      <td>295.283414</td>\n",
       "      <td>106</td>\n",
       "      <td>[13, 12, 23, 15, 9, 5, 2, 1, 0, 3, 0, 0, 1, 1,...</td>\n",
       "      <td>[87, 39, 122, 67, 35, 14, 26, 98, 46, 99, 15, ...</td>\n",
       "      <td>[30, 12, 48, 26, 18, 10, 19, 55, 19, 99, 12, 4...</td>\n",
       "      <td>[1998-02-06]</td>\n",
       "      <td>[Richmond]</td>\n",
       "      <td>[M]</td>\n",
       "      <td>[F]</td>\n",
       "    </tr>\n",
       "  </tbody>\n",
       "</table>\n",
       "</div>"
      ],
      "text/plain": [
       "  user_id                                          app_opens  \\\n",
       "0  49eaaf  [26, 10, 28, 18, 15, 2, 16, 17, 17, 7, 10, 23,...   \n",
       "1  1534e9  [20, 18, 7, 6, 6, 4, 1, 1, 1, 1, 3, 2, 2, 5, 2...   \n",
       "2  b26ebd  [61, 154, 139, 128, 42, 22, 31, 29, 10, 17, 2,...   \n",
       "\n",
       "                                        all_messages  number_conversations  \\\n",
       "0                                                 []                   739   \n",
       "1  [Hello again, so now that we matched again, wh...                   464   \n",
       "2  [It&rsquo;s me, the chicken nuggets, Exactly w...                   303   \n",
       "\n",
       "   longest_conver  longest_conver_day  num_messages_conver  \\\n",
       "0             133          683.557442                  226   \n",
       "1              36          622.466528                   56   \n",
       "2              33          295.283414                  106   \n",
       "\n",
       "                                         all_matches  \\\n",
       "0  [10, 5, 9, 8, 6, 13, 4, 14, 2, 12, 2, 8, 2, 4,...   \n",
       "1  [1, 0, 1, 1, 1, 2, 0, 0, 0, 0, 0, 0, 0, 0, 0, ...   \n",
       "2  [13, 12, 23, 15, 9, 5, 2, 1, 0, 3, 0, 0, 1, 1,...   \n",
       "\n",
       "                                      all_swipeLikes  \\\n",
       "0  [50, 70, 21, 5, 29, 92, 27, 77, 84, 76, 82, 93...   \n",
       "1  [0, 221, 108, 215, 110, 215, 118, 115, 116, 4,...   \n",
       "2  [87, 39, 122, 67, 35, 14, 26, 98, 46, 99, 15, ...   \n",
       "\n",
       "                                     all_swipePasses all_BirthDates  \\\n",
       "0  [14, 93, 75, 96, 71, 38, 76, 56, 21, 49, 41, 2...   [1976-01-01]   \n",
       "1  [0, 61, 19, 90, 23, 54, 40, 42, 29, 0, 42, 23,...   [1997-07-04]   \n",
       "2  [30, 12, 48, 26, 18, 10, 19, 55, 19, 99, 12, 4...   [1998-02-06]   \n",
       "\n",
       "    all_Cities all_genders all_interestedIn  \n",
       "0  [Trondheim]         [M]              [F]  \n",
       "1   [Richmond]         [M]              [F]  \n",
       "2   [Richmond]         [M]              [F]  "
      ]
     },
     "execution_count": 272,
     "metadata": {},
     "output_type": "execute_result"
    }
   ],
   "source": [
    "df.head(3)"
   ]
  },
  {
   "cell_type": "code",
   "execution_count": null,
   "metadata": {},
   "outputs": [],
   "source": [
    "#choropleth for visual representation of the worldwide users"
   ]
  }
 ],
 "metadata": {
  "kernelspec": {
   "display_name": "Python 3.8.5 ('base')",
   "language": "python",
   "name": "python3"
  },
  "language_info": {
   "codemirror_mode": {
    "name": "ipython",
    "version": 3
   },
   "file_extension": ".py",
   "mimetype": "text/x-python",
   "name": "python",
   "nbconvert_exporter": "python",
   "pygments_lexer": "ipython3",
   "version": "3.8.5"
  },
  "orig_nbformat": 4,
  "vscode": {
   "interpreter": {
    "hash": "b8b5a6894551d37c02e7098f5cfeb1260c7bf304f89da81c7059abba41f424c0"
   }
  }
 },
 "nbformat": 4,
 "nbformat_minor": 2
}
