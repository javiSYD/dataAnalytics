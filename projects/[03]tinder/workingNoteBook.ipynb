{
 "cells": [
  {
   "cell_type": "code",
   "execution_count": 268,
   "metadata": {},
   "outputs": [],
   "source": [
    "#import libraries \n",
    "import numpy as np\n",
    "import pandas as pd"
   ]
  },
  {
   "cell_type": "code",
   "execution_count": 269,
   "metadata": {},
   "outputs": [],
   "source": [
    "#Load the data\n",
    "profile_src_json = pd.read_json('/Users/javi/Downloads/profiles_2021-11-10.json')"
   ]
  },
  {
   "cell_type": "code",
   "execution_count": 270,
   "metadata": {},
   "outputs": [],
   "source": [
    "#create a copy in order to work with it and not to damage our original dataSet\n",
    "profile_copy = profile_src_json.copy()"
   ]
  },
  {
   "cell_type": "code",
   "execution_count": 271,
   "metadata": {},
   "outputs": [],
   "source": [
    "#Drop off \"__v\" column as it has only 0 values\n",
    "del profile_copy[\"__v\"]"
   ]
  },
  {
   "cell_type": "code",
   "execution_count": 156,
   "metadata": {},
   "outputs": [],
   "source": [
    "#define the dataframe \n",
    "pre_df = profile_copy"
   ]
  },
  {
   "cell_type": "code",
   "execution_count": 157,
   "metadata": {},
   "outputs": [
    {
     "name": "stdout",
     "output_type": "stream",
     "text": [
      "1209\n"
     ]
    }
   ],
   "source": [
    "#get the user id\n",
    "allusersids = []\n",
    "for uniqueid in pre_df.userId:\n",
    "    userid = uniqueid[-6:]\n",
    "    allusersids.append(userid)\n",
    "print(len(allusersids))"
   ]
  },
  {
   "cell_type": "code",
   "execution_count": 158,
   "metadata": {},
   "outputs": [
    {
     "data": {
      "text/plain": [
       "1209"
      ]
     },
     "execution_count": 158,
     "metadata": {},
     "output_type": "execute_result"
    }
   ],
   "source": [
    "#Take 100 app onenings for each user and check how many times it open the app in a day\n",
    "all_opens = []\n",
    "for open in pre_df.appOpens:\n",
    "    dates = []\n",
    "    for date in open:\n",
    "        dates.append(open[date])\n",
    "    dates=dates[:100]\n",
    "    all_opens.append(dates)\n",
    "len(all_opens)"
   ]
  },
  {
   "cell_type": "code",
   "execution_count": 159,
   "metadata": {},
   "outputs": [
    {
     "data": {
      "text/plain": [
       "1209"
      ]
     },
     "execution_count": 159,
     "metadata": {},
     "output_type": "execute_result"
    }
   ],
   "source": [
    "#Take 100 conversations for each user in a list to add it to our dataFrame \n",
    "all_messages=[]\n",
    "for conversation in pre_df.conversations:\n",
    "    messages=[]\n",
    "    for match in conversation:\n",
    "        for message in match['messages']:\n",
    "            if 'message' in message.keys():\n",
    "                messages.append(message['message'])\n",
    "    messages=messages[:100]\n",
    "    all_messages.append(messages)\n",
    "len(all_messages)"
   ]
  },
  {
   "cell_type": "code",
   "execution_count": 161,
   "metadata": {},
   "outputs": [
    {
     "name": "stdout",
     "output_type": "stream",
     "text": [
      "totalNrOfConversation 1209\n",
      "totalLongestConversation 1209\n",
      "totalLongestConversationInDay 1209\n",
      "totalNrOfOneMessageConversation 1209\n"
     ]
    }
   ],
   "source": [
    "#Take the conversationsMeta of each user and brake down the dictionary format\n",
    "\"\"\"\"This is in a total time frame but the other has a len of 100, it that a problem  \"\"\" \n",
    "totalNrOfConversation=[]\n",
    "totalLongestConversation=[]\n",
    "totalLongestConversationInDay=[]\n",
    "totalNrOfOneMessageConversation=[]\n",
    "\n",
    "\n",
    "for conversationMeta in pre_df.conversationsMeta:\n",
    "    for nrOfConversation in conversationMeta:\n",
    "        if nrOfConversation == 'nrOfConversations':\n",
    "            nrOfConversations = 0\n",
    "            nrOfConversations += (conversationMeta[nrOfConversation])\n",
    "    totalNrOfConversation.append(nrOfConversations)\n",
    "\n",
    "\n",
    "for conversationMeta in pre_df.conversationsMeta:\n",
    "    for longestConversa in conversationMeta:\n",
    "        if longestConversa == 'longestConversation':\n",
    "            longestConver = 0\n",
    "            longestConver += (conversationMeta[longestConversa])\n",
    "    totalLongestConversation.append(longestConver)\n",
    "        \n",
    "\n",
    "for conversationMeta in pre_df.conversationsMeta:\n",
    "    for longestConversationInDay in conversationMeta:\n",
    "        if longestConversationInDay == 'longestConversationInDays':\n",
    "            longestConverDay = 0\n",
    "            longestConverDay += conversationMeta[longestConversationInDay]\n",
    "    totalLongestConversationInDay.append(longestConverDay)\n",
    "    \n",
    "    \n",
    "for conversationMeta in pre_df.conversationsMeta:\n",
    "    for nrOfOneMessageConversation in conversationMeta:\n",
    "        if nrOfOneMessageConversation == 'nrOfOneMessageConversations':\n",
    "            nrOfOneMessageConver = 0\n",
    "            nrOfOneMessageConver += conversationMeta[nrOfOneMessageConversation]\n",
    "    totalNrOfOneMessageConversation.append(nrOfOneMessageConver)\n",
    "\n",
    "print('totalNrOfConversation', len(totalNrOfConversation))\n",
    "print('totalLongestConversation', len(totalLongestConversation))\n",
    "print('totalLongestConversationInDay', len(totalLongestConversationInDay))\n",
    "print('totalNrOfOneMessageConversation', len(totalNrOfOneMessageConversation))\n"
   ]
  },
  {
   "cell_type": "code",
   "execution_count": 162,
   "metadata": {},
   "outputs": [
    {
     "data": {
      "text/plain": [
       "1209"
      ]
     },
     "execution_count": 162,
     "metadata": {},
     "output_type": "execute_result"
    }
   ],
   "source": [
    "#Take 100 app matches for each user and check how many times it open the app in a day\n",
    "all_matches = []\n",
    "for love in pre_df.matches:\n",
    "    matches = []\n",
    "    for heart in love:\n",
    "        matches.append(love[heart])\n",
    "    matches=matches[:100]\n",
    "    all_matches.append(matches)\n",
    "len(all_matches)\n"
   ]
  },
  {
   "cell_type": "code",
   "execution_count": 163,
   "metadata": {},
   "outputs": [
    {
     "data": {
      "text/plain": [
       "1209"
      ]
     },
     "execution_count": 163,
     "metadata": {},
     "output_type": "execute_result"
    }
   ],
   "source": [
    "#Take 100 app swipeLikes for each user and check how many times it open the app in a day\n",
    "all_swipeLikes = []\n",
    "for atraction in pre_df.swipeLikes:\n",
    "    matches = []\n",
    "    for heart in atraction:\n",
    "        matches.append(atraction[heart])\n",
    "    matches=matches[:100]\n",
    "    all_swipeLikes.append(matches)\n",
    "len(all_swipeLikes)"
   ]
  },
  {
   "cell_type": "code",
   "execution_count": 164,
   "metadata": {},
   "outputs": [
    {
     "data": {
      "text/plain": [
       "1209"
      ]
     },
     "execution_count": 164,
     "metadata": {},
     "output_type": "execute_result"
    }
   ],
   "source": [
    "#Take 100 app swipePasses for each user and check how many times it open the app in a day\n",
    "all_swipePasses = []\n",
    "for dislike in pre_df.swipePasses:\n",
    "    dislikes = []\n",
    "    for left in dislike:\n",
    "        dislikes.append(dislike[left])\n",
    "    dislikes=dislikes[:100]\n",
    "    all_swipePasses.append(dislikes)\n",
    "len(all_swipePasses)"
   ]
  },
  {
   "cell_type": "code",
   "execution_count": 165,
   "metadata": {},
   "outputs": [
    {
     "name": "stdout",
     "output_type": "stream",
     "text": [
      "1209\n",
      "1209\n",
      "1209\n",
      "1209\n",
      "1209\n"
     ]
    }
   ],
   "source": [
    "#Take user anonymous data and break down the dictionary format\n",
    "allBirthDates=[]\n",
    "allcities = []\n",
    "allcountreis=[]\n",
    "allgenders=[]\n",
    "allinterestedIn=[]\n",
    "\n",
    "#Users date of birth\n",
    "for person in pre_df.user:\n",
    "    for birthDate in person:\n",
    "        if birthDate == 'birthDate':\n",
    "            date = person[birthDate][:10]\n",
    "            userBirthDate = []\n",
    "            userBirthDate.append(date)\n",
    "    allBirthDates.append(userBirthDate)\n",
    "\n",
    "#Users city\n",
    "for person in pre_df.user:\n",
    "    for city in person:\n",
    "        if city == 'cityName':\n",
    "            cities = []\n",
    "            cities.append(person[city])\n",
    "    allcities.append(cities)\n",
    "\n",
    "#Users country\n",
    "for person in pre_df.user:\n",
    "    for country in person:\n",
    "        if country == 'country':\n",
    "            countries = []\n",
    "            countries.append(person[country])\n",
    "    allcountreis.append(countries)\n",
    "        \n",
    "#Users gender\n",
    "for person in pre_df.user:\n",
    "    for gender in person:\n",
    "        if gender == 'gender':\n",
    "            genders = []\n",
    "            genders.append(person[gender])\n",
    "    allgenders.append(genders)\n",
    "\n",
    "#Users interest In\n",
    "for person in pre_df.user:\n",
    "    for interest in person:\n",
    "        if interest == 'interestedIn':\n",
    "            searching = []\n",
    "            searching.append(person[interest])\n",
    "    allinterestedIn.append(searching)\n",
    "\n",
    "\n",
    "print(len(allBirthDates))\n",
    "print(len(allcities))\n",
    "print(len(allcountreis))\n",
    "print(len(allgenders))\n",
    "print(len(allinterestedIn))"
   ]
  },
  {
   "cell_type": "markdown",
   "metadata": {},
   "source": [
    "CREATE THE DATASET WITH WE ARE GOING TO WORK "
   ]
  },
  {
   "cell_type": "code",
   "execution_count": 179,
   "metadata": {},
   "outputs": [
    {
     "data": {
      "text/html": [
       "<div>\n",
       "<style scoped>\n",
       "    .dataframe tbody tr th:only-of-type {\n",
       "        vertical-align: middle;\n",
       "    }\n",
       "\n",
       "    .dataframe tbody tr th {\n",
       "        vertical-align: top;\n",
       "    }\n",
       "\n",
       "    .dataframe thead th {\n",
       "        text-align: right;\n",
       "    }\n",
       "</style>\n",
       "<table border=\"1\" class=\"dataframe\">\n",
       "  <thead>\n",
       "    <tr style=\"text-align: right;\">\n",
       "      <th></th>\n",
       "      <th>user_id</th>\n",
       "    </tr>\n",
       "  </thead>\n",
       "  <tbody>\n",
       "    <tr>\n",
       "      <th>0</th>\n",
       "      <td>49eaaf</td>\n",
       "    </tr>\n",
       "    <tr>\n",
       "      <th>1</th>\n",
       "      <td>1534e9</td>\n",
       "    </tr>\n",
       "    <tr>\n",
       "      <th>2</th>\n",
       "      <td>b26ebd</td>\n",
       "    </tr>\n",
       "  </tbody>\n",
       "</table>\n",
       "</div>"
      ],
      "text/plain": [
       "  user_id\n",
       "0  49eaaf\n",
       "1  1534e9\n",
       "2  b26ebd"
      ]
     },
     "execution_count": 179,
     "metadata": {},
     "output_type": "execute_result"
    }
   ],
   "source": [
    "#We insert the unique user id\n",
    "df = pd.DataFrame(allusersids,columns=['user_id'])\n",
    "df.head(3)"
   ]
  },
  {
   "cell_type": "code",
   "execution_count": 180,
   "metadata": {},
   "outputs": [
    {
     "data": {
      "text/plain": [
       "False"
      ]
     },
     "execution_count": 180,
     "metadata": {},
     "output_type": "execute_result"
    }
   ],
   "source": [
    "#check if there is user with Null value in their id\n",
    "pd.isnull(df.loc[1, 'user_id'])"
   ]
  },
  {
   "cell_type": "code",
   "execution_count": 266,
   "metadata": {},
   "outputs": [],
   "source": [
    "#Merge app_opens data with df\n",
    "df['app_opens']=all_opens"
   ]
  },
  {
   "cell_type": "code",
   "execution_count": 212,
   "metadata": {},
   "outputs": [
    {
     "data": {
      "text/plain": [
       "False"
      ]
     },
     "execution_count": 212,
     "metadata": {},
     "output_type": "execute_result"
    }
   ],
   "source": [
    "#check if there is user with Null value in app_opens colum\n",
    "pd.isnull('app_opens')\n",
    "\"\"\"\"＊＊＊＊＊＊＊＊＊＊＊＊＊＊＊＊＊＊＊＊＊\"\"\""
   ]
  },
  {
   "cell_type": "code",
   "execution_count": 265,
   "metadata": {},
   "outputs": [],
   "source": [
    "#Merge all_messages data with df\n",
    "df['all_messages']=all_messages"
   ]
  },
  {
   "cell_type": "code",
   "execution_count": 206,
   "metadata": {},
   "outputs": [
    {
     "data": {
      "text/plain": [
       "0       False\n",
       "1        True\n",
       "2        True\n",
       "3        True\n",
       "4       False\n",
       "        ...  \n",
       "1204     True\n",
       "1205     True\n",
       "1206     True\n",
       "1207     True\n",
       "1208     True\n",
       "Name: all_messages, Length: 1209, dtype: bool"
      ]
     },
     "execution_count": 206,
     "metadata": {},
     "output_type": "execute_result"
    }
   ],
   "source": [
    "#check if the list messages has any conversations \n",
    "df['all_messages'].str.len()!=0"
   ]
  },
  {
   "cell_type": "code",
   "execution_count": 264,
   "metadata": {},
   "outputs": [],
   "source": [
    "#Merge number_conversations data with df\n",
    "df['number_conversations']= totalNrOfConversation"
   ]
  },
  {
   "cell_type": "code",
   "execution_count": 209,
   "metadata": {},
   "outputs": [
    {
     "name": "stdout",
     "output_type": "stream",
     "text": [
      "The number of empty number_conversations are:  29\n"
     ]
    }
   ],
   "source": [
    "#check if there is user with 0 value in app_opens colum\n",
    "count = (df['number_conversations'] == 0).sum()\n",
    "print('The number of empty number_conversations are: ', count)"
   ]
  },
  {
   "cell_type": "code",
   "execution_count": 263,
   "metadata": {},
   "outputs": [],
   "source": [
    "#Merge longest_conver data with df\n",
    "df['longest_conver']=totalLongestConversation"
   ]
  },
  {
   "cell_type": "code",
   "execution_count": 216,
   "metadata": {},
   "outputs": [
    {
     "name": "stdout",
     "output_type": "stream",
     "text": [
      "The number with 0 time conversations are:  33\n"
     ]
    }
   ],
   "source": [
    "#check if there is user with 0 time conversation\n",
    "zero_time = (df['longest_conver'] == 0).sum()\n",
    "print('The number with 0 time conversations are: ', zero_time)"
   ]
  },
  {
   "cell_type": "code",
   "execution_count": 254,
   "metadata": {},
   "outputs": [],
   "source": [
    "#Merge longest_conver_day data with df\n",
    "df['longest_conver_day']=totalLongestConversationInDay"
   ]
  },
  {
   "cell_type": "code",
   "execution_count": 218,
   "metadata": {},
   "outputs": [
    {
     "name": "stdout",
     "output_type": "stream",
     "text": [
      "The number with 0 time conversations in day are:  52\n"
     ]
    }
   ],
   "source": [
    "#check if there is user with 0 time conversation insde the logset Conversation day column\n",
    "zero_time_day = (df['longest_conver_day'] == 0).sum()\n",
    "print('The number with 0 time conversations in day are: ', zero_time_day)"
   ]
  },
  {
   "cell_type": "code",
   "execution_count": 255,
   "metadata": {},
   "outputs": [],
   "source": [
    "#Merge num_messages_conver data with df\n",
    "df['num_messages_conver']=totalNrOfOneMessageConversation"
   ]
  },
  {
   "cell_type": "code",
   "execution_count": 222,
   "metadata": {},
   "outputs": [
    {
     "name": "stdout",
     "output_type": "stream",
     "text": [
      "The number with 0 time conversations in day are:  82\n"
     ]
    }
   ],
   "source": [
    "#check if there is user with 0 messages Conversation day column\n",
    "messages_conver = (df['num_messages_conver'] == 0).sum()\n",
    "print('The number with 0 time conversations in day are: ', messages_conver)"
   ]
  },
  {
   "cell_type": "code",
   "execution_count": 256,
   "metadata": {},
   "outputs": [],
   "source": [
    "#Merge all_matches data with df\n",
    "df['all_matches']=all_matches"
   ]
  },
  {
   "cell_type": "code",
   "execution_count": 242,
   "metadata": {},
   "outputs": [
    {
     "name": "stdout",
     "output_type": "stream",
     "text": [
      "The number of user with 0 matches are:  0\n"
     ]
    }
   ],
   "source": [
    "\"\"\"\" To fix becasue I think the result is not true \"\"\"\n",
    "#check if there is user with zero matches\n",
    "zero_matches = (df['all_matches'] == 0).sum()\n",
    "print('The number of user with 0 matches are: ', zero_matches)"
   ]
  },
  {
   "cell_type": "code",
   "execution_count": 257,
   "metadata": {},
   "outputs": [],
   "source": [
    "#Merge all_matches data with df\n",
    "df['all_swipeLikes']=all_swipeLikes"
   ]
  },
  {
   "cell_type": "code",
   "execution_count": 258,
   "metadata": {},
   "outputs": [],
   "source": [
    "#Merge all_swipePasses data with df\n",
    "df['all_swipePasses']=all_swipePasses"
   ]
  },
  {
   "cell_type": "code",
   "execution_count": 259,
   "metadata": {},
   "outputs": [],
   "source": [
    "#Merge all_BirthDates data with df\n",
    "df['all_BirthDates']= allBirthDates"
   ]
  },
  {
   "cell_type": "code",
   "execution_count": null,
   "metadata": {},
   "outputs": [],
   "source": [
    "\"\"\"\" To fix becasue I think the result is not true \"\"\"\n",
    "#check if there is user without a Birthday data \n",
    "not_birthday = (df['all_BirthDates'] == []).sum()\n",
    "print('The number of user with 0 matches are: ', not_birthday)"
   ]
  },
  {
   "cell_type": "code",
   "execution_count": 260,
   "metadata": {},
   "outputs": [],
   "source": [
    "#Merge all_Cities data with df\n",
    "df['all_Cities']= allcities"
   ]
  },
  {
   "cell_type": "code",
   "execution_count": 261,
   "metadata": {},
   "outputs": [],
   "source": [
    "#Merge all_genders data with df\n",
    "df['all_genders']= allgenders"
   ]
  },
  {
   "cell_type": "code",
   "execution_count": 262,
   "metadata": {},
   "outputs": [],
   "source": [
    "#Merge all_interestedIn data with df\n",
    "df['all_interestedIn']= allinterestedIn"
   ]
  },
  {
   "cell_type": "code",
   "execution_count": null,
   "metadata": {},
   "outputs": [],
   "source": [
    "#choropleth for visual representation of the worldwide users"
   ]
  }
 ],
 "metadata": {
  "kernelspec": {
   "display_name": "Python 3.8.5 ('base')",
   "language": "python",
   "name": "python3"
  },
  "language_info": {
   "codemirror_mode": {
    "name": "ipython",
    "version": 3
   },
   "file_extension": ".py",
   "mimetype": "text/x-python",
   "name": "python",
   "nbconvert_exporter": "python",
   "pygments_lexer": "ipython3",
   "version": "3.8.5"
  },
  "orig_nbformat": 4,
  "vscode": {
   "interpreter": {
    "hash": "b8b5a6894551d37c02e7098f5cfeb1260c7bf304f89da81c7059abba41f424c0"
   }
  }
 },
 "nbformat": 4,
 "nbformat_minor": 2
}
