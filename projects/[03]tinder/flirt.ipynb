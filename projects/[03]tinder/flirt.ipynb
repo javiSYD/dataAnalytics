{
 "cells": [
  {
   "cell_type": "code",
   "execution_count": null,
   "metadata": {},
   "outputs": [],
   "source": [
    "\"\"\"\n",
    "\n",
    "1. Background and Aim\n",
    "\n",
    "The dating world can be a confusing place \n",
    "even more so when you're trying to navigate the waters of a foreign culture. \n",
    "What might be considered flirtatious behaviour in one country could be seen as offensive in another. \n",
    "To help demystify the international dating scene, \n",
    "we've decided to take a close look at how people flirt across cultures. \n",
    "Furthermore, we intend to analyze age and gender differences in flirting styles. \n",
    "By better understanding the complex nuances of flirtation, \n",
    "we hope to make the world a little bit smaller and a lot less confusing. \n",
    "So whether you're looking for love in Sydney, Barcelona or Tokyo, \n",
    "we hope our research will help you find your perfect match.\n",
    "\n",
    "\n",
    "① how to identifiy the lenguaje of the messages?\n",
    "→Japanese \n",
    "→Spanish\n",
    "→English \n",
    "\n",
    "2. Data Description\n",
    "We will use a Tinder dataset provided by the founder of Swipestats [    ]\n",
    "The dataset contain anonymous Tinder data and the way I found it was with a deep research in:\n",
    "\n",
    "Tinder Repositories [https://github.com/tinderjs] \n",
    "Tinder Data Dashboards [https://app.displayr.com/Dashboard?id=2e74a32c-6f08-497d-bd1e-426b125aa400#page=fa2a4c3d-18c6-4534-ac69-6c42189a6078]\n",
    "Tinder Research [https://data-dive.com/tinder-statistics-insights-from-unique-dataset] \n",
    "→ Till I found Swipestats and I contact Sebastian the owner. \n",
    "\n",
    "\n",
    "Algorithms and Techniques \n",
    "    ※ Aim 1 with proposed algorithms \n",
    "    ※ Aim 2 with proposed algorithms \n",
    "\n",
    "\n",
    "\"\"\"\n",
    "\n",
    "Brake down the dataset \n",
    "clasification or \n",
    "\n",
    "taining set \n",
    "    \n",
    "\n"
   ]
  },
  {
   "cell_type": "markdown",
   "metadata": {},
   "source": [
    "1. Select the focus so we know which data we need to clean\n",
    "2. \n",
    "\n",
    "Remove the Tinder messages with HTML tags\n",
    "\n",
    "* Age distribution \n",
    "* Text analysis between women and male (Popular word in women and male)\n",
    "\n",
    "Clearly, women are far more into their pets and going on adventures than guys are - or at least they like to say it more. Men, on the other hand, like to talk about going on dates, having a good chat, and otherwise being social.\n",
    "[Easy visual graphs: https://app.displayr.com/Dashboard?id=2e74a32c-6f08-497d-bd1e-426b125aa400#page=63baf1a3-d546-4ad3-be0a-59934570fadb]\n",
    "\n",
    "\n",
    "* Bar chart emojis "
   ]
  }
 ],
 "metadata": {
  "kernelspec": {
   "display_name": "Python 3.8.9 64-bit",
   "language": "python",
   "name": "python3"
  },
  "language_info": {
   "name": "python",
   "version": "3.8.9"
  },
  "orig_nbformat": 4,
  "vscode": {
   "interpreter": {
    "hash": "31f2aee4e71d21fbe5cf8b01ff0e069b9275f58929596ceb00d14d90e3e16cd6"
   }
  }
 },
 "nbformat": 4,
 "nbformat_minor": 2
}
