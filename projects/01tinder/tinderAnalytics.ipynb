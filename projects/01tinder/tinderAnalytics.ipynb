{
 "cells": [
  {
   "cell_type": "code",
   "execution_count": 3,
   "metadata": {},
   "outputs": [],
   "source": [
    "#import libraries \n",
    "import numpy as np\n",
    "import pandas as pd\n",
    "import seaborn as sn\n",
    "import matplotlib.pyplot as plt\n",
    "sn.set_theme()"
   ]
  },
  {
   "cell_type": "code",
   "execution_count": 4,
   "metadata": {},
   "outputs": [],
   "source": [
    "#Load the data\n",
    "profileSrcJSON = pd.read_json('TinderProfiles.json')"
   ]
  },
  {
   "cell_type": "code",
   "execution_count": 5,
   "metadata": {},
   "outputs": [],
   "source": [
    "#create a copy in order to work with it and not to damage our original dataSet\n",
    "profileCopy = profileSrcJSON.copy()"
   ]
  },
  {
   "cell_type": "code",
   "execution_count": 6,
   "metadata": {},
   "outputs": [],
   "source": [
    "#Drop off \"__v\" column as it has only 0 values\n",
    "del profileCopy[\"__v\"]"
   ]
  },
  {
   "cell_type": "code",
   "execution_count": 7,
   "metadata": {},
   "outputs": [],
   "source": [
    "#define the dataframe \n",
    "preDf = profileCopy"
   ]
  },
  {
   "cell_type": "code",
   "execution_count": 8,
   "metadata": {},
   "outputs": [
    {
     "data": {
      "text/html": [
       "<div>\n",
       "<style scoped>\n",
       "    .dataframe tbody tr th:only-of-type {\n",
       "        vertical-align: middle;\n",
       "    }\n",
       "\n",
       "    .dataframe tbody tr th {\n",
       "        vertical-align: top;\n",
       "    }\n",
       "\n",
       "    .dataframe thead th {\n",
       "        text-align: right;\n",
       "    }\n",
       "</style>\n",
       "<table border=\"1\" class=\"dataframe\">\n",
       "  <thead>\n",
       "    <tr style=\"text-align: right;\">\n",
       "      <th></th>\n",
       "      <th>_id</th>\n",
       "      <th>appOpens</th>\n",
       "      <th>conversations</th>\n",
       "      <th>conversationsMeta</th>\n",
       "      <th>matches</th>\n",
       "      <th>messages</th>\n",
       "      <th>messagesReceived</th>\n",
       "      <th>messagesSent</th>\n",
       "      <th>swipeLikes</th>\n",
       "      <th>swipePasses</th>\n",
       "      <th>swipes</th>\n",
       "      <th>user</th>\n",
       "      <th>userId</th>\n",
       "    </tr>\n",
       "  </thead>\n",
       "  <tbody>\n",
       "    <tr>\n",
       "      <th>0</th>\n",
       "      <td>00b74e27ad1cbb2ded8e907fcc49eaaf</td>\n",
       "      <td>{'2016-01-02': 26, '2016-01-13': 10, '2016-01-...</td>\n",
       "      <td>[{'match_id': 'Match 739', 'messages': [{'to':...</td>\n",
       "      <td>{'nrOfConversations': 739, 'longestConversatio...</td>\n",
       "      <td>{'2016-01-02': 10, '2016-01-13': 5, '2016-01-1...</td>\n",
       "      <td>{'sent': {'2016-01-02': 11, '2016-01-13': 2, '...</td>\n",
       "      <td>{'2016-01-02': 12, '2016-01-13': 3, '2016-01-1...</td>\n",
       "      <td>{'2016-01-02': 11, '2016-01-13': 2, '2016-01-1...</td>\n",
       "      <td>{'2016-01-02': 50, '2016-01-13': 70, '2016-01-...</td>\n",
       "      <td>{'2016-01-02': 14, '2016-01-13': 93, '2016-01-...</td>\n",
       "      <td>{'likes': {'2016-01-02': 50, '2016-01-13': 70,...</td>\n",
       "      <td>{'birthDate': '1976-01-01T00:00:00.000Z', 'age...</td>\n",
       "      <td>00b74e27ad1cbb2ded8e907fcc49eaaf</td>\n",
       "    </tr>\n",
       "    <tr>\n",
       "      <th>1</th>\n",
       "      <td>024610702baf540af5637873cd1534e9</td>\n",
       "      <td>{'2016-07-12': 20, '2016-07-13': 18, '2016-07-...</td>\n",
       "      <td>[{'match_id': 'Match 464', 'messages': [{'to':...</td>\n",
       "      <td>{'nrOfConversations': 464, 'longestConversatio...</td>\n",
       "      <td>{'2016-07-12': 1, '2016-07-13': 0, '2016-07-14...</td>\n",
       "      <td>{'sent': {'2016-07-12': 0, '2016-07-13': 0, '2...</td>\n",
       "      <td>{'2016-07-12': 0, '2016-07-13': 0, '2016-07-14...</td>\n",
       "      <td>{'2016-07-12': 0, '2016-07-13': 0, '2016-07-14...</td>\n",
       "      <td>{'2016-07-12': 0, '2016-07-13': 221, '2016-07-...</td>\n",
       "      <td>{'2016-07-12': 0, '2016-07-13': 61, '2016-07-1...</td>\n",
       "      <td>{'likes': {'2016-07-12': 0, '2016-07-13': 221,...</td>\n",
       "      <td>{'birthDate': '1997-07-04T00:00:00.000Z', 'age...</td>\n",
       "      <td>024610702baf540af5637873cd1534e9</td>\n",
       "    </tr>\n",
       "    <tr>\n",
       "      <th>2</th>\n",
       "      <td>0a5e3dd8489fe67485ddb7d6adb26ebd</td>\n",
       "      <td>{'2019-07-01': 61, '2019-07-02': 154, '2019-07...</td>\n",
       "      <td>[{'match_id': 'Match 303', 'messages': [{'to':...</td>\n",
       "      <td>{'nrOfConversations': 303, 'longestConversatio...</td>\n",
       "      <td>{'2019-07-01': 13, '2019-07-02': 12, '2019-07-...</td>\n",
       "      <td>{'sent': {'2019-07-01': 12, '2019-07-02': 66, ...</td>\n",
       "      <td>{'2019-07-01': 6, '2019-07-02': 70, '2019-07-0...</td>\n",
       "      <td>{'2019-07-01': 12, '2019-07-02': 66, '2019-07-...</td>\n",
       "      <td>{'2019-07-01': 87, '2019-07-02': 39, '2019-07-...</td>\n",
       "      <td>{'2019-07-01': 30, '2019-07-02': 12, '2019-07-...</td>\n",
       "      <td>{'likes': {'2019-07-01': 87, '2019-07-02': 39,...</td>\n",
       "      <td>{'birthDate': '1998-02-06T00:00:00.000Z', 'age...</td>\n",
       "      <td>0a5e3dd8489fe67485ddb7d6adb26ebd</td>\n",
       "    </tr>\n",
       "  </tbody>\n",
       "</table>\n",
       "</div>"
      ],
      "text/plain": [
       "                                _id  \\\n",
       "0  00b74e27ad1cbb2ded8e907fcc49eaaf   \n",
       "1  024610702baf540af5637873cd1534e9   \n",
       "2  0a5e3dd8489fe67485ddb7d6adb26ebd   \n",
       "\n",
       "                                            appOpens  \\\n",
       "0  {'2016-01-02': 26, '2016-01-13': 10, '2016-01-...   \n",
       "1  {'2016-07-12': 20, '2016-07-13': 18, '2016-07-...   \n",
       "2  {'2019-07-01': 61, '2019-07-02': 154, '2019-07...   \n",
       "\n",
       "                                       conversations  \\\n",
       "0  [{'match_id': 'Match 739', 'messages': [{'to':...   \n",
       "1  [{'match_id': 'Match 464', 'messages': [{'to':...   \n",
       "2  [{'match_id': 'Match 303', 'messages': [{'to':...   \n",
       "\n",
       "                                   conversationsMeta  \\\n",
       "0  {'nrOfConversations': 739, 'longestConversatio...   \n",
       "1  {'nrOfConversations': 464, 'longestConversatio...   \n",
       "2  {'nrOfConversations': 303, 'longestConversatio...   \n",
       "\n",
       "                                             matches  \\\n",
       "0  {'2016-01-02': 10, '2016-01-13': 5, '2016-01-1...   \n",
       "1  {'2016-07-12': 1, '2016-07-13': 0, '2016-07-14...   \n",
       "2  {'2019-07-01': 13, '2019-07-02': 12, '2019-07-...   \n",
       "\n",
       "                                            messages  \\\n",
       "0  {'sent': {'2016-01-02': 11, '2016-01-13': 2, '...   \n",
       "1  {'sent': {'2016-07-12': 0, '2016-07-13': 0, '2...   \n",
       "2  {'sent': {'2019-07-01': 12, '2019-07-02': 66, ...   \n",
       "\n",
       "                                    messagesReceived  \\\n",
       "0  {'2016-01-02': 12, '2016-01-13': 3, '2016-01-1...   \n",
       "1  {'2016-07-12': 0, '2016-07-13': 0, '2016-07-14...   \n",
       "2  {'2019-07-01': 6, '2019-07-02': 70, '2019-07-0...   \n",
       "\n",
       "                                        messagesSent  \\\n",
       "0  {'2016-01-02': 11, '2016-01-13': 2, '2016-01-1...   \n",
       "1  {'2016-07-12': 0, '2016-07-13': 0, '2016-07-14...   \n",
       "2  {'2019-07-01': 12, '2019-07-02': 66, '2019-07-...   \n",
       "\n",
       "                                          swipeLikes  \\\n",
       "0  {'2016-01-02': 50, '2016-01-13': 70, '2016-01-...   \n",
       "1  {'2016-07-12': 0, '2016-07-13': 221, '2016-07-...   \n",
       "2  {'2019-07-01': 87, '2019-07-02': 39, '2019-07-...   \n",
       "\n",
       "                                         swipePasses  \\\n",
       "0  {'2016-01-02': 14, '2016-01-13': 93, '2016-01-...   \n",
       "1  {'2016-07-12': 0, '2016-07-13': 61, '2016-07-1...   \n",
       "2  {'2019-07-01': 30, '2019-07-02': 12, '2019-07-...   \n",
       "\n",
       "                                              swipes  \\\n",
       "0  {'likes': {'2016-01-02': 50, '2016-01-13': 70,...   \n",
       "1  {'likes': {'2016-07-12': 0, '2016-07-13': 221,...   \n",
       "2  {'likes': {'2019-07-01': 87, '2019-07-02': 39,...   \n",
       "\n",
       "                                                user  \\\n",
       "0  {'birthDate': '1976-01-01T00:00:00.000Z', 'age...   \n",
       "1  {'birthDate': '1997-07-04T00:00:00.000Z', 'age...   \n",
       "2  {'birthDate': '1998-02-06T00:00:00.000Z', 'age...   \n",
       "\n",
       "                             userId  \n",
       "0  00b74e27ad1cbb2ded8e907fcc49eaaf  \n",
       "1  024610702baf540af5637873cd1534e9  \n",
       "2  0a5e3dd8489fe67485ddb7d6adb26ebd  "
      ]
     },
     "execution_count": 8,
     "metadata": {},
     "output_type": "execute_result"
    }
   ],
   "source": [
    "preDf.head(3)"
   ]
  },
  {
   "cell_type": "markdown",
   "metadata": {},
   "source": [
    "### Each profile has an ID number which we use to check how many users are in the dataset. We also verify that there aren't any Duplicate Accounts in this dataset before continuing on with our research!"
   ]
  },
  {
   "cell_type": "code",
   "execution_count": 9,
   "metadata": {},
   "outputs": [],
   "source": [
    "userid = []\n",
    "for uniqueid in preDf.userId:\n",
    "    userid.append(uniqueid[-6:])"
   ]
  },
  {
   "cell_type": "code",
   "execution_count": 10,
   "metadata": {},
   "outputs": [],
   "source": [
    "totalUserid = userid[:1180]"
   ]
  },
  {
   "cell_type": "markdown",
   "metadata": {},
   "source": [
    "### We want to see how many times each user opened the app in our dataset, and also what their average daily number was.\n"
   ]
  },
  {
   "cell_type": "code",
   "execution_count": 11,
   "metadata": {},
   "outputs": [
    {
     "name": "stdout",
     "output_type": "stream",
     "text": [
      "there are 290 people who open the app every day\n"
     ]
    }
   ],
   "source": [
    "import sys \n",
    "\n",
    "#check how many people open the app (daily)\n",
    "personOpeners = []\n",
    "for openers in preDf.appOpens:\n",
    "    if len(openers) == 0:\n",
    "        continue\n",
    "    maxDate = \"\"\n",
    "    maxOpens = 0\n",
    "    minDate = \"\"\n",
    "    minOpens = sys.maxsize\n",
    "    for date in openers:\n",
    "        if (openers[date] > maxOpens):\n",
    "            maxOpens = openers[date]\n",
    "            maxDate = date\n",
    "\n",
    "        if (openers[date] < minOpens):\n",
    "            minOpens = openers[date]\n",
    "            minDate = date\n",
    "\n",
    "    personOpeners.append(minOpens)\n",
    "    # append the vals to a list\n",
    "\n",
    "counter = 0\n",
    "for j in personOpeners:\n",
    "    if j >= 1:\n",
    "        counter += 1 \n",
    "\n",
    "print(f'there are {counter} people who open the app every day')\n"
   ]
  },
  {
   "cell_type": "code",
   "execution_count": 12,
   "metadata": {},
   "outputs": [],
   "source": [
    "#import the langdetect in order to detect the lenguaje of the message\n",
    "#We will focus on English, Spanish and Japanese \n",
    "from langdetect import detect"
   ]
  },
  {
   "cell_type": "markdown",
   "metadata": {},
   "source": [
    "### Since the messages are in a JSON structure, we have to take those out in order to do our language classification and run the sentiment analysis"
   ]
  },
  {
   "cell_type": "code",
   "execution_count": 13,
   "metadata": {},
   "outputs": [
    {
     "data": {
      "text/plain": [
       "1209"
      ]
     },
     "execution_count": 13,
     "metadata": {},
     "output_type": "execute_result"
    }
   ],
   "source": [
    "allMessages = []\n",
    "numberConversations = []\n",
    "for conversation in preDf.conversations:\n",
    "    messages = []\n",
    "    numberMessages = 0\n",
    "    for match in conversation:\n",
    "        for message in match['messages']:\n",
    "            if 'message' in message.keys():\n",
    "                messages.append(message['message'])\n",
    "                numberMessages += 1\n",
    "    messages = messages[:5]\n",
    "    allMessages.append(messages)\n",
    "    numberConversations.append(numberMessages)\n",
    "len(allMessages)"
   ]
  },
  {
   "cell_type": "code",
   "execution_count": 14,
   "metadata": {},
   "outputs": [],
   "source": [
    "totalMessages = allMessages[:1180]\n",
    "totalnumberConversations = numberConversations[:1180]"
   ]
  },
  {
   "cell_type": "code",
   "execution_count": 15,
   "metadata": {},
   "outputs": [],
   "source": [
    "# identify the lenguaje of the user\n",
    "# extract the first line of each conversation\n",
    "alllengu = []\n",
    "for conversation in preDf.conversations:\n",
    "    for match in conversation:\n",
    "        lengu = []\n",
    "        for message in match['messages']:\n",
    "            if 'message' in message.keys():\n",
    "                    try:\n",
    "                        language = detect(message['message'])\n",
    "                        lengu.append(language) \n",
    "                    except:\n",
    "                        1 \n",
    "        lengu = lengu[:1]\n",
    "        alllengu.append(lengu)\n",
    "        break"
   ]
  },
  {
   "cell_type": "code",
   "execution_count": 16,
   "metadata": {},
   "outputs": [
    {
     "data": {
      "text/plain": [
       "1180"
      ]
     },
     "execution_count": 16,
     "metadata": {},
     "output_type": "execute_result"
    }
   ],
   "source": [
    "len(alllengu)"
   ]
  },
  {
   "cell_type": "code",
   "execution_count": 101,
   "metadata": {},
   "outputs": [],
   "source": [
    "#list of numbers, each number is a user \n",
    "totalMatches = []\n",
    "\n",
    "for dfMatches in preDf.matches:\n",
    "    #variable name \n",
    "    totalMatchesUser = 0\n",
    "    for MatchDate in dfMatches:\n",
    "        totalMatchesUser += dfMatches[MatchDate]\n",
    "    totalMatches.append(totalMatchesUser)\n"
   ]
  },
  {
   "cell_type": "code",
   "execution_count": 102,
   "metadata": {},
   "outputs": [],
   "source": [
    "totalMatches = totalMatches[:1180]"
   ]
  },
  {
   "cell_type": "code",
   "execution_count": 90,
   "metadata": {},
   "outputs": [],
   "source": [
    "#total swipes right per use\n",
    "totalSwipesRight = [] \n",
    "for dfSwipeLikes in preDf.swipeLikes:    \n",
    "    countSwipesRight = 0\n",
    "    for swipeRight in dfSwipeLikes.values():\n",
    "        countSwipesRight += swipeRight\n",
    "        # break\n",
    "    totalSwipesRight.append(countSwipesRight)"
   ]
  },
  {
   "cell_type": "code",
   "execution_count": 94,
   "metadata": {},
   "outputs": [],
   "source": [
    "totalSwipesRight = totalSwipesRight[:1180]"
   ]
  },
  {
   "cell_type": "code",
   "execution_count": 105,
   "metadata": {},
   "outputs": [],
   "source": [
    "#total swipes left per user\n",
    "totalSwipesLeft = []\n",
    "for dfSwipePasses in preDf.swipePasses:\n",
    "    countSwipesLeft = 0\n",
    "    for swipeLeft in dfSwipePasses.values():\n",
    "        countSwipesLeft += swipeLeft\n",
    "        # break\n",
    "    totalSwipesLeft.append(countSwipesLeft)"
   ]
  },
  {
   "cell_type": "code",
   "execution_count": 106,
   "metadata": {},
   "outputs": [],
   "source": [
    "totalSwipesLeft = totalSwipesLeft[:1180]"
   ]
  },
  {
   "cell_type": "code",
   "execution_count": 23,
   "metadata": {},
   "outputs": [],
   "source": [
    "#import library for know the user age \n",
    "from datetime import date\n",
    "from datetime import datetime\n",
    "\n",
    "#Take user anonymous data and break down the dictionary format\n",
    "allBirthDates=[]\n",
    "\n",
    "#Users date of birth\n",
    "def age(birthdate):\n",
    "    today = date.today()\n",
    "    age = today.year - birthdate.year #- ((today.month, today.day) < (birthdate.month, birthdate.day))\n",
    "    return age\n",
    "\n",
    "for person in preDf.user:\n",
    "    birthdateStr = person['birthDate'][:10]\n",
    "    birthdate = datetime.strptime(birthdateStr, '%Y-%m-%d')\n",
    "    userAge = age(birthdate)\n",
    "    allBirthDates.append(userAge)"
   ]
  },
  {
   "cell_type": "code",
   "execution_count": 24,
   "metadata": {},
   "outputs": [],
   "source": [
    "totalAllBirthDates = allBirthDates[:1180]"
   ]
  },
  {
   "cell_type": "code",
   "execution_count": 25,
   "metadata": {},
   "outputs": [
    {
     "name": "stdout",
     "output_type": "stream",
     "text": [
      "479\n"
     ]
    }
   ],
   "source": [
    "#Users city\n",
    "# for person in preDf.user:\n",
    "#     print(person)\n",
    "#     allcities.append(person['cityName'])\n",
    "\n",
    "#Users country\n",
    "allcountreis = []\n",
    "counter = 0\n",
    "for person in preDf.user:\n",
    "    if 'country' in person.keys():\n",
    "        allcountreis.append(person['country'])\n",
    "    else:\n",
    "        allcountreis.append('')\n",
    "        counter += 1\n",
    "print(counter)"
   ]
  },
  {
   "cell_type": "markdown",
   "metadata": {},
   "source": [
    "### CREATE THE DATASET WITH DATA WE HAVE CLEANED"
   ]
  },
  {
   "cell_type": "code",
   "execution_count": 107,
   "metadata": {},
   "outputs": [
    {
     "data": {
      "text/html": [
       "<div>\n",
       "<style scoped>\n",
       "    .dataframe tbody tr th:only-of-type {\n",
       "        vertical-align: middle;\n",
       "    }\n",
       "\n",
       "    .dataframe tbody tr th {\n",
       "        vertical-align: top;\n",
       "    }\n",
       "\n",
       "    .dataframe thead th {\n",
       "        text-align: right;\n",
       "    }\n",
       "</style>\n",
       "<table border=\"1\" class=\"dataframe\">\n",
       "  <thead>\n",
       "    <tr style=\"text-align: right;\">\n",
       "      <th></th>\n",
       "      <th>user</th>\n",
       "    </tr>\n",
       "  </thead>\n",
       "  <tbody>\n",
       "    <tr>\n",
       "      <th>0</th>\n",
       "      <td>49eaaf</td>\n",
       "    </tr>\n",
       "    <tr>\n",
       "      <th>1</th>\n",
       "      <td>1534e9</td>\n",
       "    </tr>\n",
       "    <tr>\n",
       "      <th>2</th>\n",
       "      <td>b26ebd</td>\n",
       "    </tr>\n",
       "  </tbody>\n",
       "</table>\n",
       "</div>"
      ],
      "text/plain": [
       "     user\n",
       "0  49eaaf\n",
       "1  1534e9\n",
       "2  b26ebd"
      ]
     },
     "execution_count": 107,
     "metadata": {},
     "output_type": "execute_result"
    }
   ],
   "source": [
    "#We insert the unique user id\n",
    "df = pd.DataFrame(totalUserid, columns=['user'])\n",
    "df.head(3)"
   ]
  },
  {
   "cell_type": "code",
   "execution_count": 108,
   "metadata": {},
   "outputs": [
    {
     "data": {
      "text/plain": [
       "False"
      ]
     },
     "execution_count": 108,
     "metadata": {},
     "output_type": "execute_result"
    }
   ],
   "source": [
    "#check if there is user with Null value in their id\n",
    "pd.isnull(df.loc[1, 'user'])"
   ]
  },
  {
   "cell_type": "code",
   "execution_count": 109,
   "metadata": {},
   "outputs": [],
   "source": [
    "#Merge app_opens data with df\n",
    "df['Messages'] = totalMessages\n",
    "df['Lenguage'] = alllengu\n",
    "df['SwipesRight'] = totalSwipesRight\n",
    "df['SwipesLeft'] = totalSwipesLeft\n",
    "df['Matches'] = totalMatches\n",
    "df['Num Of Messages'] = totalnumberConversations\n",
    "df['Age'] = totalAllBirthDates"
   ]
  },
  {
   "cell_type": "code",
   "execution_count": 111,
   "metadata": {},
   "outputs": [
    {
     "data": {
      "text/html": [
       "<div>\n",
       "<style scoped>\n",
       "    .dataframe tbody tr th:only-of-type {\n",
       "        vertical-align: middle;\n",
       "    }\n",
       "\n",
       "    .dataframe tbody tr th {\n",
       "        vertical-align: top;\n",
       "    }\n",
       "\n",
       "    .dataframe thead th {\n",
       "        text-align: right;\n",
       "    }\n",
       "</style>\n",
       "<table border=\"1\" class=\"dataframe\">\n",
       "  <thead>\n",
       "    <tr style=\"text-align: right;\">\n",
       "      <th></th>\n",
       "      <th>user</th>\n",
       "      <th>Messages</th>\n",
       "      <th>Lenguage</th>\n",
       "      <th>SwipesRight</th>\n",
       "      <th>SwipesLeft</th>\n",
       "      <th>Matches</th>\n",
       "      <th>Num Of Messages</th>\n",
       "      <th>Age</th>\n",
       "    </tr>\n",
       "  </thead>\n",
       "  <tbody>\n",
       "    <tr>\n",
       "      <th>0</th>\n",
       "      <td>49eaaf</td>\n",
       "      <td>[]</td>\n",
       "      <td>[]</td>\n",
       "      <td>23341</td>\n",
       "      <td>24229</td>\n",
       "      <td>3408</td>\n",
       "      <td>0</td>\n",
       "      <td>46</td>\n",
       "    </tr>\n",
       "    <tr>\n",
       "      <th>1</th>\n",
       "      <td>1534e9</td>\n",
       "      <td>[Hello again, so now that we matched again, wh...</td>\n",
       "      <td>[en]</td>\n",
       "      <td>45068</td>\n",
       "      <td>49559</td>\n",
       "      <td>888</td>\n",
       "      <td>2086</td>\n",
       "      <td>25</td>\n",
       "    </tr>\n",
       "    <tr>\n",
       "      <th>2</th>\n",
       "      <td>b26ebd</td>\n",
       "      <td>[It&amp;rsquo;s me, the chicken nuggets, Exactly w...</td>\n",
       "      <td>[en]</td>\n",
       "      <td>6679</td>\n",
       "      <td>5500</td>\n",
       "      <td>548</td>\n",
       "      <td>1289</td>\n",
       "      <td>24</td>\n",
       "    </tr>\n",
       "    <tr>\n",
       "      <th>3</th>\n",
       "      <td>ffbf58</td>\n",
       "      <td>[I&amp;apos;m worried about you. Based on your hik...</td>\n",
       "      <td>[en]</td>\n",
       "      <td>6724</td>\n",
       "      <td>7899</td>\n",
       "      <td>94</td>\n",
       "      <td>371</td>\n",
       "      <td>24</td>\n",
       "    </tr>\n",
       "    <tr>\n",
       "      <th>4</th>\n",
       "      <td>8a5cc1</td>\n",
       "      <td>[]</td>\n",
       "      <td>[]</td>\n",
       "      <td>60169</td>\n",
       "      <td>96673</td>\n",
       "      <td>1905</td>\n",
       "      <td>0</td>\n",
       "      <td>26</td>\n",
       "    </tr>\n",
       "    <tr>\n",
       "      <th>5</th>\n",
       "      <td>d6e87e</td>\n",
       "      <td>[Holaaa Andrea! Igual bonito inicio de semana,...</td>\n",
       "      <td>[it]</td>\n",
       "      <td>22552</td>\n",
       "      <td>5477</td>\n",
       "      <td>203</td>\n",
       "      <td>2768</td>\n",
       "      <td>28</td>\n",
       "    </tr>\n",
       "    <tr>\n",
       "      <th>6</th>\n",
       "      <td>c4d365</td>\n",
       "      <td>[]</td>\n",
       "      <td>[]</td>\n",
       "      <td>25138</td>\n",
       "      <td>22748</td>\n",
       "      <td>3295</td>\n",
       "      <td>0</td>\n",
       "      <td>46</td>\n",
       "    </tr>\n",
       "    <tr>\n",
       "      <th>7</th>\n",
       "      <td>8a177d</td>\n",
       "      <td>[]</td>\n",
       "      <td>[]</td>\n",
       "      <td>774</td>\n",
       "      <td>480</td>\n",
       "      <td>87</td>\n",
       "      <td>0</td>\n",
       "      <td>28</td>\n",
       "    </tr>\n",
       "    <tr>\n",
       "      <th>8</th>\n",
       "      <td>a0a92f</td>\n",
       "      <td>[Terve😊, Helsingissä asun mut nyt frendin möki...</td>\n",
       "      <td>[]</td>\n",
       "      <td>4532</td>\n",
       "      <td>115619</td>\n",
       "      <td>1781</td>\n",
       "      <td>5383</td>\n",
       "      <td>30</td>\n",
       "    </tr>\n",
       "    <tr>\n",
       "      <th>9</th>\n",
       "      <td>90b7d6</td>\n",
       "      <td>[hey, nice pics ;&amp;rpar;, well so how are you d...</td>\n",
       "      <td>[en]</td>\n",
       "      <td>52133</td>\n",
       "      <td>45064</td>\n",
       "      <td>5075</td>\n",
       "      <td>7567</td>\n",
       "      <td>27</td>\n",
       "    </tr>\n",
       "  </tbody>\n",
       "</table>\n",
       "</div>"
      ],
      "text/plain": [
       "     user                                           Messages Lenguage  \\\n",
       "0  49eaaf                                                 []       []   \n",
       "1  1534e9  [Hello again, so now that we matched again, wh...     [en]   \n",
       "2  b26ebd  [It&rsquo;s me, the chicken nuggets, Exactly w...     [en]   \n",
       "3  ffbf58  [I&apos;m worried about you. Based on your hik...     [en]   \n",
       "4  8a5cc1                                                 []       []   \n",
       "5  d6e87e  [Holaaa Andrea! Igual bonito inicio de semana,...     [it]   \n",
       "6  c4d365                                                 []       []   \n",
       "7  8a177d                                                 []       []   \n",
       "8  a0a92f  [Terve😊, Helsingissä asun mut nyt frendin möki...       []   \n",
       "9  90b7d6  [hey, nice pics ;&rpar;, well so how are you d...     [en]   \n",
       "\n",
       "   SwipesRight  SwipesLeft  Matches  Num Of Messages  Age  \n",
       "0        23341       24229     3408                0   46  \n",
       "1        45068       49559      888             2086   25  \n",
       "2         6679        5500      548             1289   24  \n",
       "3         6724        7899       94              371   24  \n",
       "4        60169       96673     1905                0   26  \n",
       "5        22552        5477      203             2768   28  \n",
       "6        25138       22748     3295                0   46  \n",
       "7          774         480       87                0   28  \n",
       "8         4532      115619     1781             5383   30  \n",
       "9        52133       45064     5075             7567   27  "
      ]
     },
     "execution_count": 111,
     "metadata": {},
     "output_type": "execute_result"
    }
   ],
   "source": [
    "df.head(10)"
   ]
  },
  {
   "cell_type": "code",
   "execution_count": 30,
   "metadata": {},
   "outputs": [
    {
     "data": {
      "text/plain": [
       "1180"
      ]
     },
     "execution_count": 30,
     "metadata": {},
     "output_type": "execute_result"
    }
   ],
   "source": [
    "len(df.index)"
   ]
  },
  {
   "cell_type": "code",
   "execution_count": 31,
   "metadata": {},
   "outputs": [
    {
     "data": {
      "text/html": [
       "<div>\n",
       "<style scoped>\n",
       "    .dataframe tbody tr th:only-of-type {\n",
       "        vertical-align: middle;\n",
       "    }\n",
       "\n",
       "    .dataframe tbody tr th {\n",
       "        vertical-align: top;\n",
       "    }\n",
       "\n",
       "    .dataframe thead th {\n",
       "        text-align: right;\n",
       "    }\n",
       "</style>\n",
       "<table border=\"1\" class=\"dataframe\">\n",
       "  <thead>\n",
       "    <tr style=\"text-align: right;\">\n",
       "      <th></th>\n",
       "      <th>user</th>\n",
       "      <th>Messages</th>\n",
       "      <th>Lenguage</th>\n",
       "      <th>SwipesRight</th>\n",
       "      <th>SwipesLeft</th>\n",
       "      <th>Matches</th>\n",
       "      <th>Num Of Messages</th>\n",
       "      <th>Age</th>\n",
       "    </tr>\n",
       "  </thead>\n",
       "  <tbody>\n",
       "    <tr>\n",
       "      <th>1</th>\n",
       "      <td>1534e9</td>\n",
       "      <td>[Hello again, so now that we matched again, wh...</td>\n",
       "      <td>[en]</td>\n",
       "      <td>45068</td>\n",
       "      <td>45068</td>\n",
       "      <td>888</td>\n",
       "      <td>2086</td>\n",
       "      <td>25</td>\n",
       "    </tr>\n",
       "    <tr>\n",
       "      <th>2</th>\n",
       "      <td>b26ebd</td>\n",
       "      <td>[It&amp;rsquo;s me, the chicken nuggets, Exactly w...</td>\n",
       "      <td>[en]</td>\n",
       "      <td>6679</td>\n",
       "      <td>6679</td>\n",
       "      <td>548</td>\n",
       "      <td>1289</td>\n",
       "      <td>24</td>\n",
       "    </tr>\n",
       "    <tr>\n",
       "      <th>3</th>\n",
       "      <td>ffbf58</td>\n",
       "      <td>[I&amp;apos;m worried about you. Based on your hik...</td>\n",
       "      <td>[en]</td>\n",
       "      <td>6724</td>\n",
       "      <td>6724</td>\n",
       "      <td>94</td>\n",
       "      <td>371</td>\n",
       "      <td>24</td>\n",
       "    </tr>\n",
       "    <tr>\n",
       "      <th>5</th>\n",
       "      <td>d6e87e</td>\n",
       "      <td>[Holaaa Andrea! Igual bonito inicio de semana,...</td>\n",
       "      <td>[it]</td>\n",
       "      <td>22552</td>\n",
       "      <td>22552</td>\n",
       "      <td>203</td>\n",
       "      <td>2768</td>\n",
       "      <td>28</td>\n",
       "    </tr>\n",
       "    <tr>\n",
       "      <th>8</th>\n",
       "      <td>a0a92f</td>\n",
       "      <td>[Terve😊, Helsingissä asun mut nyt frendin möki...</td>\n",
       "      <td>[]</td>\n",
       "      <td>4532</td>\n",
       "      <td>4532</td>\n",
       "      <td>1781</td>\n",
       "      <td>5383</td>\n",
       "      <td>30</td>\n",
       "    </tr>\n",
       "  </tbody>\n",
       "</table>\n",
       "</div>"
      ],
      "text/plain": [
       "     user                                           Messages Lenguage  \\\n",
       "1  1534e9  [Hello again, so now that we matched again, wh...     [en]   \n",
       "2  b26ebd  [It&rsquo;s me, the chicken nuggets, Exactly w...     [en]   \n",
       "3  ffbf58  [I&apos;m worried about you. Based on your hik...     [en]   \n",
       "5  d6e87e  [Holaaa Andrea! Igual bonito inicio de semana,...     [it]   \n",
       "8  a0a92f  [Terve😊, Helsingissä asun mut nyt frendin möki...       []   \n",
       "\n",
       "   SwipesRight  SwipesLeft  Matches  Num Of Messages  Age  \n",
       "1        45068       45068      888             2086   25  \n",
       "2         6679        6679      548             1289   24  \n",
       "3         6724        6724       94              371   24  \n",
       "5        22552       22552      203             2768   28  \n",
       "8         4532        4532     1781             5383   30  "
      ]
     },
     "execution_count": 31,
     "metadata": {},
     "output_type": "execute_result"
    }
   ],
   "source": [
    "#drop users with empty list\n",
    "df = df[~df.Messages.str.len().eq(0)]\n",
    "df.head()"
   ]
  },
  {
   "cell_type": "code",
   "execution_count": 32,
   "metadata": {},
   "outputs": [
    {
     "data": {
      "text/plain": [
       "1138"
      ]
     },
     "execution_count": 32,
     "metadata": {},
     "output_type": "execute_result"
    }
   ],
   "source": [
    "len(df.index)"
   ]
  },
  {
   "cell_type": "code",
   "execution_count": 33,
   "metadata": {},
   "outputs": [
    {
     "data": {
      "text/html": [
       "<div>\n",
       "<style scoped>\n",
       "    .dataframe tbody tr th:only-of-type {\n",
       "        vertical-align: middle;\n",
       "    }\n",
       "\n",
       "    .dataframe tbody tr th {\n",
       "        vertical-align: top;\n",
       "    }\n",
       "\n",
       "    .dataframe thead th {\n",
       "        text-align: right;\n",
       "    }\n",
       "</style>\n",
       "<table border=\"1\" class=\"dataframe\">\n",
       "  <thead>\n",
       "    <tr style=\"text-align: right;\">\n",
       "      <th></th>\n",
       "      <th>user</th>\n",
       "      <th>Messages</th>\n",
       "      <th>Lenguage</th>\n",
       "      <th>SwipesRight</th>\n",
       "      <th>SwipesLeft</th>\n",
       "      <th>Matches</th>\n",
       "      <th>Num Of Messages</th>\n",
       "      <th>Age</th>\n",
       "    </tr>\n",
       "  </thead>\n",
       "  <tbody>\n",
       "    <tr>\n",
       "      <th>1</th>\n",
       "      <td>1534e9</td>\n",
       "      <td>[Hello again, so now that we matched again, wh...</td>\n",
       "      <td>[en]</td>\n",
       "      <td>45068</td>\n",
       "      <td>45068</td>\n",
       "      <td>888</td>\n",
       "      <td>2086</td>\n",
       "      <td>25</td>\n",
       "    </tr>\n",
       "    <tr>\n",
       "      <th>2</th>\n",
       "      <td>b26ebd</td>\n",
       "      <td>[It&amp;rsquo;s me, the chicken nuggets, Exactly w...</td>\n",
       "      <td>[en]</td>\n",
       "      <td>6679</td>\n",
       "      <td>6679</td>\n",
       "      <td>548</td>\n",
       "      <td>1289</td>\n",
       "      <td>24</td>\n",
       "    </tr>\n",
       "    <tr>\n",
       "      <th>3</th>\n",
       "      <td>ffbf58</td>\n",
       "      <td>[I&amp;apos;m worried about you. Based on your hik...</td>\n",
       "      <td>[en]</td>\n",
       "      <td>6724</td>\n",
       "      <td>6724</td>\n",
       "      <td>94</td>\n",
       "      <td>371</td>\n",
       "      <td>24</td>\n",
       "    </tr>\n",
       "    <tr>\n",
       "      <th>5</th>\n",
       "      <td>d6e87e</td>\n",
       "      <td>[Holaaa Andrea! Igual bonito inicio de semana,...</td>\n",
       "      <td>[it]</td>\n",
       "      <td>22552</td>\n",
       "      <td>22552</td>\n",
       "      <td>203</td>\n",
       "      <td>2768</td>\n",
       "      <td>28</td>\n",
       "    </tr>\n",
       "    <tr>\n",
       "      <th>8</th>\n",
       "      <td>a0a92f</td>\n",
       "      <td>[Terve😊, Helsingissä asun mut nyt frendin möki...</td>\n",
       "      <td>[]</td>\n",
       "      <td>4532</td>\n",
       "      <td>4532</td>\n",
       "      <td>1781</td>\n",
       "      <td>5383</td>\n",
       "      <td>30</td>\n",
       "    </tr>\n",
       "    <tr>\n",
       "      <th>...</th>\n",
       "      <td>...</td>\n",
       "      <td>...</td>\n",
       "      <td>...</td>\n",
       "      <td>...</td>\n",
       "      <td>...</td>\n",
       "      <td>...</td>\n",
       "      <td>...</td>\n",
       "      <td>...</td>\n",
       "    </tr>\n",
       "    <tr>\n",
       "      <th>1173</th>\n",
       "      <td>be6a5a</td>\n",
       "      <td>[I am great, whats up?, Yesd, Titanic xD, I he...</td>\n",
       "      <td>[nl]</td>\n",
       "      <td>581</td>\n",
       "      <td>581</td>\n",
       "      <td>4</td>\n",
       "      <td>121</td>\n",
       "      <td>24</td>\n",
       "    </tr>\n",
       "    <tr>\n",
       "      <th>1174</th>\n",
       "      <td>fccfbe</td>\n",
       "      <td>[You&amp;rsquo;re kinda cute 🙈, Where are you now?...</td>\n",
       "      <td>[da]</td>\n",
       "      <td>89628</td>\n",
       "      <td>89628</td>\n",
       "      <td>5393</td>\n",
       "      <td>21339</td>\n",
       "      <td>34</td>\n",
       "    </tr>\n",
       "    <tr>\n",
       "      <th>1175</th>\n",
       "      <td>86d422</td>\n",
       "      <td>[Hi, Yes, Stats?, how&amp;apos;s your weekend been...</td>\n",
       "      <td>[pl]</td>\n",
       "      <td>2207</td>\n",
       "      <td>2207</td>\n",
       "      <td>524</td>\n",
       "      <td>2886</td>\n",
       "      <td>22</td>\n",
       "    </tr>\n",
       "    <tr>\n",
       "      <th>1176</th>\n",
       "      <td>fb50c2</td>\n",
       "      <td>[Hey! How&amp;apos;s the covid life treating you? ...</td>\n",
       "      <td>[]</td>\n",
       "      <td>33391</td>\n",
       "      <td>33391</td>\n",
       "      <td>306</td>\n",
       "      <td>1235</td>\n",
       "      <td>26</td>\n",
       "    </tr>\n",
       "    <tr>\n",
       "      <th>1178</th>\n",
       "      <td>913eba</td>\n",
       "      <td>[Mmmmmhhh lecker, Du siehst superlikes dann od...</td>\n",
       "      <td>[en]</td>\n",
       "      <td>12821</td>\n",
       "      <td>12821</td>\n",
       "      <td>77</td>\n",
       "      <td>108</td>\n",
       "      <td>25</td>\n",
       "    </tr>\n",
       "  </tbody>\n",
       "</table>\n",
       "<p>934 rows × 8 columns</p>\n",
       "</div>"
      ],
      "text/plain": [
       "        user                                           Messages Lenguage  \\\n",
       "1     1534e9  [Hello again, so now that we matched again, wh...     [en]   \n",
       "2     b26ebd  [It&rsquo;s me, the chicken nuggets, Exactly w...     [en]   \n",
       "3     ffbf58  [I&apos;m worried about you. Based on your hik...     [en]   \n",
       "5     d6e87e  [Holaaa Andrea! Igual bonito inicio de semana,...     [it]   \n",
       "8     a0a92f  [Terve😊, Helsingissä asun mut nyt frendin möki...       []   \n",
       "...      ...                                                ...      ...   \n",
       "1173  be6a5a  [I am great, whats up?, Yesd, Titanic xD, I he...     [nl]   \n",
       "1174  fccfbe  [You&rsquo;re kinda cute 🙈, Where are you now?...     [da]   \n",
       "1175  86d422  [Hi, Yes, Stats?, how&apos;s your weekend been...     [pl]   \n",
       "1176  fb50c2  [Hey! How&apos;s the covid life treating you? ...       []   \n",
       "1178  913eba  [Mmmmmhhh lecker, Du siehst superlikes dann od...     [en]   \n",
       "\n",
       "      SwipesRight  SwipesLeft  Matches  Num Of Messages  Age  \n",
       "1           45068       45068      888             2086   25  \n",
       "2            6679        6679      548             1289   24  \n",
       "3            6724        6724       94              371   24  \n",
       "5           22552       22552      203             2768   28  \n",
       "8            4532        4532     1781             5383   30  \n",
       "...           ...         ...      ...              ...  ...  \n",
       "1173          581         581        4              121   24  \n",
       "1174        89628       89628     5393            21339   34  \n",
       "1175         2207        2207      524             2886   22  \n",
       "1176        33391       33391      306             1235   26  \n",
       "1178        12821       12821       77              108   25  \n",
       "\n",
       "[934 rows x 8 columns]"
      ]
     },
     "execution_count": 33,
     "metadata": {},
     "output_type": "execute_result"
    }
   ],
   "source": [
    "#drop users with 0  SwipesRight or 0 SwipesLeft\n",
    "df = df.loc[~((df['SwipesRight'] == 0) | (df['SwipesLeft'] == 0) | (df['Num Of Messages'] == 0))]\n",
    "df"
   ]
  },
  {
   "cell_type": "code",
   "execution_count": 34,
   "metadata": {},
   "outputs": [
    {
     "data": {
      "text/plain": [
       "934"
      ]
     },
     "execution_count": 34,
     "metadata": {},
     "output_type": "execute_result"
    }
   ],
   "source": [
    "len(df.index)"
   ]
  },
  {
   "cell_type": "code",
   "execution_count": 35,
   "metadata": {},
   "outputs": [],
   "source": [
    "#drop users with empty list\n",
    "df = df[~df.Lenguage.str.len().eq(0)]"
   ]
  },
  {
   "cell_type": "code",
   "execution_count": 36,
   "metadata": {},
   "outputs": [
    {
     "data": {
      "text/html": [
       "<div>\n",
       "<style scoped>\n",
       "    .dataframe tbody tr th:only-of-type {\n",
       "        vertical-align: middle;\n",
       "    }\n",
       "\n",
       "    .dataframe tbody tr th {\n",
       "        vertical-align: top;\n",
       "    }\n",
       "\n",
       "    .dataframe thead th {\n",
       "        text-align: right;\n",
       "    }\n",
       "</style>\n",
       "<table border=\"1\" class=\"dataframe\">\n",
       "  <thead>\n",
       "    <tr style=\"text-align: right;\">\n",
       "      <th></th>\n",
       "      <th>user</th>\n",
       "      <th>Messages</th>\n",
       "      <th>Lenguage</th>\n",
       "      <th>SwipesRight</th>\n",
       "      <th>SwipesLeft</th>\n",
       "      <th>Matches</th>\n",
       "      <th>Num Of Messages</th>\n",
       "      <th>Age</th>\n",
       "    </tr>\n",
       "  </thead>\n",
       "  <tbody>\n",
       "    <tr>\n",
       "      <th>1</th>\n",
       "      <td>1534e9</td>\n",
       "      <td>[Hello again, so now that we matched again, wh...</td>\n",
       "      <td>[en]</td>\n",
       "      <td>45068</td>\n",
       "      <td>45068</td>\n",
       "      <td>888</td>\n",
       "      <td>2086</td>\n",
       "      <td>25</td>\n",
       "    </tr>\n",
       "    <tr>\n",
       "      <th>2</th>\n",
       "      <td>b26ebd</td>\n",
       "      <td>[It&amp;rsquo;s me, the chicken nuggets, Exactly w...</td>\n",
       "      <td>[en]</td>\n",
       "      <td>6679</td>\n",
       "      <td>6679</td>\n",
       "      <td>548</td>\n",
       "      <td>1289</td>\n",
       "      <td>24</td>\n",
       "    </tr>\n",
       "    <tr>\n",
       "      <th>3</th>\n",
       "      <td>ffbf58</td>\n",
       "      <td>[I&amp;apos;m worried about you. Based on your hik...</td>\n",
       "      <td>[en]</td>\n",
       "      <td>6724</td>\n",
       "      <td>6724</td>\n",
       "      <td>94</td>\n",
       "      <td>371</td>\n",
       "      <td>24</td>\n",
       "    </tr>\n",
       "    <tr>\n",
       "      <th>5</th>\n",
       "      <td>d6e87e</td>\n",
       "      <td>[Holaaa Andrea! Igual bonito inicio de semana,...</td>\n",
       "      <td>[it]</td>\n",
       "      <td>22552</td>\n",
       "      <td>22552</td>\n",
       "      <td>203</td>\n",
       "      <td>2768</td>\n",
       "      <td>28</td>\n",
       "    </tr>\n",
       "    <tr>\n",
       "      <th>9</th>\n",
       "      <td>90b7d6</td>\n",
       "      <td>[hey, nice pics ;&amp;rpar;, well so how are you d...</td>\n",
       "      <td>[en]</td>\n",
       "      <td>52133</td>\n",
       "      <td>52133</td>\n",
       "      <td>5075</td>\n",
       "      <td>7567</td>\n",
       "      <td>27</td>\n",
       "    </tr>\n",
       "  </tbody>\n",
       "</table>\n",
       "</div>"
      ],
      "text/plain": [
       "     user                                           Messages Lenguage  \\\n",
       "1  1534e9  [Hello again, so now that we matched again, wh...     [en]   \n",
       "2  b26ebd  [It&rsquo;s me, the chicken nuggets, Exactly w...     [en]   \n",
       "3  ffbf58  [I&apos;m worried about you. Based on your hik...     [en]   \n",
       "5  d6e87e  [Holaaa Andrea! Igual bonito inicio de semana,...     [it]   \n",
       "9  90b7d6  [hey, nice pics ;&rpar;, well so how are you d...     [en]   \n",
       "\n",
       "   SwipesRight  SwipesLeft  Matches  Num Of Messages  Age  \n",
       "1        45068       45068      888             2086   25  \n",
       "2         6679        6679      548             1289   24  \n",
       "3         6724        6724       94              371   24  \n",
       "5        22552       22552      203             2768   28  \n",
       "9        52133       52133     5075             7567   27  "
      ]
     },
     "execution_count": 36,
     "metadata": {},
     "output_type": "execute_result"
    }
   ],
   "source": [
    "df.head()"
   ]
  },
  {
   "cell_type": "code",
   "execution_count": 37,
   "metadata": {},
   "outputs": [
    {
     "data": {
      "text/plain": [
       "792"
      ]
     },
     "execution_count": 37,
     "metadata": {},
     "output_type": "execute_result"
    }
   ],
   "source": [
    "len(df.index)"
   ]
  },
  {
   "cell_type": "code",
   "execution_count": 38,
   "metadata": {},
   "outputs": [],
   "source": [
    "#export to csv\n",
    "df.to_csv('cleanDf.csv', encoding='utf-8')"
   ]
  },
  {
   "cell_type": "code",
   "execution_count": 39,
   "metadata": {},
   "outputs": [],
   "source": [
    "#Counter how many males \n",
    "countM = 0\n",
    "for user in preDf.user:\n",
    "    if user['gender'] == 'M':\n",
    "        countM += 1"
   ]
  },
  {
   "cell_type": "code",
   "execution_count": 40,
   "metadata": {},
   "outputs": [],
   "source": [
    "#Counter how many males \n",
    "countF = 0\n",
    "for user in preDf.user:\n",
    "    if user['gender'] == 'F':\n",
    "        countF += 1"
   ]
  },
  {
   "cell_type": "code",
   "execution_count": 41,
   "metadata": {},
   "outputs": [
    {
     "name": "stdout",
     "output_type": "stream",
     "text": [
      "The number of people interested in 'M' are:  134\n"
     ]
    }
   ],
   "source": [
    "#Counter people who are interested in 'M'\n",
    "counterM = 0\n",
    "for user in preDf.user:\n",
    "    if user[\"interestedIn\"] == \"M\":\n",
    "        counterM += 1\n",
    "print(f\"The number of people interested in 'M' are:  {counterM}\")"
   ]
  },
  {
   "cell_type": "code",
   "execution_count": 42,
   "metadata": {},
   "outputs": [
    {
     "name": "stdout",
     "output_type": "stream",
     "text": [
      "The number of people interested in 'F' are:  1017\n"
     ]
    }
   ],
   "source": [
    "#Counter people who are interested in 'F'\n",
    "counterF = 0\n",
    "for user in preDf.user:\n",
    "    if user[\"interestedIn\"] == \"F\":\n",
    "        counterF += 1\n",
    "print(f\"The number of people interested in 'F' are:  {counterF}\")"
   ]
  },
  {
   "cell_type": "code",
   "execution_count": 43,
   "metadata": {},
   "outputs": [
    {
     "name": "stdout",
     "output_type": "stream",
     "text": [
      "The number of people interested in 'M and F' are:  58\n"
     ]
    }
   ],
   "source": [
    "#Counter people who are interested in 'M and F'\n",
    "counterBi = 0\n",
    "for user in preDf.user:\n",
    "    if user[\"interestedIn\"] != \"F\" and user[\"interestedIn\"] != \"M\":\n",
    "        counterBi += 1\n",
    "print(f\"The number of people interested in 'M and F' are:  {counterBi}\")"
   ]
  },
  {
   "cell_type": "markdown",
   "metadata": {},
   "source": [
    "# INSIGHTS "
   ]
  },
  {
   "cell_type": "markdown",
   "metadata": {},
   "source": [
    "## APP OPENERS \n",
    "% of people who open the app every day "
   ]
  },
  {
   "cell_type": "code",
   "execution_count": 44,
   "metadata": {},
   "outputs": [
    {
     "name": "stdout",
     "output_type": "stream",
     "text": [
      "there are 479 people who open the app every day\n"
     ]
    }
   ],
   "source": [
    "print(f'there are {counter} people who open the app every day')"
   ]
  },
  {
   "cell_type": "markdown",
   "metadata": {},
   "source": [
    "## MATCHES "
   ]
  },
  {
   "cell_type": "code",
   "execution_count": 46,
   "metadata": {},
   "outputs": [
    {
     "data": {
      "text/html": [
       "<div>\n",
       "<style scoped>\n",
       "    .dataframe tbody tr th:only-of-type {\n",
       "        vertical-align: middle;\n",
       "    }\n",
       "\n",
       "    .dataframe tbody tr th {\n",
       "        vertical-align: top;\n",
       "    }\n",
       "\n",
       "    .dataframe thead th {\n",
       "        text-align: right;\n",
       "    }\n",
       "</style>\n",
       "<table border=\"1\" class=\"dataframe\">\n",
       "  <thead>\n",
       "    <tr style=\"text-align: right;\">\n",
       "      <th></th>\n",
       "      <th>_id</th>\n",
       "      <th>appOpens</th>\n",
       "      <th>conversations</th>\n",
       "      <th>conversationsMeta</th>\n",
       "      <th>matches</th>\n",
       "      <th>messages</th>\n",
       "      <th>messagesReceived</th>\n",
       "      <th>messagesSent</th>\n",
       "      <th>swipeLikes</th>\n",
       "      <th>swipePasses</th>\n",
       "      <th>swipes</th>\n",
       "      <th>user</th>\n",
       "      <th>userId</th>\n",
       "    </tr>\n",
       "  </thead>\n",
       "  <tbody>\n",
       "    <tr>\n",
       "      <th>0</th>\n",
       "      <td>00b74e27ad1cbb2ded8e907fcc49eaaf</td>\n",
       "      <td>{'2016-01-02': 26, '2016-01-13': 10, '2016-01-...</td>\n",
       "      <td>[{'match_id': 'Match 739', 'messages': [{'to':...</td>\n",
       "      <td>{'nrOfConversations': 739, 'longestConversatio...</td>\n",
       "      <td>{'2016-01-02': 10, '2016-01-13': 5, '2016-01-1...</td>\n",
       "      <td>{'sent': {'2016-01-02': 11, '2016-01-13': 2, '...</td>\n",
       "      <td>{'2016-01-02': 12, '2016-01-13': 3, '2016-01-1...</td>\n",
       "      <td>{'2016-01-02': 11, '2016-01-13': 2, '2016-01-1...</td>\n",
       "      <td>{'2016-01-02': 50, '2016-01-13': 70, '2016-01-...</td>\n",
       "      <td>{'2016-01-02': 14, '2016-01-13': 93, '2016-01-...</td>\n",
       "      <td>{'likes': {'2016-01-02': 50, '2016-01-13': 70,...</td>\n",
       "      <td>{'birthDate': '1976-01-01T00:00:00.000Z', 'age...</td>\n",
       "      <td>00b74e27ad1cbb2ded8e907fcc49eaaf</td>\n",
       "    </tr>\n",
       "  </tbody>\n",
       "</table>\n",
       "</div>"
      ],
      "text/plain": [
       "                                _id  \\\n",
       "0  00b74e27ad1cbb2ded8e907fcc49eaaf   \n",
       "\n",
       "                                            appOpens  \\\n",
       "0  {'2016-01-02': 26, '2016-01-13': 10, '2016-01-...   \n",
       "\n",
       "                                       conversations  \\\n",
       "0  [{'match_id': 'Match 739', 'messages': [{'to':...   \n",
       "\n",
       "                                   conversationsMeta  \\\n",
       "0  {'nrOfConversations': 739, 'longestConversatio...   \n",
       "\n",
       "                                             matches  \\\n",
       "0  {'2016-01-02': 10, '2016-01-13': 5, '2016-01-1...   \n",
       "\n",
       "                                            messages  \\\n",
       "0  {'sent': {'2016-01-02': 11, '2016-01-13': 2, '...   \n",
       "\n",
       "                                    messagesReceived  \\\n",
       "0  {'2016-01-02': 12, '2016-01-13': 3, '2016-01-1...   \n",
       "\n",
       "                                        messagesSent  \\\n",
       "0  {'2016-01-02': 11, '2016-01-13': 2, '2016-01-1...   \n",
       "\n",
       "                                          swipeLikes  \\\n",
       "0  {'2016-01-02': 50, '2016-01-13': 70, '2016-01-...   \n",
       "\n",
       "                                         swipePasses  \\\n",
       "0  {'2016-01-02': 14, '2016-01-13': 93, '2016-01-...   \n",
       "\n",
       "                                              swipes  \\\n",
       "0  {'likes': {'2016-01-02': 50, '2016-01-13': 70,...   \n",
       "\n",
       "                                                user  \\\n",
       "0  {'birthDate': '1976-01-01T00:00:00.000Z', 'age...   \n",
       "\n",
       "                             userId  \n",
       "0  00b74e27ad1cbb2ded8e907fcc49eaaf  "
      ]
     },
     "execution_count": 46,
     "metadata": {},
     "output_type": "execute_result"
    }
   ],
   "source": [
    "preDf.head(1)"
   ]
  },
  {
   "cell_type": "code",
   "execution_count": null,
   "metadata": {},
   "outputs": [],
   "source": [
    "user = preDf['Age']"
   ]
  },
  {
   "cell_type": "code",
   "execution_count": null,
   "metadata": {},
   "outputs": [
    {
     "data": {
      "text/plain": [
       "{'birthDate': '1976-01-01T00:00:00.000Z',\n",
       " 'ageFilterMin': 21,\n",
       " 'ageFilterMax': 35,\n",
       " 'cityName': 'Trondheim',\n",
       " 'country': 'Norway',\n",
       " 'createDate': '2016-01-01T09:30:07.551Z',\n",
       " 'education': 'Has high school and/or college education',\n",
       " 'gender': 'M',\n",
       " 'interestedIn': 'F',\n",
       " 'genderFilter': 'F',\n",
       " 'instagram': False,\n",
       " 'spotify': False,\n",
       " 'jobs': [],\n",
       " 'educationLevel': 'Has high school and/or college education',\n",
       " 'schools': []}"
      ]
     },
     "metadata": {},
     "output_type": "display_data"
    }
   ],
   "source": [
    "user[0]"
   ]
  },
  {
   "cell_type": "code",
   "execution_count": null,
   "metadata": {},
   "outputs": [],
   "source": [
    "def get_user_value(column):\n",
    "    column_list = []\n",
    "    for details in user:\n",
    "        # print(details.keys())\n",
    "        if column in details.keys():\n",
    "            column_list.append(details[column])\n",
    "        else:\n",
    "            column_list.append('others')\n",
    "\n",
    "    return column_list"
   ]
  },
  {
   "cell_type": "code",
   "execution_count": null,
   "metadata": {},
   "outputs": [],
   "source": [
    "new_preDf =preDf.copy()"
   ]
  },
  {
   "cell_type": "code",
   "execution_count": null,
   "metadata": {},
   "outputs": [],
   "source": [
    "new_preDf['country'] = get_user_value('country')\n",
    "new_preDf['gender'] = get_user_value('gender')\n",
    "new_preDf['Age'] = get_user_value('birthDate')\n",
    "new_preDf['InterestedIn'] = get_user_value('interestedIn') "
   ]
  },
  {
   "cell_type": "code",
   "execution_count": null,
   "metadata": {},
   "outputs": [
    {
     "data": {
      "text/html": [
       "<div>\n",
       "<style scoped>\n",
       "    .dataframe tbody tr th:only-of-type {\n",
       "        vertical-align: middle;\n",
       "    }\n",
       "\n",
       "    .dataframe tbody tr th {\n",
       "        vertical-align: top;\n",
       "    }\n",
       "\n",
       "    .dataframe thead th {\n",
       "        text-align: right;\n",
       "    }\n",
       "</style>\n",
       "<table border=\"1\" class=\"dataframe\">\n",
       "  <thead>\n",
       "    <tr style=\"text-align: right;\">\n",
       "      <th></th>\n",
       "      <th>_id</th>\n",
       "      <th>appOpens</th>\n",
       "      <th>conversations</th>\n",
       "      <th>conversationsMeta</th>\n",
       "      <th>matches</th>\n",
       "      <th>messages</th>\n",
       "      <th>messagesReceived</th>\n",
       "      <th>messagesSent</th>\n",
       "      <th>swipeLikes</th>\n",
       "      <th>swipePasses</th>\n",
       "      <th>swipes</th>\n",
       "      <th>user</th>\n",
       "      <th>userId</th>\n",
       "      <th>country</th>\n",
       "      <th>gender</th>\n",
       "      <th>Age</th>\n",
       "      <th>InterestedIn</th>\n",
       "    </tr>\n",
       "  </thead>\n",
       "  <tbody>\n",
       "    <tr>\n",
       "      <th>0</th>\n",
       "      <td>00b74e27ad1cbb2ded8e907fcc49eaaf</td>\n",
       "      <td>{'2016-01-02': 26, '2016-01-13': 10, '2016-01-...</td>\n",
       "      <td>[{'match_id': 'Match 739', 'messages': [{'to':...</td>\n",
       "      <td>{'nrOfConversations': 739, 'longestConversatio...</td>\n",
       "      <td>{'2016-01-02': 10, '2016-01-13': 5, '2016-01-1...</td>\n",
       "      <td>{'sent': {'2016-01-02': 11, '2016-01-13': 2, '...</td>\n",
       "      <td>{'2016-01-02': 12, '2016-01-13': 3, '2016-01-1...</td>\n",
       "      <td>{'2016-01-02': 11, '2016-01-13': 2, '2016-01-1...</td>\n",
       "      <td>{'2016-01-02': 50, '2016-01-13': 70, '2016-01-...</td>\n",
       "      <td>{'2016-01-02': 14, '2016-01-13': 93, '2016-01-...</td>\n",
       "      <td>{'likes': {'2016-01-02': 50, '2016-01-13': 70,...</td>\n",
       "      <td>{'birthDate': '1976-01-01T00:00:00.000Z', 'age...</td>\n",
       "      <td>00b74e27ad1cbb2ded8e907fcc49eaaf</td>\n",
       "      <td>Norway</td>\n",
       "      <td>M</td>\n",
       "      <td>1976-01-01T00:00:00.000Z</td>\n",
       "      <td>F</td>\n",
       "    </tr>\n",
       "  </tbody>\n",
       "</table>\n",
       "</div>"
      ],
      "text/plain": [
       "                                _id  \\\n",
       "0  00b74e27ad1cbb2ded8e907fcc49eaaf   \n",
       "\n",
       "                                            appOpens  \\\n",
       "0  {'2016-01-02': 26, '2016-01-13': 10, '2016-01-...   \n",
       "\n",
       "                                       conversations  \\\n",
       "0  [{'match_id': 'Match 739', 'messages': [{'to':...   \n",
       "\n",
       "                                   conversationsMeta  \\\n",
       "0  {'nrOfConversations': 739, 'longestConversatio...   \n",
       "\n",
       "                                             matches  \\\n",
       "0  {'2016-01-02': 10, '2016-01-13': 5, '2016-01-1...   \n",
       "\n",
       "                                            messages  \\\n",
       "0  {'sent': {'2016-01-02': 11, '2016-01-13': 2, '...   \n",
       "\n",
       "                                    messagesReceived  \\\n",
       "0  {'2016-01-02': 12, '2016-01-13': 3, '2016-01-1...   \n",
       "\n",
       "                                        messagesSent  \\\n",
       "0  {'2016-01-02': 11, '2016-01-13': 2, '2016-01-1...   \n",
       "\n",
       "                                          swipeLikes  \\\n",
       "0  {'2016-01-02': 50, '2016-01-13': 70, '2016-01-...   \n",
       "\n",
       "                                         swipePasses  \\\n",
       "0  {'2016-01-02': 14, '2016-01-13': 93, '2016-01-...   \n",
       "\n",
       "                                              swipes  \\\n",
       "0  {'likes': {'2016-01-02': 50, '2016-01-13': 70,...   \n",
       "\n",
       "                                                user  \\\n",
       "0  {'birthDate': '1976-01-01T00:00:00.000Z', 'age...   \n",
       "\n",
       "                             userId country gender                       Age  \\\n",
       "0  00b74e27ad1cbb2ded8e907fcc49eaaf  Norway      M  1976-01-01T00:00:00.000Z   \n",
       "\n",
       "  InterestedIn  \n",
       "0            F  "
      ]
     },
     "execution_count": 705,
     "metadata": {},
     "output_type": "execute_result"
    }
   ],
   "source": [
    "new_preDf.head(1)"
   ]
  },
  {
   "cell_type": "code",
   "execution_count": null,
   "metadata": {},
   "outputs": [],
   "source": [
    "\n",
    "Age = [2022 - int(birth_year.split('-')[0]) for birth_year in new_preDf['Age'] ]"
   ]
  },
  {
   "cell_type": "code",
   "execution_count": null,
   "metadata": {},
   "outputs": [],
   "source": [
    "AgeClass = ['100+','95-99','90-94','85-89','80-84','75-79','70-74','65-69','60-64','55-59','50-54','45-49','40-44','35-39','30-34','25-29','20-24','15-19','10-14','5-9','0-4']"
   ]
  },
  {
   "cell_type": "code",
   "execution_count": null,
   "metadata": {},
   "outputs": [],
   "source": [
    "new_preDf['Age'] =Age"
   ]
  },
  {
   "cell_type": "code",
   "execution_count": null,
   "metadata": {},
   "outputs": [
    {
     "data": {
      "text/plain": [
       "0    46\n",
       "1    25\n",
       "2    24\n",
       "3    24\n",
       "4    26\n",
       "Name: Age, dtype: int64"
      ]
     },
     "execution_count": 625,
     "metadata": {},
     "output_type": "execute_result"
    }
   ],
   "source": [
    "new_preDf.Age.head()"
   ]
  },
  {
   "cell_type": "code",
   "execution_count": null,
   "metadata": {},
   "outputs": [],
   "source": [
    "Male = pd.DataFrame(new_preDf.query('gender==\"M\"')['Age'])"
   ]
  },
  {
   "cell_type": "code",
   "execution_count": null,
   "metadata": {},
   "outputs": [],
   "source": [
    "Male_age_range = []\n",
    "for age in Male['Age']:\n",
    "    if age >=100:\n",
    "            Male_age_range.append('100+')    \n",
    "    else:\n",
    "        for i in AgeClass[1:]:\n",
    "            if age in range(int(i.split('-')[0]),int(i.split('-')[1])+1):\n",
    "                Male_age_range.append(i)\n",
    "        "
   ]
  },
  {
   "cell_type": "code",
   "execution_count": null,
   "metadata": {},
   "outputs": [
    {
     "data": {
      "text/plain": [
       "1058"
      ]
     },
     "execution_count": 673,
     "metadata": {},
     "output_type": "execute_result"
    }
   ],
   "source": [
    "len(Male_age_range)"
   ]
  },
  {
   "cell_type": "code",
   "execution_count": null,
   "metadata": {},
   "outputs": [
    {
     "data": {
      "text/plain": [
       "1058"
      ]
     },
     "execution_count": 674,
     "metadata": {},
     "output_type": "execute_result"
    }
   ],
   "source": [
    "len(Male['Age'])"
   ]
  },
  {
   "cell_type": "code",
   "execution_count": null,
   "metadata": {},
   "outputs": [],
   "source": [
    "Male['Age_range'] = Male_age_range"
   ]
  },
  {
   "cell_type": "code",
   "execution_count": null,
   "metadata": {},
   "outputs": [
    {
     "data": {
      "text/html": [
       "<div>\n",
       "<style scoped>\n",
       "    .dataframe tbody tr th:only-of-type {\n",
       "        vertical-align: middle;\n",
       "    }\n",
       "\n",
       "    .dataframe tbody tr th {\n",
       "        vertical-align: top;\n",
       "    }\n",
       "\n",
       "    .dataframe thead th {\n",
       "        text-align: right;\n",
       "    }\n",
       "</style>\n",
       "<table border=\"1\" class=\"dataframe\">\n",
       "  <thead>\n",
       "    <tr style=\"text-align: right;\">\n",
       "      <th></th>\n",
       "      <th>Age</th>\n",
       "      <th>Age_range</th>\n",
       "    </tr>\n",
       "  </thead>\n",
       "  <tbody>\n",
       "    <tr>\n",
       "      <th>0</th>\n",
       "      <td>46</td>\n",
       "      <td>45-49</td>\n",
       "    </tr>\n",
       "    <tr>\n",
       "      <th>1</th>\n",
       "      <td>25</td>\n",
       "      <td>25-29</td>\n",
       "    </tr>\n",
       "    <tr>\n",
       "      <th>2</th>\n",
       "      <td>24</td>\n",
       "      <td>20-24</td>\n",
       "    </tr>\n",
       "    <tr>\n",
       "      <th>3</th>\n",
       "      <td>24</td>\n",
       "      <td>20-24</td>\n",
       "    </tr>\n",
       "    <tr>\n",
       "      <th>4</th>\n",
       "      <td>26</td>\n",
       "      <td>25-29</td>\n",
       "    </tr>\n",
       "    <tr>\n",
       "      <th>...</th>\n",
       "      <td>...</td>\n",
       "      <td>...</td>\n",
       "    </tr>\n",
       "    <tr>\n",
       "      <th>1204</th>\n",
       "      <td>28</td>\n",
       "      <td>25-29</td>\n",
       "    </tr>\n",
       "    <tr>\n",
       "      <th>1205</th>\n",
       "      <td>26</td>\n",
       "      <td>25-29</td>\n",
       "    </tr>\n",
       "    <tr>\n",
       "      <th>1206</th>\n",
       "      <td>20</td>\n",
       "      <td>20-24</td>\n",
       "    </tr>\n",
       "    <tr>\n",
       "      <th>1207</th>\n",
       "      <td>22</td>\n",
       "      <td>20-24</td>\n",
       "    </tr>\n",
       "    <tr>\n",
       "      <th>1208</th>\n",
       "      <td>26</td>\n",
       "      <td>25-29</td>\n",
       "    </tr>\n",
       "  </tbody>\n",
       "</table>\n",
       "<p>1058 rows × 2 columns</p>\n",
       "</div>"
      ],
      "text/plain": [
       "      Age Age_range\n",
       "0      46     45-49\n",
       "1      25     25-29\n",
       "2      24     20-24\n",
       "3      24     20-24\n",
       "4      26     25-29\n",
       "...   ...       ...\n",
       "1204   28     25-29\n",
       "1205   26     25-29\n",
       "1206   20     20-24\n",
       "1207   22     20-24\n",
       "1208   26     25-29\n",
       "\n",
       "[1058 rows x 2 columns]"
      ]
     },
     "execution_count": 677,
     "metadata": {},
     "output_type": "execute_result"
    }
   ],
   "source": [
    "Male"
   ]
  },
  {
   "cell_type": "code",
   "execution_count": null,
   "metadata": {},
   "outputs": [],
   "source": [
    "Female = pd.DataFrame(new_preDf.query('gender==\"F\"')['Age'])"
   ]
  },
  {
   "cell_type": "code",
   "execution_count": null,
   "metadata": {},
   "outputs": [],
   "source": [
    "age_range = []\n",
    "for age in Female['Age']:\n",
    "    if age >=100:\n",
    "        age_range.append('100+')    \n",
    "    else:\n",
    "        for i in AgeClass[1:]:\n",
    "            if age in range(int(i.split('-')[0]),int(i.split('-')[1])+1):\n",
    "                age_range.append(i)"
   ]
  },
  {
   "cell_type": "code",
   "execution_count": null,
   "metadata": {},
   "outputs": [],
   "source": [
    "Female['Age_range'] = age_range"
   ]
  },
  {
   "cell_type": "code",
   "execution_count": null,
   "metadata": {},
   "outputs": [
    {
     "data": {
      "text/html": [
       "<div>\n",
       "<style scoped>\n",
       "    .dataframe tbody tr th:only-of-type {\n",
       "        vertical-align: middle;\n",
       "    }\n",
       "\n",
       "    .dataframe tbody tr th {\n",
       "        vertical-align: top;\n",
       "    }\n",
       "\n",
       "    .dataframe thead th {\n",
       "        text-align: right;\n",
       "    }\n",
       "</style>\n",
       "<table border=\"1\" class=\"dataframe\">\n",
       "  <thead>\n",
       "    <tr style=\"text-align: right;\">\n",
       "      <th></th>\n",
       "      <th>Age</th>\n",
       "      <th>Age_range</th>\n",
       "    </tr>\n",
       "  </thead>\n",
       "  <tbody>\n",
       "    <tr>\n",
       "      <th>6</th>\n",
       "      <td>46</td>\n",
       "      <td>45-49</td>\n",
       "    </tr>\n",
       "    <tr>\n",
       "      <th>8</th>\n",
       "      <td>30</td>\n",
       "      <td>30-34</td>\n",
       "    </tr>\n",
       "    <tr>\n",
       "      <th>18</th>\n",
       "      <td>23</td>\n",
       "      <td>20-24</td>\n",
       "    </tr>\n",
       "    <tr>\n",
       "      <th>36</th>\n",
       "      <td>30</td>\n",
       "      <td>30-34</td>\n",
       "    </tr>\n",
       "    <tr>\n",
       "      <th>38</th>\n",
       "      <td>26</td>\n",
       "      <td>25-29</td>\n",
       "    </tr>\n",
       "    <tr>\n",
       "      <th>...</th>\n",
       "      <td>...</td>\n",
       "      <td>...</td>\n",
       "    </tr>\n",
       "    <tr>\n",
       "      <th>1144</th>\n",
       "      <td>26</td>\n",
       "      <td>25-29</td>\n",
       "    </tr>\n",
       "    <tr>\n",
       "      <th>1158</th>\n",
       "      <td>20</td>\n",
       "      <td>20-24</td>\n",
       "    </tr>\n",
       "    <tr>\n",
       "      <th>1161</th>\n",
       "      <td>23</td>\n",
       "      <td>20-24</td>\n",
       "    </tr>\n",
       "    <tr>\n",
       "      <th>1182</th>\n",
       "      <td>24</td>\n",
       "      <td>20-24</td>\n",
       "    </tr>\n",
       "    <tr>\n",
       "      <th>1203</th>\n",
       "      <td>33</td>\n",
       "      <td>30-34</td>\n",
       "    </tr>\n",
       "  </tbody>\n",
       "</table>\n",
       "<p>150 rows × 2 columns</p>\n",
       "</div>"
      ],
      "text/plain": [
       "      Age Age_range\n",
       "6      46     45-49\n",
       "8      30     30-34\n",
       "18     23     20-24\n",
       "36     30     30-34\n",
       "38     26     25-29\n",
       "...   ...       ...\n",
       "1144   26     25-29\n",
       "1158   20     20-24\n",
       "1161   23     20-24\n",
       "1182   24     20-24\n",
       "1203   33     30-34\n",
       "\n",
       "[150 rows x 2 columns]"
      ]
     },
     "execution_count": 680,
     "metadata": {},
     "output_type": "execute_result"
    }
   ],
   "source": [
    "Female"
   ]
  },
  {
   "cell_type": "markdown",
   "metadata": {},
   "source": [
    "## Age"
   ]
  },
  {
   "cell_type": "code",
   "execution_count": null,
   "metadata": {},
   "outputs": [
    {
     "data": {
      "image/png": "[encoded data removed]",
      "text/plain": [
       "<Figure size 720x576 with 1 Axes>"
      ]
     },
     "metadata": {},
     "output_type": "display_data"
    }
   ],
   "source": [
    "plt.figure(figsize=(10,8))\n",
    "bar_plot = sn.countplot(x=Male['Age_range'],color=sn.color_palette()[2])\n",
    "bar_plot = sn.countplot(x=Female['Age_range'],color=sn.color_palette()[3])\n",
    "bar_plot.set_xticklabels(bar_plot.get_xticklabels(), rotation=45, horizontalalignment='right')\n",
    "bar_plot.bar_label(bar_plot.containers[0])\n",
    "# print(bar_plot.)\n",
    "plt.title('Age diversity of tinder',fontsize=20)\n",
    "plt.ylabel('count',fontsize=15)\n",
    "plt.xlabel('Age',fontsize=15)\n",
    "plt.legend(['Male', 'Female'])\n",
    "plt.show()"
   ]
  },
  {
   "cell_type": "code",
   "execution_count": null,
   "metadata": {},
   "outputs": [
    {
     "data": {
      "image/png": "[encoded data removed]",
      "text/plain": [
       "<Figure size 756x468 with 1 Axes>"
      ]
     },
     "metadata": {},
     "output_type": "display_data"
    }
   ],
   "source": [
    "AgeClass = ['100+','95-99','90-94','85-89','80-84','75-79','70-74','65-69','60-64','55-59','50-54','45-49','40-44','35-39','30-34','25-29','20-24','15-19','10-14','5-9','0-4']\n",
    "\n",
    "bar_plot = sn.barplot(x=Male['Age']*-1, y=Male['Age_range'],data=Male, order=AgeClass,lw=0)\n",
    "\n",
    "bar_plot = sn.barplot(x=Female['Age'], y=Female['Age_range'],data=Female, order=AgeClass,lw=0)\n",
    "\n",
    "bar_plot.set(xlabel=\"Population (hundreds of millions)\", ylabel=\"Age-Group\", title = \"Population Pyramid\");"
   ]
  },
  {
   "cell_type": "code",
   "execution_count": null,
   "metadata": {},
   "outputs": [
    {
     "data": {
      "image/png": "[encoded data removed]",
      "text/plain": [
       "<Figure size 756x468 with 1 Axes>"
      ]
     },
     "metadata": {},
     "output_type": "display_data"
    }
   ],
   "source": [
    "sn.histplot(x=allBirthDates,bins=50)\n",
    "plt.title(\"Age diversity\",fontsize=20)\n",
    "plt.xlabel('Age',fontsize=15);"
   ]
  },
  {
   "cell_type": "code",
   "execution_count": null,
   "metadata": {},
   "outputs": [
    {
     "data": {
      "image/png": "[encoded data removed]",
      "text/plain": [
       "<Figure size 1296x576 with 1 Axes>"
      ]
     },
     "metadata": {},
     "output_type": "display_data"
    }
   ],
   "source": [
    "plt.figure(figsize=(18,8))\n",
    "bar_plot = sn.countplot(x=allBirthDates)\n",
    "bar_plot.set_xticklabels(bar_plot.get_xticklabels(), rotation=45, horizontalalignment='right')\n",
    "bar_plot.bar_label(bar_plot.containers[0])\n",
    "# print(bar_plot.)\n",
    "plt.title('Age diversity of tinder',fontsize=20)\n",
    "plt.ylabel('count',fontsize=15)\n",
    "plt.xlabel('Age',fontsize=15)\n",
    "plt.show()"
   ]
  },
  {
   "cell_type": "markdown",
   "metadata": {},
   "source": [
    "## Diversity"
   ]
  },
  {
   "cell_type": "code",
   "execution_count": null,
   "metadata": {},
   "outputs": [
    {
     "name": "stdout",
     "output_type": "stream",
     "text": [
      "[0 4 8]\n"
     ]
    }
   ],
   "source": [
    "print(np.arange(3)*4)"
   ]
  },
  {
   "cell_type": "code",
   "execution_count": null,
   "metadata": {},
   "outputs": [
    {
     "data": {
      "image/png": "[encoded data removed]",
      "text/plain": [
       "<Figure size 756x468 with 1 Axes>"
      ]
     },
     "metadata": {},
     "output_type": "display_data"
    }
   ],
   "source": [
    "\n",
    "plt.rcParams[\"figure.figsize\"] = [10.50, 6.50]\n",
    "plt.rcParams[\"figure.autolayout\"] = True\n",
    "\n",
    "fig, ax = plt.subplots()\n",
    "size = 0.3\n",
    "vals = [counterM,counterF,counterBi]\n",
    "# values = [40,30,20,10,10]\n",
    "cmap = plt.get_cmap(\"tab20c\")\n",
    "outer_colors = cmap(np.arange(3)*4)\n",
    "inner_colors = cmap([1, 2, 5, 6, 9, 10])\n",
    "\n",
    "ax.pie(vals, radius=1, colors=outer_colors,\n",
    "   wedgeprops=dict(width=size, edgecolor='w'),autopct='%2.1f%%')\n",
    "ax.pie(vals, radius=1-size, colors=inner_colors,\n",
    "   wedgeprops=dict(width=size, edgecolor='w'),labels= ['Male','Female','Bisexual'])\n",
    "plt.title('Gender diversity',fontsize=20)\n",
    "plt.legend()\n",
    "plt.show()\n"
   ]
  },
  {
   "cell_type": "markdown",
   "metadata": {},
   "source": [
    "## Country diversity"
   ]
  },
  {
   "cell_type": "code",
   "execution_count": null,
   "metadata": {},
   "outputs": [],
   "source": [
    "count = 0\n",
    "for data in new_preDf['country']:\n",
    "    # print(data)\n",
    "    if count <= 370:\n",
    "        if data =='Japan':\n",
    "            new_preDf.drop(count,inplace=True)\n",
    "            count+=1\n",
    "        else:\n",
    "           \n",
    "            pass\n",
    "    else:\n",
    "        break\n",
    "        "
   ]
  },
  {
   "cell_type": "code",
   "execution_count": null,
   "metadata": {},
   "outputs": [],
   "source": [
    "country_plot = new_preDf['country'].value_counts()"
   ]
  },
  {
   "cell_type": "code",
   "execution_count": null,
   "metadata": {},
   "outputs": [
    {
     "data": {
      "text/html": [
       "<div>\n",
       "<style scoped>\n",
       "    .dataframe tbody tr th:only-of-type {\n",
       "        vertical-align: middle;\n",
       "    }\n",
       "\n",
       "    .dataframe tbody tr th {\n",
       "        vertical-align: top;\n",
       "    }\n",
       "\n",
       "    .dataframe thead th {\n",
       "        text-align: right;\n",
       "    }\n",
       "</style>\n",
       "<table border=\"1\" class=\"dataframe\">\n",
       "  <thead>\n",
       "    <tr style=\"text-align: right;\">\n",
       "      <th></th>\n",
       "      <th>index</th>\n",
       "      <th>location</th>\n",
       "      <th>country</th>\n",
       "    </tr>\n",
       "  </thead>\n",
       "  <tbody>\n",
       "    <tr>\n",
       "      <th>0</th>\n",
       "      <td>0</td>\n",
       "      <td>Japan</td>\n",
       "      <td>479</td>\n",
       "    </tr>\n",
       "    <tr>\n",
       "      <th>1</th>\n",
       "      <td>1</td>\n",
       "      <td>Canada</td>\n",
       "      <td>27</td>\n",
       "    </tr>\n",
       "  </tbody>\n",
       "</table>\n",
       "</div>"
      ],
      "text/plain": [
       "   index location  country\n",
       "0      0    Japan      479\n",
       "1      1   Canada       27"
      ]
     },
     "execution_count": 828,
     "metadata": {},
     "output_type": "execute_result"
    }
   ],
   "source": [
    "country_plot.head(2)"
   ]
  },
  {
   "cell_type": "code",
   "execution_count": null,
   "metadata": {},
   "outputs": [],
   "source": [
    "country_plot = pd.DataFrame(country_plot).reset_index()"
   ]
  },
  {
   "cell_type": "code",
   "execution_count": null,
   "metadata": {},
   "outputs": [
    {
     "data": {
      "text/html": [
       "<div>\n",
       "<style scoped>\n",
       "    .dataframe tbody tr th:only-of-type {\n",
       "        vertical-align: middle;\n",
       "    }\n",
       "\n",
       "    .dataframe tbody tr th {\n",
       "        vertical-align: top;\n",
       "    }\n",
       "\n",
       "    .dataframe thead th {\n",
       "        text-align: right;\n",
       "    }\n",
       "</style>\n",
       "<table border=\"1\" class=\"dataframe\">\n",
       "  <thead>\n",
       "    <tr style=\"text-align: right;\">\n",
       "      <th></th>\n",
       "      <th>index</th>\n",
       "      <th>country</th>\n",
       "    </tr>\n",
       "  </thead>\n",
       "  <tbody>\n",
       "    <tr>\n",
       "      <th>0</th>\n",
       "      <td>others</td>\n",
       "      <td>479</td>\n",
       "    </tr>\n",
       "    <tr>\n",
       "      <th>1</th>\n",
       "      <td>CA</td>\n",
       "      <td>27</td>\n",
       "    </tr>\n",
       "    <tr>\n",
       "      <th>2</th>\n",
       "      <td>England</td>\n",
       "      <td>20</td>\n",
       "    </tr>\n",
       "    <tr>\n",
       "      <th>3</th>\n",
       "      <td>Germany</td>\n",
       "      <td>19</td>\n",
       "    </tr>\n",
       "    <tr>\n",
       "      <th>4</th>\n",
       "      <td>United Kingdom</td>\n",
       "      <td>18</td>\n",
       "    </tr>\n",
       "  </tbody>\n",
       "</table>\n",
       "</div>"
      ],
      "text/plain": [
       "            index  country\n",
       "0          others      479\n",
       "1              CA       27\n",
       "2         England       20\n",
       "3         Germany       19\n",
       "4  United Kingdom       18"
      ]
     },
     "execution_count": 538,
     "metadata": {},
     "output_type": "execute_result"
    }
   ],
   "source": [
    "country_plot.head()"
   ]
  },
  {
   "cell_type": "code",
   "execution_count": null,
   "metadata": {},
   "outputs": [],
   "source": [
    "country_plot.rename(columns={'index':'location'},inplace=True)"
   ]
  },
  {
   "cell_type": "code",
   "execution_count": null,
   "metadata": {},
   "outputs": [
    {
     "data": {
      "text/plain": [
       "244"
      ]
     },
     "execution_count": 540,
     "metadata": {},
     "output_type": "execute_result"
    }
   ],
   "source": [
    "len(country_plot.index)"
   ]
  },
  {
   "cell_type": "code",
   "execution_count": null,
   "metadata": {},
   "outputs": [],
   "source": [
    "from geopy import geocoders\n",
    "import time\n",
    "geolocator = geocoders.Nominatim(user_agent = \"geoapiExercises\")\n",
    "index = 1\n",
    "for  country in country_plot['location']:\n",
    "    location = geolocator.geocode(country)\n",
    "    result = str(location).split(',')[-1] \n",
    "    country_plot.location = country_plot.location.replace(country,result.strip())\n",
    "    \n",
    "    index+=1\n",
    "    "
   ]
  },
  {
   "cell_type": "code",
   "execution_count": null,
   "metadata": {},
   "outputs": [],
   "source": [
    "country_plot['location']=country_plot['location'].str.replace('日本','Japan').replace('Maroc / ⵍⵎⵖⵔⵉⴱ / المغرب',\"Morocco\")"
   ]
  },
  {
   "cell_type": "code",
   "execution_count": null,
   "metadata": {},
   "outputs": [
    {
     "data": {
      "text/html": [
       "<div>\n",
       "<style scoped>\n",
       "    .dataframe tbody tr th:only-of-type {\n",
       "        vertical-align: middle;\n",
       "    }\n",
       "\n",
       "    .dataframe tbody tr th {\n",
       "        vertical-align: top;\n",
       "    }\n",
       "\n",
       "    .dataframe thead th {\n",
       "        text-align: right;\n",
       "    }\n",
       "</style>\n",
       "<table border=\"1\" class=\"dataframe\">\n",
       "  <thead>\n",
       "    <tr style=\"text-align: right;\">\n",
       "      <th></th>\n",
       "      <th>location</th>\n",
       "      <th>country</th>\n",
       "    </tr>\n",
       "  </thead>\n",
       "  <tbody>\n",
       "    <tr>\n",
       "      <th>0</th>\n",
       "      <td>Japan</td>\n",
       "      <td>479</td>\n",
       "    </tr>\n",
       "    <tr>\n",
       "      <th>1</th>\n",
       "      <td>Canada</td>\n",
       "      <td>27</td>\n",
       "    </tr>\n",
       "    <tr>\n",
       "      <th>2</th>\n",
       "      <td>United Kingdom</td>\n",
       "      <td>20</td>\n",
       "    </tr>\n",
       "    <tr>\n",
       "      <th>3</th>\n",
       "      <td>Deutschland</td>\n",
       "      <td>19</td>\n",
       "    </tr>\n",
       "    <tr>\n",
       "      <th>4</th>\n",
       "      <td>United Kingdom</td>\n",
       "      <td>18</td>\n",
       "    </tr>\n",
       "  </tbody>\n",
       "</table>\n",
       "</div>"
      ],
      "text/plain": [
       "         location  country\n",
       "0           Japan      479\n",
       "1          Canada       27\n",
       "2  United Kingdom       20\n",
       "3     Deutschland       19\n",
       "4  United Kingdom       18"
      ]
     },
     "execution_count": 570,
     "metadata": {},
     "output_type": "execute_result"
    }
   ],
   "source": [
    "country_plot.head()"
   ]
  },
  {
   "cell_type": "code",
   "execution_count": null,
   "metadata": {},
   "outputs": [],
   "source": [
    "d = {'location': 'first', 'country': 'sum'}\n",
    "most_popular_country = country_plot.groupby('location', as_index=False).aggregate(d).reindex(columns=country_plot.columns)"
   ]
  },
  {
   "cell_type": "code",
   "execution_count": null,
   "metadata": {},
   "outputs": [],
   "source": [
    "# country_plot.groupby('location')['country']\n",
    "most_popular_country.head(2)\n",
    "country_data = most_popular_country.query('country>=5')\n",
    "sorted_country_data = country_data.sort_values('country',ascending=False)"
   ]
  },
  {
   "cell_type": "code",
   "execution_count": null,
   "metadata": {},
   "outputs": [
    {
     "data": {
      "text/html": [
       "<div>\n",
       "<style scoped>\n",
       "    .dataframe tbody tr th:only-of-type {\n",
       "        vertical-align: middle;\n",
       "    }\n",
       "\n",
       "    .dataframe tbody tr th {\n",
       "        vertical-align: top;\n",
       "    }\n",
       "\n",
       "    .dataframe thead th {\n",
       "        text-align: right;\n",
       "    }\n",
       "</style>\n",
       "<table border=\"1\" class=\"dataframe\">\n",
       "  <thead>\n",
       "    <tr style=\"text-align: right;\">\n",
       "      <th></th>\n",
       "      <th>location</th>\n",
       "      <th>country</th>\n",
       "    </tr>\n",
       "  </thead>\n",
       "  <tbody>\n",
       "    <tr>\n",
       "      <th>17</th>\n",
       "      <td>Japan</td>\n",
       "      <td>480</td>\n",
       "    </tr>\n",
       "    <tr>\n",
       "      <th>44</th>\n",
       "      <td>United States</td>\n",
       "      <td>171</td>\n",
       "    </tr>\n",
       "    <tr>\n",
       "      <th>4</th>\n",
       "      <td>Canada</td>\n",
       "      <td>59</td>\n",
       "    </tr>\n",
       "    <tr>\n",
       "      <th>8</th>\n",
       "      <td>Deutschland</td>\n",
       "      <td>55</td>\n",
       "    </tr>\n",
       "    <tr>\n",
       "      <th>43</th>\n",
       "      <td>United Kingdom</td>\n",
       "      <td>45</td>\n",
       "    </tr>\n",
       "  </tbody>\n",
       "</table>\n",
       "</div>"
      ],
      "text/plain": [
       "          location  country\n",
       "17           Japan      480\n",
       "44   United States      171\n",
       "4           Canada       59\n",
       "8      Deutschland       55\n",
       "43  United Kingdom       45"
      ]
     },
     "execution_count": 577,
     "metadata": {},
     "output_type": "execute_result"
    }
   ],
   "source": [
    "sorted_country_data.head()"
   ]
  },
  {
   "cell_type": "code",
   "execution_count": null,
   "metadata": {},
   "outputs": [],
   "source": [
    "sorted_country_data['location']=sorted_country_data['location'].str.replace('日本','Japan').replace('Maroc / ⵍⵎⵖⵔⵉⴱ / المغرب',\"Morocco\")"
   ]
  },
  {
   "cell_type": "code",
   "execution_count": null,
   "metadata": {},
   "outputs": [],
   "source": [
    "sorted_country_data.drop(17,inplace=True)"
   ]
  },
  {
   "cell_type": "code",
   "execution_count": null,
   "metadata": {},
   "outputs": [
    {
     "data": {
      "image/png": "[encoded data removed]",
      "text/plain": [
       "<Figure size 1296x576 with 1 Axes>"
      ]
     },
     "metadata": {},
     "output_type": "display_data"
    }
   ],
   "source": [
    "plt.figure(figsize=(18,8))\n",
    "bar_plot = sn.barplot(x=sorted_country_data['location'],y=sorted_country_data['country'])\n",
    "bar_plot.set_xticklabels(bar_plot.get_xticklabels(), rotation=45, horizontalalignment='right')\n",
    "bar_plot.bar_label(bar_plot.containers[0])\n",
    "# print(bar_plot.)\n",
    "plt.title('country diversity of tinder',fontsize=20)\n",
    "plt.ylabel('users',fontsize=15)\n",
    "plt.xlabel('country',fontsize=15)\n",
    "plt.show()"
   ]
  },
  {
   "cell_type": "markdown",
   "metadata": {},
   "source": [
    "## InterestedIn diversity"
   ]
  },
  {
   "cell_type": "code",
   "execution_count": null,
   "metadata": {},
   "outputs": [],
   "source": [
    "interest  = new_preDf.loc[((new_preDf['InterestedIn'] == 'F') | (new_preDf['InterestedIn']=='M') | (new_preDf['InterestedIn']=='M and F'))]"
   ]
  },
  {
   "cell_type": "code",
   "execution_count": null,
   "metadata": {},
   "outputs": [],
   "source": [
    "interest = new_preDf['InterestedIn'].value_counts()"
   ]
  },
  {
   "cell_type": "code",
   "execution_count": null,
   "metadata": {},
   "outputs": [
    {
     "data": {
      "text/plain": [
       "Index(['F', 'M', 'M and F'], dtype='object')"
      ]
     },
     "execution_count": 810,
     "metadata": {},
     "output_type": "execute_result"
    }
   ],
   "source": [
    "interest = interest[:-1]\n",
    "interest.index"
   ]
  },
  {
   "cell_type": "code",
   "execution_count": null,
   "metadata": {},
   "outputs": [
    {
     "data": {
      "image/png": "[encoded data removed]",
      "text/plain": [
       "<Figure size 756x468 with 1 Axes>"
      ]
     },
     "metadata": {},
     "output_type": "display_data"
    }
   ],
   "source": [
    "sn.lineplot(x=interest.index,y=interest);\n",
    "plt.title('Interest in gender diversity',fontsize=20)\n",
    "plt.ylabel('Quality of interest',fontsize=15)\n",
    "plt.xlabel('Gender',fontsize=15);\n",
    "plt.show()"
   ]
  },
  {
   "cell_type": "code",
   "execution_count": null,
   "metadata": {},
   "outputs": [
    {
     "data": {
      "image/png": "[encoded data removed]",
      "text/plain": [
       "<Figure size 720x576 with 1 Axes>"
      ]
     },
     "metadata": {},
     "output_type": "display_data"
    }
   ],
   "source": [
    "plt.figure(figsize=(10,8))\n",
    "bar_plot = sn.barplot(x=interest.index,y=interest,color=sn.color_palette()[0])\n",
    "bar_plot.set_xticklabels(bar_plot.get_xticklabels(), rotation=45, horizontalalignment='right')\n",
    "bar_plot.bar_label(bar_plot.containers[0])\n",
    "plt.title('Interest diversity of tinder',fontsize=20)\n",
    "plt.ylabel('Interest population',fontsize=15)\n",
    "plt.xlabel('Gender',fontsize=15)\n",
    "plt.legend(['Male', 'Female','Male and Female'])\n",
    "plt.show()"
   ]
  },
  {
   "cell_type": "code",
   "execution_count": null,
   "metadata": {},
   "outputs": [
    {
     "data": {
      "text/plain": [
       "F          1017\n",
       "M           134\n",
       "M and F      57\n",
       "Name: InterestedIn, dtype: int64"
      ]
     },
     "execution_count": 813,
     "metadata": {},
     "output_type": "execute_result"
    }
   ],
   "source": [
    "interest"
   ]
  },
  {
   "cell_type": "code",
   "execution_count": null,
   "metadata": {},
   "outputs": [
    {
     "data": {
      "image/png": "[encoded data removed]",
      "text/plain": [
       "<Figure size 756x468 with 1 Axes>"
      ]
     },
     "metadata": {},
     "output_type": "display_data"
    }
   ],
   "source": [
    "sn.pointplot(data=interest, x=interest, y=interest.index)\n",
    "plt.title('Interest in gender diversity',fontsize=20)\n",
    "plt.ylabel('Quality of interest',fontsize=15)\n",
    "plt.xlabel('Gender',fontsize=15);\n",
    "plt.legend(['Male', 'Female','Male and Female'])\n",
    "plt.show()\n",
    "\n"
   ]
  }
 ],
 "metadata": {
  "kernelspec": {
   "display_name": "Python 3.7.13 ('testenv')",
   "language": "python",
   "name": "python3"
  },
  "language_info": {
   "codemirror_mode": {
    "name": "ipython",
    "version": 3
   },
   "file_extension": ".py",
   "mimetype": "text/x-python",
   "name": "python",
   "nbconvert_exporter": "python",
   "pygments_lexer": "ipython3",
   "version": "3.7.13"
  },
  "orig_nbformat": 4,
  "vscode": {
   "interpreter": {
    "hash": "4fcc816f2ec044d7784656daa567c60af6aeee060eb40dbc8142aae8a4e25c3a"
   }
  }
 },
 "nbformat": 4,
 "nbformat_minor": 2
}
