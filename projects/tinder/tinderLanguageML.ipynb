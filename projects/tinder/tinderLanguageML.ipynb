{
 "cells": [
  {
   "cell_type": "code",
   "execution_count": 1,
   "metadata": {},
   "outputs": [],
   "source": [
    "#import libraries \n",
    "import numpy as np\n",
    "import pandas as pd"
   ]
  },
  {
   "cell_type": "code",
   "execution_count": 2,
   "metadata": {},
   "outputs": [],
   "source": [
    "#Load the data\n",
    "profileSrcJSON = pd.read_json('/Users/javi/Downloads/TinderProfiles.json')"
   ]
  },
  {
   "cell_type": "code",
   "execution_count": 3,
   "metadata": {},
   "outputs": [],
   "source": [
    "#create a copy in order to work with it and not to damage our original dataSet\n",
    "profileCopy = profileSrcJSON.copy()"
   ]
  },
  {
   "cell_type": "code",
   "execution_count": 4,
   "metadata": {},
   "outputs": [],
   "source": [
    "#Drop off \"__v\" column as it has only 0 values\n",
    "del profileCopy[\"__v\"]"
   ]
  },
  {
   "cell_type": "code",
   "execution_count": 5,
   "metadata": {},
   "outputs": [],
   "source": [
    "#define the dataframe \n",
    "preDf = profileCopy"
   ]
  },
  {
   "cell_type": "code",
   "execution_count": 6,
   "metadata": {},
   "outputs": [
    {
     "data": {
      "text/html": [
       "<div>\n",
       "<style scoped>\n",
       "    .dataframe tbody tr th:only-of-type {\n",
       "        vertical-align: middle;\n",
       "    }\n",
       "\n",
       "    .dataframe tbody tr th {\n",
       "        vertical-align: top;\n",
       "    }\n",
       "\n",
       "    .dataframe thead th {\n",
       "        text-align: right;\n",
       "    }\n",
       "</style>\n",
       "<table border=\"1\" class=\"dataframe\">\n",
       "  <thead>\n",
       "    <tr style=\"text-align: right;\">\n",
       "      <th></th>\n",
       "      <th>_id</th>\n",
       "      <th>appOpens</th>\n",
       "      <th>conversations</th>\n",
       "      <th>conversationsMeta</th>\n",
       "      <th>matches</th>\n",
       "      <th>messages</th>\n",
       "      <th>messagesReceived</th>\n",
       "      <th>messagesSent</th>\n",
       "      <th>swipeLikes</th>\n",
       "      <th>swipePasses</th>\n",
       "      <th>swipes</th>\n",
       "      <th>user</th>\n",
       "      <th>userId</th>\n",
       "    </tr>\n",
       "  </thead>\n",
       "  <tbody>\n",
       "    <tr>\n",
       "      <th>0</th>\n",
       "      <td>00b74e27ad1cbb2ded8e907fcc49eaaf</td>\n",
       "      <td>{'2016-01-02': 26, '2016-01-13': 10, '2016-01-...</td>\n",
       "      <td>[{'match_id': 'Match 739', 'messages': [{'to':...</td>\n",
       "      <td>{'nrOfConversations': 739, 'longestConversatio...</td>\n",
       "      <td>{'2016-01-02': 10, '2016-01-13': 5, '2016-01-1...</td>\n",
       "      <td>{'sent': {'2016-01-02': 11, '2016-01-13': 2, '...</td>\n",
       "      <td>{'2016-01-02': 12, '2016-01-13': 3, '2016-01-1...</td>\n",
       "      <td>{'2016-01-02': 11, '2016-01-13': 2, '2016-01-1...</td>\n",
       "      <td>{'2016-01-02': 50, '2016-01-13': 70, '2016-01-...</td>\n",
       "      <td>{'2016-01-02': 14, '2016-01-13': 93, '2016-01-...</td>\n",
       "      <td>{'likes': {'2016-01-02': 50, '2016-01-13': 70,...</td>\n",
       "      <td>{'birthDate': '1976-01-01T00:00:00.000Z', 'age...</td>\n",
       "      <td>00b74e27ad1cbb2ded8e907fcc49eaaf</td>\n",
       "    </tr>\n",
       "    <tr>\n",
       "      <th>1</th>\n",
       "      <td>024610702baf540af5637873cd1534e9</td>\n",
       "      <td>{'2016-07-12': 20, '2016-07-13': 18, '2016-07-...</td>\n",
       "      <td>[{'match_id': 'Match 464', 'messages': [{'to':...</td>\n",
       "      <td>{'nrOfConversations': 464, 'longestConversatio...</td>\n",
       "      <td>{'2016-07-12': 1, '2016-07-13': 0, '2016-07-14...</td>\n",
       "      <td>{'sent': {'2016-07-12': 0, '2016-07-13': 0, '2...</td>\n",
       "      <td>{'2016-07-12': 0, '2016-07-13': 0, '2016-07-14...</td>\n",
       "      <td>{'2016-07-12': 0, '2016-07-13': 0, '2016-07-14...</td>\n",
       "      <td>{'2016-07-12': 0, '2016-07-13': 221, '2016-07-...</td>\n",
       "      <td>{'2016-07-12': 0, '2016-07-13': 61, '2016-07-1...</td>\n",
       "      <td>{'likes': {'2016-07-12': 0, '2016-07-13': 221,...</td>\n",
       "      <td>{'birthDate': '1997-07-04T00:00:00.000Z', 'age...</td>\n",
       "      <td>024610702baf540af5637873cd1534e9</td>\n",
       "    </tr>\n",
       "    <tr>\n",
       "      <th>2</th>\n",
       "      <td>0a5e3dd8489fe67485ddb7d6adb26ebd</td>\n",
       "      <td>{'2019-07-01': 61, '2019-07-02': 154, '2019-07...</td>\n",
       "      <td>[{'match_id': 'Match 303', 'messages': [{'to':...</td>\n",
       "      <td>{'nrOfConversations': 303, 'longestConversatio...</td>\n",
       "      <td>{'2019-07-01': 13, '2019-07-02': 12, '2019-07-...</td>\n",
       "      <td>{'sent': {'2019-07-01': 12, '2019-07-02': 66, ...</td>\n",
       "      <td>{'2019-07-01': 6, '2019-07-02': 70, '2019-07-0...</td>\n",
       "      <td>{'2019-07-01': 12, '2019-07-02': 66, '2019-07-...</td>\n",
       "      <td>{'2019-07-01': 87, '2019-07-02': 39, '2019-07-...</td>\n",
       "      <td>{'2019-07-01': 30, '2019-07-02': 12, '2019-07-...</td>\n",
       "      <td>{'likes': {'2019-07-01': 87, '2019-07-02': 39,...</td>\n",
       "      <td>{'birthDate': '1998-02-06T00:00:00.000Z', 'age...</td>\n",
       "      <td>0a5e3dd8489fe67485ddb7d6adb26ebd</td>\n",
       "    </tr>\n",
       "  </tbody>\n",
       "</table>\n",
       "</div>"
      ],
      "text/plain": [
       "                                _id  \\\n",
       "0  00b74e27ad1cbb2ded8e907fcc49eaaf   \n",
       "1  024610702baf540af5637873cd1534e9   \n",
       "2  0a5e3dd8489fe67485ddb7d6adb26ebd   \n",
       "\n",
       "                                            appOpens  \\\n",
       "0  {'2016-01-02': 26, '2016-01-13': 10, '2016-01-...   \n",
       "1  {'2016-07-12': 20, '2016-07-13': 18, '2016-07-...   \n",
       "2  {'2019-07-01': 61, '2019-07-02': 154, '2019-07...   \n",
       "\n",
       "                                       conversations  \\\n",
       "0  [{'match_id': 'Match 739', 'messages': [{'to':...   \n",
       "1  [{'match_id': 'Match 464', 'messages': [{'to':...   \n",
       "2  [{'match_id': 'Match 303', 'messages': [{'to':...   \n",
       "\n",
       "                                   conversationsMeta  \\\n",
       "0  {'nrOfConversations': 739, 'longestConversatio...   \n",
       "1  {'nrOfConversations': 464, 'longestConversatio...   \n",
       "2  {'nrOfConversations': 303, 'longestConversatio...   \n",
       "\n",
       "                                             matches  \\\n",
       "0  {'2016-01-02': 10, '2016-01-13': 5, '2016-01-1...   \n",
       "1  {'2016-07-12': 1, '2016-07-13': 0, '2016-07-14...   \n",
       "2  {'2019-07-01': 13, '2019-07-02': 12, '2019-07-...   \n",
       "\n",
       "                                            messages  \\\n",
       "0  {'sent': {'2016-01-02': 11, '2016-01-13': 2, '...   \n",
       "1  {'sent': {'2016-07-12': 0, '2016-07-13': 0, '2...   \n",
       "2  {'sent': {'2019-07-01': 12, '2019-07-02': 66, ...   \n",
       "\n",
       "                                    messagesReceived  \\\n",
       "0  {'2016-01-02': 12, '2016-01-13': 3, '2016-01-1...   \n",
       "1  {'2016-07-12': 0, '2016-07-13': 0, '2016-07-14...   \n",
       "2  {'2019-07-01': 6, '2019-07-02': 70, '2019-07-0...   \n",
       "\n",
       "                                        messagesSent  \\\n",
       "0  {'2016-01-02': 11, '2016-01-13': 2, '2016-01-1...   \n",
       "1  {'2016-07-12': 0, '2016-07-13': 0, '2016-07-14...   \n",
       "2  {'2019-07-01': 12, '2019-07-02': 66, '2019-07-...   \n",
       "\n",
       "                                          swipeLikes  \\\n",
       "0  {'2016-01-02': 50, '2016-01-13': 70, '2016-01-...   \n",
       "1  {'2016-07-12': 0, '2016-07-13': 221, '2016-07-...   \n",
       "2  {'2019-07-01': 87, '2019-07-02': 39, '2019-07-...   \n",
       "\n",
       "                                         swipePasses  \\\n",
       "0  {'2016-01-02': 14, '2016-01-13': 93, '2016-01-...   \n",
       "1  {'2016-07-12': 0, '2016-07-13': 61, '2016-07-1...   \n",
       "2  {'2019-07-01': 30, '2019-07-02': 12, '2019-07-...   \n",
       "\n",
       "                                              swipes  \\\n",
       "0  {'likes': {'2016-01-02': 50, '2016-01-13': 70,...   \n",
       "1  {'likes': {'2016-07-12': 0, '2016-07-13': 221,...   \n",
       "2  {'likes': {'2019-07-01': 87, '2019-07-02': 39,...   \n",
       "\n",
       "                                                user  \\\n",
       "0  {'birthDate': '1976-01-01T00:00:00.000Z', 'age...   \n",
       "1  {'birthDate': '1997-07-04T00:00:00.000Z', 'age...   \n",
       "2  {'birthDate': '1998-02-06T00:00:00.000Z', 'age...   \n",
       "\n",
       "                             userId  \n",
       "0  00b74e27ad1cbb2ded8e907fcc49eaaf  \n",
       "1  024610702baf540af5637873cd1534e9  \n",
       "2  0a5e3dd8489fe67485ddb7d6adb26ebd  "
      ]
     },
     "execution_count": 6,
     "metadata": {},
     "output_type": "execute_result"
    }
   ],
   "source": [
    "preDf.head(3)"
   ]
  },
  {
   "cell_type": "markdown",
   "metadata": {},
   "source": [
    "### Each profile has an ID number which we use to check how many users are in the dataset. We also verify that there aren't any Duplicate Accounts in this dataset before continuing on with our research!"
   ]
  },
  {
   "cell_type": "code",
   "execution_count": 7,
   "metadata": {},
   "outputs": [],
   "source": [
    "userid = []\n",
    "for uniqueid in preDf.userId:\n",
    "    userid.append(uniqueid[-6:])"
   ]
  },
  {
   "cell_type": "code",
   "execution_count": 8,
   "metadata": {},
   "outputs": [],
   "source": [
    "totalUserid = userid[:1180]"
   ]
  },
  {
   "cell_type": "markdown",
   "metadata": {},
   "source": [
    "### We want to see how many times each user opened the app in our dataset, and also what their average daily number was.\n"
   ]
  },
  {
   "cell_type": "code",
   "execution_count": 9,
   "metadata": {},
   "outputs": [
    {
     "name": "stdout",
     "output_type": "stream",
     "text": [
      "there are 290 people who open the app every day\n"
     ]
    }
   ],
   "source": [
    "import sys \n",
    "\n",
    "#check how many people open the app (daily)\n",
    "personOpeners = []\n",
    "for openers in preDf.appOpens:\n",
    "    if len(openers) == 0:\n",
    "        continue\n",
    "    maxDate = \"\"\n",
    "    maxOpens = 0\n",
    "    minDate = \"\"\n",
    "    minOpens = sys.maxsize\n",
    "    for date in openers:\n",
    "        if (openers[date] > maxOpens):\n",
    "            maxOpens = openers[date]\n",
    "            maxDate = date\n",
    "\n",
    "        if (openers[date] < minOpens):\n",
    "            minOpens = openers[date]\n",
    "            minDate = date\n",
    "\n",
    "    personOpeners.append(minOpens)\n",
    "    # append the vals to a list\n",
    "\n",
    "counter = 0\n",
    "for j in personOpeners:\n",
    "    if j >= 1:\n",
    "        counter += 1 \n",
    "\n",
    "print(f'there are {counter} people who open the app every day')\n"
   ]
  },
  {
   "cell_type": "code",
   "execution_count": 10,
   "metadata": {},
   "outputs": [],
   "source": [
    "#import the langdetect in order to detect the lenguaje of the message\n",
    "#We will focus on English, Spanish and Japanese \n",
    "from langdetect import detect"
   ]
  },
  {
   "cell_type": "markdown",
   "metadata": {},
   "source": [
    "### Since the messages are in a JSON structure, we have to take those out in order to do our language classification and run the sentiment analysis"
   ]
  },
  {
   "cell_type": "code",
   "execution_count": 11,
   "metadata": {},
   "outputs": [
    {
     "data": {
      "text/plain": [
       "1209"
      ]
     },
     "execution_count": 11,
     "metadata": {},
     "output_type": "execute_result"
    }
   ],
   "source": [
    "allMessages = []\n",
    "numberConversations = []\n",
    "for conversation in preDf.conversations:\n",
    "    messages = []\n",
    "    numberMessages = 0\n",
    "    for match in conversation:\n",
    "        for message in match['messages']:\n",
    "            if 'message' in message.keys():\n",
    "                messages.append(message['message'])\n",
    "                numberMessages += 1\n",
    "    # messages = messages[:5]\n",
    "    allMessages.append(messages)\n",
    "    numberConversations.append(numberMessages)\n",
    "len(allMessages)"
   ]
  },
  {
   "cell_type": "code",
   "execution_count": 12,
   "metadata": {},
   "outputs": [],
   "source": [
    "totalMessages = allMessages[:1180]\n",
    "totalnumberConversations = numberConversations[:1180]"
   ]
  },
  {
   "cell_type": "code",
   "execution_count": 13,
   "metadata": {},
   "outputs": [],
   "source": [
    "# identify the lenguaje of the user\n",
    "# extract the first line of each conversation\n",
    "alllengu = []\n",
    "for conversation in preDf.conversations:\n",
    "    for match in conversation:\n",
    "        lengu = []\n",
    "        for message in match['messages']:\n",
    "            if 'message' in message.keys():\n",
    "                    try:\n",
    "                        language = detect(message['message'])\n",
    "                        lengu.append(language) \n",
    "                    except:\n",
    "                        1 \n",
    "        lengu = lengu[:1]\n",
    "        alllengu.append(lengu)\n",
    "        break"
   ]
  },
  {
   "cell_type": "code",
   "execution_count": 14,
   "metadata": {},
   "outputs": [
    {
     "data": {
      "text/plain": [
       "1180"
      ]
     },
     "execution_count": 14,
     "metadata": {},
     "output_type": "execute_result"
    }
   ],
   "source": [
    "len(alllengu)"
   ]
  },
  {
   "cell_type": "code",
   "execution_count": 15,
   "metadata": {},
   "outputs": [],
   "source": [
    "#list of numbers, each number is a user \n",
    "totalMatches = []\n",
    "\n",
    "for dfMatches in preDf.matches:\n",
    "    #variable name \n",
    "    totalMatchesUser = 0\n",
    "    for MatchDate in dfMatches:\n",
    "        totalMatchesUser += dfMatches[MatchDate]\n",
    "\n",
    "    totalMatches.append(totalMatchesUser)\n"
   ]
  },
  {
   "cell_type": "code",
   "execution_count": 16,
   "metadata": {},
   "outputs": [],
   "source": [
    "totalMatches = totalMatches[:1180]"
   ]
  },
  {
   "cell_type": "code",
   "execution_count": 17,
   "metadata": {},
   "outputs": [],
   "source": [
    "#total swipes right per use\n",
    "totalSwipesRight = [] \n",
    "for dfSwipeLikes in preDf.swipeLikes:\n",
    "    countSwipesRight = 0\n",
    "    for swipeRight in dfSwipeLikes:\n",
    "        countSwipesRight += dfSwipeLikes[swipeRight]\n",
    "    totalSwipesRight.append(countSwipesRight)"
   ]
  },
  {
   "cell_type": "code",
   "execution_count": 18,
   "metadata": {},
   "outputs": [],
   "source": [
    "totalSwipesRight = totalSwipesRight[:1180]"
   ]
  },
  {
   "cell_type": "code",
   "execution_count": 28,
   "metadata": {},
   "outputs": [],
   "source": [
    "#total swipes left per user\n",
    "totalSwipesLeft = []\n",
    "for dfSwipePasses in preDf.swipePasses:\n",
    "    countSwipesLeft = 0\n",
    "    for swipeLeft in dfSwipePasses:\n",
    "        countSwipesLeft += dfSwipePasses[swipeLeft]\n",
    "    totalSwipesLeft.append(countSwipesLeft)"
   ]
  },
  {
   "cell_type": "code",
   "execution_count": 29,
   "metadata": {},
   "outputs": [],
   "source": [
    "totalSwipesLeft = totalSwipesLeft[:1180]"
   ]
  },
  {
   "cell_type": "code",
   "execution_count": 30,
   "metadata": {},
   "outputs": [],
   "source": [
    "#import library for know the user age \n",
    "from datetime import date\n",
    "from datetime import datetime\n",
    "\n",
    "#Take user anonymous data and break down the dictionary format\n",
    "allBirthDates=[]\n",
    "\n",
    "#Users date of birth\n",
    "def age(birthdate):\n",
    "    today = date.today()\n",
    "    age = today.year - birthdate.year #- ((today.month, today.day) < (birthdate.month, birthdate.day))\n",
    "    return age\n",
    "\n",
    "for person in preDf.user:\n",
    "    birthdateStr = person['birthDate'][:10]\n",
    "    birthdate = datetime.strptime(birthdateStr, '%Y-%m-%d')\n",
    "    userAge = age(birthdate)\n",
    "    allBirthDates.append(userAge)"
   ]
  },
  {
   "cell_type": "code",
   "execution_count": 31,
   "metadata": {},
   "outputs": [],
   "source": [
    "totalAllBirthDates = allBirthDates[:1180]"
   ]
  },
  {
   "cell_type": "markdown",
   "metadata": {},
   "source": [
    "### CREATE THE DATASET WITH DATA WE HAVE CLEANED"
   ]
  },
  {
   "cell_type": "code",
   "execution_count": 48,
   "metadata": {},
   "outputs": [
    {
     "data": {
      "text/html": [
       "<div>\n",
       "<style scoped>\n",
       "    .dataframe tbody tr th:only-of-type {\n",
       "        vertical-align: middle;\n",
       "    }\n",
       "\n",
       "    .dataframe tbody tr th {\n",
       "        vertical-align: top;\n",
       "    }\n",
       "\n",
       "    .dataframe thead th {\n",
       "        text-align: right;\n",
       "    }\n",
       "</style>\n",
       "<table border=\"1\" class=\"dataframe\">\n",
       "  <thead>\n",
       "    <tr style=\"text-align: right;\">\n",
       "      <th></th>\n",
       "      <th>user</th>\n",
       "    </tr>\n",
       "  </thead>\n",
       "  <tbody>\n",
       "    <tr>\n",
       "      <th>0</th>\n",
       "      <td>49eaaf</td>\n",
       "    </tr>\n",
       "    <tr>\n",
       "      <th>1</th>\n",
       "      <td>1534e9</td>\n",
       "    </tr>\n",
       "    <tr>\n",
       "      <th>2</th>\n",
       "      <td>b26ebd</td>\n",
       "    </tr>\n",
       "  </tbody>\n",
       "</table>\n",
       "</div>"
      ],
      "text/plain": [
       "     user\n",
       "0  49eaaf\n",
       "1  1534e9\n",
       "2  b26ebd"
      ]
     },
     "execution_count": 48,
     "metadata": {},
     "output_type": "execute_result"
    }
   ],
   "source": [
    "#We insert the unique user id\n",
    "df = pd.DataFrame(totalUserid, columns=['user'])\n",
    "df.head(3)"
   ]
  },
  {
   "cell_type": "code",
   "execution_count": 49,
   "metadata": {},
   "outputs": [
    {
     "data": {
      "text/plain": [
       "False"
      ]
     },
     "execution_count": 49,
     "metadata": {},
     "output_type": "execute_result"
    }
   ],
   "source": [
    "#check if there is user with Null value in their id\n",
    "pd.isnull(df.loc[1, 'user'])"
   ]
  },
  {
   "cell_type": "code",
   "execution_count": 50,
   "metadata": {},
   "outputs": [],
   "source": [
    "#Merge app_opens data with df\n",
    "df['Messages'] = totalMessages\n",
    "df['Language'] = alllengu\n",
    "df['SwipesRight'] = totalSwipesRight\n",
    "df['SwipesLeft'] = totalSwipesLeft\n",
    "df['Matches'] = totalMatches\n",
    "df['Num Of Messages'] = totalnumberConversations\n",
    "df['Age'] = totalAllBirthDates"
   ]
  },
  {
   "cell_type": "code",
   "execution_count": 52,
   "metadata": {},
   "outputs": [
    {
     "data": {
      "text/html": [
       "<div>\n",
       "<style scoped>\n",
       "    .dataframe tbody tr th:only-of-type {\n",
       "        vertical-align: middle;\n",
       "    }\n",
       "\n",
       "    .dataframe tbody tr th {\n",
       "        vertical-align: top;\n",
       "    }\n",
       "\n",
       "    .dataframe thead th {\n",
       "        text-align: right;\n",
       "    }\n",
       "</style>\n",
       "<table border=\"1\" class=\"dataframe\">\n",
       "  <thead>\n",
       "    <tr style=\"text-align: right;\">\n",
       "      <th></th>\n",
       "      <th>user</th>\n",
       "      <th>Messages</th>\n",
       "      <th>Language</th>\n",
       "      <th>SwipesRight</th>\n",
       "      <th>SwipesLeft</th>\n",
       "      <th>Matches</th>\n",
       "      <th>Num Of Messages</th>\n",
       "      <th>Age</th>\n",
       "    </tr>\n",
       "  </thead>\n",
       "  <tbody>\n",
       "    <tr>\n",
       "      <th>0</th>\n",
       "      <td>49eaaf</td>\n",
       "      <td>[]</td>\n",
       "      <td>[]</td>\n",
       "      <td>23341</td>\n",
       "      <td>24229</td>\n",
       "      <td>3408</td>\n",
       "      <td>0</td>\n",
       "      <td>46</td>\n",
       "    </tr>\n",
       "    <tr>\n",
       "      <th>1</th>\n",
       "      <td>1534e9</td>\n",
       "      <td>[Hello again, so now that we matched again, wh...</td>\n",
       "      <td>[en]</td>\n",
       "      <td>45068</td>\n",
       "      <td>49559</td>\n",
       "      <td>888</td>\n",
       "      <td>2086</td>\n",
       "      <td>25</td>\n",
       "    </tr>\n",
       "    <tr>\n",
       "      <th>2</th>\n",
       "      <td>b26ebd</td>\n",
       "      <td>[It&amp;rsquo;s me, the chicken nuggets, Exactly w...</td>\n",
       "      <td>[en]</td>\n",
       "      <td>6679</td>\n",
       "      <td>5500</td>\n",
       "      <td>548</td>\n",
       "      <td>1289</td>\n",
       "      <td>24</td>\n",
       "    </tr>\n",
       "    <tr>\n",
       "      <th>3</th>\n",
       "      <td>ffbf58</td>\n",
       "      <td>[I&amp;apos;m worried about you. Based on your hik...</td>\n",
       "      <td>[en]</td>\n",
       "      <td>6724</td>\n",
       "      <td>7899</td>\n",
       "      <td>94</td>\n",
       "      <td>371</td>\n",
       "      <td>24</td>\n",
       "    </tr>\n",
       "    <tr>\n",
       "      <th>4</th>\n",
       "      <td>8a5cc1</td>\n",
       "      <td>[]</td>\n",
       "      <td>[]</td>\n",
       "      <td>60169</td>\n",
       "      <td>96673</td>\n",
       "      <td>1905</td>\n",
       "      <td>0</td>\n",
       "      <td>26</td>\n",
       "    </tr>\n",
       "  </tbody>\n",
       "</table>\n",
       "</div>"
      ],
      "text/plain": [
       "     user                                           Messages Language  \\\n",
       "0  49eaaf                                                 []       []   \n",
       "1  1534e9  [Hello again, so now that we matched again, wh...     [en]   \n",
       "2  b26ebd  [It&rsquo;s me, the chicken nuggets, Exactly w...     [en]   \n",
       "3  ffbf58  [I&apos;m worried about you. Based on your hik...     [en]   \n",
       "4  8a5cc1                                                 []       []   \n",
       "\n",
       "   SwipesRight  SwipesLeft  Matches  Num Of Messages  Age  \n",
       "0        23341       24229     3408                0   46  \n",
       "1        45068       49559      888             2086   25  \n",
       "2         6679        5500      548             1289   24  \n",
       "3         6724        7899       94              371   24  \n",
       "4        60169       96673     1905                0   26  "
      ]
     },
     "execution_count": 52,
     "metadata": {},
     "output_type": "execute_result"
    }
   ],
   "source": [
    "df.head()"
   ]
  },
  {
   "cell_type": "code",
   "execution_count": 53,
   "metadata": {},
   "outputs": [
    {
     "data": {
      "text/plain": [
       "1180"
      ]
     },
     "execution_count": 53,
     "metadata": {},
     "output_type": "execute_result"
    }
   ],
   "source": [
    "len(df.index)"
   ]
  },
  {
   "cell_type": "code",
   "execution_count": 54,
   "metadata": {},
   "outputs": [
    {
     "data": {
      "text/html": [
       "<div>\n",
       "<style scoped>\n",
       "    .dataframe tbody tr th:only-of-type {\n",
       "        vertical-align: middle;\n",
       "    }\n",
       "\n",
       "    .dataframe tbody tr th {\n",
       "        vertical-align: top;\n",
       "    }\n",
       "\n",
       "    .dataframe thead th {\n",
       "        text-align: right;\n",
       "    }\n",
       "</style>\n",
       "<table border=\"1\" class=\"dataframe\">\n",
       "  <thead>\n",
       "    <tr style=\"text-align: right;\">\n",
       "      <th></th>\n",
       "      <th>user</th>\n",
       "      <th>Messages</th>\n",
       "      <th>Language</th>\n",
       "      <th>SwipesRight</th>\n",
       "      <th>SwipesLeft</th>\n",
       "      <th>Matches</th>\n",
       "      <th>Num Of Messages</th>\n",
       "      <th>Age</th>\n",
       "    </tr>\n",
       "  </thead>\n",
       "  <tbody>\n",
       "    <tr>\n",
       "      <th>1</th>\n",
       "      <td>1534e9</td>\n",
       "      <td>[Hello again, so now that we matched again, wh...</td>\n",
       "      <td>[en]</td>\n",
       "      <td>45068</td>\n",
       "      <td>49559</td>\n",
       "      <td>888</td>\n",
       "      <td>2086</td>\n",
       "      <td>25</td>\n",
       "    </tr>\n",
       "    <tr>\n",
       "      <th>2</th>\n",
       "      <td>b26ebd</td>\n",
       "      <td>[It&amp;rsquo;s me, the chicken nuggets, Exactly w...</td>\n",
       "      <td>[en]</td>\n",
       "      <td>6679</td>\n",
       "      <td>5500</td>\n",
       "      <td>548</td>\n",
       "      <td>1289</td>\n",
       "      <td>24</td>\n",
       "    </tr>\n",
       "    <tr>\n",
       "      <th>3</th>\n",
       "      <td>ffbf58</td>\n",
       "      <td>[I&amp;apos;m worried about you. Based on your hik...</td>\n",
       "      <td>[en]</td>\n",
       "      <td>6724</td>\n",
       "      <td>7899</td>\n",
       "      <td>94</td>\n",
       "      <td>371</td>\n",
       "      <td>24</td>\n",
       "    </tr>\n",
       "    <tr>\n",
       "      <th>5</th>\n",
       "      <td>d6e87e</td>\n",
       "      <td>[Holaaa Andrea! Igual bonito inicio de semana,...</td>\n",
       "      <td>[it]</td>\n",
       "      <td>22552</td>\n",
       "      <td>5477</td>\n",
       "      <td>203</td>\n",
       "      <td>2768</td>\n",
       "      <td>28</td>\n",
       "    </tr>\n",
       "    <tr>\n",
       "      <th>8</th>\n",
       "      <td>a0a92f</td>\n",
       "      <td>[Terve😊, Helsingissä asun mut nyt frendin möki...</td>\n",
       "      <td>[]</td>\n",
       "      <td>4532</td>\n",
       "      <td>115619</td>\n",
       "      <td>1781</td>\n",
       "      <td>5383</td>\n",
       "      <td>30</td>\n",
       "    </tr>\n",
       "  </tbody>\n",
       "</table>\n",
       "</div>"
      ],
      "text/plain": [
       "     user                                           Messages Language  \\\n",
       "1  1534e9  [Hello again, so now that we matched again, wh...     [en]   \n",
       "2  b26ebd  [It&rsquo;s me, the chicken nuggets, Exactly w...     [en]   \n",
       "3  ffbf58  [I&apos;m worried about you. Based on your hik...     [en]   \n",
       "5  d6e87e  [Holaaa Andrea! Igual bonito inicio de semana,...     [it]   \n",
       "8  a0a92f  [Terve😊, Helsingissä asun mut nyt frendin möki...       []   \n",
       "\n",
       "   SwipesRight  SwipesLeft  Matches  Num Of Messages  Age  \n",
       "1        45068       49559      888             2086   25  \n",
       "2         6679        5500      548             1289   24  \n",
       "3         6724        7899       94              371   24  \n",
       "5        22552        5477      203             2768   28  \n",
       "8         4532      115619     1781             5383   30  "
      ]
     },
     "execution_count": 54,
     "metadata": {},
     "output_type": "execute_result"
    }
   ],
   "source": [
    "#drop users with empty list\n",
    "df = df[~df.Messages.str.len().eq(0)]\n",
    "df.head()"
   ]
  },
  {
   "cell_type": "code",
   "execution_count": 55,
   "metadata": {},
   "outputs": [
    {
     "data": {
      "text/plain": [
       "1138"
      ]
     },
     "execution_count": 55,
     "metadata": {},
     "output_type": "execute_result"
    }
   ],
   "source": [
    "len(df.index)"
   ]
  },
  {
   "cell_type": "code",
   "execution_count": 56,
   "metadata": {},
   "outputs": [
    {
     "data": {
      "text/html": [
       "<div>\n",
       "<style scoped>\n",
       "    .dataframe tbody tr th:only-of-type {\n",
       "        vertical-align: middle;\n",
       "    }\n",
       "\n",
       "    .dataframe tbody tr th {\n",
       "        vertical-align: top;\n",
       "    }\n",
       "\n",
       "    .dataframe thead th {\n",
       "        text-align: right;\n",
       "    }\n",
       "</style>\n",
       "<table border=\"1\" class=\"dataframe\">\n",
       "  <thead>\n",
       "    <tr style=\"text-align: right;\">\n",
       "      <th></th>\n",
       "      <th>user</th>\n",
       "      <th>Messages</th>\n",
       "      <th>Language</th>\n",
       "      <th>SwipesRight</th>\n",
       "      <th>SwipesLeft</th>\n",
       "      <th>Matches</th>\n",
       "      <th>Num Of Messages</th>\n",
       "      <th>Age</th>\n",
       "    </tr>\n",
       "  </thead>\n",
       "  <tbody>\n",
       "    <tr>\n",
       "      <th>1</th>\n",
       "      <td>1534e9</td>\n",
       "      <td>[Hello again, so now that we matched again, wh...</td>\n",
       "      <td>[en]</td>\n",
       "      <td>45068</td>\n",
       "      <td>49559</td>\n",
       "      <td>888</td>\n",
       "      <td>2086</td>\n",
       "      <td>25</td>\n",
       "    </tr>\n",
       "    <tr>\n",
       "      <th>2</th>\n",
       "      <td>b26ebd</td>\n",
       "      <td>[It&amp;rsquo;s me, the chicken nuggets, Exactly w...</td>\n",
       "      <td>[en]</td>\n",
       "      <td>6679</td>\n",
       "      <td>5500</td>\n",
       "      <td>548</td>\n",
       "      <td>1289</td>\n",
       "      <td>24</td>\n",
       "    </tr>\n",
       "    <tr>\n",
       "      <th>3</th>\n",
       "      <td>ffbf58</td>\n",
       "      <td>[I&amp;apos;m worried about you. Based on your hik...</td>\n",
       "      <td>[en]</td>\n",
       "      <td>6724</td>\n",
       "      <td>7899</td>\n",
       "      <td>94</td>\n",
       "      <td>371</td>\n",
       "      <td>24</td>\n",
       "    </tr>\n",
       "    <tr>\n",
       "      <th>5</th>\n",
       "      <td>d6e87e</td>\n",
       "      <td>[Holaaa Andrea! Igual bonito inicio de semana,...</td>\n",
       "      <td>[it]</td>\n",
       "      <td>22552</td>\n",
       "      <td>5477</td>\n",
       "      <td>203</td>\n",
       "      <td>2768</td>\n",
       "      <td>28</td>\n",
       "    </tr>\n",
       "    <tr>\n",
       "      <th>8</th>\n",
       "      <td>a0a92f</td>\n",
       "      <td>[Terve😊, Helsingissä asun mut nyt frendin möki...</td>\n",
       "      <td>[]</td>\n",
       "      <td>4532</td>\n",
       "      <td>115619</td>\n",
       "      <td>1781</td>\n",
       "      <td>5383</td>\n",
       "      <td>30</td>\n",
       "    </tr>\n",
       "    <tr>\n",
       "      <th>...</th>\n",
       "      <td>...</td>\n",
       "      <td>...</td>\n",
       "      <td>...</td>\n",
       "      <td>...</td>\n",
       "      <td>...</td>\n",
       "      <td>...</td>\n",
       "      <td>...</td>\n",
       "      <td>...</td>\n",
       "    </tr>\n",
       "    <tr>\n",
       "      <th>1173</th>\n",
       "      <td>be6a5a</td>\n",
       "      <td>[I am great, whats up?, Yesd, Titanic xD, I he...</td>\n",
       "      <td>[nl]</td>\n",
       "      <td>581</td>\n",
       "      <td>2586</td>\n",
       "      <td>4</td>\n",
       "      <td>121</td>\n",
       "      <td>24</td>\n",
       "    </tr>\n",
       "    <tr>\n",
       "      <th>1174</th>\n",
       "      <td>fccfbe</td>\n",
       "      <td>[You&amp;rsquo;re kinda cute 🙈, Where are you now?...</td>\n",
       "      <td>[da]</td>\n",
       "      <td>89628</td>\n",
       "      <td>17792</td>\n",
       "      <td>5393</td>\n",
       "      <td>21339</td>\n",
       "      <td>34</td>\n",
       "    </tr>\n",
       "    <tr>\n",
       "      <th>1175</th>\n",
       "      <td>86d422</td>\n",
       "      <td>[Hi, Yes, Stats?, how&amp;apos;s your weekend been...</td>\n",
       "      <td>[pl]</td>\n",
       "      <td>2207</td>\n",
       "      <td>24655</td>\n",
       "      <td>524</td>\n",
       "      <td>2886</td>\n",
       "      <td>22</td>\n",
       "    </tr>\n",
       "    <tr>\n",
       "      <th>1176</th>\n",
       "      <td>fb50c2</td>\n",
       "      <td>[Hey! How&amp;apos;s the covid life treating you? ...</td>\n",
       "      <td>[]</td>\n",
       "      <td>33391</td>\n",
       "      <td>7014</td>\n",
       "      <td>306</td>\n",
       "      <td>1235</td>\n",
       "      <td>26</td>\n",
       "    </tr>\n",
       "    <tr>\n",
       "      <th>1178</th>\n",
       "      <td>913eba</td>\n",
       "      <td>[Mmmmmhhh lecker, Du siehst superlikes dann od...</td>\n",
       "      <td>[en]</td>\n",
       "      <td>12821</td>\n",
       "      <td>47366</td>\n",
       "      <td>77</td>\n",
       "      <td>108</td>\n",
       "      <td>25</td>\n",
       "    </tr>\n",
       "  </tbody>\n",
       "</table>\n",
       "<p>934 rows × 8 columns</p>\n",
       "</div>"
      ],
      "text/plain": [
       "        user                                           Messages Language  \\\n",
       "1     1534e9  [Hello again, so now that we matched again, wh...     [en]   \n",
       "2     b26ebd  [It&rsquo;s me, the chicken nuggets, Exactly w...     [en]   \n",
       "3     ffbf58  [I&apos;m worried about you. Based on your hik...     [en]   \n",
       "5     d6e87e  [Holaaa Andrea! Igual bonito inicio de semana,...     [it]   \n",
       "8     a0a92f  [Terve😊, Helsingissä asun mut nyt frendin möki...       []   \n",
       "...      ...                                                ...      ...   \n",
       "1173  be6a5a  [I am great, whats up?, Yesd, Titanic xD, I he...     [nl]   \n",
       "1174  fccfbe  [You&rsquo;re kinda cute 🙈, Where are you now?...     [da]   \n",
       "1175  86d422  [Hi, Yes, Stats?, how&apos;s your weekend been...     [pl]   \n",
       "1176  fb50c2  [Hey! How&apos;s the covid life treating you? ...       []   \n",
       "1178  913eba  [Mmmmmhhh lecker, Du siehst superlikes dann od...     [en]   \n",
       "\n",
       "      SwipesRight  SwipesLeft  Matches  Num Of Messages  Age  \n",
       "1           45068       49559      888             2086   25  \n",
       "2            6679        5500      548             1289   24  \n",
       "3            6724        7899       94              371   24  \n",
       "5           22552        5477      203             2768   28  \n",
       "8            4532      115619     1781             5383   30  \n",
       "...           ...         ...      ...              ...  ...  \n",
       "1173          581        2586        4              121   24  \n",
       "1174        89628       17792     5393            21339   34  \n",
       "1175         2207       24655      524             2886   22  \n",
       "1176        33391        7014      306             1235   26  \n",
       "1178        12821       47366       77              108   25  \n",
       "\n",
       "[934 rows x 8 columns]"
      ]
     },
     "execution_count": 56,
     "metadata": {},
     "output_type": "execute_result"
    }
   ],
   "source": [
    "#drop users with 0  SwipesRight or 0 SwipesLeft\n",
    "df = df.loc[~((df['SwipesRight'] == 0) | (df['SwipesLeft'] == 0) | (df['Num Of Messages'] == 0))]\n",
    "df"
   ]
  },
  {
   "cell_type": "code",
   "execution_count": 57,
   "metadata": {},
   "outputs": [
    {
     "data": {
      "text/plain": [
       "934"
      ]
     },
     "execution_count": 57,
     "metadata": {},
     "output_type": "execute_result"
    }
   ],
   "source": [
    "len(df.index)"
   ]
  },
  {
   "cell_type": "code",
   "execution_count": 58,
   "metadata": {},
   "outputs": [],
   "source": [
    "#drop users with empty list\n",
    "df = df[~df.Language.str.len().eq(0)]"
   ]
  },
  {
   "cell_type": "code",
   "execution_count": 59,
   "metadata": {},
   "outputs": [
    {
     "data": {
      "text/html": [
       "<div>\n",
       "<style scoped>\n",
       "    .dataframe tbody tr th:only-of-type {\n",
       "        vertical-align: middle;\n",
       "    }\n",
       "\n",
       "    .dataframe tbody tr th {\n",
       "        vertical-align: top;\n",
       "    }\n",
       "\n",
       "    .dataframe thead th {\n",
       "        text-align: right;\n",
       "    }\n",
       "</style>\n",
       "<table border=\"1\" class=\"dataframe\">\n",
       "  <thead>\n",
       "    <tr style=\"text-align: right;\">\n",
       "      <th></th>\n",
       "      <th>user</th>\n",
       "      <th>Messages</th>\n",
       "      <th>Language</th>\n",
       "      <th>SwipesRight</th>\n",
       "      <th>SwipesLeft</th>\n",
       "      <th>Matches</th>\n",
       "      <th>Num Of Messages</th>\n",
       "      <th>Age</th>\n",
       "    </tr>\n",
       "  </thead>\n",
       "  <tbody>\n",
       "    <tr>\n",
       "      <th>1</th>\n",
       "      <td>1534e9</td>\n",
       "      <td>[Hello again, so now that we matched again, wh...</td>\n",
       "      <td>[en]</td>\n",
       "      <td>45068</td>\n",
       "      <td>49559</td>\n",
       "      <td>888</td>\n",
       "      <td>2086</td>\n",
       "      <td>25</td>\n",
       "    </tr>\n",
       "    <tr>\n",
       "      <th>2</th>\n",
       "      <td>b26ebd</td>\n",
       "      <td>[It&amp;rsquo;s me, the chicken nuggets, Exactly w...</td>\n",
       "      <td>[en]</td>\n",
       "      <td>6679</td>\n",
       "      <td>5500</td>\n",
       "      <td>548</td>\n",
       "      <td>1289</td>\n",
       "      <td>24</td>\n",
       "    </tr>\n",
       "    <tr>\n",
       "      <th>3</th>\n",
       "      <td>ffbf58</td>\n",
       "      <td>[I&amp;apos;m worried about you. Based on your hik...</td>\n",
       "      <td>[en]</td>\n",
       "      <td>6724</td>\n",
       "      <td>7899</td>\n",
       "      <td>94</td>\n",
       "      <td>371</td>\n",
       "      <td>24</td>\n",
       "    </tr>\n",
       "    <tr>\n",
       "      <th>5</th>\n",
       "      <td>d6e87e</td>\n",
       "      <td>[Holaaa Andrea! Igual bonito inicio de semana,...</td>\n",
       "      <td>[it]</td>\n",
       "      <td>22552</td>\n",
       "      <td>5477</td>\n",
       "      <td>203</td>\n",
       "      <td>2768</td>\n",
       "      <td>28</td>\n",
       "    </tr>\n",
       "    <tr>\n",
       "      <th>9</th>\n",
       "      <td>90b7d6</td>\n",
       "      <td>[hey, nice pics ;&amp;rpar;, well so how are you d...</td>\n",
       "      <td>[so]</td>\n",
       "      <td>52133</td>\n",
       "      <td>45064</td>\n",
       "      <td>5075</td>\n",
       "      <td>7567</td>\n",
       "      <td>27</td>\n",
       "    </tr>\n",
       "  </tbody>\n",
       "</table>\n",
       "</div>"
      ],
      "text/plain": [
       "     user                                           Messages Language  \\\n",
       "1  1534e9  [Hello again, so now that we matched again, wh...     [en]   \n",
       "2  b26ebd  [It&rsquo;s me, the chicken nuggets, Exactly w...     [en]   \n",
       "3  ffbf58  [I&apos;m worried about you. Based on your hik...     [en]   \n",
       "5  d6e87e  [Holaaa Andrea! Igual bonito inicio de semana,...     [it]   \n",
       "9  90b7d6  [hey, nice pics ;&rpar;, well so how are you d...     [so]   \n",
       "\n",
       "   SwipesRight  SwipesLeft  Matches  Num Of Messages  Age  \n",
       "1        45068       49559      888             2086   25  \n",
       "2         6679        5500      548             1289   24  \n",
       "3         6724        7899       94              371   24  \n",
       "5        22552        5477      203             2768   28  \n",
       "9        52133       45064     5075             7567   27  "
      ]
     },
     "execution_count": 59,
     "metadata": {},
     "output_type": "execute_result"
    }
   ],
   "source": [
    "df.head()"
   ]
  },
  {
   "cell_type": "code",
   "execution_count": 60,
   "metadata": {},
   "outputs": [
    {
     "data": {
      "text/plain": [
       "792"
      ]
     },
     "execution_count": 60,
     "metadata": {},
     "output_type": "execute_result"
    }
   ],
   "source": [
    "len(df.index)"
   ]
  },
  {
   "cell_type": "code",
   "execution_count": 61,
   "metadata": {},
   "outputs": [],
   "source": [
    "#explode the colum messages so we can do the sentiment analysis \n",
    "df = df.explode('Messages')"
   ]
  },
  {
   "cell_type": "code",
   "execution_count": 45,
   "metadata": {},
   "outputs": [
    {
     "data": {
      "text/html": [
       "<div>\n",
       "<style scoped>\n",
       "    .dataframe tbody tr th:only-of-type {\n",
       "        vertical-align: middle;\n",
       "    }\n",
       "\n",
       "    .dataframe tbody tr th {\n",
       "        vertical-align: top;\n",
       "    }\n",
       "\n",
       "    .dataframe thead th {\n",
       "        text-align: right;\n",
       "    }\n",
       "</style>\n",
       "<table border=\"1\" class=\"dataframe\">\n",
       "  <thead>\n",
       "    <tr style=\"text-align: right;\">\n",
       "      <th></th>\n",
       "      <th>user</th>\n",
       "      <th>Messages</th>\n",
       "      <th>Lenguage</th>\n",
       "      <th>SwipesRight</th>\n",
       "      <th>SwipesLeft</th>\n",
       "      <th>Matches</th>\n",
       "      <th>Num Of Messages</th>\n",
       "      <th>Age</th>\n",
       "    </tr>\n",
       "  </thead>\n",
       "  <tbody>\n",
       "    <tr>\n",
       "      <th>1</th>\n",
       "      <td>1534e9</td>\n",
       "      <td>Hello again, so now that we matched again, wha...</td>\n",
       "      <td>[en]</td>\n",
       "      <td>45068</td>\n",
       "      <td>49559</td>\n",
       "      <td>888</td>\n",
       "      <td>2086</td>\n",
       "      <td>25</td>\n",
       "    </tr>\n",
       "    <tr>\n",
       "      <th>1</th>\n",
       "      <td>1534e9</td>\n",
       "      <td>Most of the girls on this app scare me, but fo...</td>\n",
       "      <td>[en]</td>\n",
       "      <td>45068</td>\n",
       "      <td>49559</td>\n",
       "      <td>888</td>\n",
       "      <td>2086</td>\n",
       "      <td>25</td>\n",
       "    </tr>\n",
       "    <tr>\n",
       "      <th>1</th>\n",
       "      <td>1534e9</td>\n",
       "      <td>Dear diary, cute girl vanished... should I sen...</td>\n",
       "      <td>[en]</td>\n",
       "      <td>45068</td>\n",
       "      <td>49559</td>\n",
       "      <td>888</td>\n",
       "      <td>2086</td>\n",
       "      <td>25</td>\n",
       "    </tr>\n",
       "    <tr>\n",
       "      <th>1</th>\n",
       "      <td>1534e9</td>\n",
       "      <td>Most of the girls on this app scare me, but fo...</td>\n",
       "      <td>[en]</td>\n",
       "      <td>45068</td>\n",
       "      <td>49559</td>\n",
       "      <td>888</td>\n",
       "      <td>2086</td>\n",
       "      <td>25</td>\n",
       "    </tr>\n",
       "    <tr>\n",
       "      <th>1</th>\n",
       "      <td>1534e9</td>\n",
       "      <td>Well not many people have photos of dogs, and ...</td>\n",
       "      <td>[en]</td>\n",
       "      <td>45068</td>\n",
       "      <td>49559</td>\n",
       "      <td>888</td>\n",
       "      <td>2086</td>\n",
       "      <td>25</td>\n",
       "    </tr>\n",
       "  </tbody>\n",
       "</table>\n",
       "</div>"
      ],
      "text/plain": [
       "     user                                           Messages Lenguage  \\\n",
       "1  1534e9  Hello again, so now that we matched again, wha...     [en]   \n",
       "1  1534e9  Most of the girls on this app scare me, but fo...     [en]   \n",
       "1  1534e9  Dear diary, cute girl vanished... should I sen...     [en]   \n",
       "1  1534e9  Most of the girls on this app scare me, but fo...     [en]   \n",
       "1  1534e9  Well not many people have photos of dogs, and ...     [en]   \n",
       "\n",
       "   SwipesRight  SwipesLeft  Matches  Num Of Messages  Age  \n",
       "1        45068       49559      888             2086   25  \n",
       "1        45068       49559      888             2086   25  \n",
       "1        45068       49559      888             2086   25  \n",
       "1        45068       49559      888             2086   25  \n",
       "1        45068       49559      888             2086   25  "
      ]
     },
     "execution_count": 45,
     "metadata": {},
     "output_type": "execute_result"
    }
   ],
   "source": [
    "df.head()"
   ]
  },
  {
   "cell_type": "code",
   "execution_count": 62,
   "metadata": {},
   "outputs": [],
   "source": [
    "#export to csv\n",
    "df.to_csv('language.csv', encoding='utf-8')"
   ]
  },
  {
   "cell_type": "code",
   "execution_count": null,
   "metadata": {},
   "outputs": [],
   "source": [
    "#Counter how many males \n",
    "countM = 0\n",
    "for user in preDf.user:\n",
    "    if user['gender'] == 'M':\n",
    "        countM += 1"
   ]
  },
  {
   "cell_type": "code",
   "execution_count": null,
   "metadata": {},
   "outputs": [],
   "source": [
    "#Counter how many males \n",
    "countF = 0\n",
    "for user in preDf.user:\n",
    "    if user['gender'] == 'F':\n",
    "        countF += 1"
   ]
  },
  {
   "cell_type": "code",
   "execution_count": null,
   "metadata": {},
   "outputs": [
    {
     "name": "stdout",
     "output_type": "stream",
     "text": [
      "The number of people interested in 'M' are:  134\n"
     ]
    }
   ],
   "source": [
    "#Counter people who are interested in 'M'\n",
    "counterM = 0\n",
    "for user in preDf.user:\n",
    "    if user[\"interestedIn\"] == \"M\":\n",
    "        counterM += 1\n",
    "print(f\"The number of people interested in 'M' are:  {counterM}\")"
   ]
  },
  {
   "cell_type": "code",
   "execution_count": null,
   "metadata": {},
   "outputs": [
    {
     "name": "stdout",
     "output_type": "stream",
     "text": [
      "The number of people interested in 'F' are:  1017\n"
     ]
    }
   ],
   "source": [
    "#Counter people who are interested in 'F'\n",
    "counterF = 0\n",
    "for user in preDf.user:\n",
    "    if user[\"interestedIn\"] == \"F\":\n",
    "        counterF += 1\n",
    "print(f\"The number of people interested in 'F' are:  {counterF}\")"
   ]
  },
  {
   "cell_type": "code",
   "execution_count": null,
   "metadata": {},
   "outputs": [
    {
     "name": "stdout",
     "output_type": "stream",
     "text": [
      "The number of people interested in 'M and F' are:  58\n"
     ]
    }
   ],
   "source": [
    "#Counter people who are interested in 'M and F'\n",
    "counterBi = 0\n",
    "for user in preDf.user:\n",
    "    if user[\"interestedIn\"] != \"F\" and user[\"interestedIn\"] != \"M\":\n",
    "        counterBi += 1\n",
    "print(f\"The number of people interested in 'M and F' are:  {counterBi}\")"
   ]
  }
 ],
 "metadata": {
  "kernelspec": {
   "display_name": "Python 3.7.12 ('testenv')",
   "language": "python",
   "name": "python3"
  },
  "language_info": {
   "codemirror_mode": {
    "name": "ipython",
    "version": 3
   },
   "file_extension": ".py",
   "mimetype": "text/x-python",
   "name": "python",
   "nbconvert_exporter": "python",
   "pygments_lexer": "ipython3",
   "version": "3.7.13"
  },
  "orig_nbformat": 4,
  "vscode": {
   "interpreter": {
    "hash": "4fcc816f2ec044d7784656daa567c60af6aeee060eb40dbc8142aae8a4e25c3a"
   }
  }
 },
 "nbformat": 4,
 "nbformat_minor": 2
}
