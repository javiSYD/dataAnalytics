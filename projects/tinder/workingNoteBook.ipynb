{
 "cells": [
  {
   "cell_type": "code",
   "execution_count": 1,
   "metadata": {},
   "outputs": [],
   "source": [
    "#import libraries \n",
    "import numpy as np\n",
    "import pandas as pd"
   ]
  },
  {
   "cell_type": "code",
   "execution_count": 3,
   "metadata": {},
   "outputs": [],
   "source": [
    "#Load the data\n",
    "profile_src_json = pd.read_json('/Users/javi/Downloads/TinderProfiles.json')"
   ]
  },
  {
   "cell_type": "code",
   "execution_count": 15,
   "metadata": {},
   "outputs": [],
   "source": [
    "#create a copy in order to work with it and not to damage our original dataSet\n",
    "profile_copy = profile_src_json.copy()"
   ]
  },
  {
   "cell_type": "code",
   "execution_count": 5,
   "metadata": {},
   "outputs": [],
   "source": [
    "#Drop off \"__v\" column as it has only 0 values\n",
    "del profile_copy[\"__v\"]"
   ]
  },
  {
   "cell_type": "code",
   "execution_count": 6,
   "metadata": {},
   "outputs": [],
   "source": [
    "#define the dataframe \n",
    "pre_df = profile_copy"
   ]
  },
  {
   "cell_type": "code",
   "execution_count": 7,
   "metadata": {},
   "outputs": [
    {
     "data": {
      "text/html": [
       "<div>\n",
       "<style scoped>\n",
       "    .dataframe tbody tr th:only-of-type {\n",
       "        vertical-align: middle;\n",
       "    }\n",
       "\n",
       "    .dataframe tbody tr th {\n",
       "        vertical-align: top;\n",
       "    }\n",
       "\n",
       "    .dataframe thead th {\n",
       "        text-align: right;\n",
       "    }\n",
       "</style>\n",
       "<table border=\"1\" class=\"dataframe\">\n",
       "  <thead>\n",
       "    <tr style=\"text-align: right;\">\n",
       "      <th></th>\n",
       "      <th>_id</th>\n",
       "      <th>appOpens</th>\n",
       "      <th>conversations</th>\n",
       "      <th>conversationsMeta</th>\n",
       "      <th>matches</th>\n",
       "      <th>messages</th>\n",
       "      <th>messagesReceived</th>\n",
       "      <th>messagesSent</th>\n",
       "      <th>swipeLikes</th>\n",
       "      <th>swipePasses</th>\n",
       "      <th>swipes</th>\n",
       "      <th>user</th>\n",
       "      <th>userId</th>\n",
       "    </tr>\n",
       "  </thead>\n",
       "  <tbody>\n",
       "    <tr>\n",
       "      <th>0</th>\n",
       "      <td>00b74e27ad1cbb2ded8e907fcc49eaaf</td>\n",
       "      <td>{'2016-01-02': 26, '2016-01-13': 10, '2016-01-...</td>\n",
       "      <td>[{'match_id': 'Match 739', 'messages': [{'to':...</td>\n",
       "      <td>{'nrOfConversations': 739, 'longestConversatio...</td>\n",
       "      <td>{'2016-01-02': 10, '2016-01-13': 5, '2016-01-1...</td>\n",
       "      <td>{'sent': {'2016-01-02': 11, '2016-01-13': 2, '...</td>\n",
       "      <td>{'2016-01-02': 12, '2016-01-13': 3, '2016-01-1...</td>\n",
       "      <td>{'2016-01-02': 11, '2016-01-13': 2, '2016-01-1...</td>\n",
       "      <td>{'2016-01-02': 50, '2016-01-13': 70, '2016-01-...</td>\n",
       "      <td>{'2016-01-02': 14, '2016-01-13': 93, '2016-01-...</td>\n",
       "      <td>{'likes': {'2016-01-02': 50, '2016-01-13': 70,...</td>\n",
       "      <td>{'birthDate': '1976-01-01T00:00:00.000Z', 'age...</td>\n",
       "      <td>00b74e27ad1cbb2ded8e907fcc49eaaf</td>\n",
       "    </tr>\n",
       "    <tr>\n",
       "      <th>1</th>\n",
       "      <td>024610702baf540af5637873cd1534e9</td>\n",
       "      <td>{'2016-07-12': 20, '2016-07-13': 18, '2016-07-...</td>\n",
       "      <td>[{'match_id': 'Match 464', 'messages': [{'to':...</td>\n",
       "      <td>{'nrOfConversations': 464, 'longestConversatio...</td>\n",
       "      <td>{'2016-07-12': 1, '2016-07-13': 0, '2016-07-14...</td>\n",
       "      <td>{'sent': {'2016-07-12': 0, '2016-07-13': 0, '2...</td>\n",
       "      <td>{'2016-07-12': 0, '2016-07-13': 0, '2016-07-14...</td>\n",
       "      <td>{'2016-07-12': 0, '2016-07-13': 0, '2016-07-14...</td>\n",
       "      <td>{'2016-07-12': 0, '2016-07-13': 221, '2016-07-...</td>\n",
       "      <td>{'2016-07-12': 0, '2016-07-13': 61, '2016-07-1...</td>\n",
       "      <td>{'likes': {'2016-07-12': 0, '2016-07-13': 221,...</td>\n",
       "      <td>{'birthDate': '1997-07-04T00:00:00.000Z', 'age...</td>\n",
       "      <td>024610702baf540af5637873cd1534e9</td>\n",
       "    </tr>\n",
       "    <tr>\n",
       "      <th>2</th>\n",
       "      <td>0a5e3dd8489fe67485ddb7d6adb26ebd</td>\n",
       "      <td>{'2019-07-01': 61, '2019-07-02': 154, '2019-07...</td>\n",
       "      <td>[{'match_id': 'Match 303', 'messages': [{'to':...</td>\n",
       "      <td>{'nrOfConversations': 303, 'longestConversatio...</td>\n",
       "      <td>{'2019-07-01': 13, '2019-07-02': 12, '2019-07-...</td>\n",
       "      <td>{'sent': {'2019-07-01': 12, '2019-07-02': 66, ...</td>\n",
       "      <td>{'2019-07-01': 6, '2019-07-02': 70, '2019-07-0...</td>\n",
       "      <td>{'2019-07-01': 12, '2019-07-02': 66, '2019-07-...</td>\n",
       "      <td>{'2019-07-01': 87, '2019-07-02': 39, '2019-07-...</td>\n",
       "      <td>{'2019-07-01': 30, '2019-07-02': 12, '2019-07-...</td>\n",
       "      <td>{'likes': {'2019-07-01': 87, '2019-07-02': 39,...</td>\n",
       "      <td>{'birthDate': '1998-02-06T00:00:00.000Z', 'age...</td>\n",
       "      <td>0a5e3dd8489fe67485ddb7d6adb26ebd</td>\n",
       "    </tr>\n",
       "  </tbody>\n",
       "</table>\n",
       "</div>"
      ],
      "text/plain": [
       "                                _id  \\\n",
       "0  00b74e27ad1cbb2ded8e907fcc49eaaf   \n",
       "1  024610702baf540af5637873cd1534e9   \n",
       "2  0a5e3dd8489fe67485ddb7d6adb26ebd   \n",
       "\n",
       "                                            appOpens  \\\n",
       "0  {'2016-01-02': 26, '2016-01-13': 10, '2016-01-...   \n",
       "1  {'2016-07-12': 20, '2016-07-13': 18, '2016-07-...   \n",
       "2  {'2019-07-01': 61, '2019-07-02': 154, '2019-07...   \n",
       "\n",
       "                                       conversations  \\\n",
       "0  [{'match_id': 'Match 739', 'messages': [{'to':...   \n",
       "1  [{'match_id': 'Match 464', 'messages': [{'to':...   \n",
       "2  [{'match_id': 'Match 303', 'messages': [{'to':...   \n",
       "\n",
       "                                   conversationsMeta  \\\n",
       "0  {'nrOfConversations': 739, 'longestConversatio...   \n",
       "1  {'nrOfConversations': 464, 'longestConversatio...   \n",
       "2  {'nrOfConversations': 303, 'longestConversatio...   \n",
       "\n",
       "                                             matches  \\\n",
       "0  {'2016-01-02': 10, '2016-01-13': 5, '2016-01-1...   \n",
       "1  {'2016-07-12': 1, '2016-07-13': 0, '2016-07-14...   \n",
       "2  {'2019-07-01': 13, '2019-07-02': 12, '2019-07-...   \n",
       "\n",
       "                                            messages  \\\n",
       "0  {'sent': {'2016-01-02': 11, '2016-01-13': 2, '...   \n",
       "1  {'sent': {'2016-07-12': 0, '2016-07-13': 0, '2...   \n",
       "2  {'sent': {'2019-07-01': 12, '2019-07-02': 66, ...   \n",
       "\n",
       "                                    messagesReceived  \\\n",
       "0  {'2016-01-02': 12, '2016-01-13': 3, '2016-01-1...   \n",
       "1  {'2016-07-12': 0, '2016-07-13': 0, '2016-07-14...   \n",
       "2  {'2019-07-01': 6, '2019-07-02': 70, '2019-07-0...   \n",
       "\n",
       "                                        messagesSent  \\\n",
       "0  {'2016-01-02': 11, '2016-01-13': 2, '2016-01-1...   \n",
       "1  {'2016-07-12': 0, '2016-07-13': 0, '2016-07-14...   \n",
       "2  {'2019-07-01': 12, '2019-07-02': 66, '2019-07-...   \n",
       "\n",
       "                                          swipeLikes  \\\n",
       "0  {'2016-01-02': 50, '2016-01-13': 70, '2016-01-...   \n",
       "1  {'2016-07-12': 0, '2016-07-13': 221, '2016-07-...   \n",
       "2  {'2019-07-01': 87, '2019-07-02': 39, '2019-07-...   \n",
       "\n",
       "                                         swipePasses  \\\n",
       "0  {'2016-01-02': 14, '2016-01-13': 93, '2016-01-...   \n",
       "1  {'2016-07-12': 0, '2016-07-13': 61, '2016-07-1...   \n",
       "2  {'2019-07-01': 30, '2019-07-02': 12, '2019-07-...   \n",
       "\n",
       "                                              swipes  \\\n",
       "0  {'likes': {'2016-01-02': 50, '2016-01-13': 70,...   \n",
       "1  {'likes': {'2016-07-12': 0, '2016-07-13': 221,...   \n",
       "2  {'likes': {'2019-07-01': 87, '2019-07-02': 39,...   \n",
       "\n",
       "                                                user  \\\n",
       "0  {'birthDate': '1976-01-01T00:00:00.000Z', 'age...   \n",
       "1  {'birthDate': '1997-07-04T00:00:00.000Z', 'age...   \n",
       "2  {'birthDate': '1998-02-06T00:00:00.000Z', 'age...   \n",
       "\n",
       "                             userId  \n",
       "0  00b74e27ad1cbb2ded8e907fcc49eaaf  \n",
       "1  024610702baf540af5637873cd1534e9  \n",
       "2  0a5e3dd8489fe67485ddb7d6adb26ebd  "
      ]
     },
     "execution_count": 7,
     "metadata": {},
     "output_type": "execute_result"
    }
   ],
   "source": [
    "pre_df.head(3)"
   ]
  },
  {
   "cell_type": "markdown",
   "metadata": {},
   "source": [
    "### Each profile has an ID number which we use to check how many users are in the dataset. We also verify that there aren't any Duplicate Accounts in this dataset before continuing on with our research!"
   ]
  },
  {
   "cell_type": "code",
   "execution_count": 8,
   "metadata": {},
   "outputs": [
    {
     "name": "stdout",
     "output_type": "stream",
     "text": [
      "1209\n"
     ]
    }
   ],
   "source": [
    "# get the user id to see how many profiles are \n",
    "allusersids = []\n",
    "for uniqueid in pre_df.userId:\n",
    "    userid = uniqueid[-6:]\n",
    "    allusersids.append(userid)\n",
    "print(len(allusersids))"
   ]
  },
  {
   "cell_type": "markdown",
   "metadata": {},
   "source": [
    "### We want to see how many times each user opened the app in our dataset, and also what their average daily number was.\n"
   ]
  },
  {
   "cell_type": "code",
   "execution_count": 9,
   "metadata": {},
   "outputs": [
    {
     "name": "stdout",
     "output_type": "stream",
     "text": [
      "there are 290 people who open the app every day\n"
     ]
    }
   ],
   "source": [
    "import sys \n",
    "personOpeners = []\n",
    "for openers in pre_df.appOpens:\n",
    "    if len(openers) == 0:\n",
    "        continue\n",
    "    maxDate = \"\"\n",
    "    maxOpens = 0\n",
    "    minDate = \"\"\n",
    "    minOpens = sys.maxsize\n",
    "    for date in openers:\n",
    "        if (openers[date] > maxOpens):\n",
    "            maxOpens = openers[date]\n",
    "            maxDate = date\n",
    "\n",
    "        if (openers[date] < minOpens):\n",
    "            minOpens = openers[date]\n",
    "            minDate = date\n",
    "\n",
    "    personOpeners.append(minOpens)\n",
    "    # append the vals to a list\n",
    "\n",
    "counter = 0\n",
    "for j in personOpeners:\n",
    "    if j >= 1:\n",
    "        counter += 1 \n",
    "\n",
    "print(f'there are {counter} people who open the app every day')\n"
   ]
  },
  {
   "cell_type": "markdown",
   "metadata": {},
   "source": [
    "### Since the messages are in a JSON structure, we have to take those out in order to do our language classification and run the sentiment analysis"
   ]
  },
  {
   "cell_type": "code",
   "execution_count": 10,
   "metadata": {},
   "outputs": [],
   "source": [
    "#Take all conversations for each user in a list to add it to our dataFrame \n",
    "all_messages=[]\n",
    "for conversation in pre_df.conversations:\n",
    "    messages=[]\n",
    "    for match in conversation:\n",
    "        for message in match['messages']:\n",
    "            if 'message' in message.keys():\n",
    "                messages.append(message['message'])\n",
    "    # messages=messages[:10]\n",
    "    all_messages.append(messages)"
   ]
  },
  {
   "cell_type": "code",
   "execution_count": 11,
   "metadata": {},
   "outputs": [],
   "source": [
    "#import the langdetect in order to detect the lenguaje of the message\n",
    "#We will focus on English, Spanish and Japanese \n",
    "from langdetect import detect"
   ]
  },
  {
   "cell_type": "code",
   "execution_count": 14,
   "metadata": {},
   "outputs": [],
   "source": [
    "# Save all the conversations in a csv file so we can use it to train the ML model \n",
    "# Identify the language of the message with the langdetect module\n",
    "messages_file = open('tinder_combo.csv','w')\n",
    "files = {\n",
    "    # 'en': open('en_messages.csv', 'w'),\n",
    "    # 'es': open('sp_messages.csv', 'w'),\n",
    "    # 'ja': open('jp_messages.csv', 'w')\n",
    "}\n",
    "for messages in all_messages:\n",
    "    for message in messages:\n",
    "        if len(message) != 0:\n",
    "            try:\n",
    "                language = detect(message)\n",
    "                if language not in files.keys():\n",
    "                    files[language] = open('messages/' + language +'.csv', 'w', encoding='utf-8')\n",
    "                files[language].write(repr(message) + '\\n')\n",
    "            except:\n",
    "                1\n",
    "\n",
    "for language in files:\n",
    "    files[language].close()\n",
    "\n",
    "# I have to create a folder 'messages'"
   ]
  },
  {
   "cell_type": "code",
   "execution_count": 15,
   "metadata": {},
   "outputs": [
    {
     "name": "stdout",
     "output_type": "stream",
     "text": [
      "totalNrOfConversation 1209\n",
      "totalLongestConversation 1209\n",
      "totalLongestConversationInDay 1209\n",
      "totalNrOfOneMessageConversation 1209\n"
     ]
    }
   ],
   "source": [
    "#Take the conversationsMeta of each user and brake down the dictionary format\n",
    "\"\"\"\"This is in a total time frame but the other has a len of 100, it that a problem  \"\"\" \n",
    "totalNrOfConversation=[]\n",
    "totalLongestConversation=[]\n",
    "totalLongestConversationInDay=[]\n",
    "totalNrOfOneMessageConversation=[]\n",
    "\n",
    "\n",
    "for conversationMeta in pre_df.conversationsMeta:\n",
    "    totalNrOfConversation.append(conversationMeta['nrOfConversations'])\n",
    "    totalLongestConversation.append(conversationMeta['longestConversation'])\n",
    "    totalLongestConversationInDay.append(conversationMeta['longestConversationInDays'])\n",
    "    totalNrOfOneMessageConversation.append(conversationMeta['nrOfOneMessageConversations'])\n",
    "\n",
    "# check if the new list has the same len according to the number of users \n",
    "print('totalNrOfConversation', len(totalNrOfConversation))\n",
    "print('totalLongestConversation', len(totalLongestConversation))\n",
    "print('totalLongestConversationInDay', len(totalLongestConversationInDay))\n",
    "print('totalNrOfOneMessageConversation', len(totalNrOfOneMessageConversation))\n"
   ]
  },
  {
   "cell_type": "code",
   "execution_count": null,
   "metadata": {},
   "outputs": [],
   "source": [
    "#Take 100 app matches for each user and check how many times it open the app in a day\n",
    "all_MatchesDates = []\n",
    "all_matches = []\n",
    "#list of numbers, each number is a user \n",
    "allTotalMatches = []\n",
    "\n",
    "for dfMatches in pre_df.matches:\n",
    "    matches = []\n",
    "    matchesDate = []\n",
    "    #variable name \n",
    "    totalMatches = 0\n",
    "\n",
    "    for MatchDate in dfMatches:\n",
    "        matches.append(dfMatches[MatchDate])\n",
    "        totalMatches += dfMatches[MatchDate]\n",
    "        matchesDate.append(MatchDate)    \n",
    "\n",
    "    all_matches.append(matches)\n",
    "    all_MatchesDates.append(matchesDate)\n",
    "\n",
    "    print(totalMatches)"
   ]
  },
  {
   "cell_type": "code",
   "execution_count": 15,
   "metadata": {},
   "outputs": [
    {
     "data": {
      "text/plain": [
       "1209"
      ]
     },
     "execution_count": 15,
     "metadata": {},
     "output_type": "execute_result"
    }
   ],
   "source": [
    "#Take 100 app swipeLikes for each user and check how many times it open the app in a day\n",
    "all_swipeLikes = []\n",
    "for atraction in pre_df.swipeLikes:\n",
    "    matches = []\n",
    "    for heart in atraction:\n",
    "        matches.append(atraction[heart])\n",
    "    matches=matches[:100]\n",
    "    all_swipeLikes.append(matches)\n",
    "len(all_swipeLikes)"
   ]
  },
  {
   "cell_type": "code",
   "execution_count": 16,
   "metadata": {},
   "outputs": [
    {
     "data": {
      "text/plain": [
       "1209"
      ]
     },
     "execution_count": 16,
     "metadata": {},
     "output_type": "execute_result"
    }
   ],
   "source": [
    "#Take 100 app swipePasses for each user and check how many times it open the app in a day\n",
    "all_swipePasses = []\n",
    "for dislike in pre_df.swipePasses:\n",
    "    dislikes = []\n",
    "    for left in dislike:\n",
    "        dislikes.append(dislike[left])\n",
    "    dislikes=dislikes[:100]\n",
    "    all_swipePasses.append(dislikes)\n",
    "len(all_swipePasses)"
   ]
  },
  {
   "cell_type": "code",
   "execution_count": null,
   "metadata": {},
   "outputs": [],
   "source": [
    "#import library for know the user age \n",
    "from datetime import date\n",
    "from datetime import datetime\n",
    "\n",
    "#Take user anonymous data and break down the dictionary format\n",
    "allBirthDates=[]\n",
    "allcities = []\n",
    "allcountreis=[]\n",
    "allgenders=[]\n",
    "allinterestedIn=[]\n",
    "\n",
    "#Users date of birth\n",
    "def age(birthdate):\n",
    "    today = date.today()\n",
    "    age = today.year - birthdate.year #- ((today.month, today.day) < (birthdate.month, birthdate.day))\n",
    "    return age\n",
    "\n",
    "for person in pre_df.user:\n",
    "    birthdateStr = person['birthDate'][:10]\n",
    "    birthdate = datetime.strptime(birthdateStr, '%Y-%m-%d')\n",
    "    userAge = age(birthdate)\n",
    "    allBirthDates.append(userAge)\n",
    "\n",
    "#Users city\n",
    "# for person in pre_df.user:\n",
    "#     print(person)\n",
    "#     allcities.append(person['cityName'])\n",
    "\n",
    "#Users country\n",
    "counter = 0\n",
    "for person in pre_df.user:\n",
    "    if 'country' in person.keys():\n",
    "        allcountreis.append(person['country'])\n",
    "    else:\n",
    "        allcountreis.append('')\n",
    "        counter += 1\n",
    "print(counter)\n",
    "        \n",
    "        \n",
    "#Users gender\n",
    "for person in pre_df.user:\n",
    "    gender = person['gender']\n",
    "    allgenders.append(gender)\n",
    "\n",
    "#Users interest In\n",
    "for person in pre_df.user:\n",
    "    for interest in person:\n",
    "        if interest == 'interestedIn':\n",
    "            searching = []\n",
    "            searching.append(person[interest])\n",
    "    allinterestedIn.append(searching)\n"
   ]
  },
  {
   "cell_type": "markdown",
   "metadata": {},
   "source": [
    "### CREATE THE DATASET WITH DATA WE HAVE CLEANED"
   ]
  },
  {
   "cell_type": "code",
   "execution_count": 56,
   "metadata": {},
   "outputs": [
    {
     "data": {
      "text/html": [
       "<div>\n",
       "<style scoped>\n",
       "    .dataframe tbody tr th:only-of-type {\n",
       "        vertical-align: middle;\n",
       "    }\n",
       "\n",
       "    .dataframe tbody tr th {\n",
       "        vertical-align: top;\n",
       "    }\n",
       "\n",
       "    .dataframe thead th {\n",
       "        text-align: right;\n",
       "    }\n",
       "</style>\n",
       "<table border=\"1\" class=\"dataframe\">\n",
       "  <thead>\n",
       "    <tr style=\"text-align: right;\">\n",
       "      <th></th>\n",
       "      <th>user_id</th>\n",
       "    </tr>\n",
       "  </thead>\n",
       "  <tbody>\n",
       "    <tr>\n",
       "      <th>0</th>\n",
       "      <td>49eaaf</td>\n",
       "    </tr>\n",
       "    <tr>\n",
       "      <th>1</th>\n",
       "      <td>1534e9</td>\n",
       "    </tr>\n",
       "    <tr>\n",
       "      <th>2</th>\n",
       "      <td>b26ebd</td>\n",
       "    </tr>\n",
       "  </tbody>\n",
       "</table>\n",
       "</div>"
      ],
      "text/plain": [
       "  user_id\n",
       "0  49eaaf\n",
       "1  1534e9\n",
       "2  b26ebd"
      ]
     },
     "execution_count": 56,
     "metadata": {},
     "output_type": "execute_result"
    }
   ],
   "source": [
    "#We insert the unique user id\n",
    "df = pd.DataFrame(allusersids,columns=['user_id'])\n",
    "df.head(3)"
   ]
  },
  {
   "cell_type": "code",
   "execution_count": 57,
   "metadata": {},
   "outputs": [
    {
     "data": {
      "text/plain": [
       "False"
      ]
     },
     "execution_count": 57,
     "metadata": {},
     "output_type": "execute_result"
    }
   ],
   "source": [
    "#check if there is user with Null value in their id\n",
    "pd.isnull(df.loc[1, 'user_id'])"
   ]
  },
  {
   "cell_type": "code",
   "execution_count": 58,
   "metadata": {},
   "outputs": [],
   "source": [
    "#Merge app_opens data with df\n",
    "df['app_opens']=all_opens"
   ]
  },
  {
   "cell_type": "code",
   "execution_count": 59,
   "metadata": {},
   "outputs": [
    {
     "data": {
      "text/plain": [
       "False"
      ]
     },
     "execution_count": 59,
     "metadata": {},
     "output_type": "execute_result"
    }
   ],
   "source": [
    "#check if there is user with Null value in app_opens colum\n",
    "pd.isnull('app_opens')"
   ]
  },
  {
   "cell_type": "code",
   "execution_count": 60,
   "metadata": {},
   "outputs": [],
   "source": [
    "df['opens_date']=all_dates"
   ]
  },
  {
   "cell_type": "code",
   "execution_count": 61,
   "metadata": {},
   "outputs": [],
   "source": [
    "#Merge all_messages data with df\n",
    "df['all_messages']=all_messages"
   ]
  },
  {
   "cell_type": "code",
   "execution_count": null,
   "metadata": {},
   "outputs": [],
   "source": [
    "#check if the list messages has any conversations \n",
    "empity = df['all_messages'].str.len()!=0\n",
    "print(empity)"
   ]
  },
  {
   "cell_type": "code",
   "execution_count": 63,
   "metadata": {},
   "outputs": [],
   "source": [
    "#Merge number_conversations data with df\n",
    "df['number_conversations']= totalNrOfConversation"
   ]
  },
  {
   "cell_type": "code",
   "execution_count": 64,
   "metadata": {},
   "outputs": [
    {
     "name": "stdout",
     "output_type": "stream",
     "text": [
      "The number of empty number_conversations are:  29\n"
     ]
    }
   ],
   "source": [
    "#check if there is user with 0 value in app_opens colum\n",
    "count = (df['number_conversations'] == 0).sum()\n",
    "print('The number of empty conversations are: ', count)"
   ]
  },
  {
   "cell_type": "code",
   "execution_count": 65,
   "metadata": {},
   "outputs": [],
   "source": [
    "#Merge longest_conver data with df\n",
    "df['longest_conver']=totalLongestConversation"
   ]
  },
  {
   "cell_type": "code",
   "execution_count": 66,
   "metadata": {},
   "outputs": [
    {
     "name": "stdout",
     "output_type": "stream",
     "text": [
      "The number with 0 time conversations are:  33\n"
     ]
    }
   ],
   "source": [
    "#check if there is user with 0 time conversation\n",
    "zero_time = (df['longest_conver'] == 0).sum()\n",
    "print('The number with 0 time conversations are: ', zero_time)"
   ]
  },
  {
   "cell_type": "code",
   "execution_count": 67,
   "metadata": {},
   "outputs": [],
   "source": [
    "#Merge longest_conver_day data with df\n",
    "df['longest_conver_day']=totalLongestConversationInDay"
   ]
  },
  {
   "cell_type": "code",
   "execution_count": 68,
   "metadata": {},
   "outputs": [
    {
     "name": "stdout",
     "output_type": "stream",
     "text": [
      "The number with 0 time conversations in day are:  52\n"
     ]
    }
   ],
   "source": [
    "#check if there is user with 0 time conversation insde the logset Conversation day column\n",
    "zero_time_day = (df['longest_conver_day'] == 0).sum()\n",
    "print('The number with 0 time conversations in day are: ', zero_time_day)"
   ]
  },
  {
   "cell_type": "code",
   "execution_count": 69,
   "metadata": {},
   "outputs": [],
   "source": [
    "#Merge num_messages_conver data with df\n",
    "df['num_messages_conver']=totalNrOfOneMessageConversation"
   ]
  },
  {
   "cell_type": "code",
   "execution_count": 70,
   "metadata": {},
   "outputs": [
    {
     "name": "stdout",
     "output_type": "stream",
     "text": [
      "The number with 0 time conversations in day are:  82\n"
     ]
    }
   ],
   "source": [
    "#check if there is user with 0 messages Conversation day column\n",
    "messages_conver = (df['num_messages_conver'] == 0).sum()\n",
    "print('The number with 0 time conversations in day are: ', messages_conver)"
   ]
  },
  {
   "cell_type": "code",
   "execution_count": 75,
   "metadata": {},
   "outputs": [],
   "source": [
    "#Merge all_matchesDates data with df\n",
    "df['all_matchesDates']=all_MatchesDates"
   ]
  },
  {
   "cell_type": "code",
   "execution_count": 76,
   "metadata": {},
   "outputs": [],
   "source": [
    "#Merge all_matches data with df\n",
    "df['all_matches']=all_matches"
   ]
  },
  {
   "cell_type": "code",
   "execution_count": 77,
   "metadata": {},
   "outputs": [
    {
     "name": "stdout",
     "output_type": "stream",
     "text": [
      "The number of user with 0 matches are:  0\n"
     ]
    }
   ],
   "source": [
    "\"\"\"\" To fix becasue I think the result is not true \"\"\"\n",
    "#check if there is user with zero matches\n",
    "zero_matches = (df['all_matches'] == 0).sum()\n",
    "print('The number of user with 0 matches are: ', zero_matches)"
   ]
  },
  {
   "cell_type": "code",
   "execution_count": 78,
   "metadata": {},
   "outputs": [],
   "source": [
    "#Merge all_matches data with df\n",
    "df['all_swipeLikes']=all_swipeLikes"
   ]
  },
  {
   "cell_type": "code",
   "execution_count": 79,
   "metadata": {},
   "outputs": [],
   "source": [
    "#Merge all_swipePasses data with df\n",
    "df['all_swipePasses']=all_swipePasses"
   ]
  },
  {
   "cell_type": "code",
   "execution_count": 80,
   "metadata": {},
   "outputs": [],
   "source": [
    "#Merge all_BirthDates data with df\n",
    "df['all_BirthDates']= allBirthDates"
   ]
  },
  {
   "cell_type": "code",
   "execution_count": null,
   "metadata": {},
   "outputs": [],
   "source": [
    "\"\"\"\" To fix becasue I think the result is not true \"\"\"\n",
    "#check if there is user without a Birthday data \n",
    "not_birthday = (df['all_BirthDates'] == []).sum()  \n",
    "print('The number of user without a date of birth: ', not_birthday)"
   ]
  },
  {
   "cell_type": "code",
   "execution_count": 37,
   "metadata": {},
   "outputs": [],
   "source": [
    "#Merge all_Cities data with df\n",
    "df['all_Cities']= allcities"
   ]
  },
  {
   "cell_type": "code",
   "execution_count": 108,
   "metadata": {},
   "outputs": [],
   "source": [
    "#Merge all_genders data with df\n",
    "df['all_genders']= allgenders"
   ]
  },
  {
   "cell_type": "code",
   "execution_count": 39,
   "metadata": {},
   "outputs": [],
   "source": [
    "#Merge all_interestedIn data with df\n",
    "df['all_interestedIn']= allinterestedIn"
   ]
  },
  {
   "cell_type": "code",
   "execution_count": 52,
   "metadata": {},
   "outputs": [
    {
     "name": "stdout",
     "output_type": "stream",
     "text": [
      "The number of people interested in 'M' are:  134\n"
     ]
    }
   ],
   "source": [
    "#Counter people who are interested in 'M'\n",
    "counterM = 0\n",
    "for user in pre_df.user:\n",
    "    if user[\"interestedIn\"] == \"M\":\n",
    "        counterM += 1\n",
    "print(f\"The number of people interested in 'M' are:  {counterM}\")"
   ]
  },
  {
   "cell_type": "code",
   "execution_count": 53,
   "metadata": {},
   "outputs": [
    {
     "name": "stdout",
     "output_type": "stream",
     "text": [
      "The number of people interested in 'F' are:  1017\n"
     ]
    }
   ],
   "source": [
    "#Counter people who are interested in 'F'\n",
    "counterF = 0\n",
    "for user in pre_df.user:\n",
    "    if user[\"interestedIn\"] == \"F\":\n",
    "        counterF += 1\n",
    "print(f\"The number of people interested in 'F' are:  {counterF}\")"
   ]
  },
  {
   "cell_type": "code",
   "execution_count": 54,
   "metadata": {},
   "outputs": [
    {
     "name": "stdout",
     "output_type": "stream",
     "text": [
      "The number of people interested in 'M and F' are:  58\n"
     ]
    }
   ],
   "source": [
    "#Counter people who are interested in 'M and F'\n",
    "counterBi = 0\n",
    "for user in pre_df.user:\n",
    "    if user[\"interestedIn\"] != \"F\" and user[\"interestedIn\"] != \"M\":\n",
    "        counterBi += 1\n",
    "print(f\"The number of people interested in 'M and F' are:  {counterBi}\")"
   ]
  },
  {
   "cell_type": "code",
   "execution_count": 109,
   "metadata": {},
   "outputs": [
    {
     "data": {
      "text/html": [
       "<div>\n",
       "<style scoped>\n",
       "    .dataframe tbody tr th:only-of-type {\n",
       "        vertical-align: middle;\n",
       "    }\n",
       "\n",
       "    .dataframe tbody tr th {\n",
       "        vertical-align: top;\n",
       "    }\n",
       "\n",
       "    .dataframe thead th {\n",
       "        text-align: right;\n",
       "    }\n",
       "</style>\n",
       "<table border=\"1\" class=\"dataframe\">\n",
       "  <thead>\n",
       "    <tr style=\"text-align: right;\">\n",
       "      <th></th>\n",
       "      <th>user_id</th>\n",
       "      <th>app_opens</th>\n",
       "      <th>opens_date</th>\n",
       "      <th>all_messages</th>\n",
       "      <th>number_conversations</th>\n",
       "      <th>longest_conver</th>\n",
       "      <th>longest_conver_day</th>\n",
       "      <th>num_messages_conver</th>\n",
       "      <th>all_matchesDates</th>\n",
       "      <th>all_matches</th>\n",
       "      <th>all_swipeLikes</th>\n",
       "      <th>all_swipePasses</th>\n",
       "      <th>all_BirthDates</th>\n",
       "      <th>all_genders</th>\n",
       "    </tr>\n",
       "  </thead>\n",
       "  <tbody>\n",
       "    <tr>\n",
       "      <th>0</th>\n",
       "      <td>49eaaf</td>\n",
       "      <td>[24]</td>\n",
       "      <td>[2017-12-30]</td>\n",
       "      <td>[]</td>\n",
       "      <td>739</td>\n",
       "      <td>133</td>\n",
       "      <td>683.557442</td>\n",
       "      <td>226</td>\n",
       "      <td>[((2016-01-02, 10), (2016-01-13, 5), (2016-01-...</td>\n",
       "      <td>[10, 5, 9, 8, 6, 13, 4, 14, 2, 12, 2, 8, 2, 4,...</td>\n",
       "      <td>[50, 70, 21, 5, 29, 92, 27, 77, 84, 76, 82, 93...</td>\n",
       "      <td>[14, 93, 75, 96, 71, 38, 76, 56, 21, 49, 41, 2...</td>\n",
       "      <td>[1976-01-01]</td>\n",
       "      <td>M</td>\n",
       "    </tr>\n",
       "    <tr>\n",
       "      <th>1</th>\n",
       "      <td>1534e9</td>\n",
       "      <td>[6]</td>\n",
       "      <td>[2020-02-20]</td>\n",
       "      <td>[Hello again, so now that we matched again, wh...</td>\n",
       "      <td>464</td>\n",
       "      <td>36</td>\n",
       "      <td>622.466528</td>\n",
       "      <td>56</td>\n",
       "      <td>[((2016-07-12, 1), (2016-07-13, 0), (2016-07-1...</td>\n",
       "      <td>[1, 0, 1, 1, 1, 2, 0, 0, 0, 0, 0, 0, 0, 0, 0, ...</td>\n",
       "      <td>[0, 221, 108, 215, 110, 215, 118, 115, 116, 4,...</td>\n",
       "      <td>[0, 61, 19, 90, 23, 54, 40, 42, 29, 0, 42, 23,...</td>\n",
       "      <td>[1997-07-04]</td>\n",
       "      <td>M</td>\n",
       "    </tr>\n",
       "    <tr>\n",
       "      <th>2</th>\n",
       "      <td>b26ebd</td>\n",
       "      <td>[2]</td>\n",
       "      <td>[2020-05-13]</td>\n",
       "      <td>[It&amp;rsquo;s me, the chicken nuggets, Exactly w...</td>\n",
       "      <td>303</td>\n",
       "      <td>33</td>\n",
       "      <td>295.283414</td>\n",
       "      <td>106</td>\n",
       "      <td>[((2019-07-01, 13), (2019-07-02, 12), (2019-07...</td>\n",
       "      <td>[13, 12, 23, 15, 9, 5, 2, 1, 0, 3, 0, 0, 1, 1,...</td>\n",
       "      <td>[87, 39, 122, 67, 35, 14, 26, 98, 46, 99, 15, ...</td>\n",
       "      <td>[30, 12, 48, 26, 18, 10, 19, 55, 19, 99, 12, 4...</td>\n",
       "      <td>[1998-02-06]</td>\n",
       "      <td>M</td>\n",
       "    </tr>\n",
       "  </tbody>\n",
       "</table>\n",
       "</div>"
      ],
      "text/plain": [
       "  user_id app_opens    opens_date  \\\n",
       "0  49eaaf      [24]  [2017-12-30]   \n",
       "1  1534e9       [6]  [2020-02-20]   \n",
       "2  b26ebd       [2]  [2020-05-13]   \n",
       "\n",
       "                                        all_messages  number_conversations  \\\n",
       "0                                                 []                   739   \n",
       "1  [Hello again, so now that we matched again, wh...                   464   \n",
       "2  [It&rsquo;s me, the chicken nuggets, Exactly w...                   303   \n",
       "\n",
       "   longest_conver  longest_conver_day  num_messages_conver  \\\n",
       "0             133          683.557442                  226   \n",
       "1              36          622.466528                   56   \n",
       "2              33          295.283414                  106   \n",
       "\n",
       "                                    all_matchesDates  \\\n",
       "0  [((2016-01-02, 10), (2016-01-13, 5), (2016-01-...   \n",
       "1  [((2016-07-12, 1), (2016-07-13, 0), (2016-07-1...   \n",
       "2  [((2019-07-01, 13), (2019-07-02, 12), (2019-07...   \n",
       "\n",
       "                                         all_matches  \\\n",
       "0  [10, 5, 9, 8, 6, 13, 4, 14, 2, 12, 2, 8, 2, 4,...   \n",
       "1  [1, 0, 1, 1, 1, 2, 0, 0, 0, 0, 0, 0, 0, 0, 0, ...   \n",
       "2  [13, 12, 23, 15, 9, 5, 2, 1, 0, 3, 0, 0, 1, 1,...   \n",
       "\n",
       "                                      all_swipeLikes  \\\n",
       "0  [50, 70, 21, 5, 29, 92, 27, 77, 84, 76, 82, 93...   \n",
       "1  [0, 221, 108, 215, 110, 215, 118, 115, 116, 4,...   \n",
       "2  [87, 39, 122, 67, 35, 14, 26, 98, 46, 99, 15, ...   \n",
       "\n",
       "                                     all_swipePasses all_BirthDates  \\\n",
       "0  [14, 93, 75, 96, 71, 38, 76, 56, 21, 49, 41, 2...   [1976-01-01]   \n",
       "1  [0, 61, 19, 90, 23, 54, 40, 42, 29, 0, 42, 23,...   [1997-07-04]   \n",
       "2  [30, 12, 48, 26, 18, 10, 19, 55, 19, 99, 12, 4...   [1998-02-06]   \n",
       "\n",
       "  all_genders  \n",
       "0           M  \n",
       "1           M  \n",
       "2           M  "
      ]
     },
     "execution_count": 109,
     "metadata": {},
     "output_type": "execute_result"
    }
   ],
   "source": [
    "df.head(3)"
   ]
  },
  {
   "cell_type": "markdown",
   "metadata": {},
   "source": [
    "# INSIGHTS "
   ]
  },
  {
   "cell_type": "markdown",
   "metadata": {},
   "source": [
    "## APP OPENERS \n",
    "% of people who open the app every day "
   ]
  },
  {
   "cell_type": "code",
   "execution_count": 36,
   "metadata": {},
   "outputs": [
    {
     "name": "stdout",
     "output_type": "stream",
     "text": [
      "there are 290 people who open the app every day\n"
     ]
    }
   ],
   "source": [
    "print(f'there are {counter} people who open the app every day')"
   ]
  },
  {
   "cell_type": "markdown",
   "metadata": {},
   "source": [
    "## MATCHES "
   ]
  },
  {
   "cell_type": "markdown",
   "metadata": {},
   "source": [
    "from the total 1200 prifiles how many swipe right \n",
    "from the total 1200 prifiles how many swipe left "
   ]
  },
  {
   "cell_type": "code",
   "execution_count": null,
   "metadata": {},
   "outputs": [],
   "source": [
    "#the variable is in the local scope thay is why is printing 0 \n",
    "print(f'total number of matches {totalMatches}')\n",
    "\n",
    "#total swipe right swipeLikes\n",
    "\n",
    "\n",
    "#total swipe left swipePasses"
   ]
  },
  {
   "cell_type": "markdown",
   "metadata": {},
   "source": [
    "## Age"
   ]
  },
  {
   "cell_type": "code",
   "execution_count": null,
   "metadata": {},
   "outputs": [],
   "source": [
    "#dataset age distribution \n",
    "allBirthDates\n",
    "\n",
    "# fig = px.bar(allBirthDates, title=\"Age of users\")\n",
    "# fig.update_layout(\n",
    "#     xaxis_title = \"Age\",\n",
    "#     yaxis_title = \"Frequency\",\n",
    "#     title_x = 0.5, \n",
    "#     showlegend = False\n",
    "# )\n",
    "# fig.show()"
   ]
  },
  {
   "cell_type": "markdown",
   "metadata": {},
   "source": [
    "## Diversity"
   ]
  },
  {
   "cell_type": "code",
   "execution_count": 55,
   "metadata": {},
   "outputs": [
    {
     "name": "stdout",
     "output_type": "stream",
     "text": [
      "The number of people interested in 'M' are:  134\n",
      "The number of people interested in 'F' are:  1017\n",
      "The number of people interested in 'M and F' are:  58\n"
     ]
    }
   ],
   "source": [
    "print(f\"The number of people interested in 'M' are:  {counterM}\")\n",
    "print(f\"The number of people interested in 'F' are:  {counterF}\")\n",
    "print(f\"The number of people interested in 'M and F' are:  {counterBi}\")\n",
    "\n",
    "\n",
    "# import matplotlib.pyplot as plt\n",
    "# data = counterM, counterF, counterBi\n",
    "# colors = ['orange', 'green', 'cyan']\n",
    "# highlight =(0,0,0)\n",
    "# plt.pie(list(data), explode=highlight, labels=data.keys(), colors=colors, autopct='%2.1f%%', shadow=True, startangle=90)\n",
    "# plt.axis('equal')\n",
    "# plt.show()"
   ]
  },
  {
   "cell_type": "code",
   "execution_count": null,
   "metadata": {},
   "outputs": [],
   "source": [
    "#Countries involved in the research \n",
    "\n",
    "fig = px.choropleth(df, locations = 'country', locationmode = 'country names', animation_frame='year',\n",
    "                    hover_data=['income', 'educ_idx'],\n",
    "                    color='educ_idx', \n",
    "                    color_continuous_scale=['rgb(255,255,255)', 'rgb(171, 216, 240)', 'rgb(25, 132, 197)'],\n",
    "                    height = 600,\n",
    "                    title = \"\"\"education rate with country income\"\"\")\n",
    "fig.show()"
   ]
  },
  {
   "cell_type": "code",
   "execution_count": null,
   "metadata": {},
   "outputs": [],
   "source": [
    "#What most people talk about (main topics)\n",
    "\n",
    "unemploment = data[[\"States\", \"Region\", \"Estimated Unemployment Rate\"]]\n",
    "figure = px.sunburst(unemploment, path=[\"Region\", \"States\"], \n",
    "                     values=\"Estimated Unemployment Rate\", \n",
    "                     width=700, height=700, color_continuous_scale=\"RdY1Gn\", \n",
    "                     title=\"Unemployment Rate in India\")\n",
    "figure.show()"
   ]
  },
  {
   "cell_type": "markdown",
   "metadata": {},
   "source": [
    "assumptions \n",
    "① 1 means they open the app every single day \n",
    "the amount of openers is recorded every single day, (the date is inconcistency)"
   ]
  },
  {
   "cell_type": "code",
   "execution_count": null,
   "metadata": {},
   "outputs": [],
   "source": []
  },
  {
   "cell_type": "markdown",
   "metadata": {},
   "source": []
  }
 ],
 "metadata": {
  "kernelspec": {
   "display_name": "Python 3.7.12 ('testenv')",
   "language": "python",
   "name": "python3"
  },
  "language_info": {
   "codemirror_mode": {
    "name": "ipython",
    "version": 3
   },
   "file_extension": ".py",
   "mimetype": "text/x-python",
   "name": "python",
   "nbconvert_exporter": "python",
   "pygments_lexer": "ipython3",
   "version": "3.7.13"
  },
  "orig_nbformat": 4,
  "vscode": {
   "interpreter": {
    "hash": "4fcc816f2ec044d7784656daa567c60af6aeee060eb40dbc8142aae8a4e25c3a"
   }
  }
 },
 "nbformat": 4,
 "nbformat_minor": 2
}
