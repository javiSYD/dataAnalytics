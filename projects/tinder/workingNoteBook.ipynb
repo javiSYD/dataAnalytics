{
 "cells": [
  {
   "cell_type": "code",
   "execution_count": 1,
   "metadata": {},
   "outputs": [],
   "source": [
    "#import libraries \n",
    "import numpy as np\n",
    "import pandas as pd"
   ]
  },
  {
   "cell_type": "code",
   "execution_count": 2,
   "metadata": {},
   "outputs": [],
   "source": [
    "#Load the data\n",
    "profile_src_json = pd.read_json('/Users/javi/Downloads/TinderProfiles.json')"
   ]
  },
  {
   "cell_type": "code",
   "execution_count": 3,
   "metadata": {},
   "outputs": [],
   "source": [
    "#create a copy in order to work with it and not to damage our original dataSet\n",
    "profile_copy = profile_src_json.copy()"
   ]
  },
  {
   "cell_type": "code",
   "execution_count": 4,
   "metadata": {},
   "outputs": [],
   "source": [
    "#Drop off \"__v\" column as it has only 0 values\n",
    "del profile_copy[\"__v\"]"
   ]
  },
  {
   "cell_type": "code",
   "execution_count": 5,
   "metadata": {},
   "outputs": [],
   "source": [
    "#define the dataframe \n",
    "pre_df = profile_copy"
   ]
  },
  {
   "cell_type": "code",
   "execution_count": 6,
   "metadata": {},
   "outputs": [
    {
     "data": {
      "text/html": [
       "<div>\n",
       "<style scoped>\n",
       "    .dataframe tbody tr th:only-of-type {\n",
       "        vertical-align: middle;\n",
       "    }\n",
       "\n",
       "    .dataframe tbody tr th {\n",
       "        vertical-align: top;\n",
       "    }\n",
       "\n",
       "    .dataframe thead th {\n",
       "        text-align: right;\n",
       "    }\n",
       "</style>\n",
       "<table border=\"1\" class=\"dataframe\">\n",
       "  <thead>\n",
       "    <tr style=\"text-align: right;\">\n",
       "      <th></th>\n",
       "      <th>_id</th>\n",
       "      <th>appOpens</th>\n",
       "      <th>conversations</th>\n",
       "      <th>conversationsMeta</th>\n",
       "      <th>matches</th>\n",
       "      <th>messages</th>\n",
       "      <th>messagesReceived</th>\n",
       "      <th>messagesSent</th>\n",
       "      <th>swipeLikes</th>\n",
       "      <th>swipePasses</th>\n",
       "      <th>swipes</th>\n",
       "      <th>user</th>\n",
       "      <th>userId</th>\n",
       "    </tr>\n",
       "  </thead>\n",
       "  <tbody>\n",
       "    <tr>\n",
       "      <th>0</th>\n",
       "      <td>00b74e27ad1cbb2ded8e907fcc49eaaf</td>\n",
       "      <td>{'2016-01-02': 26, '2016-01-13': 10, '2016-01-...</td>\n",
       "      <td>[{'match_id': 'Match 739', 'messages': [{'to':...</td>\n",
       "      <td>{'nrOfConversations': 739, 'longestConversatio...</td>\n",
       "      <td>{'2016-01-02': 10, '2016-01-13': 5, '2016-01-1...</td>\n",
       "      <td>{'sent': {'2016-01-02': 11, '2016-01-13': 2, '...</td>\n",
       "      <td>{'2016-01-02': 12, '2016-01-13': 3, '2016-01-1...</td>\n",
       "      <td>{'2016-01-02': 11, '2016-01-13': 2, '2016-01-1...</td>\n",
       "      <td>{'2016-01-02': 50, '2016-01-13': 70, '2016-01-...</td>\n",
       "      <td>{'2016-01-02': 14, '2016-01-13': 93, '2016-01-...</td>\n",
       "      <td>{'likes': {'2016-01-02': 50, '2016-01-13': 70,...</td>\n",
       "      <td>{'birthDate': '1976-01-01T00:00:00.000Z', 'age...</td>\n",
       "      <td>00b74e27ad1cbb2ded8e907fcc49eaaf</td>\n",
       "    </tr>\n",
       "    <tr>\n",
       "      <th>1</th>\n",
       "      <td>024610702baf540af5637873cd1534e9</td>\n",
       "      <td>{'2016-07-12': 20, '2016-07-13': 18, '2016-07-...</td>\n",
       "      <td>[{'match_id': 'Match 464', 'messages': [{'to':...</td>\n",
       "      <td>{'nrOfConversations': 464, 'longestConversatio...</td>\n",
       "      <td>{'2016-07-12': 1, '2016-07-13': 0, '2016-07-14...</td>\n",
       "      <td>{'sent': {'2016-07-12': 0, '2016-07-13': 0, '2...</td>\n",
       "      <td>{'2016-07-12': 0, '2016-07-13': 0, '2016-07-14...</td>\n",
       "      <td>{'2016-07-12': 0, '2016-07-13': 0, '2016-07-14...</td>\n",
       "      <td>{'2016-07-12': 0, '2016-07-13': 221, '2016-07-...</td>\n",
       "      <td>{'2016-07-12': 0, '2016-07-13': 61, '2016-07-1...</td>\n",
       "      <td>{'likes': {'2016-07-12': 0, '2016-07-13': 221,...</td>\n",
       "      <td>{'birthDate': '1997-07-04T00:00:00.000Z', 'age...</td>\n",
       "      <td>024610702baf540af5637873cd1534e9</td>\n",
       "    </tr>\n",
       "    <tr>\n",
       "      <th>2</th>\n",
       "      <td>0a5e3dd8489fe67485ddb7d6adb26ebd</td>\n",
       "      <td>{'2019-07-01': 61, '2019-07-02': 154, '2019-07...</td>\n",
       "      <td>[{'match_id': 'Match 303', 'messages': [{'to':...</td>\n",
       "      <td>{'nrOfConversations': 303, 'longestConversatio...</td>\n",
       "      <td>{'2019-07-01': 13, '2019-07-02': 12, '2019-07-...</td>\n",
       "      <td>{'sent': {'2019-07-01': 12, '2019-07-02': 66, ...</td>\n",
       "      <td>{'2019-07-01': 6, '2019-07-02': 70, '2019-07-0...</td>\n",
       "      <td>{'2019-07-01': 12, '2019-07-02': 66, '2019-07-...</td>\n",
       "      <td>{'2019-07-01': 87, '2019-07-02': 39, '2019-07-...</td>\n",
       "      <td>{'2019-07-01': 30, '2019-07-02': 12, '2019-07-...</td>\n",
       "      <td>{'likes': {'2019-07-01': 87, '2019-07-02': 39,...</td>\n",
       "      <td>{'birthDate': '1998-02-06T00:00:00.000Z', 'age...</td>\n",
       "      <td>0a5e3dd8489fe67485ddb7d6adb26ebd</td>\n",
       "    </tr>\n",
       "  </tbody>\n",
       "</table>\n",
       "</div>"
      ],
      "text/plain": [
       "                                _id  \\\n",
       "0  00b74e27ad1cbb2ded8e907fcc49eaaf   \n",
       "1  024610702baf540af5637873cd1534e9   \n",
       "2  0a5e3dd8489fe67485ddb7d6adb26ebd   \n",
       "\n",
       "                                            appOpens  \\\n",
       "0  {'2016-01-02': 26, '2016-01-13': 10, '2016-01-...   \n",
       "1  {'2016-07-12': 20, '2016-07-13': 18, '2016-07-...   \n",
       "2  {'2019-07-01': 61, '2019-07-02': 154, '2019-07...   \n",
       "\n",
       "                                       conversations  \\\n",
       "0  [{'match_id': 'Match 739', 'messages': [{'to':...   \n",
       "1  [{'match_id': 'Match 464', 'messages': [{'to':...   \n",
       "2  [{'match_id': 'Match 303', 'messages': [{'to':...   \n",
       "\n",
       "                                   conversationsMeta  \\\n",
       "0  {'nrOfConversations': 739, 'longestConversatio...   \n",
       "1  {'nrOfConversations': 464, 'longestConversatio...   \n",
       "2  {'nrOfConversations': 303, 'longestConversatio...   \n",
       "\n",
       "                                             matches  \\\n",
       "0  {'2016-01-02': 10, '2016-01-13': 5, '2016-01-1...   \n",
       "1  {'2016-07-12': 1, '2016-07-13': 0, '2016-07-14...   \n",
       "2  {'2019-07-01': 13, '2019-07-02': 12, '2019-07-...   \n",
       "\n",
       "                                            messages  \\\n",
       "0  {'sent': {'2016-01-02': 11, '2016-01-13': 2, '...   \n",
       "1  {'sent': {'2016-07-12': 0, '2016-07-13': 0, '2...   \n",
       "2  {'sent': {'2019-07-01': 12, '2019-07-02': 66, ...   \n",
       "\n",
       "                                    messagesReceived  \\\n",
       "0  {'2016-01-02': 12, '2016-01-13': 3, '2016-01-1...   \n",
       "1  {'2016-07-12': 0, '2016-07-13': 0, '2016-07-14...   \n",
       "2  {'2019-07-01': 6, '2019-07-02': 70, '2019-07-0...   \n",
       "\n",
       "                                        messagesSent  \\\n",
       "0  {'2016-01-02': 11, '2016-01-13': 2, '2016-01-1...   \n",
       "1  {'2016-07-12': 0, '2016-07-13': 0, '2016-07-14...   \n",
       "2  {'2019-07-01': 12, '2019-07-02': 66, '2019-07-...   \n",
       "\n",
       "                                          swipeLikes  \\\n",
       "0  {'2016-01-02': 50, '2016-01-13': 70, '2016-01-...   \n",
       "1  {'2016-07-12': 0, '2016-07-13': 221, '2016-07-...   \n",
       "2  {'2019-07-01': 87, '2019-07-02': 39, '2019-07-...   \n",
       "\n",
       "                                         swipePasses  \\\n",
       "0  {'2016-01-02': 14, '2016-01-13': 93, '2016-01-...   \n",
       "1  {'2016-07-12': 0, '2016-07-13': 61, '2016-07-1...   \n",
       "2  {'2019-07-01': 30, '2019-07-02': 12, '2019-07-...   \n",
       "\n",
       "                                              swipes  \\\n",
       "0  {'likes': {'2016-01-02': 50, '2016-01-13': 70,...   \n",
       "1  {'likes': {'2016-07-12': 0, '2016-07-13': 221,...   \n",
       "2  {'likes': {'2019-07-01': 87, '2019-07-02': 39,...   \n",
       "\n",
       "                                                user  \\\n",
       "0  {'birthDate': '1976-01-01T00:00:00.000Z', 'age...   \n",
       "1  {'birthDate': '1997-07-04T00:00:00.000Z', 'age...   \n",
       "2  {'birthDate': '1998-02-06T00:00:00.000Z', 'age...   \n",
       "\n",
       "                             userId  \n",
       "0  00b74e27ad1cbb2ded8e907fcc49eaaf  \n",
       "1  024610702baf540af5637873cd1534e9  \n",
       "2  0a5e3dd8489fe67485ddb7d6adb26ebd  "
      ]
     },
     "execution_count": 6,
     "metadata": {},
     "output_type": "execute_result"
    }
   ],
   "source": [
    "pre_df.head(3)"
   ]
  },
  {
   "cell_type": "markdown",
   "metadata": {},
   "source": [
    "### Each profile has an ID number which we use to check how many users are in the dataset. We also verify that there aren't any Duplicate Accounts in this dataset before continuing on with our research!"
   ]
  },
  {
   "cell_type": "code",
   "execution_count": 7,
   "metadata": {},
   "outputs": [
    {
     "name": "stdout",
     "output_type": "stream",
     "text": [
      "1209\n"
     ]
    }
   ],
   "source": [
    "# get the user id to see how many profiles are \n",
    "allusersids = []\n",
    "for uniqueid in pre_df.userId:\n",
    "    userid = uniqueid[-6:]\n",
    "    allusersids.append(userid)\n",
    "print(len(allusersids))"
   ]
  },
  {
   "cell_type": "markdown",
   "metadata": {},
   "source": [
    "### We want to see how many times each user opened the app in our dataset, and also what their average daily number was.\n"
   ]
  },
  {
   "cell_type": "code",
   "execution_count": 8,
   "metadata": {},
   "outputs": [
    {
     "name": "stdout",
     "output_type": "stream",
     "text": [
      "there are 290 people who open the app every day\n"
     ]
    }
   ],
   "source": [
    "import sys \n",
    "personOpeners = []\n",
    "for openers in pre_df.appOpens:\n",
    "    if len(openers) == 0:\n",
    "        continue\n",
    "    maxDate = \"\"\n",
    "    maxOpens = 0\n",
    "    minDate = \"\"\n",
    "    minOpens = sys.maxsize\n",
    "    for date in openers:\n",
    "        if (openers[date] > maxOpens):\n",
    "            maxOpens = openers[date]\n",
    "            maxDate = date\n",
    "\n",
    "        if (openers[date] < minOpens):\n",
    "            minOpens = openers[date]\n",
    "            minDate = date\n",
    "\n",
    "    personOpeners.append(minOpens)\n",
    "    # append the vals to a list\n",
    "\n",
    "counter = 0\n",
    "for j in personOpeners:\n",
    "    if j >= 1:\n",
    "        counter += 1 \n",
    "\n",
    "print(f'there are {counter} people who open the app every day')\n"
   ]
  },
  {
   "cell_type": "code",
   "execution_count": 9,
   "metadata": {},
   "outputs": [],
   "source": [
    "#import the langdetect in order to detect the lenguaje of the message\n",
    "#We will focus on English, Spanish and Japanese \n",
    "from langdetect import detect"
   ]
  },
  {
   "cell_type": "markdown",
   "metadata": {},
   "source": [
    "### Since the messages are in a JSON structure, we have to take those out in order to do our language classification and run the sentiment analysis"
   ]
  },
  {
   "cell_type": "code",
   "execution_count": 17,
   "metadata": {},
   "outputs": [
    {
     "name": "stdout",
     "output_type": "stream",
     "text": [
      "[[], ['Hello again, so now that we matched again, what exactly are you looking for here?,en'], ['It&rsquo;s me, the chicken nuggets,en', 'Exactly what I wanted,en'], ['I&apos;m worried about you. Based on your hiking pole, you&apos;re left handed. All left handed people are witches and witches cast spells. \\n\\nLet&apos;s just say that I&apos;m concerned that you&apos;ve already cast a spell over me.,en', 'Ahhhh yes, the classic putting the phone in the pocket pose. A classic, just like my old favourite&colon; my head&apos;s tilted because I have a kink in my neck.,en'], [], ['Holaaa Andrea! Igual bonito inicio de semana,it', 'Pues ahí va jaja con mucho trabajo afortunadamente,es'], [], [], [], ['hey,so', 'nice pics ;&rpar;,ca'], [], ['I have to say u have one do the best bios I&rsquo;ve ever seen,en', 'Like where do I start.. 😂,en'], [], ['Hey! What are you up to?,en', 'Not much, just wondering what you&apos;re doing on here at 12 on a Sunday you gotta get some sleep!,en'], ['helloo !,so', 'nice to meet you too !,en'], ['heey 😉,so', 'Cosa ne dici di farci una bella bottiglia di vino da me o da te un giorno di questi? 😉,it'], ['Hi! How&apos;s your night going? How long have you been going through the divorce? Mine took about a year,en', 'Divorce really sucks. It takes forever. How are your kids handling it? I have a 5 year old. He did pretty good with it,en'], ['Hey there Emery &colon;&rpar; You&apos;re actually the first person to comment on that 😅\\n\\nSo did you flee NYC for quarantine? Know a lot of people that did. Little guilty myself haha,en', 'Haha same, but just south of the PA border. Came here for a nice Zoom graduation with family, staying until I start back up in NY in July.,en'], [], ['I wasn&apos;t a beaver til I saw you, now I am cause I got Wood,en'], ['British in a Indy sounds like a really great sitcom idea 🤔... I actually work for a company that has an office in London! When did you move here?,en', 'If I was writing the show I&rsquo;d really want to see you interact with a few Indiana rednecks 😂 \\n\\nI can barely understand them and I have a ton of them that I grew up with.,en'], [], ['Ah, that&rsquo;s kinda close to where I was based. I was at Stirling . Such a beautiful area.,en'], [], [], ['BABY WELCOME TO THE PARTY,vi'], ['Hey, I wana have a really good croissant!!! Good luck for find it,en', 'No im on mars in a secret bunker and you ?,en'], [], ['hey Felicia looking forward to the weekend?,en', 'haha! SAME!,so'], ['Hi!,sw', 'I see you have recently graduated? Congrats if so.,en'], [], ['hey how&rsquo;s it going,en', 'don&rsquo;t remember superlike but i was half asleep i think,en'], ['Salut Sophie ! C&apos;est ton âme d&apos;enfant qui parle sur la photo avec le château gonflable ? 😝,fr', 'C&apos;est quoi cette course ? Je ne connais pas !,fr'], [], ['You match with any hot guys yet?,en', 'yes i have,no'], ['Holaa,so', 'Muy buen y tu?,es'], ['I space travelled to Penang a couple days ago I guess that&rsquo;s probably explain we&rsquo;ll, I&rsquo;m back to where I should be physically.,en', 'That explains why*,en'], ['I like how avid you are about caffeine and alcohol!,en', 'Important question though - at what stage do you put the milk in?,en'], [], ['Hi there,en', 'Im quite fine, how about you,en'], ['Huomenta. Tavallisesti tykkään käydä uimassa ja kuntosalilla. Päivät kuluu koodatessa lähinnä töiden takia.,fi', 'Mites sun päivät kuluu?,fi'], ['Hi! I&apos;m doing great, thanks 😁 and you?,en', 'Are you living here in Moscow or just visiting?,en'], ['olaaa,so'], ['What did I do to deserve this honor haha,en', 'Well those are two things I excel at,en'], [], [], ['Sobald Du eine richtig litte Spotify Playlist fertiggestellt hast. Ich sehe da Potenzial 🧐,de'], ['Favorittsangen å synge på singstar a? 🎤,no', 'Litt ønsketenking også da?,no'], [], ['Hey there, how are ya?,en', 'Lol same here. The sky opened up like it hadn&apos;t rained in months,en'], ['你好,zh-cn'], [], ['Hi Ellen, how&apos;s your weekend going for you?,en'], [], ['&quot;Aktivist&quot;. jeg går ud fra at det er klimaaktivisme? 🙂,da', 'Så du tager ud og demonstrerer? ,da'], ['Hello!,it', 'I&apos;m good. How about you?,en'], ['Ute på St Hans Haugen i kveld? 😀,da'], [], ['Hey Ayla! How was your week?,en', 'I was pretty slammed with school, but was feeling good and working with people so it was good.,en'], ['Hey, you look really handsome in your photos 😬,en', 'I&rsquo;m doing pretty good. Sorry I don&rsquo;t speak Ukrainian haha,en'], [], ['Hey, sure! To start off I can tell you my favorites are my hero academia, demon slayer, Tokyo ghoul, and re&colon;zero.,en', 'Its hard to pick between my hero and demon slayer,  they are both so good! Its okay I&apos;m a bit of a newbie myself.  My brother got me into anime like 3 years ago.,en'], ['Hi yourself 😄 what&rsquo;s up?,en'], ['Hi,nl', 'What weight is considered fat for a woman who is 5&apos;2 tall?,en'], ['Did you super like me or the dog?,af'], ['Non juste y doigt,es', 'Un*,de'], [], ['Hey, ved du hvad en pingvin vejer? 🤔,da'], [], ['Alina! Ich mag den Text in deinem Profil\\n\\nUnd habe ewig keine Serie mehr geschaut.\\nWas nun?,de'], ['Class of 2050💕✨🧚🏼🧚🏼but in me,en'], [], ['Ill bring the whipped cream,en'], ['Hii!,so'], ['Hey Dary!,en', 'Du bist mega süß 😊 hast du mal Lust was zu machen?,de'], ['NL&sol;FR&sol;EN?,ca', 'I won&apos;t showcase my terrible french in that case,en'], ['I love that 2 out of 3 of your prof pictures r ones that I took,en', 'HAHAH love u hope the pics r working out well for ya,en'], [], ['Holaa,so'], ['Moin Joana, sag ma. Wie viele Löcher hat eigentlich ein Strohhalm¿,de'], ['Din tai fung,id'], ['hi Katharina, darf ich mich bei dir zum gefüttert werden anmelden &colon;&rpar;?,de', 'ich werde mich auch mindestens so gut benehmen wie der Giraffe ,de'], ['Hey! Nothing really just waiting for class to open you?,en', 'Haha oh okay,so'], ['Why - is there something on my face? Lol,en', 'Shucks☺️ Thank you,en'], ['Your smileeee😍,nl', 'Thank you! I like to believe i am haha how&rsquo;s the coronavirus quarantine life treating you,en'], ['Hi Alberto,de', 'Pretty decent. How about yours?!,en'], ['Hola &colon;&rpar;,es', 'De Mallorca? &colon;&rpar;,it'], ['I main Ike😀 hbu?,id'], ['Hey Paige we should do some drugs together,en', 'Do you live in Columbus? Says you&rsquo;re over 80 miles away,en'], ['karmos tasku uz muzika gauni,lv'], ['Hey.,en'], [], ['Yeah, she&apos;s a maine coon 🤙,en', 'Damn,sv'], ['Ne haragudj, de kettőtök közül a cicád az aranyosabb 😄,hu', 'De azért szoros verseny volt 🙂,hu'], ['Oiee tudo bem?,pt', 'Adorei teu sorriso a propósito 😁,pt'], ['Naaa du 😉,so', 'Das letzte Mal als wir das Vergnügen hatten, warste glücklich vergeben und jetzt biste hier 😅,de'], [], [], ['Bonjour,fr', 'Where u at,en'], [], ['Szia Réka &colon;&rpar;,it', 'Létfontosságú kérdés&colon; a műzlit vagy a tejet töltöd előbb a tálba? 😀,hu'], ['How&rsquo;s it going? 😁,en'], ['nice handsoap,en'], ['🏅 this is your medal for completing,en', 'Oh wow okay 😂,pl'], ['I try to never comment on people&rsquo;s appearance on here, but holy hell I love your thighs.,en'], ['Ah another coffee addict. What makes your perfect cup? Also damn your ink is so 👌🏻👌🏻,en', 'I&rsquo;ve played around with those a little, but usually make pour overs, something about the process just feels really nice. I finally ordered a gooseneck kettle the other day so I&rsquo;m pretty pumped for that.,en'], ['What&apos;s your favorite dinosaur?,fr', 'Troodon. I find smart animals to be really interesting. Like how when you look at a monkey it kinda recognizes you and probably has legitimate thoughts about you,en'], ['It&apos;s just started,en', 'But I hope your day will be as beautiful as my smile,en'], ['Love your mixed origins 😍 I have been to Seoul recently for business, such a cool place!,en', 'Do You work here in Milan?,nl'], ['So... what you growin&apos;?,en'], ['*creates a separate tinder account for my hair*,en', 'Jk, thanks! &colon;D I like your taste in music,en'], [], ['Hey Elena! You&apos;re looking good in that protective suit - surely the right dress for corona-times 😜,en', 'So what kind of doctor are you?,en'], [], ['Hey 🙂. Hvad studerer du?,da', 'Datalogi. Er du stadig oppe fordi du læser op?,da'], ['Hi,nl', 'Nice to meet you,en'], ['Another day in the office... &sol;Bar&sol;gym&sol;restaurant&sol;movie theater&sol;my bedroom 🙃,en', '... a few times 😂\\n\\nGot off tinder for a while too. Sorry for taking a season to respond 😜,en'], ['Elina,ca', 'Mist sä tulit,fi'], ['Uh, yeah! I live right next to there haha 😂,en', 'I live in Alhambra actually.,en'], ['Is your advice personalized, or you just tell everyone the same thing?,en'], ['How are u,en', 'Who are u*,so'], ['Oh goodness what a mess, I can&rsquo;t believe she did that 🤦🏻\\u200d♀️,en', 'If I really wanted it short I think I&rsquo;d have my sister chop it off,en'], ['https&colon;&sol;&sol;media.tenor.com&sol;images&sol;e884f717b42f78f0792d914117cd010d&sol;tenor.gif?width=240&height=120,en', 'https&colon;&sol;&sol;media.tenor.com&sol;images&sol;c5513175b0b85cacb1d3620b2eb9c63b&sol;tenor.gif?width=160&height=160,en'], ['Hi Carlos, why am I supposed to swipe right?,en', 'Are you a Scorpio too or why?,en'], ['https&colon;&sol;&sol;media.tenor.com&sol;images&sol;7e28f0d65aca8ac679f5891681359dd7&sol;tenor.gif?width=290&height=240,en', 'Working every day basically in the forceable future or with family ,en'], ['Great, how are you,en', 'Doing well, just busy with work and rugby. You?,en'], [], ['Hi,nl'], ['You seen &quot;berthold woltze the irritating gentleman&quot; ?,en', 'that be me on tinder 🙁,en'], ['are you a christmas present? because i want to take a peek under your wrappings...,en', 'haha nein spaß, was hast du gegen gemüse lisbeth? 🙃,de'], [], ['Hello stranger.,no', 'Hows your day been in that madness?,en'], ['Love the skiing pic - where are you from?,en', 'Yeah of course - norwegians are born with skis 😂,en'], ['Shit me, Aleyah, that&apos;s a fluffy cat! Bet you need a chunky lint roller. My parents have got a long-hair - wherever she sits she leaves a mound of herself behind, no matter how often we brush her. Strict housecat, but I keep finding her hairs all over my car. 🤷\\u200d♂️ Where do you find a jammy dodger on a night out?,en', 'https&colon;&sol;&sol;media.tenor.com&sol;images&sol;62ed01d3f16bc4750559463f56b7bf9e&sol;tenor.gif?width=300&height=198,en'], [], ['Ey hey tak for sidst! 🙌🙌,en', 'Ja det var surt&colon;&lpar;,fr'], ['Sul simpatica e umile non mi sbilancio...ma sul bella posso dire che non menti 😄,it', 'Ti andrebbe di conoscerci, così posso verificare il resto? 😂,it'], ['I&rsquo;ll bet anything, that&rsquo;s how confident I am in my life ruining abilities,en', 'Hmm it&rsquo;s defs gotta be this glob of blu tack I&rsquo;ve been adding to for like 3 years now,en'], ['international relations!,en', 'i&rsquo;m thinking about getting a few certificates particularly in environmental, latin american, and middle east studies,en'], ['Hm tom bio på engelska 🤔,sv', 'Försöker fånga upp alla lundabor?,sv'], ['The password is bowtienye,en'], ['what&rsquo;s radiography 😇,en', 'guess what,en'], ['&colon;o proof??,en'], ['Yo it&rsquo;s 2020,fr', 'So now YOU have to take me out,en'], [], ['Ciao, ho visto che scii anche tu 😁,it', 'Dove stavi nella foto che hai messo? 🙃,it'], [], ['Henlo,nl'], ['seize ✋✋ the means 😤😫 of production 🏗️🏭🤑,en', 'Hahaha,so'], ['Hey hey,en', 'Sorry was busy enjoying the last good night before the lockdown &colon;D we dressed up for halloween with the flatmates,en'], ['hi &colon;-&rpar; i do not but ive always wanted to,en', 'i dont &colon;-&lpar;,fr'], ['Lowkey en bra bio dock 🙄🙄,es', 'DU ÄNDRADE DEN 😭😭,so'], ['Hmm jeg føler at et av disse ordene ikke er sant... kan det være &quot;kjekk&quot;, og at du egentlig bruker bilder av en annen person?,no', 'Jeg visste det! Når sant skal sies så dro jeg faktisk til kripos og viste frem profilen din for å komme til bunns i saken, så jeg kan ikke ta æren for den,no'], ['The neon purple vibes got me hooked tho,en', 'Hahah but I&rsquo;m looking for that full birthday suit 👀,en'], ['Hi,nl', 'Mooie hoed,af'], ['https&colon;&sol;&sol;media.tenor.com&sol;images&sol;6dda3f82322b902d1b1694432c5315e3&sol;tenor.gif?width=498&height=498,en'], ['https&colon;&sol;&sol;media.tenor.com&sol;images&sol;60903b824c8268e7c08362576c591927&sol;tenor.gif?width=244&height=146,en', 'Not going to lie I&rsquo;m actually considering giving you the chance,en'], ['hola, interesante, que lugar es ese dondeestas nadando?,es', 'algo de mma, jiujitsu brasileño, de hace mucho años, aunque me llama la atencion nadar por hobbie, donde sera el lugar mas bonito para nadar?,es'], ['You know in Obama&apos;s recent published memoir he described an occasion where he was attracted to an ethereal bisexual who only wears black? ,en', 'You are quite similar to that imaginary person in my head ,en'], ['bonjour,hr'], [], ['Colgate or Crest?,en'], ['Subscribing&sol;super liking for updates. Where do we get the whiskey game printout sheet? Also is &quot;random super like&quot; on it?,en', 'Hopefully pizza shots come soon then.,en'], ['Hi! Keine Profil-Beschreibung, nur ein Bild.... du magst es wohl geheimnisvoll 😋. Dein süßes Lächeln hat aber für ein erstes Match gereicht 😆,de'], ['Hola!! Cómo vas? 😊,es', 'Hola nuevamente! \\nPerdón también por responder hasta ahora.\\nHemos estado igual jaja sobreviviendo como decís vos,es'], ['Hola hola,so', 'Como vas?,pt'], ['lmfao why,sw', 'good question!! ur cute where u from,en'], ['Hey Shoshana, there&apos;s a cutie among us and you&apos;re looking pretty sus ;&rpar;,en'], ['Ça doit être cool faire de l&apos;art sur zoom,fr'], ['Holaaa,so', 'Que tal?? Jajajaj,sl'], ['Hey! Leuk dat we een match zijn!,nl', 'Je hebt echt een leuke lach!,nl'], ['Emma! Wie war dein Wochenende bis jetzt so?,de'], ['You & me. First date on the golf course. If i get the lower score... I get a 2nd date?,en', 'Now that i think about it, after this snowstorm this line wont really work will it? 🤣,en'], ['Oh, I didn&rsquo;t know that! Do you wear the national treasure with pride?,en', 'Go on...,en'], ['Hey!! How&rsquo;re you doing on this lovely Saturday?!,en', 'Oh nice! Got any favorite places to walk around? I just finished working on my car and now I&rsquo;m at the beach with my pup. She loves to swim lol.,en'], ['Are you as beautiful on the inside as you are on the outside? Because I&apos;d love to be inside you,en', 'Hmm alright might have to trust but verify still LOL, where you at?,en'], ['Hey hey &colon;&rpar; how are you?,en', 'Not too much I just poured a glass of wine- and you&rsquo;re one to talk!! You&rsquo;re so cute I love it 😘😘,en'], ['Aiden,es'], ['You seem like the type of girl I would fall for and try to have a meaningful relationship with until it inevitably goes south leaving me heartbroken and wondering as to why I wasn&apos;t good enough,en', 'Or in order words my type of girl,en'], [], [], [], ['Heyy! I like your Instagram! &colon;&rpar;,en'], ['Neimen så hyggelig!,no'], [], [], [], ['Hei, god fredag! ☺️Hatt ei bra uke?,no', 'Hehe, ikke noe problem. ☺️ Sånn bortsett fra hjemmekontor på 8. Måned så kan jeg ikke klage 😅,no'], ['Hello there Agnieszka, sorry if I made your phone beep at this late hour but how are you doing? I just started to use tinder half an hour ago so don&apos;t know how it works really, what are you studying at university of warsaw?,en', 'https&colon;&sol;&sol;www.youtube.com&sol;watch?v=I3s6TfiA8c8,en'], ['Szia 183cm Fruzsi, én 184cm Tamás vagyok!  &colon;D,hu'], ['if by home gym you mean a mattress i do calisthenics on then youve found me!,en', 'i am originally but i go to uc irvine, im only home for thanksgiving i go back down tomorrow &colon;-&rpar;,en'], [], ['Hey Maxine 👋,so', 'Is that an owl costume?,en'], ['Hey,nl', 'What&apos;s up,en'], [], [], ['Are you my appendix? Because I don&apos;t know anything about you but this feeling in my gut is telling me that I should take you out.,en'], ['We all have had to make sacrifices. I think your sacrifice is a noble one to make.,en', 'Your sacrifice of suspending nonessential dates. I&apos;m a fan of logic, I don&apos;t really have a favorite song though. What about you? Favorite song and favorite movie?,en'], ['Wait til you find out I have a kind heart too,en', 'https&colon;&sol;&sol;media.tenor.com&sol;images&sol;9303c565237667d798e662b88685d7d3&sol;tenor.gif?width=150&height=135,en'], ['MEGHAN,sw'], ['Your smile is beautiful 😍,fr', 'I can show you, do you have Instagram?,en'], ['Gaming tag auf tinder is fast schon cheaten, da hast genau meinen weak spot getroffen. ^^\\nWild guess&colon; Du hast eine pet schildkröte, studierst Quantenphysik und bist 3-fache Bowlingweltmeisterin? 🤔,de', 'Phu, was für ein Glück! Da kann ich dir dann glaub ich sogar die mageren 2 Weltmeistertitel verzeihen ^^\\n\\nWenn du dir den dritten holst let me know dann komm ich als Cheerleader! 🙌\\n\\nUnd disney fan auch noch, a woman of taste I see. Top 3 movies, go!,de'], [], ['We could try switching it up a little bit by chatting casually for a couple weeks get to know each other then meet up in like a park or something &lpar;restrictions willing&rpar; and find out if there is chemistry. That might be fun, thoughts?,en', 'Haha fair, I was beginning to think you were setting up an elaborate ruse and had planned to remain not talking for several weeks 😉,en'], ['So, it&apos;s 6 months from now, the sun is shining again, the vaccine worked, this whole corona madness is over and everybody is happy. But that&apos;s in 6 months, so what are you doing this week?,en'], ['Hi!,sw', 'How&rsquo;s it going?,en'], ['https&colon;&sol;&sol;media1.giphy.com&sol;media&sol;wrBURfbZmqqXu&sol;giphy.gif?cid=992ce7142d02e028766effc493ca2faa625859d9ed4c4e26&rid=giphy.gif&width=498&height=331,en', 'Hey Sabrina, du hast so eine tolle und schöne Ausstrahlung wie die wenigsten im echten Leben. Hoffentlich ist sie auch in real life so.,de'], ['Hey you&rpar;,cy', '&rpar;&rpar;,lv'], ['Привет, Вера. \\n\\nТы, кажется, была в Выборге?,ru'], ['Oh hai,cy', 'How u doin chef,en'], ['&quot;😩&quot;\\n\\nIs that the face you&apos;re making or the face you want to make?,en', 'Interesting, same here,da'], ['Hi Lena, you&apos;ve beautiful smile..,fr'], [], ['Hei Ingrid, venninnen min sier vi hadde passet bra sammen! Hva skal vi gjøre med det?,no', 'Dtf?,de'], ['Oh I am.,id'], ['Muriel when you don&rsquo;t put much on your profile you don&rsquo;t give me much choice but to dip into my archive of awful cheesy pick up lines,en', 'And neither of us really wants that do we?,en'], ['You look fun,en', '*like,et'], ['pls ur bio gave me a good cackle,hr'], ['Drinking lemon water is usually a dealbreaker for me,en', 'What good traits of your balace it out?,en'], ['Hey, are you a face mask? Because for the foreseeable future I never wanna be seen in public without you 😷✨,en', '&colon;^&rpar;,es'], [], ['Heyy,fi', 'Whats up,en'], ['Dlaczego kłujesz? Jak się przed tym bronić? Czy powinienem się bronić?,pl', 'Niby rozumiem ale brzmi złowieszczo,pl'], ['https&colon;&sol;&sol;vm.tiktok.com&sol;ZMJbJkpCJ&sol;,en', 'so you think that could be us? &colon;0,en'], ['Jag har ingen bra opening line,no', 'Men jag tycker att din gröna bild är väldigt fin 🥬🥬,sv'], ['hey,en'], ['Ok, czyli notka na przyszłość&colon; jak zaklęcia w lesie, to tylko z pomocą formułek z książek, bo google translator coś pierdoli,pl', 'Dzięki za ostrzeżenie,pl'], [], [], ['Hello ! Toujours pas convaincue ? Si c&apos;est le cas, on sera deux.,fr', 'Je n&apos;aurais pas utilisé cette formulation mais je partage l&apos;idée &colon;&rpar;  \\nSurtout que utiliser Tinder pour Instagram....,fr'], [], ['I&apos;m a simple man, I see Kaamelott, I superlike. &colon;D,it', 'Haha parfait\\nTu habites dans les environs ou tu t&apos;installes dans le sud pour le 3ème confinement ? &colon;p,fr'], ['Hi there.,en', 'Happy thanks giving !,en'], ['Jotain saatto jäädä puuttuu 😌,fi', 'Hyvää mieltä &colon;&lpar;,fi'], ['Hey thanks for the match - how goes your holidays?,en', 'Mostly cloudy, breezy, temperature around 0,en'], [], ['Dont use this app that often either but seems like the lockdown is gonna last longer than expected 🤷\\u200d♀️,en', 'Forreals, so much for meeting ppl organically LOL,en'], ['To be,en', 'https&colon;&sol;&sol;media.tenor.com&sol;images&sol;3c2870133815cfb12b3bfca5f83f1e62&sol;tenor.gif?width=498&height=280,en'], ['Hey Tracy happy holidays!,en', 'Tinder traveling to SF?,da'], [], ['hi there,en', 'how are you,en'], ['Help, I&rsquo;ve accidentally run to WINDSOR,it', 'Exercise is a helluva drug,ca'], [], [], ['Bruh i was up til 4 am catching up on management lectures. I matched with you and was like I&apos;ll say something tmrw,en', 'Emily and erin said my bio is alright,en'], ['Oh hey, i got a match. Quick question, do you like raisins?,en', 'I wish I were cross-eyed so I could see you twice,en'], ['Hej &colon;&rpar;,es', 'Trudne pytanie ale powiedzmy że Barry,pl'], ['i did! turns out there are a lot of singaporeans here,en', 'maths haha, very classic asian type,en'], ['Hallo Esta! ein Superlike schmeichelt natürlich sehr! \\nAus deinem Profil entnehm ich Naturverbundenheit und Blasmusik! pretty close to perfect &colon;D,de'], ['Привет, how are you doing, Anna?\\nAre you permanently in Russia?,en'], ['tuti nem vagy kedves?,hu', 'még szökőévente se?,hu'], ['Lmao gl with that I&apos;m a couple hundred miles away,en'], ['In the end was my jam in middle school,en'], [], ['I think you dropped something,en', 'Yeah, your standards,id'], ['Let&apos;s pretend for a second you had a bio, what would it say??,en'], ['Un compte pour deux,fr', 'c&apos;est plus tôt original,fr'], [], [], ['Finnån till skärgården är ett ganska stort steg... Men så länge det serveras ett glas rosé vid bryggan känner jag mig hemma 😉,sv', 'Vi kontrollerar hela sjön i finnån så det blir svårt. Men om jag får känna lite på rodret så mjuknar jag nog 😅,sv'], ['Yo can you open a window,en', 'I need some fresh aerin here,en'], ['Yooo whatsup,en', 'How&apos;s it goin,en'], ['Hiya Maisie! Happy Monday morning 😁 Would you like a pun, dad joke or maybe two truths and a lie? Alternatively you can let me know something you&apos;re passionate about!,en', 'Okay okay! Let&apos;s see.... 🤔🤔\\n\\n1&rpar; I once dueted &apos;She Bangs&apos; with Ricky Martin in a Mexican cantina\\n2&rpar; I learned to drive in 2020 even though I almost crashed on my test\\n3&rpar; I&apos;ve built my own computer several times,en'], ['Miło mi &colon;&rpar;\\nŁadny masz insta ;&rpar;\\nLubię ludzi którzy lubią się zmieniać.,pl', 'Raczej ty masz dostęp do mojego. Dałaś mnie tam like. \\nNawet nie zauważyłem że nie jest tu dostępny twój insta, sorry.\\n\\nAle stąd nie jest widoczny.,pl'], ['Moi 🥰,sw', 'Sä näytät sellaselt tytölt, jonka kaa mä haluaisin istua ihastuneena vierekkäin saman viltin alla nuotion äärellä ja paistamassa makkaraa 😳,fi'], ['Hi 😚,nl'], [], ['Kerro,de', 'Mihis teidän oma yöpaikka on kadonnu,fi'], ['Er det coachella?,it', 'Haha, ja coachella er drømmen ass. Men Wireless virker også jævlig bra!,no'], ['Global warming,so'], ['I&rsquo;m pretty certain that anyone who doesn&rsquo;t occasionally baby-talk to pets is insane.,en'], ['Alright I&apos;ll bite,en', 'What the hell is a naive square,en'], ['Allie I&apos;ve already booked our wedding for next week but I&apos;m trying to save some money so I hope you&apos;re fine with having the reception in the McDonald&apos;s party room,en'], [], ['Hi! It&rsquo;s been ok so far thanks. Quite busy. How&rsquo;s yours been?,en'], ['Moi Jenni 😊,sw', 'Joo opiskelen tietojenkäsittelyy, loppukin zuumailut just tältä päivältä 😄,fi'], ['Aaaaaaaaaaa wyrwę ci serceeeee,so', 'Zobaczyłem Jabłonowskiego i musiałem dać superke,pl'], [], ['Oh hey Neala! How are you?,en', 'I&apos;m good! Just waiting for this long work week to finish so I can have a chill weekend!,en'], ['Ett bra nyår och lite skidåkning har ju varit uppskattat!,sv', 'Hur går ditt 2021?,sv'], ['I like your style!,no', 'Hahaha yes they quite like your style too,en'], ['Just lookin for a blue checkmark or watever,en'], [], ['do you like ice cream,es'], ['Man var la tvugen, när man såg en sån pen dama,sv', 'Det var inte de vi prata om då, Men tar väll det som en komplimang 😀,sv'], ['https&colon;&sol;&sol;media.tenor.com&sol;images&sol;03ccf3e07f80af8b7dfb4e556f8eabb5&sol;tenor.gif?width=400&height=200,en'], ['You gotta check out this spotify playlist,en', 'https&colon;&sol;&sol;open.spotify.com&sol;playlist&sol;6rGSJvxMGTpJGER5OM6g3u?si=WGFJLKtSTWumvaB_APUpSA,en'], ['Hiho,hr', 'Hihi,so'], ['good morning neighbour,en', 'i usually have funnier openers but i just woke up and my brain needs coffee,en'], ['Hi Stephanie! I like that your photos cover such a wide variety of vibes. Adventurous &sol; sexy, wholesome &sol; laid-back. What&apos;s been your vibe lately? Anything particular keeping you busy nowadays?,en', 'Oh god, and add tinder chats as well -- preeeetty time consuming. What job is soaking up your energy?,en'], ['You&apos;re super cute 🙂,fr', 'Do you go to UT?,pt'], ['Hey Corinna, ich sehe du hast BierGeschmack , wenn dir dieses outfitdetail so sehr ins Auge fällt. In der Tat gehört die Jacke zu einem meiner beiden Standart twitch-streaming-oufits 🤓\\n\\nMir gefällt übrigens dein meditierender pepe ganz wunderbar! 😍,de', 'In der Tat hab ich sterni schon zu ne zeit getrunken, als ich noch gar nicht im Osten gewohnt habe! &colon;P\\n\\nIch streame aus der Küche und Just chatting. Manchmal aber auch gameplay, aber ich fühl mich zu schlecht zum zocken. 😂🙈 was guckst du denn so?\\n\\nAlso dass es pepe geworden ist, lässt tief in deine Seele und noch tiefer in dein Herz blicken. Ich fühle es.,de'], ['https&colon;&sol;&sol;open.spotify.com&sol;track&sol;2QDFsehUg5Fui2LOVpCw3Q,en', 'Aso mit dem tune ih dim profil chennt de vlt ebbis 😌,de'], ['Hi,nl'], ['Because I own heelies or because I blast the education connection song on the regular?,en', 'That&rsquo;s so true. You can only get adult heelies if ur willing to spend 60 bucks,en'], ['Kuviokelluntaa me voitais lähtee koittamaan, kunhan vaan noi järvet tosta sulais 🤔,fi', 'Se on ihan totta 😄 ei oo kyllä vielä tullu käytyä tänä talvena, että tuskin lähtis ihan kylmiltään,fi'], ['Hey Katherine,en', 'Hey, it&rsquo;s going good.,en'], ['Your dog 100% has a look of &apos;bitch wtf is wrong with you don&apos;t take a picture of me right now, I will do to you what I did to my last chew toy&apos;,en', 'Haha like she wants to square up,en'], ['So what brings a cute Indonesian girl like yourself to Tinder in Arizona?,en', 'Well I guess you&apos;re in luck, you&apos;ve found both of them 😉,en'], [], ['Hello sunshine eyes ! 🌞,en', 'Onks sopimusoikeus jo tehty?,fi'], [], ['ein buch ist erst richtig gut wenn der staubige und modrige gestank der verbleichten seiten alle nasennebenhöhlen betäubt. am liebsten hab ich es, wenn man so richtig den gelblichen raucherbart des vorbesitzers erschnüffeln kann.,de'], [], ['Ha! Eendrankjedoen&sol;bordspellen match &colon;&rpar; In welke combinatie heb jij die twee het liefst?,nl'], ['Melekonen biisivalinta 😂,fi', 'Popitakko tuota aina autossa? 🌚,fi'], [], ['Hey\\nOp Zernike. Ik heb scheikunde gestudeerd\\nJij?,nl', 'Haha dat dacht ik al &colon;&rpar;,id'], ['Hey hey\\nMich auch ;&rpar;\\nDanke, gut und dir?\\nSchöne Fotos, schönes Lächeln ;&rpar;\\nVor kurzem erst in Afrika &lpar;nehme ich jetzt Mal an&rpar; gewesen oder wann warst du da?,de', 'Sehr schön ;&rpar;\\nMit Ende letzten Jahres meinst du dann aber bestimmt 2019 oder?,de'], ['Lol wow same how convenient,en', 'I can definitely help you with that,en'], ['So you supported Michael Bennett for president in 2020? I think a lot of pollsters would be interested in talking to you lol,en', 'I was gonna say you might be the only supporter of his to exist outside of Colorado,en'], [], [], ['Hello, I just have to ask you this&colon; Do you work in the building next to Kuchajda?,en', 'Your last picture looks like my office &colon;D,en'], [], ['alors t&apos;aimes dubaï je vois ?,fr', 'ça dépend des animaux...! la majorité oui,fr'], ['Hei An, na alles klar?,tl'], [], ['Plop ! Excuse moi de te déranger, mais j&apos;ai une demande un peu particulière... Tu aurais pas des croquettes ?\\nPour un gros chien comme moi 🙄,fr', 'Attends c&apos;est pas moi qui t&apos;ai mis une dérouillée ?,fr'], ['is that your dog,en'], ['Hey! Ok I gotta ask, what kind of paintball involves a quad, and a gravity hopper? That doesn&apos;t seem suited to drive by 😂,en', 'I bet! My aim at paintball was questionable even without being in a quad lol. Did you have to stop to shoot with any accuracy?,en'], ['Ahah ma quel cuscino nero è un megapeluche? 😆,it', 'Ahahah beh sleepin in troubled waters,en'], ['did you have a friend suffering from cancer?,en'], ['What&rsquo;s up beautiful? &colon;&rpar;,fr', 'What&rsquo;s your lip tattoo say?,tl'], ['hey!,so'], ['Vill ju veta vad du pluggar,et', 'Hahah inte alls, du får gärna berätta mer 😂,sv'], ['Did you just set up a yo mama joke in your bio,id', 'Hahaha well I appreciate it,en'], ['domanda a bruciapelo, vino rosso o bianco? 🍷,pt', 'Astemia? O proprio da superalcolici pesanti ?,it'], ['Heyho 🖖\\nZwei Frage&colon;\\n1. Bei deinen Lieblingskünstler sind viele Dinge dabei, die ich auch gerne höre. Hast du &apos;ne Empfehlung wo man definitiv reinhören sollte?\\n2. Wer ist diese gut aussehende Katze?,de', 'Hab mir die mal eben angemacht. Und es erinnert mich an was, aber ich komm nicht drauf...\\nEigentlich alles was sich irgendwo zwischen Indie&sol;Alternativ und Hardcore Punk bewegt. In letzter Zeit vor allem wieder zwei Bands, die ich fast vergessen hatte - Perkele und Muff Potter.\\n\\nBist du dann die Königin?\\n\\nWurde als Kind mal in die linke Hand gebissen. Hat nicht wirklich Schäden hinterlassen, aber ich fühle mich trotzdem nicht so wohl, wenn ein Hund in der Nähe ist.,de'], ['Hola chica,it'], ['ești sex,ro'], ['What other languages do you speak?,en', 'Oh shit same!,sq'], ['https&colon;&sol;&sol;media.tenor.com&sol;images&sol;4f5c6e5fba390679f00a8e0b4c301332&sol;tenor.gif?width=328&height=330,en'], ['Ahoj &colon;&rpar;,es'], [], ['Hey 👋,en', 'I too am a tea respecter, CRAZY huh,en'], ['Hi Mike, in welcher Stadt wohnst du? &colon;&rpar;,de', 'Bist du ein Bot?,de'], ['Too powerful and righteous,en', 'Yes,tr'], ['Olááá,hu', 'Tudo bem?,pt'], [], ['Hi Ruirui!,ro', 'Thank you. It&apos;s very nice to meet you as well,en'], ['Oh sorry forgot to update my bio to take covid into account. That 5% of the time used to be spent on fun, spontaneous travel adventures. Now it&rsquo;s just 100% boring accountant who binges on Netflix and junk food,en', 'Haha yes I&rsquo;ll just keep travelling until I go broke. Well I was supposed to go to Vietnam and Sydney this year so that&rsquo;ll still be on my list for the future. Although it&rsquo;ll be a while until they open their borders so maybe I&rsquo;ll just have to get some recommendations from you for a trip to France instead 😅,en'], ['Wanna play Coronavirus and get spread on hard surfaces??,en', 'Just got tested earlier this week but I still don&apos;t wear protection,en'], ['Hey Alex, sweet Everything but the Girl shirt. Do you ever listen to their track Night and Day during sunrise or sunset?,en'], [], ['Haha hes a rad skater boi,en', 'But the rest is more my age,en'], ['So hows the hook up life going with quarantine and all genuinely curious,en'], [], ['איך אתה מצפה שאני אגיב לזה,he', 'תודה או משהו? חחחחחחח,he'], ['Hola cómo estás? Disculpá que no te haya escrito antes pero no suelo entrar a Tinder.,es', 'Segura tenés 18?,ca'], ['Hur dejtar man egentligen bäst när krogen stänger 20?\\nKaffe? Promenad?,sv', 'Aldrig varit på promenaddejt förut, kan bli trevligt!,sv'], ['Servus Laura, ich schätze genauso wie du, mit Hilfe von Tinder. 😉 Mir fehlt das Gym 🥺, zu Hause trainieren geht zwar, aber ist nicht das gleiche...,de', 'Das sind doch Siamkatzen, oder?,de'], ['You&rsquo;re beautiful!,fr', 'Wow,pl'], ['A man walks into a bar,so', 'Ouch,de'], ['Coffee, running, wine, construction, and fireworks?,en', 'OK, take two. Coffee treats me well when I have it but that&apos;s infrequent. My daily fix is a tea latte. Running and I get along fantastic, at least since mid-pandemic. I do well with Runkeeper telling me how I&apos;m doing and various podcasts along the way. Turns out I&apos;m comfortable with discomfort on the road. I&apos;m NOT a drinker but I do like, um, grape juice? This is not gonna win me any points, I know.,en'], [], ['Hello! 😌 How are you finding tinder?,en'], [], ['👋 I have! Just the Skittles one though, I haven&rsquo;t watched the rest yet as there&rsquo;s so much on my to-watch list,en', 'Have you watched the Jun&rsquo;s Kitchen videos? the ones where he&rsquo;s cooking with his cats to make ridiculous sushi and other Japanese food 😋,en'], ['Oi, tudo bem?,pt', 'Tudo ótimo,pt'], ['&quot;Ps&colon; gibts hier eig auch Leute die antworten wenn man ihnen schreibt?&quot;\\n\\nFinden wirs soch einfach raus 😄,de'], ['Hey Dalia &colon;&rpar; Thanks for giving a heart to my profile ^^,en', 'You&apos;re quite cute on your pics &colon;&rpar;,fr'], ['Not bad. Would be better with some company 😉,en', 'Just went out to check out the sunset. There&apos;s a hill with a great view nearby.,en'], ['So mysterious, Barry... 🔮,en', 'Well, it IS spring ahead.,en'], ['Hey Esmee, het lijkt mij wel gaaf om naar de oostkust van de Vs te gaan. Japan lijkt mij ook erg leuk om een keer te bezoeken.,nl', 'Omdat Japan een erg interessante cultuur heeft en Tokyo mij ook erg mooi lijkt.,nl'], ['wann zusammen earthmover hören und sterne beobachten,de', 'oh wohl nicht der passendste vorschlag für mitte märz gewesen,de'], ['heyy&colon;&rpar;,en', 'hahaha omg only sometimes,en'], ['Hey Sarah - What&rsquo;s your costume for Halloween this year?,en'], ['Mikäs sul on seuraavana vuorossa sun bucketlistalla?,fi', 'Mul on ehkä norjassa vaeltaminen tai alpeilla laskettu. Oon onneks suorittanut ton lukion😅,fi'], [], ['heyy ;&rpar;,cy'], ['Hola! Where are you from? 😁,en', 'Ah, it was a 3-way guess 🇪🇸&sol;🇮🇹&sol;🇵🇹, I failed 😋,en'], ['Holaa, que tal?,ca', 'Bieen, ahora aprovechando el domingo en el gimnasio 😅,es'], ['Manon, ik wil met jou een blokje om,no', 'Dat was te verwachten,nl'], ['https&colon;&sol;&sol;media.tenor.com&sol;images&sol;dc3b7cf3bdbf160e164d8c4bef371ef0&sol;tenor.gif?width=220&height=124,en', 'Uff, da wird man sofort wieder auf seinen knackigen Hintern reduziert,de'], ['Ça va pas être possible finalement, mon chat a bouffé mon disque dur, j&apos;ai perdu l&apos;intégralité de mes 12857 photos de pizzas à l&apos;ananas.,fr'], ['hey, you ;&rpar; we&apos;ve talked in the past,en', 'well, still not looking for anything serious&colon;&rpar;,en'], ['Привет,bg', 'Как проходит вечер?,ru'], [], ['Hey trouble 👋🏿,en', 'I can always tell lol,en'], [], ['Have you been practicing dickology long?? I need a pro, i think i have a prob,en', 'Well lately its been hanging left, do you know how to make it right?,en'], ['If you like studying important dates in history, do you want to be the next?,en'], ['Hey! I am quite convinced you don&apos;t have a mouth 😱,en', 'ai merda que dificil então 😅 &lpar;nada de português pra mim&rpar; mas você é super fofo, não quero desistir 😍,pt'], ['E ai?? Tudo bem?,pt', 'Tudo bem também 😄,pt'], ['hey &colon;&rpar; i like your vibes. what type of writing do you do?,en', 'i like that. i think there&rsquo;s a lot of creativity you can get from things like dreams,en'], ['Omg, a pretty girl looking for a hairy guy with a dad bod. I&apos;m so excited I dont know what to do with myself.,en'], ['Charlot! Ik wil ook terug wanten met een koortje zodat ik die niet verlies. Heb je nog een paar op overschot?,nl', 'Haha ge hebt gewoon een hoop foto&apos;s op uw profiel gesmeten zonder te kijken welke? 🤔,nl'], ['Hej, sensem życia są scrabble 🤔,pl', '😆 co się dzieje jak przegrasz? Chyba że nie było jeszcze takiej sytuacji,pl'], [], ['Hi!  I just saw that we matched!  I don&apos;t check Tinder much, I haven&apos;t had much luck with it so far.  \\n\\nWhat do you teach?  What do you think about teaching during a pandemic?  😳,en'], ['Hey where are you in the third picture I think I recognise that dome in the background,en', 'Oh no sorry to bring it up! \\n\\nMust have been in something I&apos;ve seen before haha. What do you do for work?,en'], ['https&colon;&sol;&sol;media.tenor.com&sol;images&sol;69170dc520a19932c626e52e0ed7557f&sol;tenor.gif?width=498&height=326,en'], ['My favorite movie is ‘It&rsquo;s such a Beautiful day&rsquo; by Don Hertzfeldt. You?,en'], [], ['Lol is that duncan getting rowdy in lycra on your profile,en', 'I&apos;ll be honest I&apos;ve only met the man once or twice on the bicycle so can&apos;t say I know him that well,en'], ['Wow, you have beautiful hait,en', 'And I&rsquo;d go hiking with you anytime,en'], ['Have you heard the word?,en'], ['What&apos;s up?,en'], ['What&rsquo;s up buttercup,en'], ['Hey there &colon;&rpar;,en', 'Did you swipe right for the pretty boy looks or the cooking?,en'], ['Where did you find this ice cream like thing? Please tell me I can get something like this in Zürich,en', 'Damn it, now I am severely disappointed haha Where were you?,en'], ['Bonsoir. Troyes, comme c&apos;est dommage 😂\\nDésolé pour ça, je crois que mon téléphone fait des escapades pendant mon sommeil. Il sera très sévèrement puni. Promis.,fr'], ['https&colon;&sol;&sol;media.tenor.com&sol;images&sol;4ddbf4fab33f0cb01305e56b40b23a28&sol;tenor.gif?width=426&height=638,en', 'Decisamente bellino, è un invito a mandare gif di altri orsi polari?,it'], [], ['👋👋 heyo,so', 'What&apos;s up,en'], ['i appreciate the “i&rsquo;ll take one of each, please&rdquo; vibe. i&rsquo;m usually the decisive one,en', 'oh definitely red,en'], [], ['https&colon;&sol;&sol;media.tenor.com&sol;images&sol;5a270ffa0ef879e746049255607748be&sol;tenor.gif?width=498&height=470,en', 'Hello 😊,it'], ['What&apos;s up baby? Your name sounds like a name from Star Wars,en', 'https&colon;&sol;&sol;media.tenor.com&sol;images&sol;9f0bc23d0d681ff1dddbed10ebb2a4ea&sol;tenor.gif?width=498&height=249,en'], ['1. No u and 2. I probably need a third option like chips ahoy. Wbu?,en'], [], ['Bruh,id', 'Ye mate, came on by but you were out so just went back home,en'], ['Dag Kristien 🙂,de', 'verlengd weekend in het vooruitzicht?,nl'], ['Hallöchen!,de', 'Besser auf Englisch oder Deutsch? Ich bin ein bisschen auf English &colon;&rpar;,de'], ['Hey! What&apos;s up?,en'], ['Grube pingwiny są całkiem niezłe do przełamania pierwszych lodów. ,pl'], ['Hey stunner,no', 'whats good in the hood,en'], ['Hola Ola,tr', 'Me liamo Jorge,es'], [], ['Where to next travel wise?,en'], ['Pizza w drzwiach otwartych- prawdopodobnie moja ulubiona miejscówka 😁 Znasz jeszcze jakieś miejsca w Łodzi gdzie można coś zjeść dobrego z fajnym klimatem.. tak powiedzmy na randkę? 😂,pl', 'Tam jeszcze nie byłem.. to chyba vege knajpa?,pl'], ['Hi,nl', 'https&colon;&sol;&sol;media3.giphy.com&sol;media&sol;WOwiryOPA0G6jhKqB0&sol;giphy.gif?cid=992ce7140d0c02f91bcd51d500aec6d665a2db19230da921&rid=giphy.gif&width=480&height=405,cy'], ['A ver Sofía hoy tengo el dia ajetreado, pero luego te escribo, no se si eres psicologa o tienes interés en la psicología, casualidad que yo también soy psicólogo. Prometo no hacer de esta conversación un congreso de psicología conductual.,es', 'De Haro, y tu?,cy'], [], ['Dag Ellen! kwestie van meteen een belabberde indruk te maken&colon; het heeft toch wel even geduurd eer ik die &quot;Tantellen&quot; door had. Het leek een obscure hobby of een vreemde sport of een exotisch gerecht, en ik probeerde mij er al vanalles bij in te beelden. Maar na nog wat nadenken had ik door dat je tante bent &colon;p Proficiat daarmee!,nl', 'Tonkel Tim klinkt tof, maar helaas nee. Ik heb één jongere broer en die heeft voorlopig nog geen nageslacht geproduceerd. Als kind had ik wel een peuter-buurmeisje die me in het begin altijd Ti noemde, dus het zou dan voor mij misschien Tonkel Ti worden. Dat bekt nog wel mooi &colon;&rpar;\\n,nl'], ['Hola,tr', 'Intentando de nuevo?,es'], ['Je vroeg in je bio &quot;Samen boodschappen doen?&quot;, en ik zeg doen. Maa dat is natuurlijk niet handig tijdens de crisis. Wat dacht je van samen een boodschappenlijstje maken en dan steen papier schaar wie dan ook echt de boodschappen gaat doen?,nl'], ['Usually I disagree with people when they say they have the best dog pic\\nBut this one might take the cake,en', 'Was it an accident or were you posing it?,en'], ['Wow you&apos;re super far away. Where are you from?,en'], ['Hahahah I know right, if it wasn&apos;t illegal then I would be game x,en', 'Pahahahahha,so'], ['Normalmente non metterei un super like con una bio così striminzita, ma mi era venuta improvvisamente la battuta &lpar;non sono sicuro di averla inviata intera perché non ho capito se ho premuto invio per sbaglio&rpar; e non ho potuto trattenermi. Colpa di Caparezza. A proposito, ero solo io ad avere uno stigma sui fan di Caparezza o è qualcosa di comune? Ma passiamo alle questioni fondamentali&colon; cosa intendi dire quando dici che sei qui per caso? Chiedo per capire come comportarmi. E come mai io scrivo così tanto? Sarà forse perché in realtà non ho nulla da dire e perciò riempio la mia futile esistenza di vacue chiacchiere? Non lo so. Troppo complicato.,it', 'Scusami, sono stato totalmente scortese e inappropriato, ti chiedo umilmente perdono per la mia esacrabile condotta. C&apos;è forse un modo per rimediare ai miei misfatti?,it'], ['Hi! There sure are a lot of germans studying here 🤣🤣. Are you at KI?,en', 'Okay! What&apos;s your field? Could it be toxicology. I hope not \\U0001f972💩. \\n\\nI&apos;m working full time. No concrete plans to go back to school for a while. Working at a Service Desk for an insurance company,en'], [], ['Spoj dohromady dvě skupiny o čtyřech písmenech tak, aby vzniklo slovo...\\n\\nPALA - OZEV - NACE - KOZE - UBAT - ORDI,cs'], ['Vergonha de mostrar a cara? 🙂,pt'], [], [], ['https&colon;&sol;&sol;media.tenor.com&sol;images&sol;adc2e97d2712003407bdc03317c210ea&sol;tenor.gif?width=498&height=278,en', 'Get a life bro!,en'], ['Well, uh, hey there,en'], ['Belangrijke vraag&colon; hebt ge een favoriete dinosaurus? ,nl', 'Ai... &apos;t was te proberen he 🐉 Ge moogt ook een favoriet drankje zeggen om te compenseren dan,nl'], [], ['Hey Mina, what&rsquo;s up? I&rsquo;m curious... is Mina your full name?,en'], ['Wish#2&colon; Sharon is free Saturday. Wish #3&colon; no line at the bubble tea place on Saturday.,en'], ['Lol ya I do but I don&rsquo;t have any myself. Let me see what&rsquo;s up,en', 'Think you&rsquo;ll still want that tomorrow or is this just a Friday night request?,en'], ['&colon;&rpar; hey hey \\nWas geht?,en', '^-^ alles super \\nOmg haha ich bin gerade unterwegs und als ich die Benachrichtigung gesehen habe &quot; Raphi sent you a message&quot; habe ich einfach instant &quot;raphi giraffi gesagt&quot;\\n\\n😂 horst du BESTIMMT auch zum ersten mal haha,de'], ['Buenas! 😄,es', 'Tan jodida está la cosa que hay que andar abrazando árboles? 🤣,es'], ['Hi Alecia, are you from Madeira? Looking forward to chat with you 😃,en', 'So what has brought you to this paradise?,en'], ['oh helllll yes,cy', 'holdup lemme return this favor,en'], ['Tolle Locken 😁\\n\\nGrüße nach Jena\\nSteffen,de', 'Gerne. 😊 Bist Du Studentin in Jena und hat Dich der Lockdown auf Tinder verschlagen? 😉,de'], ['Only if you sit on mine ;-&rpar;,en'], ['Hey shalini,so', 'Are you still trapped inside?,en'], ['周末愉快啊~,ko', '有去哪裡玩嗎,ko'], ['Hi joshua,sq'], ['Ok, on a matché. Mais concrètement, je dois dire quoi là ? 😭,fr'], [], ['Anita, I have just one question for you,fr'], ['Behöver bli omplåstrad men verkar som du är för långt bort &colon;&sol;,sv', 'Jepp, det stämmer &colon;&rpar; Var pluggar du någonstans? Får hoppas du kommer hem snart ;&rpar;,sv'], ['Hello&rpar; need some advice. What should I see while I&apos;m in Riga?,en'], ['Oiii,fi', 'Tuuudo sim, um pouco cansado mas bem usuehsheh,pt'], ['Du kannst dir sogar einen Geschichtsfakt als Eisbrecher aussuchen 😃&colon;\\n\\n1. Admiral Bär\\n2. Der Kampf um den Holzeimer\\n3. Mensch gegen Natur,de', 'Während dem 2 Weltkrieg haben russische Soldaten einen Bärenjunges gefunden das am verhungern war und haben ihn aufgezogen. Der Bär hat ihnen dann geholfen Lasten zu tragen und ihnen gezeigt wo es Nahrung gibt. Aber richtig interessant wird die Geschichte erst als das russische Oberkommando davon erfuhr. Die wollten den Bär zu PR Zwecken auf der ganzen Welt Herumschiffen um zu zeigen das selbst die Natur für Rußland ist. Das einzige Problem war nur das es verboten war Tiere auf russischen Schiffen zu halten. Deswegen hat man das einzig logische getan und den Bären zum Admiral ernannt 😃 und ich stells mir richtig Lustig vor wie die ganzen Marinesoldaten vor dem Bär salutieren mussten und versucht haben sein Gebrüll zu interpretieren 😂\\n\\nGeht&apos;s bei dir aufgrund von Corona auch arbeitstechnisch hoch und runter ? Oder bist du auch am studieren? 😊,de'], ['olha, meus pais deram o nome de bibi pra ela,pt', 'o motivo? quando eu trouxe ela pra casa eles diziam que ela fazia esse som &lpar;????&rpar;,pt'], ['https&colon;&sol;&sol;media.tenor.com&sol;images&sol;3f8e9084ec4c7ab61308909f88173e15&sol;tenor.gif?width=498&height=334,en', 'Tiens ! Je te sors ma meilleur disquette,fr'], ['Haha, bien vu. 😉\\nIl y a toujours une première fois pour tout. &colon;&rpar;,fr', 'Est ce que t&apos;en a d&apos;autres, à pars le hélix sur ton oreille droite ?,fr'], [], ['Keeping busy? &colon;&rpar;,en'], ['You look like someone who appreciates a good send,en'], ['J&apos;ai pas accroché à pulp fiction 🤷🏻\\u200d♂️,fr', '&apos;tain me mets pas la pression niveau culture là déjà que j&apos;ai pas les idées claires !\\nSi je dis &quot;celui dans lequel il y a du sang&quot;, ça passe ?,fr'], ['Jeju, ile lat nosiłaś aparat, żeby mieć takie ładne zęby? 🤭,pl', 'Opłaciło sie totalnie,pl'], ['Hey &colon;&rpar; Jo e de freiziit schiine mer ähnlichi interässi zha &lpar;wobii jo freiziit a de ETH ener es fremdwort esch😅&rpar;.,de', 'Nei ned ganz, ech studiere interdisziplinäri naturwösseschafte, met vell Biologie und Chemie. Aber be de praktische Arbete em Labor gohds scho rächt hüfig rechtig Pharma.,de'], ['Whats up? Hows your day been?,en', 'Quite busy, but mostly with nothing 🙂,en'], ['Muy buenas Maialen! Soy Julen, encantado!,es', 'https&colon;&sol;&sol;media.tenor.com&sol;images&sol;b24d5f3d41a37980dd041e1ed7948a1a&sol;tenor.gif?width=490&height=498,en'], [], ['Ik weet zeker dat ik jou vorig jaar op school heb gezien,nl', 'Olz,de'], ['Sure thing,en'], ['Hello,fi'], ['Ciao Anna  &colon;&rpar;,it', 'Come stai? È un piacere conoscerti  &colon;&rpar;,it'], ['I have been to Taiwan! A long time ago,en', 'Went to see family, in Tapei,en'], ['Hey you coming to England anytime soon?,en'], ['Moi Taru. Ihan vain sitä lähdin kysymään että viheltääkö nuo kutoskuvan pastat jos puhaltaa?,fi', 'Jään oottamaan 😂,fi'], ['Hey,nl', 'https&colon;&sol;&sol;media.tenor.com&sol;images&sol;b7c940e15ecf0f8836c4dec29ffba522&sol;tenor.gif?width=480&height=332,en'], ['hey!!,so', 'good but sleepy haha, you?😊,so'], [], ['Je l&apos;avoue.... Toi tu n&apos;as pas caché de mensonges dans ton profils ?,fr', 'Haha ça va encore ça, tu n&apos;as pas a te plaindre, et au pire, le reste est cool !\\n\\nDu coup comment on fait la réservation pour avoir un graphique ?,fr'], ['Nå da det var da hele smileypaletten ^^,no', 'Nå men hvad du så på sådan en fin søndag? ^^,da'], ['Hejsa. Hvad laver du til daglig? 😊,da'], ['Hola Ale, como estas ?,es', 'Muy bien gracias.,es'], ['mów mi drama king &colon;D ale tak serio to raczej adekwatnie! statystycznie porody udają się częściej niż rozmowy na tinderze także udowodnione matematycznie,pl', 'kobiety mają poród, my rozpoczynanie rozmów na tinderze, każdy ma w żyćku ciężko czasem no 😅,pl'], ['Hej Sarah! 😁\\nHmm, det er et godt spørgsmål, for der er jo ikke så mange at spille dem med for tiden 😥\\nMen normalt er jeg glad for spil som Bezzerwizzer eller Det Dårlige Selskab. Og så er jeg altid klar på at vinde i et spil monopoly&sol;matador 😂\\nHvilke kan du lide?,da', 'Uhhh, spændende! Har ikke spillet Ticket to ride før - er det sjovt? Partners har jeg dog prøvet et par gange, men det er vidst et par år siden 😅\\nI den mere nørdede ende har jeg også Risk og Catan liggende, men de er for lange og avanceret til at familien gider spille dem med mig. De må vente til jeg kan samles med vennerne igen 🙈🤓,da'], ['Hey, I think I remember you. I&apos;m pretty sure we talked a while ago on a different app.,en', 'I don&apos;t suppose you remember me?,fr'], ['If you need company on your late night cheeseburger runs then I&apos;m game 🙋\\u200d♂️,en', 'Why resist 👀 I say go for it,en'], ['https&colon;&sol;&sol;media.tenor.com&sol;images&sol;2b84cf4bdfbb613474ac55e22d3bc826&sol;tenor.gif?width=498&height=211,en', 'Rémi, enchanté.,fr'], ['Bonsoir Anais !,fr'], [], [], ['Bonsoir kafrine !,no', 'Tu fais quoi de beau dans la vie ?,fr'], ['&colon;DDDDD ZDRAVÍM,it', 'Doufám že sis našla uz nejakyho sexouse,cs'], ['https&colon;&sol;&sol;m.tiktok.com&sol;v&sol;6948213282062765317.html?_d=secCgYIASAHKAESMgowqhGva7Jz%2BeryYn%2F42NIvYzeaw3k9TqOjDxkXwQe42HtqHdhSAppoaZ99ibJvfXW6GgA%3D&language=en&preview_pb=0&sec_user_id=MS4wLjABAAAAyMiBePiSVsi7649XR1eBih7h4FbfkOy0AIoWKfkE3jQti62K4BPhiN5G8e47sYFO&share_app_id=1233&share_item_id=6948213282062765317&share_link_id=60fa8d42-a762-4333-9446-84ccd8bbaa78&source=h5_m&timestamp=1618097806&u_code=deh7932d843gb4&user_id=6875781652779074566&utm_campaign=client_share&utm_medium=android&utm_source=copy,en', 'Thoughts,en'], ['Hi Courtney, what book are you reading?,en', 'I&apos;m also trying to finish a trilogy before the show on Netflix lol,en'], ['Hey what&rsquo;s up?\\njust starting a busy school day so not too excited about that but good otherwise \\nHbu?,en'], ['Ui, itz bini mir wük nid sicher weles dini liebsti jahreszyt isch, du schiinsch di immer wohl z füehle.\\n\\nI tippe trotzdäm uf summer!\\nO wennde einig winterbilder hesch&colon;P,de', 'Wenn d prämisse isch chli dusse chönne z si, de sie die letzte täg leider wük für d füchs gsi^^\\n\\nMeh so chli summer, aber &lpar;ganz wichtig&rpar; nid wie im 2019 wos gfühlt 50 grad isch gsi.\\nDenn chaschmi definitiv nid bruche.\\nAm liebste ke räge, und so öpis zwüsche 15 und 25 grad.\\n\\nDas fändi herrlech^________^,de'], ['de si komsinice XD,hr', 'jesi se skucila u BG? &colon;&rpar;,hr'], [], ['Dann gib mir 2 Beispiele für Deine Leidenschaftlichkeit &colon;&rpar;,de', 'Hast Du denn südländisches Blut in Dir?,de'], ['Well, hello there!,en', 'How&apos;s it going?,en'], ['hiiiii!,so', 'gimme ur snap i&rsquo;ll add u, let&rsquo;s see &colon;&rpar;,ca'], [], ['https&colon;&sol;&sol;media.tenor.com&sol;images&sol;3af3a165800cb5a7a1c2bd2854729988&sol;tenor.gif?width=498&height=205,en'], ['Damn Pam,id', 'I like how you know the difference between you&rsquo;re and your. You must be educated,en'], ['Alright can I see your face then,en'], ['Those attitude shoes must be some tall ass platform heels if they make you 6&rsquo;4&rdquo;, dang,en', 'Maybe comedy was my calling and I never fully pursued it smh,en'], [], [], ['hii,so', 'not much wbu,en'], ['Sure chess,fr', 'Pwede mobile?,ro'], ['baskin robbins? for chain ice cream i&apos;m more of a cold stone person myself but we can&apos;t all agree on everything,en'], [], ['Jel moze taj kabl od klime da domasi do uticnice, deluje bas knap &colon;D,sl', 'Dobro je, ja se vec zabrinuo &colon;D,sl'], [], ['hey, buenas noches &lpar;día?&rpar;, un desubicado, no? Igual calculo q la gente medianamente sensata tiene las notificaciones off.\\nCuestión, ya hablamos hace como un año no?🤔 Follow up, que pasó con nutrición? Te ganó el arrrte?🙃,es', 'Jaja, en serio no? Qué tas haciendo en bellas artes.,es'], ['Moikka! Mitäs sulle kuuluu? 😊 Mennää waa! Mul on aika paljo touhuu täl viikol ku olin viime viikon lomalla ja oltii koko viikko tuol Lapissa mut vois vaik ens viikol kattoo 😃,fi', 'Okei! Vieläks sä oot ollu kokonaa etätöissä? 😄 Mul on ens viikol vähä paremmin noit työvuoroi et usein pääsee jo kuudelta nii ehtis sit munki duunien jälkee vaik tekee jotai😃,fi'], ['hellboy &lt; crybaby,cy', 'change my mind,en'], ['mango,tl'], ['Ein schönes Wochenende &colon;&rpar;,de'], ['Din poze îmi pare că îți plac foarte mult peisajele,ro', 'Șii că ești o persoană gânditoare &lpar;uneori cu un pahar în mână 🙃&rpar;,ro'], ['Beste fruit??,ro'], ['Hey how are you?,so'], ['Hello *pretends to be a waiter*\\nHere&apos;s your icebreaker garnished with awkwardness💁🏻\\u200d♂️ Would you like something to drink?,en', 'Been regretting that opener the whole day🤦🏻\\u200d♂️😅,en'], ['I&rsquo;ll be straight up with you. I make amazing waffles 😌 the only question is what are you having with yours,en'], ['Hejo, skoro nie chcesz gadać o byciu frog goblinem to chociaż opowiedz o czymś co Cię interesuje.,pl', 'Konsumować gierki? Elaborate,pl'], ['Hi Anna, we meet again 😄,nl', 'Why did you delete your previous profile?,fr'], ['Привет\\nЕсть предложение рвануть с места в карьер. Вместо длительной и, возможно, утомительной переписки уделить друг другу пару часов на очно познакомиться в нейтральном где-нибудь &lpar;у меня есть пара знакомых хороших кофеен, но и твоё предложение рассмотрю&rpar;\\nКак тебе идея?,ru', 'Хехе\\nТогда милости прошу в телегу, секунду,ru'], ['Hey Ally, how are you?,en', 'I&apos;m great, today&apos;s a hang out by the pool type of day,en'], [], ['Dass sich meine Programmierskills mal auf Tinder auszahlen hätte ich jetzt auch nicht unbedingt gedacht 😄,de'], [], [], ['https&colon;&sol;&sol;media.tenor.com&sol;images&sol;e5d8c1421685d356448fab9c1add083f&sol;tenor.gif?width=498&height=219,en', 'hi chanya,sw'], ['Hola Michelle 👋🏽,it'], ['I&rsquo;ve been meaning to read the stormlight archive but the length at this point kinda scares me haha,en', 'What&rsquo;ve you been reading recently?,en'], ['https&colon;&sol;&sol;media.tenor.com&sol;images&sol;c40123ced12dfc19cf94108d0e5008a2&sol;tenor.gif?width=400&height=200,en'], ['selamm,id', 'İyi senden naber,da'], ['What kinda tunes?,id'], [], ['Hey Tanka! Als Phil Collins in meinem Ohr &quot;you can&apos;t hurry love it&apos;s a game of give and take&quot; gesungen hat, ist mir direkt ein instinktives superlike rausgerutscht 😁 sehr schöne Bilder &colon;&rpar; wo bist du denn wandern auf dem letzten?,de', 'Oh Tindertourette kannte ich noch garnicht. Danke für die Diagnose 😁 Richtig schön dort! Bin da zweimal mit dem Rad hin gefahren &colon;&rpar; Und dein Tipp war richtig ;&rpar; Die meisten Fotos von mir mache ich, wenn ich beim Radfahren Tiere sehe und dabei bin ich öfters schlammig 🤷\\u200d♂️,de'], ['Hey there, have you seen the new Tarkov stim that either maxes out your stats for 15 mins and then kills you or has a 1&sol;5 chance of killing you on the spot?,en', 'I really couldn&rsquo;t think of anything fun to say, maybe something like “don&rsquo;t worry baby, my dicks smaller than a toothbrush so you definitely wouldn&rsquo;t gag&rdquo; but that seemed too self deprecating and un original,en'], ['what happens in kansas?,af'], [], ['Τι κάνεις Δανάη;,el'], ['Hi! I think I need to hear about this spaghetti sauce you mention! 😂 Salty? Spicy? Cheesy?,en'], ['Say, do you ever sing popular songs to your animals but replace every word with the animal&apos;s name?,en', 'Surviving so far. I&apos;m forcing myself to enjoy it because I was so done with the cold weather. And I&apos;m glad I&apos;m not the only one singing the pet hits,en'], [], ['Lustigt att den enda snubben som, av blicken att döma, inte vill vara katt, är just en katt 🤔,sv', 'Får väl ta dig på orden men tänker inte utesluta att du hade en bit köttfärs, alternativt kattmynta, på din person. Om inte så är det meriterande att ha lindat en katt på det sättet; ett skarpt ksskss är få förunnat.,sv'], ['czesc,pl', 'how much swedish do you know?,en'], ['Ayyyyyy,fi', 'Lmao,tl'], ['Moi, mitäs siun viikonloppuun? 😊,fi'], ['Hey Alla! Vedo che hai viaggiato per 20 paesi, riesci ad indovinare dove si trova la scimmia?,it', 'Se azzecchi vinci uno shot di limoncello fatto in casa,it'], [], ['Moi Lumi! Virtuaaliminämme ovat selvästi kiinnostuneita toisistaan, pitäisikö selvittää kuinka tilanne on varsinaisten henkilöiden välillä? Olisi kiva tavata, ties vaikka keksittäisiin jotain yhteistä ihmeteltävää. Kesä alkaa vähitellen vaikuttaa kesältä, eli kohtaamisille olisi mahdollisuuksia. Fiilistele!,fi', 'Joo, ei tässä ole kiire mihinkään, valmiissa maailmassa. 😉,fi'], ['Moikka 🙃 oon luullakseni ihan mukava 😄 just tässä mökkiviikonloppua lopetellaan. Mitäs siun kesään?,fi', 'Porukoitten mökillä tos Taipalsaarella. On kyllä ihan kivat lomakelit siulla 😎 missäs päin siulla mökki?,fi'], ['Ahoj,hr'], ['hit on me? sure ;&rpar;,fr'], ['Ehi 🙄,sw', 'Eh, è una storia lunga e complicata,it'], ['Tuutko Näsijärven rannalle riippumattoon juomaan viiniä?,fi'], ['Hi und schön, dass du die Sprache lernen willst aber warum gerade Deutsch? Gibt ja deutlich verbreitetere Sprachen. Und dann auch noch als Medizinerin?\\n\\nOf course we can also seitch to english as you prefer. 😄,de'], ['Tengo mucha curiosidad sobre qué dice tu barbijo negro,es', 'Quiere decir que estoy muy cerca tuyo?,es'], ['Are you a tourist to Seattle? Where are you from?,en', 'Oh Florida, way across the country. Why&apos;d you decide to come if you have already been? Just really into Seattle&apos;s atmosphere?,en'], ['Oii,fi', 'Ta tendo alguma sorte por aqui?,pt'], ['Girl how much you squat 😂,en', 'You cans definitely squat me holy shit,en'], ['Lisätietoja koirista, mä tykkään koirista,fi', 'Okei okei, onks niitä kiva viedä lenkille? Mä siis tykkään myös naisista että voidaan tutustua meki mielellään,fi'], [], [], [], ['How long are you in town?,en', 'Are you here on holiday?🙂,en'], ['okay you have my full attention 👀 ,en', 'well good photography always helps &colon;&rpar; do you speak english?,en'], [], ['Hey! Wat is je lievelingskleur?,af'], [], ['Lmao the clark fork is such a great river,en', 'All the bozeman rivers are like dry,en'], ['Heyy how you doing! Hope you&apos;re enjoying the Canberra winter so far 🙃,en'], ['Hej!! hur är det?,sv'], ['Hey hey\\nDarf ich fragen woher du kommst? Im Profil steht nur 54 Kilometer entfernt.,de'], ['The photo on the glass is super trippy lol,en'], [], ['Ihan kuin kevät olis saapunut kaupunkiin. Tyyppi jotenkin hehkuu sellaista hyvää energiaa 🤩,fi', 'Oh how silly of me. You might not even speak finnish ☺️,en'], ['Hey &colon;&rpar; bist du gerade unterwegs?,de', 'https&colon;&sol;&sol;media.tenor.com&sol;images&sol;7d05f940425850f9427e3ff89274338e&sol;tenor.gif?width=244&height=218,en'], ['don&rsquo;t have a cat, how&rsquo;d you swipe right on me?,en', 'i know it&rsquo;s a meme at this point, but i&rsquo;ll genuinely think about this compliment for the next couple of years,en'], ['Hey how&apos;s it going?,en'], ['Coucou, ça va?,ca', 'Salut, très bien et toi?,fr'], ['Belli i tattoo,it', 'Bello il pigiamino colorato,it'], ['Hi!,sw', 'Are you using tinder passport or something?,en'], ['Szia, mi a kedvenc sorozatod? &colon;&rpar;,it', 'Nekiestem a Peaky Blindersnek, és eljutottam azt hiszem a második évad közepéig, de nekem valahogy ellaposodott ott. Lehet kellene adnom neki még egy esélyt. &colon;D\\nMost ami nagyon megtetszett, az a Better call Saul, azt gyorsan leporgettem magamhoz képest, mert nagyon érdekes volt. Brooklyn Nine Nine is ott van a dobogón. Vegul a Sex Education van még amit nagyon várok, hogy folytassanak &colon;&rpar;,hu'], [], ['Hello there!\\nKurze Frage, nennt man dich zufällig Saitama?,de', 'Weil du mich mit einer Bewegung zu Fall gebracht hast,de'], ['Hmm, a je Praha opravdu lepší? 🤔,cs', 'No tak to musíme nějak brzy zjistit ne?,cs'], ['In deinem Profil steht du hast keine besseren Bilder, also lass einfach zusammen bessere machen.,de', 'Ich bin eigentlich Elektroniker für automatisierungstechnik aber zurzeit tätig als E&sol;E Hardware Entwickler und PCB Layouter. Das ist irgendwie lang und keiner kann was damit anfangen, außerdem klingt Elektromancer cooler.,de'], ['Aroo! Are you back on the OCR scene? I think I will probably sign up for the Oracle Park race for December,en', 'Nice- I started going to the gym early June and discovered i couldn&apos;t do a single pull up. Cardio has been ok though. During the pandemic, I logged in over 800 miles on the Embarcadero 😱,en'], ['Oie 🥰,af'], [], ['Bună &colon;&rpar;,ro', 'Cu ce vânt pe aici?,ro'], [], ['Hello April, what&apos;s your favorite thing about being named April?,en', 'I assume April fool&apos;s jokes are also abundant?,en'], ['Ptdrr je savais pas si tu m&apos;avais déjà passé ou pas,fr', 'Ça fait looongtemps que je t&apos;ai vu mdr,fr'], [], ['Hope you&apos;re well. I&apos;d go with Guiness, if I were in Dublin. Otherwise, Murphy&apos;s.\\n\\nP.S. I&apos;m not a Dublin fan lmao.,en', 'I must be psychic 🔮. I lived in Dublin a couple years ago, the Guiness tastes different, the bar staff told me the fact it doesn&apos;t need to be exported far keeps more of the taste. Haha.,en'], ['Miten sulla on aikaa noille karvapalloille noin monen työn kanssa? 🤯,fi', '😂 Nytkö tässä pitää alkaa pelätä globalisaation ja automaation lisäksi jotain helvetin aikamatkustajiakin, ei hyvältä näytä tulevaisuuden työllisyysnäkymät,fi'], ['Hey du siehst unfassbar gut aus. \\nWir läuft dein Sommer?,de', 'Hey you look sensational. How are you doing?,en'], ['hi Paola 🥰 how&rsquo;s your night going,en', 'same! that&rsquo;s like what I do every night instead of purposefully trying to sleep haha,en'], ['Eu escuto Hauser todo dia, encaixa pra tudo,pt', 'Kkkkk,fi'], ['Hi! Thanks so much! How&apos;s your day going?,en', 'Aw that&apos;s great! What do you do?,en'], ['Gjetter 10kr på at du danser hiphop,da'], ['Intet seriøst - så tænker jeg the Office og margaritas,da', 'Med fjollede hatte på,no'], ['Sup Marta! Digger 🔥 sokkene dine,af', 'Hadde noen lignende når jeg gikk på barneskolen, de ga meg gode minner,no'], ['Привет, я тебе в инст написал 😄,bg', '@biokozlov,sk'], ['What&apos;s your favorite MtG deck?,en', 'Oh nice!  I remember drafting that set with my college friends.\\n\\nI like pretty much any red&sol;blue cantrip deck.  I just want to play a lot of cards, ha ha.,en'], ['Sumo ble en kort karriere, måtte gi meg på topp. Liker at du har raske briller 😎,no'], ['Hey! Started with a paddle in the sea with the pug, ended with a few drinks round the firepit. Can&apos;t complain. How about you? Are you really 250 miles from Newcastle?,en', 'Heaton, and and no camping - firepit was in my yard &lpar;there may have been marshmallows&rpar;,en'], ['Hallo! Wie geht&apos;s dir? European studies sounds nice, where do you study?,en', 'Und machst du Erasmus in Athen oder einfach Urlaub? ☺️,de'], ['Helou ai duu spiik finish suomi,fi', 'Ok vaihdan vaa finish suomee. Mikä toi tatska sun kädes on? Oon miettiny hankkivani kans sellase jonnekki,fi'], ['It&rsquo;s crazy I was just telling my podiatrist how much I would love to have instant access to copious amounts of bees,en'], ['Like what other passions?,en'], ['Wow, your holiday photos🤩,en', 'Where did you visit? Somewhere in central America?,en'], ['I didn&apos;t mean to like sorry - the distance too far for me. &lpar;Not very romantic of me, I know🤦😂&rpar;,en', 'Your bio made me lol, so I tapped on your profile, but it registered as a superlike - your pics are hott though 🔥🥵😉,en'], ['Hej,nl', 'Hittar du på idag?,sv'], ['Hey Martina,en', 'I&apos;m afraid I&apos;m no longer in Barcelona,pt'], ['Bon matin Marie-Ève 🌞,en'], ['We both have too many mirror selfies 😂😂,en', 'if we ever go on a date it should be taking good pictures of each other,en'], ['So, if you had to choose one thing about you that makes you the happiest, what would it be?,en', 'Sorry, I don&apos;t really feel comfortable sharing my number before we talk on here first.,en'], ['ora boas,pt', 'infelizmente,it'], ['Oh é assim tão má? Ahah,pt', 'Não havia mais criatividade 😲,pt'], ['helloooo tommy,en'], ['You&apos;ve got some unusual photos. What&apos;s going on in the second one, it looks like a cup of bees?,en', 'Ah, yes, I was about to say I prefer English. I can read Icelandic somewhat decently, but can&rsquo;t write or speak it much at all.,en'], ['Hi\\nWhat is the picture supposed to be?,en'], ['Selam Zeynep, uygulama bana 1 ay once eslestiniz diyor, sanirim hafiza kaybi yasiyorum. Gectigimiz ay icerisinde neler oldu? Evlenip coluk cocuga karistik mi, yoksa isler yurumedi bosandik mi? Bosandiksa da sorun degil seni sevmeye daima devam edecegim, ama nafaka odemem bilesin.,tr'], ['hey wanna stomp on my balls?,en'], ['Oh jeeze life must be crazy for you right now as a medical worker 😥,en', 'How are you holding up?,en'], ['Hi! How are you spending your summer? Are you on holiday?,en'], ['What new movie are you looking forward to now that theaters are reopened?,en'], ['Hallo Leonie 👋🏼 freut mich mit dir zu matchen &colon;&rpar; verzeih mir, ich glaube ich habe über Corona komplett verlernt Menschen kennenzulernen.\\nIch hoffe dir geht&rsquo;s gut. Was ist denn dein Lieblingsessen als Foodie ?,de', 'Ja das stimmt. Das war ja in der letzten Zeit ja komplett pausiert. Bist du denn bisher gut durch das Chaos gekommen ? &colon;&rpar;,de'], ['https&colon;&sol;&sol;media.tenor.com&sol;images&sol;f2d924794ff3881a07ea839783b3b0ea&sol;tenor.gif?width=480&height=480,en'], ['Gelato,it', 'Super silver haze,no'], [], ['Je denkt vást dat pinguïns geen knieën hebben omdat ze zo waggelen,nl', 'Maar die hebben ze wel, ze zitten alleen onder de vacht verstopt,nl'], ['Hey! So what on that list of likes have you been experiencing this summer?,en', 'Hi hi - apologies for the slow response. I hear you on tempering things...it&apos;s such an odd time. I&apos;m also getting my red wines together for winter...any recommendations?  ,en'], ['So if you had to choose between a horrible cheesy pick up line or a horrible cheesy dad joke, which would it be?,en', 'Hey!,en'], [], [], ['Gonna keep it simple, youre very cute Sara 😘,en', 'Where are you from?,en'], [], ['Happy Sunday night,tl', 'We should meet,en'], [], ['Hi Ny!👋\\nThanks for accepting my super like☺️,en', 'How is your name pronounced ? Like Night ? Or like Nickel ?,en'], [], ['Men tjeena, tack för senast, var skitkul!,sv', 'Håller med! Så hur är lyckan här på tinder då?,sv'], ['oh hi,cy', 'ich muss mich grade irgendwie von der Hitze ablenken. uhm, welchen sport machst du am liebsten?,de'], ['that&rsquo;s incredible,en', 'make your OWN bagels,tr'], [], ['Allô Lisa Marie!,fr', 'Tu es dans quel pays en ce moment?,fr'], ['嗨 子琪,ko'], ['Of all the things we could possibly disagree on, I don&apos;t think it would be about Shrek. Even the music in it is great. Shrek himself is a living legend,en'], [], ['Hey,nl', 'No lol. It means im a virgin and lookin to change that,en'], ['🤔. Yo sabía...,es', 'Desde que te Vi, el tiempo se detuvo... Transcurre Paula-tinamente,es'], ['no dog on my pics, whyd u swipe on me? lol,cy', 'sorry to disappoint but i dont have a dog &colon;&lpar; kinda wish i had one lol,en'], ['Hi! I do watercolor illustrations mostly, and then use those to design greeting cards,en', 'What&rsquo;s your favorite kind&sol;genre of art?,en'], ['Are u related to Terry the fat shark!!,en'], [], ['You&rsquo;re really great? I&rsquo;ll take your word for it x,en'], ['https&colon;&sol;&sol;media.tenor.com&sol;images&sol;630cd23b415388bb7d92db3d96d439e6&sol;tenor.gif?width=498&height=359,en', 'How was your day?,so'], ['Skal vi ikke bare springe alt det kedelige over og gå direkte til den sjove del?,no', 'Lige hvad du vil have,da'], ['Hola Deborah, qué tal como estas? Que haces aca en Paris ?,es', 'Ah super, traduccion en francés o inglés &lpar;o los dos&rpar;?,es'], ['Hey &colon;&rpar; Finde Marvel dank MCU deutlich besser, aber DC ist auch nicht schlecht und wird wie ich finde immer besser.\\nUnd du selbst? 🤨,de', '😆 ist auch nicht wirklich der netteste Charakter.^^\\nWelchen Marvel Film findest du denn am besten?,de'], [], ['Okay so take my through your plants,en'], ['Ooks miettiny et jos verkkoon tekee reiän nii siinä on sen jälkee vähemmän reikiä 🤔,fi', 'Onpaha jotai ajateltavaa loppupäiväks 😌,fi'], ['Mu favorite thing is when Summer comes, it&rsquo;s the best season😏,en'], ['23, tak to je pohoda! 😂,sk', 'To pak ale nemůžeš sedět v autě vepředu, ne? 😂,cs'], ['Salut, est-ce que tu peux me donner le secret de ta potion de métamorphose ? Parce que sur chacune de tes photos on dirait une personne différente 😋. Comment je fais pour savoir laquelle est la vraie ?,fr', 'Et nan mais attends tu m&apos;as pris pour un moldu ou quoi, tu changes de lunettes 4 fois par jour aussi 😜 ? Elle est un peu trop forte ta potion là. Je vais donc avoir besoin d&apos;autres photos beaucoup plus &quot;authentiques&quot; pour mener ma petite enquête 😈.,fr'], ['Hi Cara! How&apos;s your day going?,en', 'Went on a run, went to the gym, watched the entire second season of Never Have I Ever. \\n\\nOverall, an extremely productive day, mainly due to that last reason ,en'], ['So I know I don&apos;t look too much like Michiel, but through the power of photoshop anything is possible &colon;&rpar;,en'], ['If you&apos;re real say potato,es'], ['Whats your dairy alternative?,en', 'Damn really living life on the edge aren&rsquo;t ya 😂,en'], ['Sandraaa! Du minns väl att jag fortfarande har en innestående middag hos dig 😎😄,sv'], ['Oi,pt', 'Tudo bem?,pt'], [], ['bin ich din erste match? &colon;&rpar;,en', 'hahahahaha,so'], [], ['Look who it is hahaha,en', 'Hey we both like salsa, what a coincidence,en'], ['Ehilà. Per fortuna hai matchato con me e non con qualche caso umano su Tinder. Comunque volevo dirti che ti amo e che le nozze sono fissate per l&apos;11&sol;09&sol;21. Mi dai il permesso di portare il mio gatto al guinzaglio durante la cerimonia?,it'], ['Holaaa Maryy, encantado de conocertee👋👋😊,es', 'Veo que estás un poco lejos,es'], ['Ahoj, dúfam, že si nepotrpíš na nejaké prepracované baliace hlášky, na to som málo kreatívny 😅\\n\\nAko ide život? Užívaš si leto? Ja zatiaľ celkom nuda, nemám veľa ľudí, s ktorými by som mohol tráviť čas a ty vyzeráš ako dosť vpohode osoba 🙂 Nechceš vybehnúť niekedy von spolu a pokecať?\\n\\nSamozrejme, ak si chceš najprv trochu popísať a oťukať si ma či nie som sériový vrah, tak kľudne môžme 😄,sk', 'Hmm, tak to znie dosť husto, neviem si ani predstaviť pravdu povediac čo to obnáša robiť film. Môžeš mi o tom potom porozprávať, to ma celkom zaujíma 🙂\\n\\nJa zase rád robím videohry, aj keď v poslednej dobe som nevedel nájsť veľmi motiváciu na nič 😑\\n\\nKedy by si mala čas na stretko? Mohla by si zajtra&sol;pozajtra večer?,sk'], ['Hi Daniela! Schöne Fotos, wo war der Strand?,de', 'Ich komme aus Australien. Das bedeutet, dass ich eine leichtlebige Persönlichkeit bin &lpar;ich bin mir nich sicher, ob sich das gut übersetzen lässt&rpar;.,de'], ['Hi Jenna - Do you like fun facts?,fr'], ['Hey Amy! How&rsquo;s it going? &colon;-&rpar;,en'], ['Hello there,en', 'How&apos;s it going?,tl'], ['Hey Vicky 👋🏻\\nAuf was für einem Konzert warst du da? &colon;&rpar;,de', 'Das ist aber eine freundliche Begrüßung 😁 ja bei mir passt derzeit alles, hab heute einen entspannten Sonntag verbracht, nachdem ich gestern bei der Geburtstagsfeier von einem Freund war 😅\\n\\nUh geil!! Wie war&apos;s? \\n\\nSprichst mir aus der Seele. Hab mir vor paar Minuten schon Konzertkarten für Oktober gekauft, ich hoffe das haut hin 😄,de'], ['Hello again, so are you still interested in that round of minigolf then?,en', 'Haha, well we matched on Hinge a while back which is what I was referring to 😂\\nBut I do actually think we might have met at a touch rugby tournament a couple years ago,en'], ['No bio? Come on gang we have a mystery to solve,en', 'https&colon;&sol;&sol;media.tenor.com&sol;images&sol;a43a4a3b9cdd9e279fdea331fdd8870c&sol;tenor.gif?width=498&height=373,en'], [], ['Hello there,en'], ['That&rsquo;s so crazy 😌,en', 'Hmm we&rsquo;ve matched before lol,en'], ['Hey Lisa Maria ich bin mir sicher du bist eine ganz Liebe aber kannst du bitte trotzdem aus der Brust meiner Oma verschwinden?,de', '1. Freut mich, Lisa,de'], ['Hey Natalie, I give you £10K &lpar;I&apos;m not sadly&rpar; tomorrow, what you spending it on?,en', 'Do you accept monopoly money? I&apos;m ignoring the driveway, that&apos;s just not acceptable! You at least gonna get a fun car?,en'], ['Amai, 2 katten en een hond?,nl', 'Ik ben jaloers,nl'], ['aus hannover aber in zürich? ,de', 'was ist die geschichte dahinter,de'], ['gyönyörűek a szemeid 😄,hu', 'szívesen elnézegetném őket valamikor egy kávé felett,hu'], ['hello!!! good! started a new project at work and was stuck in wordpress hell for half the day lmao. how about yours??,en', 'ohhh what&rsquo;s the new job??,en'], [], [], ['Onko tuo sinun kissa? On nimittäin tosi söpö,fi', 'Mä oon kesäduunissa Mikkelissä kapuilemassa ja soittamassa kesäteatterissa niin sen esityksissä,fi'], ['Waffles or pancakes?,en'], ['Sori en osaa alottaa keskusteluita täällä mitenkään hienosti mut ehkä mä yritän vaa tylsästi kysyä että mitä kuuluu?😂,fi', 'No eipä mulle mitään ihmeempää, oon ottanu tän päivän vaa rennosti kotona ni jaksaa huomenna taas etäopiskella🤓,fi'], ['Hey, how&rsquo;s your Monday going? &colon;&rpar;,en', 'I&rsquo;m doing pretty good just chilling at home atm. Earlier I went for a hike in Porters Lake then played a little tennis &lpar;which I&rsquo;m horrible at 😂&rpar;. What are you up to?,en'], ['Hey, muss sagen deine Wohnung sieht echt stillvoll aus und du hast ein sympathisch is Lächeln. Hast du denn selbst Katzen &lpar;Bio&rpar; oder magst du Katzen einfach?,de', 'Oh, das mit der Katze tut mir leid. Gerade bei verschwunden Katzen weiß man ja nie was passiert ist. Bin von Geburt an mit Katzen aufgewachsen, kann mir nen Haushalt ohne Katzen gar nicht mehr vorstellen. In Dresden ist es zumindest für Freigänger schwierig &lpar;wobei es bei uns auf der Strasse doch einige gibt&rpar;, daher sind meine Wohnungskatzen. Hoffe aber in 1-2 Jahren umziehen zu können, damit sie wenigstens nen Balkon haben.,de'], ['Hey Hetvi 👋,nl'], ['Country Roadssss,en'], ['what&rsquo;s up bestie,en', 'When&rsquo;s the next time we hanging out, feels like forever and a day,en'], ['Hi Stephanie! I like the UNC blue on you! Cute. Is that a recent wedding picture?,en', 'I&apos;ve only ever been on campus a couple times for work. Seems neat, yet to explore yet.,en'], ['I can fix that date problem 😌,en', 'If youre actually down, can i get your snap? Down to figure something out ☺️,en'], ['Givetvis... av alla mina liv så skulle jag nog klassa detta som det bästa. Det senaste året måste dock ses som en mindre bra del av mitt bästa liv, inte ens topp 3 år tror jag. Organiserade dock städskrubben förra veckan, så nått positivt har det ju ändå lett till.,sv', 'Hur rankar du detta livet?,sv'], ['Haw yee doin?,so', 'Pretty good. Just watch some racing on this fine Sunday morning.,en'], ['Hey what&rsquo;s up,en', 'Oh nice what house are you in?,en'], ['😂 that was corny af, I love it,en', 'How are you today?,so'], ['It&rsquo;s called “apologizing too much&rdquo;,en', 'Haha you&rsquo;re too sweet,so'], ['Uh hvilket fact skal jeg vælge, der er så mange,da', 'Oh god I&apos;m actually stumped,en'], ['Hey Brooke, how is your week going?,af', 'Mines not too bad. Been dog sitting for a friend so that&apos;s been most of my time lol.,en'], ['what are the chances we get taco bell then kiss,en'], ['if ur submissive and breedable then i&rsquo;m dominant and fertile \\U0001f971\\U0001f971\\U0001f971,en', 'find out for yourself 🥰,en'], ['Salut ! 🙋\\u200d♂️ est-ce que tu te débrouilles bien au badminton aussi ? J&rsquo;aurais déjà trouvé ma stratégie pour gagner contre toi 😉,fr', 'Imagine une belle journée ensoleillée 🌞 sans lunettes on serait aveuglé à 25% .. ensuite j&rsquo;lance une blague en même temps que le volant et tu commences à rire alors il te reste seulement 25% de ta vision 😵\\u200d💫,fr'], ['https&colon;&sol;&sol;media.tenor.com&sol;images&sol;1afc496278fb629da8722c255307502d&sol;tenor.gif?width=498&height=278,en', 'Totally did not mean to send that gif 😂,en'], ['Omg hey! How&rsquo;ve you been?,nl', 'Not too bad just busy all the time,en'], ['Heyy, how&rsquo;s lockdown treating you??,en', 'Yeh it&rsquo;s been alright. Worked thru a bit of it but quit my job 😅\\n\\nNow I&rsquo;m just enjoying playing games with my mate while I look for another job,en'], ['Hello, how are you? 🙂,en', 'I&rsquo;m doing well 🙂 Where are you from?,en'], ['https&colon;&sol;&sol;media.tenor.com&sol;images&sol;3f2a9a4cee0f0ee61d4937b3c11ffb70&sol;tenor.gif?width=498&height=427,en'], ['Skip the whole setup I&rsquo;ll just stab you,en', 'Perfect I&rsquo;ll be over in 5,en'], [], ['Not quite 2 am I&rsquo;ll get back to you,fr', 'Hey how&rsquo;s it going?,en'], ['Nabend, dann hau Mal raus wie groß du bist wenn du schon so angibst damit 😌,de'], [], ['Hi aom?,pt'], [], ['Voiks opettaa mut kattoon animee?,fi', 'Laskee mun nörtti crediä,it'], ['Aika vaikee koittaa valita vaan yks huonoin niistä mut yritetään! \\nMitä nälkäinen orava sano aasille?,fi', 'Pistaasipähkinä!,fi'], ['Hellooo,nl', 'https&colon;&sol;&sol;media.tenor.com&sol;images&sol;87d25c8ca0434798fb7da4b4f8018256&sol;tenor.gif?width=356&height=288,en'], ['https&colon;&sol;&sol;media1.giphy.com&sol;media&sol;IThjAlJnD9WNO&sol;giphy.gif?cid=992ce714bd28a5709fc611eb815322a95b2e1c93556a48f2&rid=giphy.gif&width=245&height=184,en', 'Hellooo 😊,so'], ['Hey cutie!,en', 'Has anyone told you that you look like Miles Nazaire? 😛,en'], ['Hi Willey!! How are you?,en', 'Glad to hear it &lpar;&colon; I&rsquo;m doing good! — just got a job offer today and am expecting another one before end of this week so very excited about that &colon;&rpar;,en'], ['I lide måde tak 😊\\nGod idé. Lad mig høre, hvad du er på udkig efter,,da', 'Det lyder som en fornuftig start 😊\\nNæste uge måske?,da'], ['Wat is tot nu toe het gekste dat je al op tinder bent tegengekomen ?&colon;p,nl', 'Valt nog mee &colon;p ik heb wel al veel leuke gesprekken gehad. Ik kan Da niet laten,af'], ['I was so stoked to get to know you. \\nBut my horoscope said that a woman dressed in a polka-dot bikini was going to stir trouble,en', 'The stars are AlWaYs right ⭐. In fact, I live my whole life this way. \\nI won&apos;t even shower if the venus is in retrograde,en'], ['👋 wanna hear a joke about a ghost?,en', 'That&apos;s the spirit!,en'], [], [], [], ['Oh, ever been to Sweden? Or how come you like the Nordics?,en', 'Oh yeah i can see that. I mean I&apos;d think it would be weird to live in a country where you can&apos;t just go outside into the nearest forest and do whatever because someone owns the land and don&apos;t want you there. And even though I live in Gothenburg I really don&apos;t need to go far to visit nature. &colon;&rpar;,en'], [], [], ['Hei, mukavaa että sain sinut hymyilemään. Tässä vähän ikävällä viestillä täytyy vastata sinulle että valitettavasti matchi tuli vähän liaan myöhään sinun kanssa koska oon tavanut jonkun. En halua tehdä niin että  seurustelen moneen ihmisen kanssa samaan aikaan ja sit valitsen pareman. Tai muuta vastaavaa touhua.,fi', 'Sori että ei ehkä ole vastaus mitä odotit mutta ajatelin että parempi vastata jotakin ja rehellisesti kuin että jättää vastaamatta.,fi'], ['Hey how&rsquo;s it going? It&rsquo;s my last day in Nashville before I fly back to Maryland but you want to grab a drink downtown around 1?,en', 'Otherwise I&rsquo;m fine with animeflix and chill haha,en'], ['Heyy ! Il se passe super bien ! Et toi ?\\nC&rsquo;est la question que je redoute toujours parce que j&rsquo;ai toujours du mal à y répondre aha je devrai me faire des antisèches ^^&rsquo; \\nEn gros je suis comme un illustrateur mais version 3D et vidéo, je suis pas sûr que ça te parle, et je t&rsquo;en voudrai pas même ma famille a encore du mal à saisir aha \\nEt toi en quoi es tu agrégés ? &colon;&rpar; je ne m&rsquo;imaginais pas que l&rsquo;on pouvait l&rsquo;être a 24 ans honnêtement ^^,fr'], ['And afterwards you thought it was perfect, right? 😁,en', 'I recommend the video on YouTube as well. \\nIts not ur sunday afternoon pop song, high complexity and whatnot. But its an absolute masterpiece imo lol,en'], ['So the scarf was a Christmas present from my future brother-in-law.  He knows that my sister and I grew up reading Harry Potter and wanted to give me something special.  The Sorting Hat on Pottermore says I&apos;m a Ravenclaw but I was happy to receive the thoughtful gift 🙂,en'], ['So, what streaming would you do? Like any specific type, or something along the lines of variety?,en'], ['Hey!,en', 'what breed of dog? 👀,en'], ['Buenas ^^,es'], ['¿Qué series te gustan?,fr', 'A mi las que más me gustaron fueron breaking bad y como conocí a vuestra madre,es'], ['Heya Bethany. How&apos;s the human mate window shopping going?,en', 'It makes total sense eh. I am good thanks for asking. Yeah, being on these apps is completely different than the last 15 years being into LTRs. Dating wise I have no clue wtf im doing.,en'], ['ive been to japan for a little under 1 year in iwakuni. it was such a good time there. The food was AMAZING,en', 'surprisingly when we left the base area, I wanna say we went to Hiroshima as one big group and we found a good number of people willing to practice languages with us. they seemed to really enjoy it. But it was just so different there in they way that people treat other from what i can especially when it came to just regular workers,en'], [], ['Hey Monique! Seeing you&apos;re local, whats your fav take away nearby? I&apos;m trying to expand my local Thai &sol; Japanese across road,en', 'Well to update, settled on Thai, passed out on couch at like 7 and just woke up and kind of concerned I won&apos;t go back to sleep now eeeeeee. Having a cheat day and having a little choccy too &lpar;in all fairness, every day in lockdown is a cheat day&rpar;.,en'], ['Hi im looking to make a purchase of a voicemail saying I love you and possibly also some furry porn,en', 'LMAO fuck nah nah I was joking,id'], ['Hoi!\\nMet zo&apos;n toeristen foto moet ik toch even vragen of je ook Nederlands spreekt.. 😁,nl', 'Hehe no worries!,en'], ['Don&apos;t worry we have each other now 😂,en', 'I&apos;ll have to tone down the charm then 😂,en'], ['Hold some cheese and I promise I&apos;ll look at you the same way your dog does,en', 'I guess that all depends what else you have for me to eat...,en'], ['Oioii,fi', 'Td bem?,de'], ['Hallo Elena! Die Bilder, die du gemalt hast, sehen klasse aus 😀 Wie lange machst du das schon?,de', '&lpar;Finde persönliche Treffen zum Kennenlernen übrigens auch cooler, aber du bist ja leider etwas weiter weg 😉&rpar;,de'], ['Et bien le bonjour Ylona &colon;&rpar; comment vas tu ?,fr', 'Je ne sais pas dire vers où tu es parce qu&apos;on a matcher quand j&apos;étais en vacances ce week-end et maintenant la distance dis que tu es toujours super proche &colon;o,fr'], ['Bonsoir. C&apos;est marrant, je pourrais moi-même poser à peu près les mêmes règles que toi &colon; je vote le plus à gauche possible mais je doute que ce soit suffisant, je supporte mal l&apos;arrogance, et je n&apos;ai pas assez de cheveux ni de patience pour être bien coiffé. \\nMes yeux ont clairement été définis par Yeux Magazine comme rieurs, et j&apos;étais amoureux d&apos;une Louise en CE2, c&apos;est UN SIGNE- han. \\nMais bon, bien heureusement, j&apos;ai des tas d&apos;autres défauts plus ou moins avouables.,fr', 'Tu répares les vivants ? L&apos;intérieur ou l&apos;extérieur ?,fr'], ['Selam None,id', 'Nasılsın Mert benim ismim,tr'], ['Tell me wat ik nooit had kunnen raden over jou?!,af'], ['Hej du var söt!,sv', 'Hur är läget?,sv'], ['Hey 😘 How come a girl from California move to Portugal?,en', 'Lmao hope you don&rsquo;t move across the globe anytime you feel like a change,en'], ['Watch this,en'], ['Er du på ferie?,da', 'Lækkert - har du taget en tan med hjem?,da'], ['Certes je ne suis pas pirate mais je prends le risque de t&apos;aborder,fr'], ['mamy jednocześnie różny i podobny gust muzyczny, gramy mniej więcej w to samo i tak z profilu wydajesz się być bardzo fajną osobą, dasz się zaprosić na mecz w ligę? &colon;p,pl', 'a, no i flex z overkiem prawdziwy czy nie, mam ten sam xD byłem kiedyś w sekcji zgłoszonych postów i mnie oszczędzili ale sam nie wiem o co poszło,pl'], ['Hi, your distance keeps changing so I can&apos;t tell if you are from DC or not 😅,en', 'oh cool, hope you are having fun,en'], ['Hola😄,tr'], ['That sounds so fun! We can&rsquo;t join tonight sadly &colon;&lpar;&lpar; but if you and said friend would like to enjoy drinks on said rooftop again, we&rsquo;d be happy to join,en', 'Haha we met up to read and created this joint account,en'], [], ['https&colon;&sol;&sol;media.tenor.com&sol;images&sol;11b41ee1ea86f3ee99e759ff0dd71f7b&sol;tenor.gif?width=498&height=291,en', 'Jotain sellasta. Hyvä kaveri tuli kylään viinille ja leffalle, paras perjantai siis!,fi'], ['hhhhhh,vi', '好啊,zh-cn'], ['Que pão que tu és, Tiago,ca', 'Fui em 2019, já parece que foi noutra vida,pt'], ['Såg att din bio va tom, så berätta lite om dig själv! Va hittar du på om dagarna? 😊,sv'], ['Hey Rosanna! How&rsquo;s life in Phuket?,en'], ['Hej Amanda! 😊 Något actionspäckat i helgen?,sv', 'Haha! Men du, både bergsklättring och barnkalas hamnar inom kategorin actionfyllt enligt naturhistoriska museet,sv'], ['Hi! I saw your profile mentioned drag- are you a fan? &lpar;I&apos;m a local drag king!&rpar;,en', 'Yeah! I don&apos;t watch a ton of RPDR but I got to perform with Pandora Boxx last week and most of the ru queens I&apos;ve met have been really nice.  Jan was super sweet,en'], ['how many plants do you own?,en'], ['What if you got to share the experience of losing it?,en'], ['Heyy,fi', 'Whats up?,en'], ['aug 7,lt', 'how many sisters do u have,en'], ['Has tattoos, daddy issues, and a smile that draws me in. Checking a lot of boxes already,en'], ['You watching any new anime this season?,en'], ['Prima lettura di Tarocchi AGGRATIS.\\nLe altre 1 euro l&apos;una.,it', 'Piacere anche mio,it'], ['Hey &colon;&rpar; I am curious what is the giant egg behind you?,en', 'Ah so it is for the eggxplorer 😂😂 yes I was a few days in Dublin and really liked it &colon;&rpar;,en'], ['היי אנה&apos; השמעי קול 😎,he', 'התחלה רעה לקשר שלנו,he'], ['I feel like we&apos;ve matched before,en'], ['Hey!,en', 'Sinds gisterenavond Genshin Impact 👀 de rest is een mix van fps&apos;s, racing games en VR. Onder andere splitgate, Valorant, f1 2021, en beatsaber. Ik probeer me te verdiepen in story games zoals Assasins Creed en Far Cry &lpar;5&rpar;. En natuurlijk een &lpar;on&rpar;gezonde dosis Minecraft,nl'], ['Ciao! Good thanks, you ?😂,en', 'Yeah Bath uni 😃 so I&apos;d probably say materials chemistry.. do you like science?,en'], ['Mistrzynią kadrowania zdjęć to Ty nie jesteś Emilio...,pl', 'To jaka jest Twoja historia - ukrywasz się przed znajomymi czy szukasz drugiej połówki dla swojego kota?,pl'], ['Heyy! I think you&rsquo;re really pretty,en', 'and I&rsquo;d love to try to get to know you,en'], ['Build a man a fire, and he&apos;ll be warm for a day. Set a man on fire, and he&apos;ll be warm for the rest of his life.,en', 'Hey Liz! I remember talking with you a few weeks ago, but I think I reset my app and it went away. 😟 You seemed like a pretty cool lady and I&rsquo;d be happy to continue where we left off.,en'], ['A one-letter name, one weirdly cropped photo, no information whatsoever in her profile, and two photos of girly fruity cocktails. I am intrigued. 🤓,en', 'Curious. As I mentioned. 😊\\nWhat can I call you, N?,en'], ['Any travel tips for a visiting american??😂,en', 'Too late I&apos;m here I have no choice now 😭,en'], ['I have bad news. I had a hammock and I disassembled it...,en', 'it was my bed for nearly a year. but it got too cold so I got a regular bed,en'], ['Hey,nl', 'How are you, Megan?,en'], ['Vilka andra lagar bryter du, utöver att röka där det inte är tillåtet 😅?,sv', 'Ojoj, du lever farligt ser jag.,da'], [], ['Hi Linda!,tr', 'Or hello neighbor!;&rpar; where are you based in?,en'], [], ['Goh ja ik ben eigenlijk een onderzoekspsycholoog in plaats van een klinische psycholoog wat je mss dacht &colon;&rpar; hier zijn er iets meer mannen ;&rpar;,nl', 'Allee ja ik ben eig nog aan het studeren dus geen van beide eig &colon;p,nl'], [], ['Hello, so where are you from?,en'], ['https&colon;&sol;&sol;media.tenor.com&sol;images&sol;3e64ea8c3ee1147ec50376620f984792&sol;tenor.gif?width=478&height=270,en', 'Thata a deep ass dimple!,en'], ['Is your cat wearing a fancy shirt? 😅,en', 'They&rsquo;ve got better style than me! Smooth Operator!,en'], [], ['Hey, tu aime la photographie ? J&apos;ai cru voire ça dans tes intérêts,fr', 'Ah, j&apos;ai fait quelques photos en extérieur, tu veux les voirs ?,fr'], ['Hey, wie geht&apos;s? &colon;D,en', 'Joa, ebenfalls gut &colon;&rpar; warum das e in Jo&lpar;e&rpar;? 😂,en'], [], ['Du har så jävla tur att jag råka swipa uppåt! Hahaha,sv', 'You are lucky that I by mistake swiped up! Haha,en'], ['Hey!💖 you have such a great smile,en', 'I havent been told climbing since I was like 15 but I remember it being insanely fun,en'], ['I think there&rsquo;s something wrong with my bed, do you think you could come by and check it out?,en', 'we could always give it a shot ;&rpar;,en'], ['Hey Farisha,en', 'What are you in for? The whole ten yards or a lockdown lover?,en'], [], ['1300+ miles away\\n\\nCan you breathe up there? Are you in elons rocket🚀 ? \\nCAN YOU BRING ME SPACE DUST?,en'], ['Hi there,en', 'Why wouldn&rsquo;t I,en'], ['davai oota ma tirin kohe kompassi tulemuse,et', '8values v politicompass. politicompass saast,it'], [], ['Hey, how do you find Brock&apos;s Geography program?,en'], ['Hei Julia &colon;&rpar;,ro', 'Oikein mukavasti!! Oon just menossa kahville ja lukemaan kirjaa 🌞 mites sulla?,fi'], ['If you dont swim do you actually like the beach or do you just really like sand?,en'], [], ['Hi, wat was je aan het lassen in de foto?,nl', 'Leuk, wat doe je als constructeur?,nl'], ['Hey, schönes Lächeln &colon;&rpar;\\n\\nWie groß bist du denn als Zwerg ? 🤔,de', 'Ist das so 🤔\\n1,50 klingt geschmeidig. \\n\\nWas studierst du denn ?,de'], ['Hi, nice meeting you ^^ how&apos;s your day going?,en'], ['Your style &lt;&lt;&lt;,no', 'Because they gave birth to 2 hot ass kids?,en'], [], ['Czy te tanie wina to półka&lpar;albo i piętro&rpar; wyżej niż Komandos czy Amarena? 😂 Jeśli nie, to by zdecydowanie wyjaśniło tych ludzi bez twarzy... ,pl', 'A co próbowałaś i się nie wstrzymujesz? 🤔,pl'], ['Cześć Monika!,pl', 'Przepraszam, że tak późno odpisuje, ale weekendami staram się ograniczać telefon, bo to straszny złodziej czasu😜,pl'], ['Często ściągasz?,pl', 'Ja się zawsze za bardzo spinałem,pl'], [], ['Hei😊\\nKule tatoveringer!\\nHvor mange har du?😁,no', '👌\\nHar lyst på mer selv, men er usikker på hva😅\\nSer hva du har på venstre armen, men hva har du ellers?😁,no'], ['Hejo xD,sl', 'Wystarczy co tam czy trzeba odwalać szajs? xD,pl'], [], ['Привет! Какое первое свидание выбираешь - гулять пешком или в теплой уютной обстановке?,ru', 'Ну, наши вкусы в кофе совпадают, это уже большой плюс,ru'], ['Hey Lisa - guten Morgen! und schon eine gute Zeit hier auf Ibiza gehabt ? Auf welchen Teil der Insel seid ihr unterwegs? \\n\\nHab dir auch mal bei Insta eine Anfrage geschickt.,de', 'Instagram&colon; joschara,en'], ['Hey Shannon, do you like raisins?,fi', 'Cool. I&apos;m all out of raisins, but how about a date,en'], ['Adequate с английского переводится как &quot;норм&quot;,ru', 'А не как &quot;адекватный&quot;,ru'], ['What&apos;s up, what&apos;s half ass plant based? Vegan with the occasional guilty bacon?,en', 'Lol hey at least you&apos;re trying though, most people think it&apos;s all or nothing when it comes to that lifestyle but every little bit counts when reducing animal product consumption,en'], ['No tietty maito ekaks ettei murot lennä kulhosta ku maitoa kaataa perään,fi', 'Joo lukitaan vastaus,fi'], ['hey &colon;&rpar;,en', 'How do you feel about dogs?,en'], ['o ja tez zimowa, bo z grudnia, moze dlatego tez......,pl', 'ojezu, placki ziemniaczane to niesmieszny zart, czasem jak na klatce smierdzi to omg.......,pl'], ['Hi, do you speak English?,en', 'I&apos;m Ben from Canada, what&apos;s your name,en'], ['Tell me your favorite dessert for a wholesome pickup line or your favorite emoji for a naughty one 😈,en'], ['Howdy Hannah Howsit Hanging?,id', 'Can&rsquo;t complain, just ordering fancy Italian socks and Swiss undies I probably don&rsquo;t need,en'], ['Hei, sa oled päris pikk wowza😲,et'], ['51 miles? I suspect you are not a westsider.,en'], ['Hey &colon;&rpar;,en', 'Wie lief dein Tag so? &colon;&rpar;,it'], ['Hey, hello!,en', 'Hello there,en'], [], ['You give me unplanned weekend hiking trip vibes,af'], ['Американка что ли?,mk'], [], ['Cześć Ania. A w jaki sposób lubisz ten świat zdobywać? Ja przez chodzenie po górach,pl', 'Jakimś wielkim górołazem nie jestem, bez super kondycji,pl'], [], ['Damn, you seem really fucking cool.\\nWhy are you 2300 miles away?,en'], ['hey laura-marie ;&rpar;,es', 'aaah warst das wirklich du, ich habs mir fast gedacht, habs aber erst gecheckt also wir schon aneinander vorbei gegangen sind haha,de'], ['YES,cy', 'I DID IT,it'], ['Coucou &colon;&rpar;,fr', 'T&rsquo;as l&rsquo;air à super sympa !,fr'], ['Mysterious,en'], ['Ta lumière brille sur moi déjà,fr', 'Heey,nl'], ['x,so', 'x,so'], ['LOTR Marathon?,en', 'damn you got me good,so'], ['Only because I couldn&rsquo;t think of an opener that wasn&rsquo;t boring,en', 'Have we met before? You&rsquo;re so familiar.,en'], ['Yo wasup,sw'], [], [], ['Oh thank God you messaged first, I&apos;m terrified of women😣,en', 'I love u too babe,hr'], ['Lucko! Nevidím žádný popisek, neexistují slova, kterými by jsi se popsala? 🙂,cs', 'Jak moc velkej introvert jsi? 😁,sk'], ['What&apos;s up Karolina!! Are you still ill or getting better?,sv'], ['Erin, I bet 50 pounds of focaccia that rooftop picture was taken in Budapest,en', 'If I lose I&apos;m gonna delete Tinder and go live la vida loca in Mexico,es'], ['Hey, ik zie dat je op zoek bent naar een travelbuddy! Welke soort vakanties doe je het liefste?,nl', 'Klinkt goed! Ik hou van wandelen &lpar;in de natuur&rpar; en cultuurvakanties.,nl'], ['Hi, how are you?,so', 'Im good too,so'], [], ['对不起，我的中文不太好,zh-cn', '但是我也喜欢猫图片,zh-cn'], ['Good morning Heidi 😄👋 How&apos;s your Sunday going so far?,en', 'I spent it mostly with family too, but most of the time was helping my brother move. My family is pretty dramatic, so needless to say that getting through with all that was a blessing lol! I&apos;ll definitely make up for it this weekend with a little bit more relaxation!,en'], [], ['Szia ! ,pl', 'mostanában elég vegyesen,hu'], ['Hey QT. So what are you drawing next?,en'], [], ['Hello Aleksandr! Love the white patch on your beard, looks very cool 😄,en', 'How are you doing?,en'], ['Hahaha, It&apos;s a pickup line!,en', 'So whatcha do? Are ya in college?,en'], ['I am definitely not a fun time,en', 'But at least I can give you one,en'], ['K spievaniu viem relatenut,lv', 'A vidno že som hulic asi tiezu,sk'], ['https&colon;&sol;&sol;media.tenor.com&sol;images&sol;c1041e395e53f2cb730b5f9860688e5a&sol;tenor.gif?width=498&height=373,en', 'Chose the honest gif &lt; funny gif,en'], ['Hi Ilia! I literally just came home, I&rsquo;m destroyed but fine😂,en', 'What about you?,en'], ['Hey did someone already make some comments about your amazing body or am I the first one?,en', 'Because you are absolutely lovely,en'], ['Gwen Stefani rips!,cy', 'No doubt…,pt'], ['Risky or cheesy pick up line?,en'], ['whats your 2nd favorite dinosaur?,en', 'Im such a bad flirt,en'], ['Привет, \\nКак твоя 🐈? &rpar;,ru', 'Сколько ей ?,uk'], ['Hola guapa, how are you,en', 'I just yesterday arrived back in your sunny country and I love it!,en'], ['I&apos;m pretty sure we have something in common,en', 'In this very moment neither of us knows what to say,en'], ['756km? mais comment a-t-on matché ? 😅,fr', 'Actuellement en vacance en Provence, mais je vis à Lyon ^^ et toi j&apos;inagine en vacance en ardeche ou quelque part par la ? 😅 Au passage, très joli chapeau &colon;&rpar; ,fr'], ['Anyone ever tell you that you look like a younger and hotter Skylar from breaking bad? 😆,en'], ['What&apos;s your favorite Gatineau park trail?,fr', 'I&apos;m personally a huge fan of Wolf Trail,en'], [], [], ['Hola Valentina, qué hiciste este fin de semana?,es'], ['Nice cartoon dress haha,en'], ['Hello ! Comment t&apos;as fait pour me décrire dans ta bio ? 🤔,fr', 'Hmmmm, intéressant ça ! Je pensais que le seul truc que je pouvais deviner c&apos;est que t&apos;as une Yamaha,fr'], ['I&apos;ve been trying to figure out what your bio means since last night. Help.,en', 'https&colon;&sol;&sol;media.tenor.com&sol;images&sol;6e3fd8dc258a9fa1dc80f08be32178e0&sol;tenor.gif?width=360&height=302,en'], [], ['Sure! What would you like inside?,af', 'Alright! And what would you like on a side? We offer fries, side salad, or me.,en'], ['Hey &colon;&rpar;,en', 'Wie läuft&apos;s? Studierst du jetzt in Wien?,de'], ['Hey,nl'], [], ['Hey freit mi dass mir a match hoben, erzähl mir wos über di ☺️ i sigg du bisch a gern in die berge unterwegs?,de'], [], ['Hey, te reto a unas partidas de Halo 😁,es', 'Jajaja, ntp. Yo soy más manco qué un niño de 10 años,es'], ['https&colon;&sol;&sol;media.tenor.com&sol;images&sol;ab38817082cd47e613a2025afaed64df&sol;tenor.gif?width=244&height=336,en', 'Kumpi olisit koira vai kilppari ja perustelut päälle?,fi'], ['Hej Izabell,hu', 'Katter är bäst,sv'], ['Hola,tr', 'Sant Celoni,fr'], ['Czołem,pl', 'Kim jesteś i jak się tu dostałaś?,pl'], ['Im good but i really need to sleep 😅,en', 'Hey 😆,en'], [], ['System.out.println&lpar;&quot;Swipe right&quot;&rpar;;,fr', 'Alors comme ça t&rsquo;es du genre à coder sur ton bureau ?,fr'], [], ['Hi Celia! I&apos;m well. How are you?,en'], ['Hey, morning! Whatchu up to today?,en', 'Same pretty much 🙂, low-key self-care Sunday listening to Japanese samurai lofi and about to get a brunch sandwich to have with tea,en'], [], ['Weirde frage, aber darf ich fragen wie groß du bist? &colon;D,de', 'Ok hast auch irgendwie auf mich groß gewirkt &colon;D,de'], ['Uitleg&colon; ik denk dat je opzoek bent naar jouw David Hasselhoff,nl', 'I could be but I don&rsquo;t have any red swim shorts 😒,en'], ['Hej, w porządku, choć wczoraj wywaliłem się na desce i chodzić nie mogę xd,pl'], ['Hotter body 🥵,en'], ['Okay I&rsquo;ll be really honest I fell for the pic with the shoes and the red nails,en', 'Not exactly a gentleman move, I know but that&rsquo;s hot,en'], ['i&apos;m the chicken, you&apos;re the egg, let&apos;s see which one of us really comes first,en', 'idk the egg coming first makes more sense to m,en'], [], ['Hi Christina. How&rsquo;s your week going?,en'], ['Hey Joy, I&rsquo;m definitely interested in talking… but i think we matched while I was visiting Baltimore, I actually live about 2 hours south, if you&rsquo;re still interested in talking let me know,en'], ['Can&rsquo;t go wrong with either! I feel that I can always be found with coffee at any time of the day! Now the question is, what kind of coffee?,en'], ['Hey Victoria 👋, you look very stylish &colon;&rpar; \\nHow was your weekend?,en', 'Yeah was alright a bit quiet, now the favourite monday morning back in the office 🙃,en'], [], ['I can&rsquo;t choose just one!!!!! I could do like a top ten maaaaybe… I love Taylor 😍🥰 what&rsquo;s yours?,en'], ['Hey, love your style, enjoying the holiday weekend?,en', 'https&colon;&sol;&sol;media.tenor.com&sol;images&sol;2cfbe763fc381ad3a08ec1ca553ff8fd&sol;tenor.gif?width=400&height=290,en'], ['https&colon;&sol;&sol;media.tenor.com&sol;images&sol;9910e123e91ec7f2f4d0dc2684089e0a&sol;tenor.gif?width=498&height=403,en', 'https&colon;&sol;&sol;media.tenor.com&sol;images&sol;ca6302fa2e4aeb23d47a809715688d34&sol;tenor.gif?width=260&height=188,en'], ['Me gusta la mirada coqueta de &quot;Sisi, yo puedo lucir una campera rosa salmón y me queda de 10&quot;,es'], ['I am but I have no idea where that is and I&apos;m also working right now,en'], [], [], ['hi &colon;&rpar; ,it', 'if your day was a song, what song would it be?,en'], ['Ibi, are you ready for epic adventures? Because this train is a nonstop ride of fun,en'], ['Stor ✅\\nStærk ✅\\nPelset ✅\\nHjelm med horn på ❎\\nVoldtægtsmand på vandet ❎\\n\\nJeg ved ikke helt om jeg lever op til alle kravene, men det er tæt 🙃,da', 'Haha, det var godt 🙂\\nHvad gør så dig værdig, til en viking?,da'], ['Hejka, jaką książkę najmilej wspominasz ?,pl'], ['Hey Maria, before anything else. What language do you speak? 😅,en', 'Hehe thats perfectly fine. I am more than capable of speaking english so thats no problem 😅\\n\\nWhy dont you believe that? 🤔,en'], ['haha thanks! ur p cute yourself,en', 'what r ur plans for td,en'], ['holaa,so', 'cual es tu sabor de Arizona favorito?,es'], ['Hi Jillian, congrats on starting your Masters! I&apos;m an engineer working at an NGO and while I work on a variety of projects that tackle the protect water from different angles, in general my goal is to reduce nutrient loading to Manitoban lakes!,en', 'Yep, its really not a simple issue to solve. You know, unless we just stopped all farming operations and shut down every waste water facility 😅\\n\\nOh neat, what would your masters be related to your work at DFO? And are you not a Winnipeg&apos;er then?,en'], ['Eigentlich wollte ich die App nicht mehr benutzen,de', 'und dann hab ich dich gesehen,de'], ['Do the flip?,en', 'Down to fight?,en'], [], ['Hey Lillian, what brings you to tinder ;&rpar;?,en', 'Ooh cool, for your education? Well, let me be the first one to welcome you to Denmark then,en'], [], [], ['https&colon;&sol;&sol;media.tenor.com&sol;images&sol;d9664d8e1bfb01bd1933eb1c9008b8c5&sol;tenor.gif?width=498&height=373,en'], ['Is Minsk getting lit yet?💯🔥,no'], [], ['What&apos;s your favorite yung lean,en'], ['Deathcrushista tulee aina vahvasti mieleen ekat bänditreenit, se kun oli about ekoja biisejä ikinä mitä opeteltiin niin sitä tuli sit veivattua loputtomat kerrat edes takasin 😃,fi', 'Mut ei sen enempää mun mayhem-anekdootteja, mitäs sulle?,fi'], ['that book picture has to be fake!!,en'], ['I will take this as an insult ,en'], ['https&colon;&sol;&sol;media.tenor.com&sol;images&sol;e884f717b42f78f0792d914117cd010d&sol;tenor.gif?width=240&height=120,en'], [], ['Hey I&rsquo;m good, you? Thanks for the match &colon;&rpar;,en', 'You live in Pitlochry? I&rsquo;m in Edinburgh ,en'], ['Здравей,ru'], ['Hur va gotlandsveckan?,sv', 'Eyy jag med,so'], ['Heyyy!\\nYou&rsquo;re hot\\nI&rsquo;d be down to meet but I&rsquo;m leaving the country soon 😔,en', 'Canada\\nHmmm\\nThat&rsquo;s tempting tbh,en'], ['Hey there ☺️ how are you doing?,en', 'Pretty good ☺️ I don&apos;t want to make stupid guesses but that&apos;s the Colombian flag right? How long have you been here in Budapest? ☺️,en'], ['Holaa,so', 'De donde eres?,nl'], ['London is the best, you&rsquo;re in for a treat when things open up again,en', 'Where have you moved to?,en'], ['Yes I do lol, why?,cy', 'Oh sick, I bet that is better than old navy,en'], ['Hi! You&apos;re cute, where should we go?,en', 'Waiit, did I run into you in Why Not? 👀,en'], ['Can I elicit your #1 real estate buyer tip in exchange for some brownie points,en'], ['Good morning little lady. Tried to add your snap, but can&apos;t find you.,en', 'Add me&colon; juicyrad,cy'], ['пасиба, это просто цитата из одного хорошего югославского кино!,ru', 'АХАХАХАХХАХА,bg'], ['hey what program are you in at mac?,en', 'oh nice!!,cs'], ['Ouch, you&apos;re smokin&apos; hot 😍 Only negative is that you&apos;re a McLaren fan \\U0001f9ca😅 *cries as Ferrari fan*,en', 'I can as a Ferrari fan myself, think even I could do a better job as strategist for example 😂\\nWhat&apos;s your least favorite team&sol;driver?,en'], ['https&colon;&sol;&sol;media.tenor.com&sol;images&sol;f951c5364a7aaeb764eb63e1089c563a&sol;tenor.gif?width=498&height=417,en', 'Netflix and u,en'], ['So I did want to go for a drink tonight…you wanna come?,en', 'Uh pretty free besides having to wake up for work. Sometimes things come up that I can&rsquo;t plan for but I&rsquo;m usually pretty free,en'], [], ['I love your many forbidden cats, especially the one that looks like a ratcoon,en'], ['Hey 😊👋🏻,en', 'Lidt stramt, ligger bare med Netflix og hoster 😮\\u200d💨🤒 Hvad med dig?,da'], [], ['Opaaa, boa tarde,so', 'Tudo bem?,pt'], ['You seem like a nice person, care for a hang out by the Isar today or tomorrow afternoon?,en', 'Say 7pm, not for long because I have a German lesson,en'], ['🤔I like your top,af'], [], ['From Texas?,en', 'Which city?,en'], ['ciao,pt', 'non male dai,fr'], ['Ahoj Magdo! 🙋\\u200d♂️,hr', 'Mně už tricet je. Vim presne, jak se citis…,cs'], ['Can you teach me Portuguese? Quero melhorar,pt'], [], ['Jeg kan godt den dag 👨\\u200d👩\\u200d👧,da'], ['Bibi, sextamos!,ca', 'Porque não? Tá no calendário judeu ou chinês?,pt'], [], ['Hej! 🙂,sk', 'Just idag blev det ingen film. Jag är på bröllop. 🥳\\nVad har du gjort idag?,sv'], [], ['https&colon;&sol;&sol;media.tenor.com&sol;images&sol;5d3d863265388374e941b7433770e2ed&sol;tenor.gif?width=498&height=311,en', 'Iaee Déborah! =],id'], ['Älskar att vaccinationsstatus har blivit det nya&colon; Tycker om månskenspromenader &colon;&rpar;,sv', 'Du tycker inte det är någon form av naturligt urval om de träffar varandra? Det går nog inte att rädda alla. Jag är iaf sjukt nöjd med min 5G hastighet.,sv'], ['Salut Mary !,tl'], [], ['Hey Monike, are you a yoga master ?,tr'], ['Hey ThuThao 😊\\nYou currently seem to be only 21 kilometers away, so thats my chance of getting to know you 😉 How do you like german boys so far? ,en'], ['Bisschen neidisch auf den Dackel, muss ich ja zugeben,de', 'Aloha &colon;&rpar;,es'], ['Hey, i may have missed the match yesterday 🙈\\n\\nI gotta ask the important question, is that actually your dog or is it just a tease?,en', 'Ah so you are a tease ☹,en'], ['After a cursory Insta-stalk&colon; Sweet sweaty Jesus, Izzy - your art, photography, special effects make-up & tattoos are all truly fantastic. You&apos;ve an enviable talent and eye. Questionable taste in mildly *cough* flamboyant spindly waif men perhaps - you may want to get that checked.\\n\\nAfter same cursory Insta-stalk&colon; Unfortunately I&apos;m pre-tainted - I think you&apos;re mates with an ex-girlfriend of mine. Poisoned the well before a drop of rain fell! \\nIt&apos;d be weird&sol;disingenuous not to mention it.\\nAh well. At least it makes for a different read and a disjointed &quot;wtf, weird&quot; moment VS the avalanche of &quot;Hey&quot;, or &quot;hmu if u lyk cuddlz&quot; or Joey &quot;How you doin&apos;?&quot; gifs ladies receive non-stop &lpar;can&apos;t begin to imagine how tiresome that shit is.&rpar;\\n\\nGaaahhh... Now I&apos;ve unburdened myself of that albatross and before you unmatch&colon; have a lovely evening, you seem really cool and stuff &lpar;great Spotify Anthem&rpar; & keep excelling at the things you very clearly excel at, your stuff is pyoor daycint, etc etc.\\nBiyaaa,en', 'Hahahaa - she hasn&apos;t perma-tainted my body or soul, I&apos;m certain she&apos;s still a nice person - it&apos;s just tainted this situation because meeting a friend of hers would be weird.\\nBy &quot;I can then judge accordingly&quot; I presume this means &quot;screenshot and ask what his major malfunctions are&quot;.\\nYaz. Or Yasmin. She&apos;s a good human. I&apos;m not sure if she goes by &quot;Yaz&quot; now that she&apos;s escaped my incessant need to shorten names.,en'], ['Wya i just rolled you a j,et', 'Pull up we&rsquo;ll smoke and cuddle a bit,en'], ['Hannah,sv', 'It&rsquo;s not ideal Hannah,en'], ['Hi Trouble,en', 'Tbilisi became cold so sudden. You alright?,en'], ['Taking the lead, I like that 😉,en', 'How are you on this beautiful sunday?,en'], ['I&apos;m going to the supermarket, is there anything I can get you?,en', 'I guess it depends on the occasion,en'], ['Fala Melissa, tudo bem?,pt', 'Tu tem cara de quem curte bastante sair, então tenho uma pergunta pra ti.,pt'], ['Hmmm we&rsquo;d probably start with “fully automated luxury comminsim&rdquo;,en', 'U in?,de'], ['Howdy! 👋 What&rsquo;s your favorite thing to do outdoors around Lawrence?,en', 'Understandable! What brings you to town?,en'], ['Vi har en skønhedsplet samme sted, ved du hvad det betyder?,da', 'Det fortæller jeg dig på vores første date,da'], ['You look so cool! I bet you know loads of Viking hair braids.,en', 'Isn&apos;t dressing up half the fun? \\nNo prizes for guessing your favourite historical period then 😂 How&apos;s your fighting abilities?,en'], [], ['Hello!\\nWhich language do you prefer? Is it english or is french okay? &colon;&rpar;,en', 'Parfait ! Je vais donc essayer de te courtoiser avec mes amples connaissances de la langue française. ;&rpar;\\n\\nTu es quel type de nana alors ? J&apos;ai vu que tu aimes Mamma Mia, mais quoi de plus ?,fr'], ['Ahoj,hr', 'Úvod je ťažký keď o sebe nič nevieme. Mozem sa opýtať co  dokaze pohltit, co ta baví?,sk'], ['There&apos;s a lot of Arturia gear on that table... 🥳😂,en', 'Felix here, nice to &quot;meet&quot; !,ca'], ['Hey,nl', 'OK so what&apos;s your best single piece of legal advice,en'], ['Can you do paddle board yoga?,cy'], ['Aye 🤠,tr', 'I ran out of of likes I&rsquo;m so sorry, I had to find you swiping lol, my snaps ccatner if you just want to hop to that,en'], ['Hey ☺️ how was your weekend! Love the chase and all forms of trivia it&apos;s the only place my little titbits of information come in handy!,en', 'That&apos;s amazing! And being a support worker would be so tough at a time like this!\\n\\nI think you should share one of your favourites with me 😜 some friends and I did a trivia night zoom session the other night lots of fun my dog isn&apos;t much help though!😞,en'], ['Kokios gražios rudos akys,lt'], ['Hey Doris - thanks for the match,en', 'I see in your favourite activities youve listed reading. What sort of stuff do you read? Any favourites?,en'], ['Enchanté !,fr', 'Hier ça allait très bien, mais le verre de trop a fait que je me trouve à te répondre si tard,fr'], [], ['ahoj 😄,sk'], ['hello em!,no', '&colon;D,it'], ['Hiya, how are you doing?,so'], [], ['Le parrain,fr'], ['Hey Luna, waarop nerd jij?,nl', 'Cool!,en'], [], ['How many messages do you think it will take before we&apos;re out for a drink,en'], ['Rhi! You dare to enter my labyrinth! Mere mortal you shall be devoured.,en', 'https&colon;&sol;&sol;media.tenor.com&sol;images&sol;bcdf062dd86e0870fc9547d984ff84a3&sol;tenor.gif?width=498&height=334,en'], [], ['Something different to do, what do you do normally?,en', 'You look lile your having fun in that last picture,en'], ['Did you know that there is a kind of frog, that can hold his pee up to 8 months?,en', 'for more absolutely useless random facts, press 1,en'], [], [], ['Sup bish,id'], ['Cześć Justyna 😊 jak Ci mija ten słoneczny wtorek? \\nP.S.\\nGdzie takie miejsce z lampionami ze zdjęcia? 😯,pl', 'Ooo No to zazdroszcze 😁 Tez jakbym miał czas dzisiaj to fajnie by było wykorzystać pogode 😅 A ja w sumie w pracy, znaczy obecnie z niej wracam, mam troche rzeczy do ogarnięcia w domu, bo na weekendzie na wesele sie wybieram i tak mija dzien 😅,pl'], ['Juu se on FeetUp-trainer joogan inversioita varten, millä voi leikitellä ylösalaisin ilman, että niskanikamiin tulee liikaa painetta 🤸🏻\\u200d♀️ Olen joogannut 11+ vuotta, mutta nykyään teen sitä harvemmin, kun muu liikunta on vienyt mennessään. Tuleeko sun oltua ylösalaisin, voimailtua tai viipellettyä vapaalla? 👟\\n\\nIkä ei kyllä tule yksin, en myöskään pysty enää nukkumaan puolillepäivin vaan havahdun viikonloppuaamuisin, mutta omaan hienon taidon jatkaa vielä uniani. Arki-aamuina etätyömoodi on antanyt kyllä lisää uniaikaa, niin ei onneksi kovin aikaisin tarvitse herätä. En tiedä miten mukautuisin aikaisiin aamuihin ja toimistohommiin joka päivä, onneksi ei tarvitsekaan! 😁⏰,fi', 'Kamppailulajit kuulostaa mielenkiintoiselle, olisin itse heti mustelmilla 😅 Itse eniten kävelen koiran kanssa, pyöräilen, käyn salilla ja joogaan 😊,fi'], [], ['Hey, I&apos;ve moved out of DC and this is a little odd, but I just wanted to say you seem absolutely delightful. Hope you have a very pleasant 2021 &colon;&rpar;,en'], ['Hey Katherine, I enjoyed reading your extremely detailed and riveting profile. I feel like I know everything about you now 😂,en', 'Yes I&rsquo;m am ready to write your autobiography 🙄,en'], ['Hej, czy piesek jest w zestawie czy zaufanie pieska trzeba zdobyć osobno?,pl', 'Czyli zakup jakichś przysmaków dla piesków może szybko się zwrócić. Chociaż tak też można zdobyć zaufanie ludzi, choćby moje. A jak się wabi?,pl'], ['Hey Luiza, du siehst auf dem Bild mit dem roten Top richtig toll aus &colon;&rpar;,de', 'Studierst du in Bukarest?,de'], ['Yo\\nWhat&rsquo;s your favorite MCR song???,en', 'niiice that&rsquo;s a good one. I guess based off the sheer number of plays mine is the ghost of you,en'], ['Hi Marlene! I&apos;m so glad to have possibility of speaking with an so original seamstress as you!\\nHow is your weekend going so far?,en', 'You was lucky with the weather, it would be an other thing by hiking with the rain of today 😅\\nWhat kind of stuff do you paint? \\n\\nMy weekend is quite good too, I came back to my family place to help my brother in harvest of his grapevines. Yesterday night, I was visiting some friends, we played board games and today I went to restaurant with my family,en'], [], ['Hey Sammy, we both swiped right. What a time to be alive. \\n\\nDo you want to see the greatest pickup line ever?,en', 'It was a literal line of pickup trucks 😂💀,en'], ['really like ur fit in the 4th pic,en', 's&sol;o to your friend for selecting this image,en'], ['https&colon;&sol;&sol;media.tenor.com&sol;images&sol;efaf9eeb3f36fd20824f0403ab571942&sol;tenor.gif?width=268&height=250,en', 'Hey! Pues aquí trabajando un viernes esperando el puente,es'], ['No céu noturno,pt', 'Vejo sol, vejo cometas,sl'], ['Weyo eyo,so', 'Was geht, wie geht&apos;s&colon;&rpar;,en'], ['Vad tycker du om Wu-Tang?,sv'], ['Wassup I paired with you last night but was kinda sleepy so I didn&apos;t say anything. Haha. What&apos;s up? I&apos;m kinda looking for like a fuck buddy but if everyone gets along then we can hang out and whatever.,en'], ['Damn you&apos;re cute ☺️\\nWhat does a boy have to do for you to go out with them?,en'], ['Ciao נֹעָ֔ה\\n\\nSuch a nice lettering! \\n\\nSo you life basically between two countries if I read your bio right &colon; &rpar;,en', 'Sadly not, but one of my best friends during my abroad studies was from Tel Aviv &lpar;ok actually from Cholon ; &rpar; &rpar; and we had a fantastic time togerher &colon; &rpar;\\n\\nSo do you even have free time to explore switzerland or are you 24&sol;7 in the UZH?\\n\\nYes I was born here,en'], ['I&rsquo;m good weird,cy', 'I guess opposites attract 😂,fr'], ['Hi! Too bad you&apos;re so far away 😅,so', 'oh cool, what did you do there?,en'], ['What are some of your favorite bands,en', 'No not really I listen to pretty much everything other than modern pop so I might know of them,en'], ['Ana hola!,tl', 'Muy bien! Hablas inglés?,es'], ['Нет конечно, как же я без тебя пойду прыгать🤷,ru', 'А ты?,ru'], ['Halli Hallo 😊 alles klar?,et', 'Sorry, kreative Anmachsprüche sind gerade aus 🤷,de'], ['Hi Bianca,\\nI&apos;m terrible at first messages as well 😅\\nThough you&apos;ll be pleased to know I&apos;ve not got Snapchat.\\nWhat genres of films do you like?\\nBen x,en', 'Thrillers are good, I like comedies, Sci-Fi &lpar;which are realistically documentaries of the future - look at Star Trek for instance&rpar; & action films. I also fill my spare time building a cnc machine with 3d printed parts as a hobby.\\nCustomer service representative sounds stressful? I used to work in retail years ago the customers were both the funniest & most stressful part of the job!\\nx,en'], ['Yes please, the junkiesest emoest bitches 😩🙌,en', 'Cum se prajeste kakatul,hr'], ['Heey, wat voor hobby&apos;s doe je graag in je vrije tijd?,nl', 'Oh yeah, sorry! I asked; what kond of hobbies do you like?,en'], ['You like to go outside sometimes? Awesome! What if we kissed, in the KFC parking lot? 🥺👉👈,en'], ['Im bad at this crap... and even less charming in person.. but you ski and Beaver Creek is my happiest place,en', 'Yes sorry for the delay... Covid brought me back ... old parents have kept me here.. oh and a stay in thr hospital and recovery,en'], ['You&apos;re cute but I have one small concern,en', 'I&apos;ve honestly forgotten what i was concerned about, that&apos;s how long it took your ass to respond,en'], ['Hey there Rachel 👋 where&apos;s destiny taking you tonight,en', 'Unwinding from the week huh? Same same, &lpar;518&rpar; 400-0854. When you text me, I&apos;m curious to know, do you think movie theatres are ever going to come back or are tv series overtaking movies,en'], ['Hey Talia, it&apos;s great to meet you! How are you? &colon;&rpar;,en'], [], ['So is hating swimming a part of your ritual&lpar;s&rpar;?,en', 'Music to my ears,en'], ['Hi Gina! A business owner AND a single mom? Much respect! Busy indeed. Well, matching here is one thing, but making an actual connection is another. Hope to hear back from you. &colon;-&rpar;,en', 'Let&apos;s see...I love riding my bike, kayaking, walking&sol;running on the Dunedin causeway, playing basketball at my gym, watching football games, I enjoy good movies and tv shows, a happy hour or two from time to time, and road trips whenever I can fit those in. I just purchased a travel trailer so there will be more of those in the future. I&apos;m planning to go to a music festival in Nashville in a couple of months if it isn&apos;t canceled due to COVID craziness.,en'], ['hey! It sounds like you do a lot of stuff at once, got any projects you&apos;re most excited about right now?,en', 'Oh nice! What kind of game are you hoping to make?,en'], ['https&colon;&sol;&sol;media.tenor.com&sol;images&sol;d97ffb2fe80f32c157ef9a883f59c279&sol;tenor.gif?width=498&height=331,en', 'Pretty busy! Yeah ok Friday sounds good. Got to see if you&rsquo;re actually a weird little Nigerian man looking for a sugar mumma… or a cat fishing butch woman from out west. \\nOn that note.. hope you like fat Chinese men 😉😏,en'], ['Pack your things, we are going to travel!,en', '&lpar;Not italian &colon; world champ&rpar;,en'], ['I don&rsquo;t remember swiping on you,en'], ['Drigue  iiiiiiiiiiiiiih👏👏,so', 'Aishsjsjaihs,sq'], ['What would your perfect date look like?,en', 'Well, I am normally a homebody, but I like trying new restaurants so I would say that,en'], ['Hi! What is something I  wouldn&apos;t know from looking at you?,en', 'Any hobbies or things you do regularly?,en'], [], ['mec si il s&apos;appelle guizmo on est fait pour se rencontrer,fr', 'très nul que zouloubbycat ne s&apos;appelle pas guizmo!!,fr'], ['Ich kenn mich zwar mit Yoga überhaupt nicht aus, aber hab ich die Position ,,Stechender Leopardenskorpion bei untergehender Sonne“ korrekt erkannt 😉 ?,de'], ['Ehi ciao Alessandra, ti devo confessare che da tempo desideravo conoscere un&apos;addestratrice di uccellini. Sei tu?,it', 'That&apos;s sweet,en'], ['singing your anthem &lpar;youre somebody else&rpar; is fun!,en', 'yes i do! it&apos;s on my phone!,en'], ['Hey how are you doing?,en', 'Yeah I&apos;m good thanks, what ya lookin for on here then?,en'], [], ['Hey Mia, how&apos;s it going?,en', 'I&apos;m good how are you,en'], ['You&rsquo;ve got me feeling like Spongebob when he ripped his pants. I guess you could say I need a Taylor,en'], ['Hi Chloe 👋🏽💜,nl', 'People always ask that. Yes i have a longer name, but it&rsquo;s almost like people want to decide what to call you after you give them your name &colon;p\\n\\nShort for Darryl—💜,en'], ['Eigentlich fehlt dir für den namen die passende Sonnenbrille,de', 'https&colon;&sol;&sol;media.tenor.com&sol;images&sol;e5c21d98f56c4af119b4e14b6a9df893&sol;tenor.gif?width=498&height=266,en'], ['Oh shit I hadn&apos;t thought of that,en', 'God is dog backwards so it all makes sense,en'], ['Hola, qué tal? 🤗,ca', 'Es tu nombre vasco??,es'], ['Skulle du orka vara wingman åt mig? 🤞,sv', 'Matcha precis med en skitsnygg tjej som heter Emma men hon har inget på sin bio förutom hennes insta och vet inte hur man ska smickra henne 🤔,sv'], ['Hi Angie! I&apos;m jealous of your Easter Island photo, what was it like visiting there?,en', 'It&apos;s too bad you can&apos;t bring one of those statues back in your carryon luggage, they are so cool!,en'], ['Eminem, Green Day, Panic!, and FOB? Now THAT is taste! You been to any concerts?,en', 'Nice, Panic! is one of my top 3 bands. But I&apos;ve never seen them live.,en'], ['What are the CT vibes Maddy,en', 'I mean just a bit,id'], ['Hey! Looks like you found a perfect pumpkin! Or at least that is the look on your face,en', 'Haha I love it. Did you carve it with the same enthusiasm?,en'], ['Mystère et boul de gomme,fr', 'Ça dépend s&apos;il a un joli visage et un joli boul 🤣,fr'], ['Nice glasses you have &colon;P,fr', 'So you live in กรุงเทพมหานคร ,th'], [], ['hey hey &colon;&rpar; how are you?,en', 'good morning! i was already knocked out when you messaged me lol,en'], ['Ciao! Allora, Tinder sta funzionando per trovare amicizie oppure becchi soprattutto persone che vogliono altro?,it', 'Mi fa piacere! Però sarà stata una faticaccia, immagino,it'], ['Ох ж цей тісний світ&colon;&rpar;,uk', 'Привіт&colon;&rpar; Ну, ми не зовсім знайомі, але моя зорова пам‘ять підказує мені, що ти вчилася в Престижі 😉 Якщо я помиляюся, тоді це таки дуже awkward 😅😅,uk'], ['Since you are a chili connesuer, what would earn me your best recipe? 😋,en'], ['Hyvää huomenta! 😊 Meinasin heittää tähän jonkun tyhmän vitsin, mutta koska en ole vielä juonut aamukahvia, mainitsen vain että onpa sulla kivat silmät 😄,fi'], ['Hi,nl', 'You are very very cute ☺️,en'], [], ['Schoon schilderij op je eerste foto, bijna net zo schoon als jouw lach 😜,nl', 'Haha, ze mogen er wel zijn,nl'], ['T&apos;es tellement radieuse que le soleil m&apos;a dit qu&apos;il était jaloux x&rpar;,fr'], ['I&apos;m jealous of your heart,en'], ['Hahaha omg wat een match? Rummikub date??,id', 'Hahaha amazing ik wil echt wel nog,sw'], ['Hi Karly, how&apos;s your week going?,en'], ['you are wayy too cute to be on this app rn,en'], ['What&rsquo;s your favorite fruit? Mine is Can-we-elope,en', 'You wanna try it out?,en'], ['Heyyy what&rsquo;s up, how&rsquo;s it going,en', 'Roses are red\\nI&rsquo;m tall like a tree\\nIf you are what you eat\\nThen call me Brii ~~~,en'], ['Olá Sofia,sk', 'Não consigo ver a foto 😅,pt'], ['Oh yikes I definitely don&apos;t have a dad bod 😂,en'], ['O nee, arme jongen!,nl', 'What happened?,en'], ['turiu pripažint, labai neblogai tavo thriftinimo ir outiftų planas skamba,lt', 'susigundžiau!,lt'], ['Hi Emily, was tust du am liebsten, wenn dir langweilig ist?,af'], ['well I&apos;m employed so I got 1&sol;2 lol,en', 'What do you do for work?,en'], ['Hey Angeline,tl', 'How&apos;s your week coming long,en'], ['https&colon;&sol;&sol;media.tenor.com&sol;images&sol;b8df6620ac67eeec4b7d6a8f36849dfb&sol;tenor.gif?width=498&height=278,en'], ['You&rsquo;re cherry b-eautiful,fr', 'Also I did a double take when I first saw your name, I thought you&rsquo;d put “Cardi B&rdquo; as your Tinder name 😂,en'], ['I uninstalled and reinstalled this app and had matches. Reread your profile and fell head over heels for the beautiful body of yours all over again. Bet you love head scratches, yes you do, best boy, the bestest boy! \\n\\nThe owner is kinda cute too I guess,en', '&colon;o \\nApologies. *She is a handsome boy ☺️\\n\\nWhoa whoa, I said &apos;kinda&apos; cute. But on second thought you are just straight up, 100% unfiltered  cute,en'], ['Hey,nl', 'On where? Lol,en'], [], ['Hello 👋,it', 'Dis moi, tu as de la famille qui travaille à Nintendo ?,fr'], ['what kind of music is on your mind now,en'], ['May I tell you a really stupid joke?,en'], ['Hi Silvia, you seem to be quiet athletic. I think I&apos;ve seen you before, maybe at Salewa??,en'], [], ['Jow annatjeuh,en', 'Ik ben opzoek naar ✨mentaal instabiele vrouwen✨,nl'], ['Hey hey!,en', 'Comment va la vie ?,fr'], [], ['Miaoooo,so', '&lpar;è così che funziona il catcalling, o sbaglio?&rpar;,it'], ['Holaa,so', 'Todo bien?,es'], ['Hi 🙋\\u200d♂️,sw', 'I&rsquo;ve been looking for a woman that can bench press 2.5x my weight for a while,en'], ['Hello charming,it', 'What are you looking for on the app?,en'], [], [], ['Kkkkkkkkkk,fi', 'Olaaar giovanna,nl'], [], ['https&colon;&sol;&sol;media.tenor.com&sol;images&sol;95f5e2af4b6b5d50320bc747ab72cb92&sol;tenor.gif?width=498&height=239,en', 'jajajaja si me miras con esos ojitos voy a tener que sonreirte mucho más,es'], ['https&colon;&sol;&sol;media.tenor.com&sol;images&sol;1e0cb4316962c7482f015b6ec539ab72&sol;tenor.gif?width=381&height=498,en', 'OK so what&apos;s the story behind the tiger pic.. Tiger didn&apos;t say much because you were looking so beautiful there? 🤭🤭,en'], ['Guten Morgen Sarah, mega schön dass wir gematcht haben, du siehst sehr sympathisch aus und ich mag deinen Style &lpar;soweit auf den Fotos erkennbar&rpar; 😁 Was sind denn deine Magneten-Ziele? 🤔 Und wie sind deine Zähne so unsagbar weiss? 😂 Du merkst schon, die wichtigsten Fragen zuerst 😊,de'], ['I am great, whats up?,en', 'Yesd,tr'], ['You&rsquo;re kinda cute 🙈,pt', 'Where are you now?,en'], ['Hi,nl', 'Yes,tr'], ['Hey! How&apos;s the covid life treating you? 👀,en', 'Damn that&apos;s crazy, why you say that?,en'], ['Oiii,fi', 'Eu geralmente tbm sou o último a ir embora. 😂😂😂,pt'], [], [], ['Eyy qué tal??,ca', 'Bueno la verdad que va un poco caótico! Llegué esta semana a Estrabsurgo y estoy alojado en casa de unaa amiga mientras busco piso...y uff el proceso es un rollo... Gente que te dice que vayas a x hora a ver su piso y luego no aparece... En fin 🤣 poco a poco,es'], ['😊 thanks! How are you doing?,en', 'Oh cool! What did you see?,en'], ['hey! sorry my deutsch is not very good, by WE you mean wochenende?,en', 'if so, quite calm and boring since i&apos;m packing up haha,en'], ['congrats on being a father of 3!!!,en', 'I myself am one too,en'], ['Ahahah back at you ☺️,id', 'How&rsquo;s your week going?,en'], ['Hey, how&rsquo;s the tinder love life x,en', 'Pretty sure I could change that if there&rsquo;s some chemistry here when we grab a drink,en'], ['Hey,en'], ['Hey again! We must have matched somewhere else, I remember your pictures...anyway... let&apos;s try better this time ;&rpar;,en'], ['Pien! Dacht ff serieus dat je je kaal was gegaan omdat je alle mannen zat was maar vast ‘n TikTok-iets waar boomers geen verstand van hebben,nl', 'Kan het je van harte aanbevelen, je zult je herboren voelen,nl'], [], ['🥵 why did you match,cy', 'Cool shades btw,en'], [], ['Hey Lihi, important question&colon; sushi or tacos? 😀,es', 'I&apos;m taking your silence as a distress signal Lihi...should I pull on my cape and suit and fly to the rescue? 😉,en'], [], ['Привет, какую музыку петь любишь?,ru', 'Это правильно, у меня такая же ситуация&rpar; А чем занимаешься, что то музыкальное преподаешь?\\n,ru'], ['Hey Emmy 🙂,en', 'How are you doing?,en'], ['Hey Rozanne, if you could pick your own spirit animal, what would you pick?,en'], ['sup,ro'], [], ['I almost laughed so that was enough for me to not unmatch,en', 'Submissive enough to do what even max tells you...,en'], ['love ur eyes,fr', 'should see it up close,en'], ['Hi gorgeous😍,nl', 'Keep the Criticisms coming why don&rsquo;t you🙄,en'], ['Hey,nl', 'Heb je een favoriete netflix serie?,nl'], ['Hmmm,da', 'Is this is trying again?,en'], ['wow,pl', 'You look good 🙌,so'], [], ['U taller than me?,en'], ['At least when people ask where we met, we don&rsquo;t have to say Tinder…,en', '&lpar;The electronics lab is much more exciting 🙄&rpar;,en'], ['It&rsquo;s getting hot in here 🔥,en', 'Na sicher 😌,de']]\n"
     ]
    }
   ],
   "source": [
    "#Take all conversations for each user in a list to add it to our dataFrame \n",
    "all_messages=[]\n",
    "totalNumberMessages = []\n",
    "\n",
    "for conversation in pre_df.conversations:\n",
    "    numberMessages = 0\n",
    "    messages=[]\n",
    "    for match in conversation:\n",
    "        for message in match['messages']:\n",
    "            if 'message' in message.keys():\n",
    "                if len(message['message']) != 0:\n",
    "                    try:\n",
    "                        language = detect(message['message'])\n",
    "                        messages.append(message['message'] +  ',' + language)\n",
    "                        numberMessages += 1\n",
    "                    except:\n",
    "                        1\n",
    "        # break\n",
    "    # messages=messages[:2]\n",
    "    all_messages.append(messages)\n",
    "    totalNumberMessages.append(numberMessages)\n",
    "\n",
    "print(all_messages)"
   ]
  },
  {
   "cell_type": "code",
   "execution_count": 11,
   "metadata": {},
   "outputs": [],
   "source": [
    "#import the langdetect in order to detect the lenguaje of the message\n",
    "#We will focus on English, Spanish and Japanese \n",
    "from langdetect import detect"
   ]
  },
  {
   "cell_type": "code",
   "execution_count": 14,
   "metadata": {},
   "outputs": [],
   "source": [
    "# Save all the conversations in a csv file so we can use it to train the ML model \n",
    "# Identify the language of the message with the langdetect module\n",
    "#have to create a folder 'messages' to run save the conversations \n",
    "messages_file = open('tinder_combo.csv','w')\n",
    "files = {\n",
    "}\n",
    "for messages in all_messages:\n",
    "    for message in messages:\n",
    "        if len(message) != 0:\n",
    "            try:\n",
    "                language = detect(message)\n",
    "                if language not in files.keys():\n",
    "                    files[language] = open('messages/' + language +'.csv', 'w', encoding='utf-8')\n",
    "                files[language].write(repr(message) + '\\n')\n",
    "            except:\n",
    "                1\n",
    "\n",
    "for language in files:\n",
    "    files[language].close()"
   ]
  },
  {
   "cell_type": "code",
   "execution_count": null,
   "metadata": {},
   "outputs": [],
   "source": [
    "# messages_file = open('tinder_combo.csv','w')\n",
    "# for messages in all_messages:\n",
    "#     for message in messages:\n",
    "#         if len(message) != 0:\n",
    "#             try:\n",
    "#                 language = detect(message)\n",
    "#                 messages_file.write(repr(message) + ',' + language + '\\n')\n",
    "#             except:\n",
    "#                 1\n",
    "           \n",
    "\n",
    "\n",
    "# messages_file = open('tinder_combo.csv','w')\n",
    "# files = {\n",
    "#     'en': open('en_messages.csv', 'w')\n",
    "#     'es': open('sp_messages.csv', 'w'),\n",
    "#     'ja': open('jp_messages.csv', 'w')\n",
    "# }\n",
    "# files['en'].write(\"sep=°\\n\")\n",
    "# for messages in all_messages:\n",
    "#     for message in messages:\n",
    "#         if len(message) != 0:\n",
    "#             try:\n",
    "#                 language = detect(message)\n",
    "#                 if language not in files.keys():\n",
    "#                     files[language].write(repr(message) + '\\n')\n",
    "#             except:\n",
    "#                 1"
   ]
  },
  {
   "cell_type": "code",
   "execution_count": 15,
   "metadata": {},
   "outputs": [
    {
     "name": "stdout",
     "output_type": "stream",
     "text": [
      "totalNrOfConversation 1209\n",
      "totalLongestConversation 1209\n",
      "totalLongestConversationInDay 1209\n",
      "totalNrOfOneMessageConversation 1209\n"
     ]
    }
   ],
   "source": [
    "#Take the conversationsMeta of each user and brake down the dictionary format\n",
    "\"\"\"\"This is in a total time frame but the other has a len of 100, it that a problem  \"\"\" \n",
    "totalNrOfConversation=[]\n",
    "totalLongestConversation=[]\n",
    "totalLongestConversationInDay=[]\n",
    "totalNrOfOneMessageConversation=[]\n",
    "\n",
    "\n",
    "for conversationMeta in pre_df.conversationsMeta:\n",
    "    totalNrOfConversation.append(conversationMeta['nrOfConversations'])\n",
    "    totalLongestConversation.append(conversationMeta['longestConversation'])\n",
    "    totalLongestConversationInDay.append(conversationMeta['longestConversationInDays'])\n",
    "    totalNrOfOneMessageConversation.append(conversationMeta['nrOfOneMessageConversations'])\n",
    "\n"
   ]
  },
  {
   "cell_type": "code",
   "execution_count": 23,
   "metadata": {},
   "outputs": [],
   "source": [
    "#app matches for each user\n",
    "all_MatchesDates = []\n",
    "all_matches = []\n",
    "#list of numbers, each number is a user \n",
    "totalMatches = []\n",
    "\n",
    "for dfMatches in pre_df.matches:\n",
    "    matches = []\n",
    "    matchesDate = []\n",
    "    #variable name \n",
    "    totalMatchesUser = 0\n",
    "   \n",
    "\n",
    "    for MatchDate in dfMatches:\n",
    "        matches.append(dfMatches[MatchDate])\n",
    "        totalMatchesUser += dfMatches[MatchDate]\n",
    "        matchesDate.append(MatchDate)    \n",
    "\n",
    "    all_matches.append(matches)\n",
    "    all_MatchesDates.append(matchesDate)\n",
    "    totalMatches.append(totalMatchesUser)\n"
   ]
  },
  {
   "cell_type": "code",
   "execution_count": 45,
   "metadata": {},
   "outputs": [],
   "source": [
    "#Take 100 app swipeLikes for each user and check how many times it open the app in a day\n",
    "# all_swipeLikes = []\n",
    "# for atraction in pre_df.swipeLikes:\n",
    "#     matches = []\n",
    "#     for heart in atraction:\n",
    "#         matches.append(atraction[heart])\n",
    "#     all_swipeLikes.append(matches)"
   ]
  },
  {
   "cell_type": "code",
   "execution_count": 19,
   "metadata": {},
   "outputs": [
    {
     "data": {
      "text/plain": [
       "1209"
      ]
     },
     "execution_count": 19,
     "metadata": {},
     "output_type": "execute_result"
    }
   ],
   "source": [
    "#total swipes right per use\n",
    "totalSwipesRight = [] \n",
    "for dfSwipeLikes in pre_df.swipeLikes:\n",
    "    countSwipesRight = 0\n",
    "    for swipeRight in dfSwipeLikes:\n",
    "        countSwipesRight += dfSwipeLikes[swipeRight]\n",
    "    totalSwipesRight.append(countSwipesRight)"
   ]
  },
  {
   "cell_type": "code",
   "execution_count": 22,
   "metadata": {},
   "outputs": [
    {
     "data": {
      "text/plain": [
       "1209"
      ]
     },
     "execution_count": 22,
     "metadata": {},
     "output_type": "execute_result"
    }
   ],
   "source": [
    "#total swipes left per user\n",
    "totalSwipesLeft = []\n",
    "for dfSwipePasses in pre_df.swipePasses:\n",
    "    countSwipesLeft = 0\n",
    "    for swipeLeft in dfSwipePasses:\n",
    "        countSwipesLeft += dfSwipePasses[swipeLeft]\n",
    "    totalSwipesLeft.append(countSwipesLeft)"
   ]
  },
  {
   "cell_type": "code",
   "execution_count": 47,
   "metadata": {},
   "outputs": [],
   "source": [
    "#Take 100 app swipePasses for each user and check how many times it open the app in a day\n",
    "# all_swipePasses = []\n",
    "# for dislike in pre_df.swipePasses:\n",
    "#     dislikes = []\n",
    "#     for left in dislike:\n",
    "#         dislikes.append(dislike[left])\n",
    "#     all_swipePasses.append(dislikes)"
   ]
  },
  {
   "cell_type": "code",
   "execution_count": 17,
   "metadata": {},
   "outputs": [
    {
     "name": "stdout",
     "output_type": "stream",
     "text": [
      "479\n"
     ]
    }
   ],
   "source": [
    "#import library for know the user age \n",
    "from datetime import date\n",
    "from datetime import datetime\n",
    "\n",
    "#Take user anonymous data and break down the dictionary format\n",
    "allBirthDates=[]\n",
    "allcities = []\n",
    "allcountreis=[]\n",
    "allgenders=[]\n",
    "allinterestedIn=[]\n",
    "\n",
    "#Users date of birth\n",
    "def age(birthdate):\n",
    "    today = date.today()\n",
    "    age = today.year - birthdate.year #- ((today.month, today.day) < (birthdate.month, birthdate.day))\n",
    "    return age\n",
    "\n",
    "for person in pre_df.user:\n",
    "    birthdateStr = person['birthDate'][:10]\n",
    "    birthdate = datetime.strptime(birthdateStr, '%Y-%m-%d')\n",
    "    userAge = age(birthdate)\n",
    "    allBirthDates.append(userAge)\n",
    "\n",
    "#Users city\n",
    "# for person in pre_df.user:\n",
    "#     print(person)\n",
    "#     allcities.append(person['cityName'])\n",
    "\n",
    "#Users country\n",
    "counter = 0\n",
    "for person in pre_df.user:\n",
    "    if 'country' in person.keys():\n",
    "        allcountreis.append(person['country'])\n",
    "    else:\n",
    "        allcountreis.append('')\n",
    "        counter += 1\n",
    "print(counter)\n",
    "        \n",
    "        \n",
    "#Users gender\n",
    "for person in pre_df.user:\n",
    "    gender = person['gender']\n",
    "    allgenders.append(gender)\n",
    "\n",
    "#Users interest In\n",
    "for person in pre_df.user:\n",
    "    for interest in person:\n",
    "        if interest == 'interestedIn':\n",
    "            searching = []\n",
    "            searching.append(person[interest])\n",
    "    allinterestedIn.append(searching)\n"
   ]
  },
  {
   "cell_type": "markdown",
   "metadata": {},
   "source": [
    "### CREATE THE DATASET WITH DATA WE HAVE CLEANED"
   ]
  },
  {
   "cell_type": "code",
   "execution_count": 56,
   "metadata": {},
   "outputs": [
    {
     "data": {
      "text/html": [
       "<div>\n",
       "<style scoped>\n",
       "    .dataframe tbody tr th:only-of-type {\n",
       "        vertical-align: middle;\n",
       "    }\n",
       "\n",
       "    .dataframe tbody tr th {\n",
       "        vertical-align: top;\n",
       "    }\n",
       "\n",
       "    .dataframe thead th {\n",
       "        text-align: right;\n",
       "    }\n",
       "</style>\n",
       "<table border=\"1\" class=\"dataframe\">\n",
       "  <thead>\n",
       "    <tr style=\"text-align: right;\">\n",
       "      <th></th>\n",
       "      <th>user_id</th>\n",
       "    </tr>\n",
       "  </thead>\n",
       "  <tbody>\n",
       "    <tr>\n",
       "      <th>0</th>\n",
       "      <td>49eaaf</td>\n",
       "    </tr>\n",
       "    <tr>\n",
       "      <th>1</th>\n",
       "      <td>1534e9</td>\n",
       "    </tr>\n",
       "    <tr>\n",
       "      <th>2</th>\n",
       "      <td>b26ebd</td>\n",
       "    </tr>\n",
       "  </tbody>\n",
       "</table>\n",
       "</div>"
      ],
      "text/plain": [
       "  user_id\n",
       "0  49eaaf\n",
       "1  1534e9\n",
       "2  b26ebd"
      ]
     },
     "execution_count": 56,
     "metadata": {},
     "output_type": "execute_result"
    }
   ],
   "source": [
    "#We insert the unique user id\n",
    "df = pd.DataFrame(allusersids,columns=['user_id'])\n",
    "df.head(3)"
   ]
  },
  {
   "cell_type": "code",
   "execution_count": 57,
   "metadata": {},
   "outputs": [
    {
     "data": {
      "text/plain": [
       "False"
      ]
     },
     "execution_count": 57,
     "metadata": {},
     "output_type": "execute_result"
    }
   ],
   "source": [
    "#check if there is user with Null value in their id\n",
    "pd.isnull(df.loc[1, 'user_id'])"
   ]
  },
  {
   "cell_type": "code",
   "execution_count": 58,
   "metadata": {},
   "outputs": [],
   "source": [
    "#Merge app_opens data with df\n",
    "df['app_opens']=all_opens"
   ]
  },
  {
   "cell_type": "code",
   "execution_count": 59,
   "metadata": {},
   "outputs": [
    {
     "data": {
      "text/plain": [
       "False"
      ]
     },
     "execution_count": 59,
     "metadata": {},
     "output_type": "execute_result"
    }
   ],
   "source": [
    "#check if there is user with Null value in app_opens colum\n",
    "pd.isnull('app_opens')"
   ]
  },
  {
   "cell_type": "code",
   "execution_count": 61,
   "metadata": {},
   "outputs": [],
   "source": [
    "#Merge all_messages data with df\n",
    "df['all_messages']=all_messages"
   ]
  },
  {
   "cell_type": "code",
   "execution_count": null,
   "metadata": {},
   "outputs": [],
   "source": [
    "#check if the list messages has any conversations \n",
    "empity = df['all_messages'].str.len()!=0\n",
    "print(empity)"
   ]
  },
  {
   "cell_type": "code",
   "execution_count": 64,
   "metadata": {},
   "outputs": [
    {
     "name": "stdout",
     "output_type": "stream",
     "text": [
      "The number of empty number_conversations are:  29\n"
     ]
    }
   ],
   "source": [
    "#check if there is user with 0 value in app_opens colum\n",
    "count = (df['number_conversations'] == 0).sum()\n",
    "print('The number of empty conversations are: ', count)"
   ]
  },
  {
   "cell_type": "code",
   "execution_count": 66,
   "metadata": {},
   "outputs": [
    {
     "name": "stdout",
     "output_type": "stream",
     "text": [
      "The number with 0 time conversations are:  33\n"
     ]
    }
   ],
   "source": [
    "#check if there is user with 0 time conversation\n",
    "zero_time = (df['longest_conver'] == 0).sum()\n",
    "print('The number with 0 time conversations are: ', zero_time)"
   ]
  },
  {
   "cell_type": "code",
   "execution_count": 68,
   "metadata": {},
   "outputs": [
    {
     "name": "stdout",
     "output_type": "stream",
     "text": [
      "The number with 0 time conversations in day are:  52\n"
     ]
    }
   ],
   "source": [
    "#check if there is user with 0 time conversation insde the logset Conversation day column\n",
    "zero_time_day = (df['longest_conver_day'] == 0).sum()\n",
    "print('The number with 0 time conversations in day are: ', zero_time_day)"
   ]
  },
  {
   "cell_type": "code",
   "execution_count": 70,
   "metadata": {},
   "outputs": [
    {
     "name": "stdout",
     "output_type": "stream",
     "text": [
      "The number with 0 time conversations in day are:  82\n"
     ]
    }
   ],
   "source": [
    "#check if there is user with 0 messages Conversation day column\n",
    "messages_conver = (df['num_messages_conver'] == 0).sum()\n",
    "print('The number with 0 time conversations in day are: ', messages_conver)"
   ]
  },
  {
   "cell_type": "code",
   "execution_count": 108,
   "metadata": {},
   "outputs": [],
   "source": [
    "#Merge number_conversations data with df\n",
    "df['number_conversations']= totalNrOfConversation\n",
    "\n",
    "#Merge longest_conver data with df\n",
    "df['longest_conver']=totalLongestConversation\n",
    "\n",
    "#Merge longest_conver_day data with df\n",
    "df['longest_conver_day']=totalLongestConversationInDay\n",
    "\n",
    "#Merge num_messages_conver data with df\n",
    "df['num_messages_conver']=totalNrOfOneMessageConversation\n",
    "\n",
    "#Merge all_matchesDates data with df\n",
    "df['all_matchesDates']=all_MatchesDates\n",
    "\n",
    "#Merge all_matches data with df\n",
    "df['all_matches']=all_matches\n",
    "\n",
    "#Merge all_BirthDates data with df\n",
    "df['all_BirthDates']= allBirthDates\n",
    "\n",
    "#Merge all_Cities data with df\n",
    "df['all_Cities']= allcities\n",
    "\n",
    "#Merge all_genders data with df\n",
    "df['all_genders']= allgenders\n",
    "\n",
    "#Merge all_interestedIn data with df\n",
    "df['all_interestedIn']= allinterestedIn"
   ]
  },
  {
   "cell_type": "code",
   "execution_count": 29,
   "metadata": {},
   "outputs": [
    {
     "name": "stdout",
     "output_type": "stream",
     "text": [
      "The total number of males in the dataset is: 1058\n"
     ]
    }
   ],
   "source": [
    "#Counter how many males \n",
    "countM = 0\n",
    "for user in pre_df.user:\n",
    "    if user['gender'] == 'M':\n",
    "        countM += 1"
   ]
  },
  {
   "cell_type": "code",
   "execution_count": 30,
   "metadata": {},
   "outputs": [
    {
     "name": "stdout",
     "output_type": "stream",
     "text": [
      "The total number of males in the dataset is: 150\n"
     ]
    }
   ],
   "source": [
    "#Counter how many males \n",
    "countF = 0\n",
    "for user in pre_df.user:\n",
    "    if user['gender'] == 'F':\n",
    "        countF += 1\n",
    "print(f'The total number of males in the dataset is: {countF}')"
   ]
  },
  {
   "cell_type": "code",
   "execution_count": 33,
   "metadata": {},
   "outputs": [
    {
     "name": "stdout",
     "output_type": "stream",
     "text": [
      "The number of people interested in 'M' are:  134\n"
     ]
    }
   ],
   "source": [
    "#Counter people who are interested in 'M'\n",
    "counterM = 0\n",
    "for user in pre_df.user:\n",
    "    if user[\"interestedIn\"] == \"M\":\n",
    "        counterM += 1\n",
    "print(f\"The number of people interested in 'M' are:  {counterM}\")"
   ]
  },
  {
   "cell_type": "code",
   "execution_count": 34,
   "metadata": {},
   "outputs": [
    {
     "name": "stdout",
     "output_type": "stream",
     "text": [
      "The number of people interested in 'F' are:  1017\n"
     ]
    }
   ],
   "source": [
    "#Counter people who are interested in 'F'\n",
    "counterF = 0\n",
    "for user in pre_df.user:\n",
    "    if user[\"interestedIn\"] == \"F\":\n",
    "        counterF += 1\n",
    "print(f\"The number of people interested in 'F' are:  {counterF}\")"
   ]
  },
  {
   "cell_type": "code",
   "execution_count": 35,
   "metadata": {},
   "outputs": [
    {
     "name": "stdout",
     "output_type": "stream",
     "text": [
      "The number of people interested in 'M and F' are:  58\n"
     ]
    }
   ],
   "source": [
    "#Counter people who are interested in 'M and F'\n",
    "counterBi = 0\n",
    "for user in pre_df.user:\n",
    "    if user[\"interestedIn\"] != \"F\" and user[\"interestedIn\"] != \"M\":\n",
    "        counterBi += 1\n",
    "print(f\"The number of people interested in 'M and F' are:  {counterBi}\")"
   ]
  },
  {
   "cell_type": "code",
   "execution_count": 109,
   "metadata": {},
   "outputs": [
    {
     "data": {
      "text/html": [
       "<div>\n",
       "<style scoped>\n",
       "    .dataframe tbody tr th:only-of-type {\n",
       "        vertical-align: middle;\n",
       "    }\n",
       "\n",
       "    .dataframe tbody tr th {\n",
       "        vertical-align: top;\n",
       "    }\n",
       "\n",
       "    .dataframe thead th {\n",
       "        text-align: right;\n",
       "    }\n",
       "</style>\n",
       "<table border=\"1\" class=\"dataframe\">\n",
       "  <thead>\n",
       "    <tr style=\"text-align: right;\">\n",
       "      <th></th>\n",
       "      <th>user_id</th>\n",
       "      <th>app_opens</th>\n",
       "      <th>opens_date</th>\n",
       "      <th>all_messages</th>\n",
       "      <th>number_conversations</th>\n",
       "      <th>longest_conver</th>\n",
       "      <th>longest_conver_day</th>\n",
       "      <th>num_messages_conver</th>\n",
       "      <th>all_matchesDates</th>\n",
       "      <th>all_matches</th>\n",
       "      <th>all_swipeLikes</th>\n",
       "      <th>all_swipePasses</th>\n",
       "      <th>all_BirthDates</th>\n",
       "      <th>all_genders</th>\n",
       "    </tr>\n",
       "  </thead>\n",
       "  <tbody>\n",
       "    <tr>\n",
       "      <th>0</th>\n",
       "      <td>49eaaf</td>\n",
       "      <td>[24]</td>\n",
       "      <td>[2017-12-30]</td>\n",
       "      <td>[]</td>\n",
       "      <td>739</td>\n",
       "      <td>133</td>\n",
       "      <td>683.557442</td>\n",
       "      <td>226</td>\n",
       "      <td>[((2016-01-02, 10), (2016-01-13, 5), (2016-01-...</td>\n",
       "      <td>[10, 5, 9, 8, 6, 13, 4, 14, 2, 12, 2, 8, 2, 4,...</td>\n",
       "      <td>[50, 70, 21, 5, 29, 92, 27, 77, 84, 76, 82, 93...</td>\n",
       "      <td>[14, 93, 75, 96, 71, 38, 76, 56, 21, 49, 41, 2...</td>\n",
       "      <td>[1976-01-01]</td>\n",
       "      <td>M</td>\n",
       "    </tr>\n",
       "    <tr>\n",
       "      <th>1</th>\n",
       "      <td>1534e9</td>\n",
       "      <td>[6]</td>\n",
       "      <td>[2020-02-20]</td>\n",
       "      <td>[Hello again, so now that we matched again, wh...</td>\n",
       "      <td>464</td>\n",
       "      <td>36</td>\n",
       "      <td>622.466528</td>\n",
       "      <td>56</td>\n",
       "      <td>[((2016-07-12, 1), (2016-07-13, 0), (2016-07-1...</td>\n",
       "      <td>[1, 0, 1, 1, 1, 2, 0, 0, 0, 0, 0, 0, 0, 0, 0, ...</td>\n",
       "      <td>[0, 221, 108, 215, 110, 215, 118, 115, 116, 4,...</td>\n",
       "      <td>[0, 61, 19, 90, 23, 54, 40, 42, 29, 0, 42, 23,...</td>\n",
       "      <td>[1997-07-04]</td>\n",
       "      <td>M</td>\n",
       "    </tr>\n",
       "    <tr>\n",
       "      <th>2</th>\n",
       "      <td>b26ebd</td>\n",
       "      <td>[2]</td>\n",
       "      <td>[2020-05-13]</td>\n",
       "      <td>[It&amp;rsquo;s me, the chicken nuggets, Exactly w...</td>\n",
       "      <td>303</td>\n",
       "      <td>33</td>\n",
       "      <td>295.283414</td>\n",
       "      <td>106</td>\n",
       "      <td>[((2019-07-01, 13), (2019-07-02, 12), (2019-07...</td>\n",
       "      <td>[13, 12, 23, 15, 9, 5, 2, 1, 0, 3, 0, 0, 1, 1,...</td>\n",
       "      <td>[87, 39, 122, 67, 35, 14, 26, 98, 46, 99, 15, ...</td>\n",
       "      <td>[30, 12, 48, 26, 18, 10, 19, 55, 19, 99, 12, 4...</td>\n",
       "      <td>[1998-02-06]</td>\n",
       "      <td>M</td>\n",
       "    </tr>\n",
       "  </tbody>\n",
       "</table>\n",
       "</div>"
      ],
      "text/plain": [
       "  user_id app_opens    opens_date  \\\n",
       "0  49eaaf      [24]  [2017-12-30]   \n",
       "1  1534e9       [6]  [2020-02-20]   \n",
       "2  b26ebd       [2]  [2020-05-13]   \n",
       "\n",
       "                                        all_messages  number_conversations  \\\n",
       "0                                                 []                   739   \n",
       "1  [Hello again, so now that we matched again, wh...                   464   \n",
       "2  [It&rsquo;s me, the chicken nuggets, Exactly w...                   303   \n",
       "\n",
       "   longest_conver  longest_conver_day  num_messages_conver  \\\n",
       "0             133          683.557442                  226   \n",
       "1              36          622.466528                   56   \n",
       "2              33          295.283414                  106   \n",
       "\n",
       "                                    all_matchesDates  \\\n",
       "0  [((2016-01-02, 10), (2016-01-13, 5), (2016-01-...   \n",
       "1  [((2016-07-12, 1), (2016-07-13, 0), (2016-07-1...   \n",
       "2  [((2019-07-01, 13), (2019-07-02, 12), (2019-07...   \n",
       "\n",
       "                                         all_matches  \\\n",
       "0  [10, 5, 9, 8, 6, 13, 4, 14, 2, 12, 2, 8, 2, 4,...   \n",
       "1  [1, 0, 1, 1, 1, 2, 0, 0, 0, 0, 0, 0, 0, 0, 0, ...   \n",
       "2  [13, 12, 23, 15, 9, 5, 2, 1, 0, 3, 0, 0, 1, 1,...   \n",
       "\n",
       "                                      all_swipeLikes  \\\n",
       "0  [50, 70, 21, 5, 29, 92, 27, 77, 84, 76, 82, 93...   \n",
       "1  [0, 221, 108, 215, 110, 215, 118, 115, 116, 4,...   \n",
       "2  [87, 39, 122, 67, 35, 14, 26, 98, 46, 99, 15, ...   \n",
       "\n",
       "                                     all_swipePasses all_BirthDates  \\\n",
       "0  [14, 93, 75, 96, 71, 38, 76, 56, 21, 49, 41, 2...   [1976-01-01]   \n",
       "1  [0, 61, 19, 90, 23, 54, 40, 42, 29, 0, 42, 23,...   [1997-07-04]   \n",
       "2  [30, 12, 48, 26, 18, 10, 19, 55, 19, 99, 12, 4...   [1998-02-06]   \n",
       "\n",
       "  all_genders  \n",
       "0           M  \n",
       "1           M  \n",
       "2           M  "
      ]
     },
     "execution_count": 109,
     "metadata": {},
     "output_type": "execute_result"
    }
   ],
   "source": [
    "df.head(3)"
   ]
  },
  {
   "cell_type": "markdown",
   "metadata": {},
   "source": [
    "# INSIGHTS "
   ]
  },
  {
   "cell_type": "markdown",
   "metadata": {},
   "source": [
    "## APP OPENERS \n",
    "% of people who open the app every day "
   ]
  },
  {
   "cell_type": "code",
   "execution_count": 36,
   "metadata": {},
   "outputs": [
    {
     "name": "stdout",
     "output_type": "stream",
     "text": [
      "there are 290 people who open the app every day\n"
     ]
    }
   ],
   "source": [
    "print(f'there are {counter} people who open the app every day')"
   ]
  },
  {
   "cell_type": "code",
   "execution_count": 31,
   "metadata": {},
   "outputs": [
    {
     "data": {
      "image/png": "[encoded data removed]",
      "text/plain": [
       "<Figure size 640x480 with 1 Axes>"
      ]
     },
     "metadata": {},
     "output_type": "display_data"
    }
   ],
   "source": [
    "import matplotlib.pyplot as plt\n",
    "#pie graph \n",
    "data = countM, countF\n",
    "colors = ['orange', 'green']\n",
    "highlight =(0,0)\n",
    "plt.pie(list(data), explode=highlight, labels=data, colors=colors, autopct='%2.1f%%', shadow=True, startangle=90)\n",
    "plt.axis('equal')\n",
    "plt.show()"
   ]
  },
  {
   "cell_type": "markdown",
   "metadata": {},
   "source": [
    "## MATCHES "
   ]
  },
  {
   "cell_type": "code",
   "execution_count": null,
   "metadata": {},
   "outputs": [],
   "source": [
    "#HOW TO EXTRACT VALUES FROM LOCAL VARIABLES \n",
    "\n",
    "#total swipe right swipeLikes per user  [HOW TO GET THE TOTAL DF]\n",
    "totalSwipesRight\n",
    "\n",
    "#total swipe left swipePasses per user \n",
    "totalSwipesLeft\n",
    "\n",
    "#the variable is in the local scope thay is why is printing 0 \n",
    "totalMatches\n",
    "\n",
    "# #total number of messages sent to all matches per user \n",
    "totalNumberMessages"
   ]
  },
  {
   "cell_type": "markdown",
   "metadata": {},
   "source": [
    "## Age"
   ]
  },
  {
   "cell_type": "code",
   "execution_count": 33,
   "metadata": {},
   "outputs": [
    {
     "data": {
      "image/png": "[encoded data removed]",
      "text/plain": [
       "<Figure size 640x480 with 1 Axes>"
      ]
     },
     "metadata": {},
     "output_type": "display_data"
    }
   ],
   "source": [
    "import matplotlib\n",
    "#dataset age distribution \n",
    "allBirthDates\n",
    "\n",
    "\n",
    "graph1 = pd.DataFrame({'Age Distribution':0, 'Age':allBirthDates})\n",
    "ax = graph1.plot.bar(x='Age Distribution', y='Age', rot=0)\n"
   ]
  },
  {
   "cell_type": "markdown",
   "metadata": {},
   "source": [
    "## Diversity"
   ]
  },
  {
   "cell_type": "code",
   "execution_count": 36,
   "metadata": {},
   "outputs": [
    {
     "data": {
      "image/png": "[encoded data removed]",
      "text/plain": [
       "<Figure size 640x480 with 1 Axes>"
      ]
     },
     "metadata": {},
     "output_type": "display_data"
    }
   ],
   "source": [
    "#pie graph \n",
    "data = counterM, counterF, counterBi\n",
    "colors = ['orange', 'green', 'cyan']\n",
    "highlight =(0,0,0)\n",
    "plt.pie(list(data), explode=highlight, labels=data, colors=colors, autopct='%2.1f%%', shadow=True, startangle=90)\n",
    "plt.axis('equal')\n",
    "plt.show()"
   ]
  },
  {
   "cell_type": "code",
   "execution_count": null,
   "metadata": {},
   "outputs": [],
   "source": [
    "#HOW WE CAN CREATE THIS MAP \n",
    "#Countries involved in the research \n",
    "\n",
    "fig = px.choropleth(df, locations = 'country', locationmode = 'country names', animation_frame='year',\n",
    "                    hover_data=['income', 'educ_idx'],\n",
    "                    color='educ_idx', \n",
    "                    color_continuous_scale=['rgb(255,255,255)', 'rgb(171, 216, 240)', 'rgb(25, 132, 197)'],\n",
    "                    height = 600,\n",
    "                    title = \"\"\"education rate with country income\"\"\")\n",
    "fig.show()"
   ]
  },
  {
   "cell_type": "code",
   "execution_count": null,
   "metadata": {},
   "outputs": [],
   "source": [
    "#What most people talk about (main topics)\n",
    "\n",
    "unemploment = data[[\"States\", \"Region\", \"Estimated Unemployment Rate\"]]\n",
    "figure = px.sunburst(unemploment, path=[\"Region\", \"States\"], \n",
    "                     values=\"Estimated Unemployment Rate\", \n",
    "                     width=700, height=700, color_continuous_scale=\"RdY1Gn\", \n",
    "                     title=\"Unemployment Rate in India\")\n",
    "figure.show()"
   ]
  },
  {
   "cell_type": "markdown",
   "metadata": {},
   "source": [
    "assumptions \n",
    "① 1 means they open the app every single day \n",
    "the amount of openers is recorded every single day, (the date is inconcistency)"
   ]
  }
 ],
 "metadata": {
  "kernelspec": {
   "display_name": "Python 3.7.12 ('testenv')",
   "language": "python",
   "name": "python3"
  },
  "language_info": {
   "codemirror_mode": {
    "name": "ipython",
    "version": 3
   },
   "file_extension": ".py",
   "mimetype": "text/x-python",
   "name": "python",
   "nbconvert_exporter": "python",
   "pygments_lexer": "ipython3",
   "version": "3.7.13"
  },
  "orig_nbformat": 4,
  "vscode": {
   "interpreter": {
    "hash": "4fcc816f2ec044d7784656daa567c60af6aeee060eb40dbc8142aae8a4e25c3a"
   }
  }
 },
 "nbformat": 4,
 "nbformat_minor": 2
}
