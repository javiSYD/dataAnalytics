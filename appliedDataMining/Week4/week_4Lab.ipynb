{
 "cells": [
  {
   "cell_type": "markdown",
   "metadata": {},
   "source": [
    "# Give short answers to the following questions [<font color=red>Individual Activity</font>]\n",
    "## 1. Basic Concepts of frequent pattern: (10 mins)\n",
    "<ol>\n",
    "    <li>What can be a pattern that occurs frequently in a dataset? Give some examples. (2 mins)</li> <br>\n",
    "    <li>What is the motivation of freqent pattern mining? (3 mins)</li><br>\n",
    "    <li>What applications can be suitable for frequent pattern mining? (2 mins)</li><br> \n",
    "    <li>Briefly describe the benefits that market basket analysis can give. (3 mins)</li>    \n",
    "</ol>\n"
   ]
  },
  {
   "cell_type": "markdown",
   "metadata": {},
   "source": [
    "## 2. Given the following transaction dataset, please answer the questions below: (13 mins)\n",
    "<table style=\"width:40%;border: 1px solid black;\">\n",
    "        <tr><th>TID</th><th>Items</th></tr>\n",
    "        <tr><th>$1$</th><th>a,b,c,e</th></tr>\n",
    "        <tr><th>$2$</th><th>c,e,f</th></tr>\n",
    "        <tr><th>$3$</th><th>a,c</th></tr>\n",
    "        <tr><th>$4$</th><th>a,b,c</th></tr>\n",
    "        <tr><th>$5$</th><th>b,c,e</th></tr>\n",
    "    </table> \n",
    "<ol> <br>\n",
    "    <li>How many items in the dataset? (1 min)</li>   <br>\n",
    "    <li>How many itemsets can be generated? Please list five possible itemsets. (3 min)</li><br>\n",
    "    <li>How support count/count/frequency of an itemset is defined? Please calculate the frequency count of 2-itemset {c,e}. (2 mins) </li><br> \n",
    "    <li>If min_sup=40%, is itemset {b,c} frequent or not? (2 mins)</li><br> \n",
    "    <li>How the confidence of an association rule is defined? What is the confidence of the association rule: {b} -> {c}? (3 mins)</li><br>\n",
    "    <li>If min_conf=40%, is the rule {b} -> {c} strong? (2 mins)</li><br> \n",
    "</ol>\n",
    "\n"
   ]
  },
  {
   "cell_type": "markdown",
   "metadata": {},
   "source": [
    "## 3. Apriori Algorithm for Freq. Pattern Mining (7 mins)\n",
    "\n",
    "<ol>\n",
    "    <li>What are basic steps in Association Rule Mining? (2 mins)</li> <br>\n",
    "    <li>Please explain why frequent itemset generation is very expensive using brutal method. If there are 10 items, how many possible itemsets could be checked? (3 min)</li><br>\n",
    "    <li>What is Apriori Principle? (2 mins) </li><br>     \n",
    "</ol>\n",
    "\n",
    "\n"
   ]
  },
  {
   "cell_type": "markdown",
   "metadata": {
    "collapsed": true
   },
   "source": [
    "## 4. Reivew the Apriori Algorithm in lecture slides and use it to find all association rules with support $\\geq0.2$ and confidence $\\geq0.8$: (30 mins)\n",
    "\n",
    "<table style=\"width:40%;border: 1px solid black;\">\n",
    "        <tr><th>Transaction</th><th>Products</th></tr>\n",
    "        <tr><th>1</th><th>milk, bread, eggs</th></tr>\n",
    "        <tr><th>2</th><th>milk, juice</th></tr>\n",
    "        <tr><th>3</th><th>juice, butter</th></tr>\n",
    "        <tr><th>4</th><th>milk, bread, eggs</th></tr>\n",
    "        <tr><th>5</th><th>coffee, eggs</th></tr>\n",
    "        <tr><th>6</th><th>coffee</th></tr>\n",
    "        <tr><th>7</th><th>coffee, juice</th></tr>\n",
    "        <tr><th>8</th><th>milk, bread, cookies, eggs</th></tr>\n",
    "        <tr><th>9</th><th>cookies, butter</th></tr>\n",
    "        <tr><th>10</th><th>milk, bread</th></tr>\n",
    "    </table> \n"
   ]
  },
  {
   "cell_type": "markdown",
   "metadata": {},
   "source": [
    " ## [Optional for 3031ICT/7031ICT] 5. Write Python codes with necessary libraries to validate your solution in Question 4 (extras for homework).\n",
    "Tip: You can use the existing library such as mlxtend.frequent_patterns as follows:\n",
    "\n"
   ]
  },
  {
   "cell_type": "code",
   "execution_count": null,
   "metadata": {
    "collapsed": true
   },
   "outputs": [],
   "source": [
    "from mlxtend.frequent_patterns import apriori\n",
    "from mlxtend.frequent_patterns import association_rules\n",
    "#http://pbpython.com/market-basket-analysis.html\n",
    "\n",
    "### write you code here."
   ]
  },
  {
   "cell_type": "code",
   "execution_count": 1,
   "metadata": {},
   "outputs": [],
   "source": [
    "arr = [55,60,45,85]"
   ]
  },
  {
   "cell_type": "code",
   "execution_count": 7,
   "metadata": {},
   "outputs": [
    {
     "name": "stdout",
     "output_type": "stream",
     "text": [
      "2\n"
     ]
    }
   ],
   "source": [
    "lstMin = []\n",
    "for i in arr:\n",
    "    if i <= 55:\n",
    "        lstMin.append(i)\n",
    "\n",
    "print(len(lstMin))"
   ]
  },
  {
   "cell_type": "code",
   "execution_count": 8,
   "metadata": {},
   "outputs": [
    {
     "name": "stdout",
     "output_type": "stream",
     "text": [
      "1\n"
     ]
    }
   ],
   "source": [
    "lst50 = []\n",
    "for i in arr:\n",
    "    if i >= 56 and i <= 80:\n",
    "        lst50.append(i)\n",
    "\n",
    "print(len(lst50))"
   ]
  },
  {
   "cell_type": "code",
   "execution_count": 6,
   "metadata": {},
   "outputs": [
    {
     "name": "stdout",
     "output_type": "stream",
     "text": [
      "1\n"
     ]
    }
   ],
   "source": [
    "lstMax = []\n",
    "for i in arr:\n",
    "    if i >= 81:\n",
    "        lstMax.append(i)\n",
    "\n",
    "print(len(lstMax))"
   ]
  },
  {
   "cell_type": "code",
   "execution_count": 9,
   "metadata": {},
   "outputs": [
    {
     "name": "stdout",
     "output_type": "stream",
     "text": [
      "60\n"
     ]
    }
   ],
   "source": [
    "#  𝐿1 is the lower boundary of the median interval\n",
    "L = lst50[0]\n",
    "print(L)"
   ]
  },
  {
   "cell_type": "code",
   "execution_count": 12,
   "metadata": {},
   "outputs": [
    {
     "name": "stdout",
     "output_type": "stream",
     "text": [
      "4\n"
     ]
    }
   ],
   "source": [
    "# N is the number of values in the entire data set\n",
    "import numpy as np\n",
    "N = np.size(arr)\n",
    "print(N)"
   ]
  },
  {
   "cell_type": "code",
   "execution_count": 13,
   "metadata": {},
   "outputs": [
    {
     "name": "stdout",
     "output_type": "stream",
     "text": [
      "2\n"
     ]
    }
   ],
   "source": [
    "# (σ𝑓𝑟𝑒𝑞)𝑙 \n",
    "#is the sum of the frequencies of all of the intervals\n",
    "#that are lower than the median interval.\n",
    "freq = len(lstMin)\n",
    "print(freq)"
   ]
  },
  {
   "cell_type": "code",
   "execution_count": 14,
   "metadata": {},
   "outputs": [
    {
     "name": "stdout",
     "output_type": "stream",
     "text": [
      "1\n"
     ]
    }
   ],
   "source": [
    "# 𝑓𝑟𝑒𝑞𝑚𝑒𝑑𝑖𝑎𝑛 is the frequency of the median interval\n",
    "freqMedian = len(lst50)\n",
    "print(freqMedian)"
   ]
  },
  {
   "cell_type": "code",
   "execution_count": 15,
   "metadata": {},
   "outputs": [
    {
     "name": "stdout",
     "output_type": "stream",
     "text": [
      "0\n"
     ]
    }
   ],
   "source": [
    "# width is the width of the median interval \n",
    "w = lst50[-1]-lst50[0]\n",
    "print(w)"
   ]
  },
  {
   "cell_type": "code",
   "execution_count": 16,
   "metadata": {},
   "outputs": [
    {
     "name": "stdout",
     "output_type": "stream",
     "text": [
      "60.0\n"
     ]
    }
   ],
   "source": [
    "#APPROXIMATED MEDIAN IS \n",
    "appMedian = L +(((N/2)-freq)/freqMedian)*w\n",
    "print(appMedian)"
   ]
  },
  {
   "cell_type": "code",
   "execution_count": 17,
   "metadata": {},
   "outputs": [
    {
     "name": "stdout",
     "output_type": "stream",
     "text": [
      "60.0\n"
     ]
    }
   ],
   "source": [
    "arr = [55,60,45,85]\n",
    "lstMin = []\n",
    "for i in arr:\n",
    "    if i <= 55:\n",
    "        lstMin.append(i)\n",
    "\n",
    "lst50 = []\n",
    "for i in arr:\n",
    "    if i >= 56 and i <= 80:\n",
    "        lst50.append(i)\n",
    "\n",
    "lstMax = []\n",
    "for i in arr:\n",
    "    if i >= 81:\n",
    "        lstMax.append(i)\n",
    "\n",
    "L = lst50[0]\n",
    "import numpy as np\n",
    "N = np.size(arr)\n",
    "freq = len(lstMin)\n",
    "freqMedian = len(lst50)\n",
    "w = lst50[-1]-lst50[0]\n",
    "appMedian = L +(((N/2)-freq)/freqMedian)*w\n",
    "print(appMedian)"
   ]
  },
  {
   "cell_type": "code",
   "execution_count": 42,
   "metadata": {},
   "outputs": [
    {
     "name": "stdout",
     "output_type": "stream",
     "text": [
      "d1*d2: 139\n",
      "d1d1: 14.106735979665885\n",
      "d2d2: 12.041594578792296\n",
      "cosine 0.8182843796260839\n"
     ]
    }
   ],
   "source": [
    "d1=(4,1,5,6,8,2,4,6,1)\n",
    "d2=(0,1,3,3,9,0,4,2,5)\n",
    "\n",
    "d1d2 = 0\n",
    "d1d1 = 0\n",
    "d2d2 = 0\n",
    "\n",
    "for i in range(len(d1)):\n",
    "    d1d2 += d1[i] * d2[i]\n",
    "    d1d1 += d1[i] * d1[i]\n",
    "    d2d2 += d2[i] * d2[i]\n",
    "d1d105 = d1d1**0.5\n",
    "d2d205 = d2d2**0.5\n",
    "\n",
    "print(f'd1*d2: {d1d2}')\n",
    "print(f'd1d1: {d1d105}')\n",
    "print(f'd2d2: {d2d205}')\n",
    "\n",
    "cosine = d1d2 / (d1d105*d2d205)\n",
    "print(f'cosine {cosine}')"
   ]
  },
  {
   "cell_type": "code",
   "execution_count": 43,
   "metadata": {},
   "outputs": [
    {
     "data": {
      "text/plain": [
       "243"
      ]
     },
     "execution_count": 43,
     "metadata": {},
     "output_type": "execute_result"
    }
   ],
   "source": [
    "3**5"
   ]
  },
  {
   "cell_type": "code",
   "execution_count": 49,
   "metadata": {},
   "outputs": [
    {
     "ename": "TypeError",
     "evalue": "sample() takes 3 positional arguments but 6 were given",
     "output_type": "error",
     "traceback": [
      "\u001b[0;31m---------------------------------------------------------------------------\u001b[0m",
      "\u001b[0;31mTypeError\u001b[0m                                 Traceback (most recent call last)",
      "\u001b[0;32m<ipython-input-49-d007f18259f3>\u001b[0m in \u001b[0;36m<module>\u001b[0;34m\u001b[0m\n\u001b[1;32m      2\u001b[0m \u001b[0;34m\u001b[0m\u001b[0m\n\u001b[1;32m      3\u001b[0m \u001b[0;34m\u001b[0m\u001b[0m\n\u001b[0;32m----> 4\u001b[0;31m \u001b[0mlst\u001b[0m \u001b[0;34m=\u001b[0m \u001b[0msample\u001b[0m\u001b[0;34m(\u001b[0m\u001b[0;36m200\u001b[0m\u001b[0;34m,\u001b[0m\u001b[0;36m300\u001b[0m\u001b[0;34m,\u001b[0m\u001b[0;36m400\u001b[0m\u001b[0;34m,\u001b[0m\u001b[0;36m600\u001b[0m\u001b[0;34m,\u001b[0m\u001b[0;36m1000\u001b[0m\u001b[0;34m)\u001b[0m\u001b[0;34m\u001b[0m\u001b[0;34m\u001b[0m\u001b[0m\n\u001b[0m\u001b[1;32m      5\u001b[0m \u001b[0;34m\u001b[0m\u001b[0m\n\u001b[1;32m      6\u001b[0m \u001b[0mnormalized\u001b[0m \u001b[0;34m=\u001b[0m \u001b[0;34m(\u001b[0m\u001b[0mlst\u001b[0m\u001b[0;34m-\u001b[0m\u001b[0mmin\u001b[0m\u001b[0;34m(\u001b[0m\u001b[0mlst\u001b[0m\u001b[0;34m)\u001b[0m\u001b[0;34m)\u001b[0m\u001b[0;34m/\u001b[0m\u001b[0;34m(\u001b[0m\u001b[0mmax\u001b[0m\u001b[0;34m(\u001b[0m\u001b[0mlst\u001b[0m\u001b[0;34m)\u001b[0m\u001b[0;34m-\u001b[0m\u001b[0mmin\u001b[0m\u001b[0;34m(\u001b[0m\u001b[0mlst\u001b[0m\u001b[0;34m)\u001b[0m\u001b[0;34m)\u001b[0m\u001b[0;34m\u001b[0m\u001b[0;34m\u001b[0m\u001b[0m\n",
      "\u001b[0;31mTypeError\u001b[0m: sample() takes 3 positional arguments but 6 were given"
     ]
    }
   ],
   "source": [
    "from random import sample\n",
    "\n",
    "\n",
    "lst = sample(200,300,400,600,1000)\n",
    "\n",
    "normalized = (lst-min(lst))/(max(lst)-min(lst))"
   ]
  },
  {
   "cell_type": "code",
   "execution_count": 55,
   "metadata": {},
   "outputs": [
    {
     "name": "stdout",
     "output_type": "stream",
     "text": [
      "Original List: [200, 300, 400, 600, 1000]\n",
      "Normalized List: [0.0, 0.125, 0.25, 0.5, 1.0]\n"
     ]
    }
   ],
   "source": [
    "list = [200,300,400,600,1000]\n",
    "print('Original List:',list)\n",
    "xmin = min(list) \n",
    "xmax=max(list)\n",
    "for i, x in enumerate(list):\n",
    "    list[i] = (x-xmin) / (xmax-xmin)\n",
    "print('Normalized List:',list)"
   ]
  },
  {
   "cell_type": "code",
   "execution_count": 56,
   "metadata": {},
   "outputs": [
    {
     "name": "stdout",
     "output_type": "stream",
     "text": [
      "zscores: [-1.06066017 -0.70710678 -0.35355339  0.35355339  1.76776695]\n"
     ]
    }
   ],
   "source": [
    "import scipy.stats as stats\n",
    "values = [200,300,400,600,1000]\n",
    "\n",
    "zscores = stats.zscore(values)\n",
    "print(f'zscores: {zscores}')"
   ]
  },
  {
   "cell_type": "code",
   "execution_count": 60,
   "metadata": {},
   "outputs": [
    {
     "name": "stdout",
     "output_type": "stream",
     "text": [
      "zscores: [-0.9486832980505138, -0.6324555320336758, -0.3162277660168379, 0.3162277660168379, 1.5811388300841895]\n"
     ]
    }
   ],
   "source": [
    "values = [200,300,400,600,1000]\n",
    "mean = sum(values) / len(values)\n",
    "differences = [(value - mean)**2 for value in values]\n",
    "sum_of_differences = sum(differences)\n",
    "standard_deviation = (sum_of_differences / (len(values) - 1)) ** 0.5\n",
    "\n",
    "zscores = [(value - mean) / standard_deviation for value in values]\n",
    "print(f'zscores: {zscores}')"
   ]
  },
  {
   "cell_type": "code",
   "execution_count": 67,
   "metadata": {},
   "outputs": [
    {
     "name": "stdout",
     "output_type": "stream",
     "text": [
      "[(41, 61), (61, 81), (81, 101), (101, 121)]\n"
     ]
    }
   ],
   "source": [
    "lst = [41,41,42,43,45,46,49,50,55,58,61,66,73,79,80,85,87,89,92,98]\n",
    "\n",
    "\n",
    "def create_bins(lower_bound, width, quantity):\n",
    "    bins = []\n",
    "    for low in range(lower_bound, \n",
    "                     lower_bound + quantity*width + 1, width):\n",
    "        bins.append((low, low+width))\n",
    "    return bins\n",
    "\n",
    "width = len(lst)\n",
    "lower_bound = min(lst)\n",
    "\n",
    "bins = create_bins(lower_bound,\n",
    "                   width,\n",
    "                   quantity=3)\n",
    "\n",
    "print(bins)"
   ]
  },
  {
   "cell_type": "code",
   "execution_count": 69,
   "metadata": {},
   "outputs": [
    {
     "data": {
      "text/plain": [
       "array([41.        , 49.66666667, 79.33333333, 98.        ])"
      ]
     },
     "execution_count": 69,
     "metadata": {},
     "output_type": "execute_result"
    }
   ],
   "source": [
    "import numpy as np\n",
    "\n",
    "def equal(x, nbin):\n",
    "    nlen = len(x)\n",
    "    return np.interp(np.linspace(0, nlen, nbin + 1),\n",
    "                     np.arange(nlen),\n",
    "                     np.sort(x))\n",
    "\n",
    "equal(lst,3)"
   ]
  }
 ],
 "metadata": {
  "kernelspec": {
   "display_name": "Python 3.8.5 ('base')",
   "language": "python",
   "name": "python3"
  },
  "language_info": {
   "codemirror_mode": {
    "name": "ipython",
    "version": 3
   },
   "file_extension": ".py",
   "mimetype": "text/x-python",
   "name": "python",
   "nbconvert_exporter": "python",
   "pygments_lexer": "ipython3",
   "version": "3.8.5"
  },
  "vscode": {
   "interpreter": {
    "hash": "b8b5a6894551d37c02e7098f5cfeb1260c7bf304f89da81c7059abba41f424c0"
   }
  }
 },
 "nbformat": 4,
 "nbformat_minor": 2
}
